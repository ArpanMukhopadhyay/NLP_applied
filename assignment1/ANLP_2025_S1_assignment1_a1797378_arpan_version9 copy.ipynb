{
 "cells": [
  {
   "cell_type": "markdown",
   "id": "6730fecf",
   "metadata": {},
   "source": [
    "## ANLP Assignment 1: Sentiment Analysis\n",
    "### Arpan Mukhopadhyay,  a1797378"
   ]
  },
  {
   "cell_type": "code",
   "execution_count": 1,
   "id": "5810d2d6",
   "metadata": {},
   "outputs": [],
   "source": [
    "import numpy as np\n",
    "import matplotlib.pyplot as plt\n",
    "import pandas as pd\n",
    "import nltk\n",
    "from nltk import word_tokenize\n",
    "from nltk.probability import FreqDist\n",
    "from langdetect import detect\n",
    "import json\n",
    "import re\n",
    "from collections import Counter, defaultdict\n",
    "import string\n",
    "pd.options.mode.chained_assignment = None  # default='warn'"
   ]
  },
  {
   "cell_type": "markdown",
   "id": "3c1fad6c-9f9a-431c-86fc-c40547146582",
   "metadata": {},
   "source": [
    "### 1. Reading dataset and initial pre-processing"
   ]
  },
  {
   "cell_type": "code",
   "execution_count": 132,
   "id": "e967e07b",
   "metadata": {},
   "outputs": [],
   "source": [
    "#Cleaning out the original test and train datasets \n",
    "def langFilter(file,type:str):\n",
    "    num = 0\n",
    "    with open(f\"hotel_review_en_{type}.JSON\", \"w\") as out_file:\n",
    "        with open(file,\"r\") as in_file:\n",
    "            lines = in_file.readlines()\n",
    "            for line in lines:\n",
    "                num += 1\n",
    "                # if num%100==0: print(num)\n",
    "                json_line = json.loads(line)\n",
    "                try:\n",
    "                    lang = detect(json_line[\"text\"])\n",
    "                    if lang == \"en\":\n",
    "                        out_file.write(line)\n",
    "                except:\n",
    "                    print(\"exception\")\n",
    "                    pass\n",
    "\n",
    "#uncomment to generate JSON train and test sets of only english texts\n",
    "# langFilter(\"hotel_reviews_train.JSON\",\"train\")\n",
    "# langFilter(\"hotel_reviews_test.JSON\",\"test\")"
   ]
  },
  {
   "cell_type": "code",
   "execution_count": 133,
   "id": "6fc0b32f",
   "metadata": {},
   "outputs": [
    {
     "name": "stdout",
     "output_type": "stream",
     "text": [
      "24000\n",
      "23999\n"
     ]
    }
   ],
   "source": [
    "original_data = pd.read_json('hotel_reviews_train.JSON', lines=True)\n",
    "train_data = pd.read_json(\"hotel_review_en_train.JSON\", lines=True)\n",
    "\n",
    "#checking to see the difference in reviews after removal of non english reviews\n",
    "print(len(original_data))\n",
    "print(len(train_data))"
   ]
  },
  {
   "cell_type": "code",
   "execution_count": 134,
   "id": "26f30148",
   "metadata": {},
   "outputs": [
    {
     "name": "stdout",
     "output_type": "stream",
     "text": [
      "6000\n"
     ]
    }
   ],
   "source": [
    "test_data = pd.read_json(\"hotel_review_en_test.JSON\", lines=True)\n",
    "print(len(test_data))"
   ]
  },
  {
   "cell_type": "code",
   "execution_count": 135,
   "id": "e7e304f3",
   "metadata": {},
   "outputs": [
    {
     "data": {
      "text/plain": [
       "Index(['ratings', 'title', 'text', 'author', 'date_stayed', 'offering_id',\n",
       "       'num_helpful_votes', 'date', 'id', 'via_mobile'],\n",
       "      dtype='object')"
      ]
     },
     "execution_count": 135,
     "metadata": {},
     "output_type": "execute_result"
    }
   ],
   "source": [
    "train_data.columns"
   ]
  },
  {
   "cell_type": "code",
   "execution_count": 136,
   "id": "d4fb109b",
   "metadata": {},
   "outputs": [
    {
     "data": {
      "text/plain": [
       "0                             “Horrible experience”\n",
       "1                                       “Stay Away”\n",
       "2                      “Great location and service”\n",
       "3                “I will never go back here again!”\n",
       "4        “Ripped off our VISA card after departure”\n",
       "                            ...                    \n",
       "23994            “pleasant stay with good location”\n",
       "23995     “Hit or miss, some things need attention”\n",
       "23996                              “Good breakfast”\n",
       "23997                    “Deserves a higher rating”\n",
       "23998                        “Clean & comfortable!”\n",
       "Name: title, Length: 23999, dtype: object"
      ]
     },
     "execution_count": 136,
     "metadata": {},
     "output_type": "execute_result"
    }
   ],
   "source": [
    "train_data['title']"
   ]
  },
  {
   "cell_type": "code",
   "execution_count": 137,
   "id": "4750200a",
   "metadata": {},
   "outputs": [
    {
     "data": {
      "text/plain": [
       "'First of all we got there and they didn\\'t have the room we booked; did not pay us the difference from the room we booked to the cheaper one they gave us. STAFF took forever to address our problem, not KID friendly, pool dirty- and parking wow good luck going somewhere at night time and come back to the hotel to try to find a parking space THAT THEY CHARGE AN ADDITIONAL FEE FOR! (NOT INCLUDED IN THEIR OVERPRICED HOTEL STAY)\\nWe thought by paying more we would get a good deal well this hotel is not the case!!\\n$400 for a 2 night stay plus horrible customer service and a manager who never returned our call when we submitted the complain is not how you do business- They are giving SHERATON a horrible reputation- I guess they are managed by SHERATON but have their own \"policies\" and undesirable customer service.\\nGreat time in San Diego but a nightmare of a hotel.\\nDon\\'t ever write reviews but this one was called for, if you can avoid this hotel do it.\\n(Being a military family and moving from state to state we know about hotels and excellent customer service) \\n(Oh yeah no free breakfast either)'"
      ]
     },
     "execution_count": 137,
     "metadata": {},
     "output_type": "execute_result"
    }
   ],
   "source": [
    "train_data['text'][0]"
   ]
  },
  {
   "cell_type": "code",
   "execution_count": 138,
   "id": "21ccb43c",
   "metadata": {},
   "outputs": [],
   "source": [
    "#omitting lowercase for now\n",
    "def clean_text(text):\n",
    "    if isinstance(text, str):\n",
    "        text = re.sub(r'[^a-zA-Z0-9\\s]','',text)\n",
    "        text = re.sub(r'[\\n\\r\\t]', ' ',text)\n",
    "        text = re.sub(r'\\s+', ' ', text)\n",
    "        text.translate(text.maketrans('', '', string.punctuation)) #added just as a final sanity check if stuff was missed\n",
    "        return text.strip()\n",
    "    return \"\"\n",
    "\n",
    "train_data['clean_title'] = train_data['title'].apply(clean_text)\n",
    "train_data['clean_text'] = train_data['text'].apply(clean_text)\n",
    "\n",
    "test_data['clean_title'] = test_data['title'].apply(clean_text)\n",
    "test_data['clean_text'] = test_data['text'].apply(clean_text)"
   ]
  },
  {
   "cell_type": "code",
   "execution_count": 139,
   "id": "f0649051",
   "metadata": {},
   "outputs": [
    {
     "data": {
      "text/plain": [
       "'First of all we got there and they didn\\'t have the room we booked; did not pay us the difference from the room we booked to the cheaper one they gave us. STAFF took forever to address our problem, not KID friendly, pool dirty- and parking wow good luck going somewhere at night time and come back to the hotel to try to find a parking space THAT THEY CHARGE AN ADDITIONAL FEE FOR! (NOT INCLUDED IN THEIR OVERPRICED HOTEL STAY)\\nWe thought by paying more we would get a good deal well this hotel is not the case!!\\n$400 for a 2 night stay plus horrible customer service and a manager who never returned our call when we submitted the complain is not how you do business- They are giving SHERATON a horrible reputation- I guess they are managed by SHERATON but have their own \"policies\" and undesirable customer service.\\nGreat time in San Diego but a nightmare of a hotel.\\nDon\\'t ever write reviews but this one was called for, if you can avoid this hotel do it.\\n(Being a military family and moving from state to state we know about hotels and excellent customer service) \\n(Oh yeah no free breakfast either)'"
      ]
     },
     "execution_count": 139,
     "metadata": {},
     "output_type": "execute_result"
    }
   ],
   "source": [
    "train_data['text'][0]"
   ]
  },
  {
   "cell_type": "code",
   "execution_count": 140,
   "id": "38b1a62e",
   "metadata": {},
   "outputs": [
    {
     "data": {
      "text/plain": [
       "'First of all we got there and they didnt have the room we booked did not pay us the difference from the room we booked to the cheaper one they gave us STAFF took forever to address our problem not KID friendly pool dirty and parking wow good luck going somewhere at night time and come back to the hotel to try to find a parking space THAT THEY CHARGE AN ADDITIONAL FEE FOR NOT INCLUDED IN THEIR OVERPRICED HOTEL STAY We thought by paying more we would get a good deal well this hotel is not the case 400 for a 2 night stay plus horrible customer service and a manager who never returned our call when we submitted the complain is not how you do business They are giving SHERATON a horrible reputation I guess they are managed by SHERATON but have their own policies and undesirable customer service Great time in San Diego but a nightmare of a hotel Dont ever write reviews but this one was called for if you can avoid this hotel do it Being a military family and moving from state to state we know about hotels and excellent customer service Oh yeah no free breakfast either'"
      ]
     },
     "execution_count": 140,
     "metadata": {},
     "output_type": "execute_result"
    }
   ],
   "source": [
    "train_data['clean_text'][0]"
   ]
  },
  {
   "cell_type": "markdown",
   "id": "31d75afc",
   "metadata": {},
   "source": [
    "### 2. Exploratory Data Analysis (EDA)"
   ]
  },
  {
   "cell_type": "code",
   "execution_count": 141,
   "id": "2d286790",
   "metadata": {},
   "outputs": [
    {
     "name": "stdout",
     "output_type": "stream",
     "text": [
      "Index(['ratings', 'title', 'text', 'author', 'date_stayed', 'offering_id',\n",
      "       'num_helpful_votes', 'date', 'id', 'via_mobile', 'clean_title',\n",
      "       'clean_text'],\n",
      "      dtype='object')\n",
      "Index(['ratings', 'title', 'text', 'author', 'date_stayed', 'offering_id',\n",
      "       'num_helpful_votes', 'date', 'id', 'via_mobile', 'clean_title',\n",
      "       'clean_text'],\n",
      "      dtype='object')\n"
     ]
    }
   ],
   "source": [
    "print(train_data.columns)\n",
    "print(test_data.columns)"
   ]
  },
  {
   "cell_type": "code",
   "execution_count": 142,
   "id": "37426673",
   "metadata": {},
   "outputs": [
    {
     "data": {
      "text/html": [
       "<div>\n",
       "<style scoped>\n",
       "    .dataframe tbody tr th:only-of-type {\n",
       "        vertical-align: middle;\n",
       "    }\n",
       "\n",
       "    .dataframe tbody tr th {\n",
       "        vertical-align: top;\n",
       "    }\n",
       "\n",
       "    .dataframe thead th {\n",
       "        text-align: right;\n",
       "    }\n",
       "</style>\n",
       "<table border=\"1\" class=\"dataframe\">\n",
       "  <thead>\n",
       "    <tr style=\"text-align: right;\">\n",
       "      <th></th>\n",
       "      <th>ratings</th>\n",
       "      <th>title</th>\n",
       "      <th>text</th>\n",
       "      <th>author</th>\n",
       "      <th>date_stayed</th>\n",
       "      <th>offering_id</th>\n",
       "      <th>num_helpful_votes</th>\n",
       "      <th>date</th>\n",
       "      <th>id</th>\n",
       "      <th>via_mobile</th>\n",
       "      <th>clean_title</th>\n",
       "      <th>clean_text</th>\n",
       "    </tr>\n",
       "  </thead>\n",
       "  <tbody>\n",
       "    <tr>\n",
       "      <th>0</th>\n",
       "      <td>{'service': 1.0, 'cleanliness': 2.0, 'overall'...</td>\n",
       "      <td>“Horrible experience”</td>\n",
       "      <td>First of all we got there and they didn't have...</td>\n",
       "      <td>{'username': 'Kh3RD', 'num_reviews': 1, 'id': ...</td>\n",
       "      <td>September 2012</td>\n",
       "      <td>80138</td>\n",
       "      <td>0</td>\n",
       "      <td>2012-09-19</td>\n",
       "      <td>140716137</td>\n",
       "      <td>False</td>\n",
       "      <td>Horrible experience</td>\n",
       "      <td>First of all we got there and they didnt have ...</td>\n",
       "    </tr>\n",
       "    <tr>\n",
       "      <th>1</th>\n",
       "      <td>{'cleanliness': 1.0, 'sleep_quality': 1.0, 'ov...</td>\n",
       "      <td>“Stay Away”</td>\n",
       "      <td>Found Racist graffiti in the room. Request to ...</td>\n",
       "      <td>{'username': 'TheUglyPhotographer', 'num_citie...</td>\n",
       "      <td>June 2011</td>\n",
       "      <td>240151</td>\n",
       "      <td>1</td>\n",
       "      <td>2011-06-27</td>\n",
       "      <td>114807323</td>\n",
       "      <td>False</td>\n",
       "      <td>Stay Away</td>\n",
       "      <td>Found Racist graffiti in the room Request to c...</td>\n",
       "    </tr>\n",
       "    <tr>\n",
       "      <th>2</th>\n",
       "      <td>{'service': 4.0, 'cleanliness': 5.0, 'overall'...</td>\n",
       "      <td>“Great location and service”</td>\n",
       "      <td>Close to Union Square - hotel is a bit of a ma...</td>\n",
       "      <td>{'username': 'Moonstonemoclips', 'num_cities':...</td>\n",
       "      <td>October 2010</td>\n",
       "      <td>80793</td>\n",
       "      <td>0</td>\n",
       "      <td>2010-10-25</td>\n",
       "      <td>84805430</td>\n",
       "      <td>False</td>\n",
       "      <td>Great location and service</td>\n",
       "      <td>Close to Union Square hotel is a bit of a maze...</td>\n",
       "    </tr>\n",
       "    <tr>\n",
       "      <th>3</th>\n",
       "      <td>{'service': 3.0, 'cleanliness': 2.0, 'overall'...</td>\n",
       "      <td>“I will never go back here again!”</td>\n",
       "      <td>I had a bad vibe about this place from the mom...</td>\n",
       "      <td>{'username': 'JoanellenJ', 'num_cities': 10, '...</td>\n",
       "      <td>June 2012</td>\n",
       "      <td>111418</td>\n",
       "      <td>1</td>\n",
       "      <td>2012-06-28</td>\n",
       "      <td>132971117</td>\n",
       "      <td>False</td>\n",
       "      <td>I will never go back here again</td>\n",
       "      <td>I had a bad vibe about this place from the mom...</td>\n",
       "    </tr>\n",
       "    <tr>\n",
       "      <th>4</th>\n",
       "      <td>{'overall': 1.0}</td>\n",
       "      <td>“Ripped off our VISA card after departure”</td>\n",
       "      <td>After we received our \"final\" bill and left th...</td>\n",
       "      <td>{'username': 'Lynnworks', 'num_cities': 3, 'nu...</td>\n",
       "      <td>January 2012</td>\n",
       "      <td>671150</td>\n",
       "      <td>3</td>\n",
       "      <td>2012-02-04</td>\n",
       "      <td>124104157</td>\n",
       "      <td>False</td>\n",
       "      <td>Ripped off our VISA card after departure</td>\n",
       "      <td>After we received our final bill and left the ...</td>\n",
       "    </tr>\n",
       "  </tbody>\n",
       "</table>\n",
       "</div>"
      ],
      "text/plain": [
       "                                             ratings  \\\n",
       "0  {'service': 1.0, 'cleanliness': 2.0, 'overall'...   \n",
       "1  {'cleanliness': 1.0, 'sleep_quality': 1.0, 'ov...   \n",
       "2  {'service': 4.0, 'cleanliness': 5.0, 'overall'...   \n",
       "3  {'service': 3.0, 'cleanliness': 2.0, 'overall'...   \n",
       "4                                   {'overall': 1.0}   \n",
       "\n",
       "                                        title  \\\n",
       "0                       “Horrible experience”   \n",
       "1                                 “Stay Away”   \n",
       "2                “Great location and service”   \n",
       "3          “I will never go back here again!”   \n",
       "4  “Ripped off our VISA card after departure”   \n",
       "\n",
       "                                                text  \\\n",
       "0  First of all we got there and they didn't have...   \n",
       "1  Found Racist graffiti in the room. Request to ...   \n",
       "2  Close to Union Square - hotel is a bit of a ma...   \n",
       "3  I had a bad vibe about this place from the mom...   \n",
       "4  After we received our \"final\" bill and left th...   \n",
       "\n",
       "                                              author     date_stayed  \\\n",
       "0  {'username': 'Kh3RD', 'num_reviews': 1, 'id': ...  September 2012   \n",
       "1  {'username': 'TheUglyPhotographer', 'num_citie...       June 2011   \n",
       "2  {'username': 'Moonstonemoclips', 'num_cities':...    October 2010   \n",
       "3  {'username': 'JoanellenJ', 'num_cities': 10, '...       June 2012   \n",
       "4  {'username': 'Lynnworks', 'num_cities': 3, 'nu...    January 2012   \n",
       "\n",
       "   offering_id  num_helpful_votes       date         id  via_mobile  \\\n",
       "0        80138                  0 2012-09-19  140716137       False   \n",
       "1       240151                  1 2011-06-27  114807323       False   \n",
       "2        80793                  0 2010-10-25   84805430       False   \n",
       "3       111418                  1 2012-06-28  132971117       False   \n",
       "4       671150                  3 2012-02-04  124104157       False   \n",
       "\n",
       "                                clean_title  \\\n",
       "0                       Horrible experience   \n",
       "1                                 Stay Away   \n",
       "2                Great location and service   \n",
       "3           I will never go back here again   \n",
       "4  Ripped off our VISA card after departure   \n",
       "\n",
       "                                          clean_text  \n",
       "0  First of all we got there and they didnt have ...  \n",
       "1  Found Racist graffiti in the room Request to c...  \n",
       "2  Close to Union Square hotel is a bit of a maze...  \n",
       "3  I had a bad vibe about this place from the mom...  \n",
       "4  After we received our final bill and left the ...  "
      ]
     },
     "execution_count": 142,
     "metadata": {},
     "output_type": "execute_result"
    }
   ],
   "source": [
    "train_data.head()"
   ]
  },
  {
   "cell_type": "code",
   "execution_count": 143,
   "id": "03661f61",
   "metadata": {},
   "outputs": [
    {
     "data": {
      "text/html": [
       "<div>\n",
       "<style scoped>\n",
       "    .dataframe tbody tr th:only-of-type {\n",
       "        vertical-align: middle;\n",
       "    }\n",
       "\n",
       "    .dataframe tbody tr th {\n",
       "        vertical-align: top;\n",
       "    }\n",
       "\n",
       "    .dataframe thead th {\n",
       "        text-align: right;\n",
       "    }\n",
       "</style>\n",
       "<table border=\"1\" class=\"dataframe\">\n",
       "  <thead>\n",
       "    <tr style=\"text-align: right;\">\n",
       "      <th></th>\n",
       "      <th>ratings</th>\n",
       "      <th>title</th>\n",
       "      <th>text</th>\n",
       "      <th>author</th>\n",
       "      <th>date_stayed</th>\n",
       "      <th>offering_id</th>\n",
       "      <th>num_helpful_votes</th>\n",
       "      <th>date</th>\n",
       "      <th>id</th>\n",
       "      <th>via_mobile</th>\n",
       "      <th>clean_title</th>\n",
       "      <th>clean_text</th>\n",
       "    </tr>\n",
       "  </thead>\n",
       "  <tbody>\n",
       "  </tbody>\n",
       "</table>\n",
       "</div>"
      ],
      "text/plain": [
       "Empty DataFrame\n",
       "Columns: [ratings, title, text, author, date_stayed, offering_id, num_helpful_votes, date, id, via_mobile, clean_title, clean_text]\n",
       "Index: []"
      ]
     },
     "execution_count": 143,
     "metadata": {},
     "output_type": "execute_result"
    }
   ],
   "source": [
    "missing_overall_rating = train_data[~train_data['ratings'].apply(lambda x: 'overall' in x)]\n",
    "missing_overall_rating"
   ]
  },
  {
   "cell_type": "code",
   "execution_count": 144,
   "id": "80188b7c",
   "metadata": {},
   "outputs": [
    {
     "name": "stdout",
     "output_type": "stream",
     "text": [
      "Shortest review: 4 words \n",
      "Average length of review: 152.342 words \n",
      "Longest review: 2239 words\n"
     ]
    }
   ],
   "source": [
    "max_words = train_data['clean_text'].apply(lambda x: len(str(x).split())).max()\n",
    "mean_words = train_data['clean_text'].apply(lambda x: len(str(x).split())).mean()\n",
    "min_words = train_data['clean_text'].apply(lambda x: len(str(x).split())).min()\n",
    "\n",
    "print(f\"Shortest review: {min_words} words\", \n",
    "      f\"\\nAverage length of review: {round(mean_words,3)} words\", \n",
    "      f\"\\nLongest review: {max_words} words\")"
   ]
  },
  {
   "cell_type": "code",
   "execution_count": 145,
   "id": "54989a8a",
   "metadata": {},
   "outputs": [
    {
     "name": "stdout",
     "output_type": "stream",
     "text": [
      "Shortest review title: 0 words \n",
      "Average length of review title: 4.822 words \n",
      "Longest review title: 26 words\n"
     ]
    }
   ],
   "source": [
    "max_title_length = train_data['clean_title'].apply(lambda x: len(str(x).split())).max()\n",
    "mean_title_length = train_data['clean_title'].apply(lambda x: len(str(x).split())).mean()\n",
    "min_title_length = train_data['clean_title'].apply(lambda x: len(str(x).split())).min()\n",
    "\n",
    "print(f\"Shortest review title: {min_title_length} words\", \n",
    "      f\"\\nAverage length of review title: {round(mean_title_length ,3)} words\", \n",
    "      f\"\\nLongest review title: {max_title_length} words\")"
   ]
  },
  {
   "cell_type": "code",
   "execution_count": 146,
   "id": "caf047bd",
   "metadata": {},
   "outputs": [
    {
     "data": {
      "text/html": [
       "<div>\n",
       "<style scoped>\n",
       "    .dataframe tbody tr th:only-of-type {\n",
       "        vertical-align: middle;\n",
       "    }\n",
       "\n",
       "    .dataframe tbody tr th {\n",
       "        vertical-align: top;\n",
       "    }\n",
       "\n",
       "    .dataframe thead th {\n",
       "        text-align: right;\n",
       "    }\n",
       "</style>\n",
       "<table border=\"1\" class=\"dataframe\">\n",
       "  <thead>\n",
       "    <tr style=\"text-align: right;\">\n",
       "      <th></th>\n",
       "      <th>ratings</th>\n",
       "      <th>title</th>\n",
       "      <th>text</th>\n",
       "      <th>author</th>\n",
       "      <th>date_stayed</th>\n",
       "      <th>offering_id</th>\n",
       "      <th>num_helpful_votes</th>\n",
       "      <th>date</th>\n",
       "      <th>id</th>\n",
       "      <th>via_mobile</th>\n",
       "      <th>clean_title</th>\n",
       "      <th>clean_text</th>\n",
       "    </tr>\n",
       "  </thead>\n",
       "  <tbody>\n",
       "    <tr>\n",
       "      <th>2169</th>\n",
       "      <td>{'service': 1.0, 'cleanliness': 5.0, 'overall'...</td>\n",
       "      <td>“!\"”</td>\n",
       "      <td>We stayed in the W in Dallas twice. The first ...</td>\n",
       "      <td>{'username': 'Chach63', 'num_cities': 15, 'num...</td>\n",
       "      <td>October 2011</td>\n",
       "      <td>600113</td>\n",
       "      <td>3</td>\n",
       "      <td>2012-07-06</td>\n",
       "      <td>133598143</td>\n",
       "      <td>False</td>\n",
       "      <td></td>\n",
       "      <td>We stayed in the W in Dallas twice The first t...</td>\n",
       "    </tr>\n",
       "  </tbody>\n",
       "</table>\n",
       "</div>"
      ],
      "text/plain": [
       "                                                ratings title  \\\n",
       "2169  {'service': 1.0, 'cleanliness': 5.0, 'overall'...  “!\"”   \n",
       "\n",
       "                                                   text  \\\n",
       "2169  We stayed in the W in Dallas twice. The first ...   \n",
       "\n",
       "                                                 author   date_stayed  \\\n",
       "2169  {'username': 'Chach63', 'num_cities': 15, 'num...  October 2011   \n",
       "\n",
       "      offering_id  num_helpful_votes       date         id  via_mobile  \\\n",
       "2169       600113                  3 2012-07-06  133598143       False   \n",
       "\n",
       "     clean_title                                         clean_text  \n",
       "2169              We stayed in the W in Dallas twice The first t...  "
      ]
     },
     "execution_count": 146,
     "metadata": {},
     "output_type": "execute_result"
    }
   ],
   "source": [
    "row_data = train_data.loc[train_data['clean_title'].str.split().str.len() == 0]\n",
    "row_data"
   ]
  },
  {
   "cell_type": "markdown",
   "id": "32918bc5",
   "metadata": {},
   "source": [
    " Decision to keep as text content is still quite relavent"
   ]
  },
  {
   "cell_type": "code",
   "execution_count": 147,
   "id": "ea82397e",
   "metadata": {},
   "outputs": [
    {
     "name": "stdout",
     "output_type": "stream",
     "text": [
      "original title: “!\"”,\n",
      "cleaned title: '' \n"
     ]
    }
   ],
   "source": [
    "print(f\"original title: {row_data['title'].iloc[0]},\\ncleaned title: '{row_data['clean_title'].iloc[0]}' \")"
   ]
  },
  {
   "cell_type": "code",
   "execution_count": 148,
   "id": "925d4f95",
   "metadata": {},
   "outputs": [
    {
     "data": {
      "text/html": [
       "<div>\n",
       "<style scoped>\n",
       "    .dataframe tbody tr th:only-of-type {\n",
       "        vertical-align: middle;\n",
       "    }\n",
       "\n",
       "    .dataframe tbody tr th {\n",
       "        vertical-align: top;\n",
       "    }\n",
       "\n",
       "    .dataframe thead th {\n",
       "        text-align: right;\n",
       "    }\n",
       "</style>\n",
       "<table border=\"1\" class=\"dataframe\">\n",
       "  <thead>\n",
       "    <tr style=\"text-align: right;\">\n",
       "      <th></th>\n",
       "      <th>ratings</th>\n",
       "      <th>title</th>\n",
       "      <th>text</th>\n",
       "      <th>author</th>\n",
       "      <th>date_stayed</th>\n",
       "      <th>offering_id</th>\n",
       "      <th>num_helpful_votes</th>\n",
       "      <th>date</th>\n",
       "      <th>id</th>\n",
       "      <th>via_mobile</th>\n",
       "      <th>clean_title</th>\n",
       "      <th>clean_text</th>\n",
       "    </tr>\n",
       "  </thead>\n",
       "  <tbody>\n",
       "    <tr>\n",
       "      <th>5851</th>\n",
       "      <td>{'service': 4.0, 'cleanliness': 4.0, 'overall'...</td>\n",
       "      <td>“It was good hotel, a bit of walk to union squ...</td>\n",
       "      <td>It was good hotel, a bit of walk to union squa...</td>\n",
       "      <td>{'username': 'ECO_minnie', 'num_cities': 7, 'n...</td>\n",
       "      <td>January 2012</td>\n",
       "      <td>676408</td>\n",
       "      <td>0</td>\n",
       "      <td>2012-01-08</td>\n",
       "      <td>122776348</td>\n",
       "      <td>True</td>\n",
       "      <td>It was good hotel a bit of walk to union squar...</td>\n",
       "      <td>It was good hotel a bit of walk to union squar...</td>\n",
       "    </tr>\n",
       "  </tbody>\n",
       "</table>\n",
       "</div>"
      ],
      "text/plain": [
       "                                                ratings  \\\n",
       "5851  {'service': 4.0, 'cleanliness': 4.0, 'overall'...   \n",
       "\n",
       "                                                  title  \\\n",
       "5851  “It was good hotel, a bit of walk to union squ...   \n",
       "\n",
       "                                                   text  \\\n",
       "5851  It was good hotel, a bit of walk to union squa...   \n",
       "\n",
       "                                                 author   date_stayed  \\\n",
       "5851  {'username': 'ECO_minnie', 'num_cities': 7, 'n...  January 2012   \n",
       "\n",
       "      offering_id  num_helpful_votes       date         id  via_mobile  \\\n",
       "5851       676408                  0 2012-01-08  122776348        True   \n",
       "\n",
       "                                            clean_title  \\\n",
       "5851  It was good hotel a bit of walk to union squar...   \n",
       "\n",
       "                                             clean_text  \n",
       "5851  It was good hotel a bit of walk to union squar...  "
      ]
     },
     "execution_count": 148,
     "metadata": {},
     "output_type": "execute_result"
    }
   ],
   "source": [
    "row_data_max = train_data.loc[train_data['clean_title'].str.split().str.len() == 26]\n",
    "row_data_max"
   ]
  },
  {
   "cell_type": "code",
   "execution_count": 149,
   "id": "535e390d",
   "metadata": {},
   "outputs": [
    {
     "name": "stdout",
     "output_type": "stream",
     "text": [
      "Number of reviews thats start with their entire title (title longer than 4 words): 43\n"
     ]
    },
    {
     "data": {
      "text/html": [
       "<div>\n",
       "<style scoped>\n",
       "    .dataframe tbody tr th:only-of-type {\n",
       "        vertical-align: middle;\n",
       "    }\n",
       "\n",
       "    .dataframe tbody tr th {\n",
       "        vertical-align: top;\n",
       "    }\n",
       "\n",
       "    .dataframe thead th {\n",
       "        text-align: right;\n",
       "    }\n",
       "</style>\n",
       "<table border=\"1\" class=\"dataframe\">\n",
       "  <thead>\n",
       "    <tr style=\"text-align: right;\">\n",
       "      <th></th>\n",
       "      <th>ratings</th>\n",
       "      <th>title</th>\n",
       "      <th>text</th>\n",
       "      <th>author</th>\n",
       "      <th>date_stayed</th>\n",
       "      <th>offering_id</th>\n",
       "      <th>num_helpful_votes</th>\n",
       "      <th>date</th>\n",
       "      <th>id</th>\n",
       "      <th>via_mobile</th>\n",
       "      <th>clean_title</th>\n",
       "      <th>clean_text</th>\n",
       "    </tr>\n",
       "  </thead>\n",
       "  <tbody>\n",
       "    <tr>\n",
       "      <th>556</th>\n",
       "      <td>{'service': 2.0, 'cleanliness': 1.0, 'overall'...</td>\n",
       "      <td>“Sorry to say i did not enjoy my stay at your ...</td>\n",
       "      <td>Sorry to say i did not enjoy my stay at your h...</td>\n",
       "      <td>{'username': 'WYNONNA H', 'num_reviews': 1, 'i...</td>\n",
       "      <td>December 2012</td>\n",
       "      <td>73768</td>\n",
       "      <td>0</td>\n",
       "      <td>2012-12-10</td>\n",
       "      <td>147158092</td>\n",
       "      <td>False</td>\n",
       "      <td>Sorry to say i did not enjoy my stay at your h...</td>\n",
       "      <td>Sorry to say i did not enjoy my stay at your h...</td>\n",
       "    </tr>\n",
       "    <tr>\n",
       "      <th>3056</th>\n",
       "      <td>{'service': 3.0, 'cleanliness': 3.0, 'overall'...</td>\n",
       "      <td>“Super Location/Tony the Tiger Breakfast (Grrr...</td>\n",
       "      <td>Super Location/Tony the Tiger Breakfast (Grrrr...</td>\n",
       "      <td>{'username': 'TriciaSK', 'num_cities': 4, 'num...</td>\n",
       "      <td>January 2012</td>\n",
       "      <td>79977</td>\n",
       "      <td>1</td>\n",
       "      <td>2012-02-16</td>\n",
       "      <td>124670932</td>\n",
       "      <td>False</td>\n",
       "      <td>Super LocationTony the Tiger Breakfast Grrrreat</td>\n",
       "      <td>Super LocationTony the Tiger Breakfast Grrrrea...</td>\n",
       "    </tr>\n",
       "    <tr>\n",
       "      <th>3652</th>\n",
       "      <td>{'service': 5.0, 'cleanliness': 5.0, 'overall'...</td>\n",
       "      <td>“it is a very decent hotel and an excellent pl...</td>\n",
       "      <td>it is a very decent hotel and an excellent pla...</td>\n",
       "      <td>{'username': 'BanuPradeep', 'num_reviews': 1, ...</td>\n",
       "      <td>December 2011</td>\n",
       "      <td>619615</td>\n",
       "      <td>1</td>\n",
       "      <td>2011-12-29</td>\n",
       "      <td>122221815</td>\n",
       "      <td>False</td>\n",
       "      <td>it is a very decent hotel and an excellent pla...</td>\n",
       "      <td>it is a very decent hotel and an excellent pla...</td>\n",
       "    </tr>\n",
       "    <tr>\n",
       "      <th>3832</th>\n",
       "      <td>{'service': 1.0, 'cleanliness': 1.0, 'overall'...</td>\n",
       "      <td>“Worst hotel I've ever stayed in”</td>\n",
       "      <td>Worst hotel I've ever stayed in!! First I wait...</td>\n",
       "      <td>{'username': 'Sk65stang', 'num_reviews': 3, 'n...</td>\n",
       "      <td>April 2012</td>\n",
       "      <td>108990</td>\n",
       "      <td>0</td>\n",
       "      <td>2012-04-24</td>\n",
       "      <td>128550978</td>\n",
       "      <td>True</td>\n",
       "      <td>Worst hotel Ive ever stayed in</td>\n",
       "      <td>Worst hotel Ive ever stayed in First I waited ...</td>\n",
       "    </tr>\n",
       "    <tr>\n",
       "      <th>3963</th>\n",
       "      <td>{'service': 5.0, 'cleanliness': 4.0, 'overall'...</td>\n",
       "      <td>“Love stayiing at the New Yorker. However, thi...</td>\n",
       "      <td>Love stayiing at the New Yorker. However, this...</td>\n",
       "      <td>{'username': 'CLAIRE M', 'num_reviews': 1, 'id...</td>\n",
       "      <td>November 2012</td>\n",
       "      <td>122005</td>\n",
       "      <td>2</td>\n",
       "      <td>2012-11-30</td>\n",
       "      <td>146487223</td>\n",
       "      <td>False</td>\n",
       "      <td>Love stayiing at the New Yorker However this t...</td>\n",
       "      <td>Love stayiing at the New Yorker However this t...</td>\n",
       "    </tr>\n",
       "    <tr>\n",
       "      <th>4032</th>\n",
       "      <td>{'service': 3.0, 'cleanliness': 4.0, 'overall'...</td>\n",
       "      <td>“Apparently being close to the University of T...</td>\n",
       "      <td>Apparently being close to the University of Te...</td>\n",
       "      <td>{'username': 'RACHEL B', 'num_reviews': 1, 'id...</td>\n",
       "      <td>December 2012</td>\n",
       "      <td>608007</td>\n",
       "      <td>0</td>\n",
       "      <td>2012-12-10</td>\n",
       "      <td>147152684</td>\n",
       "      <td>False</td>\n",
       "      <td>Apparently being close to the University of Te...</td>\n",
       "      <td>Apparently being close to the University of Te...</td>\n",
       "    </tr>\n",
       "    <tr>\n",
       "      <th>4382</th>\n",
       "      <td>{'service': 5.0, 'cleanliness': 5.0, 'overall'...</td>\n",
       "      <td>“The Benjamin was absolutely brilliant, from t...</td>\n",
       "      <td>The Benjamin was absolutely brilliant, from th...</td>\n",
       "      <td>{'username': 'jimmy096', 'num_reviews': 1, 'id...</td>\n",
       "      <td>November 2010</td>\n",
       "      <td>217626</td>\n",
       "      <td>0</td>\n",
       "      <td>2010-12-19</td>\n",
       "      <td>90249199</td>\n",
       "      <td>False</td>\n",
       "      <td>The Benjamin was absolutely brilliant from the...</td>\n",
       "      <td>The Benjamin was absolutely brilliant from the...</td>\n",
       "    </tr>\n",
       "    <tr>\n",
       "      <th>5199</th>\n",
       "      <td>{'service': 5.0, 'cleanliness': 5.0, 'overall'...</td>\n",
       "      <td>“Stayed here with my partner for several...”</td>\n",
       "      <td>Stayed here with my partner for several nights...</td>\n",
       "      <td>{'username': 'nickntulsa', 'num_cities': 6, 'n...</td>\n",
       "      <td>August 2010</td>\n",
       "      <td>120058</td>\n",
       "      <td>0</td>\n",
       "      <td>2010-08-08</td>\n",
       "      <td>74239281</td>\n",
       "      <td>True</td>\n",
       "      <td>Stayed here with my partner for several</td>\n",
       "      <td>Stayed here with my partner for several nights...</td>\n",
       "    </tr>\n",
       "    <tr>\n",
       "      <th>5833</th>\n",
       "      <td>{'service': 5.0, 'cleanliness': 5.0, 'overall'...</td>\n",
       "      <td>“Warm and friendly staff; great accommodations...</td>\n",
       "      <td>Warm and friendly staff; great accommodations;...</td>\n",
       "      <td>{'username': 'rhonda_1204', 'num_reviews': 1, ...</td>\n",
       "      <td>January 2012</td>\n",
       "      <td>99007</td>\n",
       "      <td>0</td>\n",
       "      <td>2012-01-26</td>\n",
       "      <td>123676902</td>\n",
       "      <td>False</td>\n",
       "      <td>Warm and friendly staff great accommodations d...</td>\n",
       "      <td>Warm and friendly staff great accommodations d...</td>\n",
       "    </tr>\n",
       "    <tr>\n",
       "      <th>6225</th>\n",
       "      <td>{'service': 5.0, 'cleanliness': 5.0, 'overall'...</td>\n",
       "      <td>“Wowowowowow Absolutely one of the amazing...”</td>\n",
       "      <td>Wowowowowow Absolutely one of the amazing stay...</td>\n",
       "      <td>{'username': 'Jaddo', 'num_cities': 11, 'num_h...</td>\n",
       "      <td>August 2010</td>\n",
       "      <td>1502098</td>\n",
       "      <td>0</td>\n",
       "      <td>2010-08-23</td>\n",
       "      <td>76580951</td>\n",
       "      <td>True</td>\n",
       "      <td>Wowowowowow Absolutely one of the amazing</td>\n",
       "      <td>Wowowowowow Absolutely one of the amazing stay...</td>\n",
       "    </tr>\n",
       "    <tr>\n",
       "      <th>6267</th>\n",
       "      <td>{'service': 5.0, 'cleanliness': 5.0, 'overall'...</td>\n",
       "      <td>“My stay was excellent Vickie Bellinghausen, S...</td>\n",
       "      <td>My stay was excellent Vickie Bellinghausen, Se...</td>\n",
       "      <td>{'username': 'kzn1hp48', 'num_reviews': 1, 'id...</td>\n",
       "      <td>July 2010</td>\n",
       "      <td>107836</td>\n",
       "      <td>0</td>\n",
       "      <td>2010-07-30</td>\n",
       "      <td>73010283</td>\n",
       "      <td>False</td>\n",
       "      <td>My stay was excellent Vickie Bellinghausen Sen...</td>\n",
       "      <td>My stay was excellent Vickie Bellinghausen Sen...</td>\n",
       "    </tr>\n",
       "    <tr>\n",
       "      <th>6865</th>\n",
       "      <td>{'service': 4.0, 'cleanliness': 4.0, 'overall'...</td>\n",
       "      <td>“I got upgraded to one of the hotel's new...”</td>\n",
       "      <td>I got upgraded to one of the hotel's new suite...</td>\n",
       "      <td>{'username': 'dmhinsf', 'num_cities': 8, 'num_...</td>\n",
       "      <td>June 2010</td>\n",
       "      <td>79228</td>\n",
       "      <td>0</td>\n",
       "      <td>2010-06-21</td>\n",
       "      <td>68167756</td>\n",
       "      <td>True</td>\n",
       "      <td>I got upgraded to one of the hotels new</td>\n",
       "      <td>I got upgraded to one of the hotels new suites...</td>\n",
       "    </tr>\n",
       "    <tr>\n",
       "      <th>6942</th>\n",
       "      <td>{'service': 4.0, 'cleanliness': 5.0, 'overall'...</td>\n",
       "      <td>“This is a great place to stay with your family!”</td>\n",
       "      <td>This is a great place to stay with your family...</td>\n",
       "      <td>{'username': 'eyesesk', 'num_reviews': 2, 'num...</td>\n",
       "      <td>March 2011</td>\n",
       "      <td>124839</td>\n",
       "      <td>0</td>\n",
       "      <td>2011-03-21</td>\n",
       "      <td>101052744</td>\n",
       "      <td>False</td>\n",
       "      <td>This is a great place to stay with your family</td>\n",
       "      <td>This is a great place to stay with your family...</td>\n",
       "    </tr>\n",
       "    <tr>\n",
       "      <th>7102</th>\n",
       "      <td>{'service': 5.0, 'cleanliness': 5.0, 'overall'...</td>\n",
       "      <td>“The hotel is clean and fresh and...”</td>\n",
       "      <td>The hotel is clean and fresh and inviting! Our...</td>\n",
       "      <td>{'username': 'Vgvegas', 'num_reviews': 1, 'id'...</td>\n",
       "      <td>May 2010</td>\n",
       "      <td>81375</td>\n",
       "      <td>0</td>\n",
       "      <td>2010-06-08</td>\n",
       "      <td>66902538</td>\n",
       "      <td>True</td>\n",
       "      <td>The hotel is clean and fresh and</td>\n",
       "      <td>The hotel is clean and fresh and inviting Our ...</td>\n",
       "    </tr>\n",
       "    <tr>\n",
       "      <th>8131</th>\n",
       "      <td>{'service': 2.0, 'cleanliness': 3.0, 'overall'...</td>\n",
       "      <td>“I Did Not Feel Safe”</td>\n",
       "      <td>I did not feel safe at this Hotel. I checked o...</td>\n",
       "      <td>{'username': 'qualitytravler', 'num_cities': 6...</td>\n",
       "      <td>September 2011</td>\n",
       "      <td>81038</td>\n",
       "      <td>0</td>\n",
       "      <td>2011-10-02</td>\n",
       "      <td>118867489</td>\n",
       "      <td>False</td>\n",
       "      <td>I Did Not Feel Safe</td>\n",
       "      <td>I did not feel safe at this Hotel I checked ou...</td>\n",
       "    </tr>\n",
       "    <tr>\n",
       "      <th>8594</th>\n",
       "      <td>{'service': 5.0, 'cleanliness': 5.0, 'overall'...</td>\n",
       "      <td>“Wonderful Experience. Great Service. Perfect ...</td>\n",
       "      <td>Wonderful Experience. Great Service. Perfect L...</td>\n",
       "      <td>{'username': 'Brian92882', 'num_cities': 10, '...</td>\n",
       "      <td>November 2011</td>\n",
       "      <td>84125</td>\n",
       "      <td>0</td>\n",
       "      <td>2011-11-28</td>\n",
       "      <td>121149445</td>\n",
       "      <td>False</td>\n",
       "      <td>Wonderful Experience Great Service Perfect Loc...</td>\n",
       "      <td>Wonderful Experience Great Service Perfect Loc...</td>\n",
       "    </tr>\n",
       "    <tr>\n",
       "      <th>8702</th>\n",
       "      <td>{'service': 1.0, 'cleanliness': 2.0, 'overall'...</td>\n",
       "      <td>“NEVER AGAIN, will I stay at this hotel. I...”</td>\n",
       "      <td>NEVER AGAIN, will I stay at this hotel. I am a...</td>\n",
       "      <td>{'username': 'ChoicesNorthCarolina', 'num_citi...</td>\n",
       "      <td>June 2010</td>\n",
       "      <td>93450</td>\n",
       "      <td>1</td>\n",
       "      <td>2010-06-14</td>\n",
       "      <td>67426879</td>\n",
       "      <td>True</td>\n",
       "      <td>NEVER AGAIN will I stay at this hotel I</td>\n",
       "      <td>NEVER AGAIN will I stay at this hotel I am a D...</td>\n",
       "    </tr>\n",
       "    <tr>\n",
       "      <th>11497</th>\n",
       "      <td>{'cleanliness': 5.0, 'sleep_quality': 4.0, 'ov...</td>\n",
       "      <td>“I was disappointed by the absence of a bike i...</td>\n",
       "      <td>I was disappointed by the absence of a bike in...</td>\n",
       "      <td>{'username': 'reisiger161', 'num_reviews': 1, ...</td>\n",
       "      <td>June 2011</td>\n",
       "      <td>217844</td>\n",
       "      <td>1</td>\n",
       "      <td>2011-06-20</td>\n",
       "      <td>114584724</td>\n",
       "      <td>False</td>\n",
       "      <td>I was disappointed by the absence of a bike in...</td>\n",
       "      <td>I was disappointed by the absence of a bike in...</td>\n",
       "    </tr>\n",
       "    <tr>\n",
       "      <th>12606</th>\n",
       "      <td>{'service': 1.0, 'cleanliness': 2.0, 'overall'...</td>\n",
       "      <td>“Boooo! The manager Jesse was quite rude...”</td>\n",
       "      <td>Boooo! The manager Jesse was quite rude. This ...</td>\n",
       "      <td>{'username': 'Cleorocks22', 'num_reviews': 1, ...</td>\n",
       "      <td>July 2010</td>\n",
       "      <td>566802</td>\n",
       "      <td>0</td>\n",
       "      <td>2010-06-29</td>\n",
       "      <td>69096129</td>\n",
       "      <td>True</td>\n",
       "      <td>Boooo The manager Jesse was quite rude</td>\n",
       "      <td>Boooo The manager Jesse was quite rude This ho...</td>\n",
       "    </tr>\n",
       "    <tr>\n",
       "      <th>12701</th>\n",
       "      <td>{'service': 5.0, 'cleanliness': 5.0, 'overall'...</td>\n",
       "      <td>“Super style-y. Really nice staff. Nice...”</td>\n",
       "      <td>Super style-y. Really nice staff. Nice comfy r...</td>\n",
       "      <td>{'username': '', 'id': '', 'location': ''}</td>\n",
       "      <td>NaN</td>\n",
       "      <td>1201072</td>\n",
       "      <td>1</td>\n",
       "      <td>2010-05-16</td>\n",
       "      <td>64300621</td>\n",
       "      <td>True</td>\n",
       "      <td>Super styley Really nice staff Nice</td>\n",
       "      <td>Super styley Really nice staff Nice comfy room...</td>\n",
       "    </tr>\n",
       "    <tr>\n",
       "      <th>12742</th>\n",
       "      <td>{'service': 5.0, 'cleanliness': 5.0, 'overall'...</td>\n",
       "      <td>“I've stayed a several high-scale hotels in Da...</td>\n",
       "      <td>I've stayed a several high-scale hotels in Dal...</td>\n",
       "      <td>{'username': 'MsBooks', 'num_cities': 5, 'num_...</td>\n",
       "      <td>April 2010</td>\n",
       "      <td>98727</td>\n",
       "      <td>0</td>\n",
       "      <td>2010-04-06</td>\n",
       "      <td>60574486</td>\n",
       "      <td>False</td>\n",
       "      <td>Ive stayed a several highscale hotels in Dalla...</td>\n",
       "      <td>Ive stayed a several highscale hotels in Dalla...</td>\n",
       "    </tr>\n",
       "    <tr>\n",
       "      <th>13931</th>\n",
       "      <td>{'service': 4.0, 'cleanliness': 3.0, 'overall'...</td>\n",
       "      <td>“It's 11:30 PM, I'm laying here in bed and...”</td>\n",
       "      <td>It's 11:30 PM, I'm laying here in bed and can'...</td>\n",
       "      <td>{'username': 'TravelingTracy33', 'num_cities':...</td>\n",
       "      <td>June 2010</td>\n",
       "      <td>80193</td>\n",
       "      <td>0</td>\n",
       "      <td>2010-06-20</td>\n",
       "      <td>68036583</td>\n",
       "      <td>True</td>\n",
       "      <td>Its 1130 PM Im laying here in bed and</td>\n",
       "      <td>Its 1130 PM Im laying here in bed and cant sle...</td>\n",
       "    </tr>\n",
       "    <tr>\n",
       "      <th>14308</th>\n",
       "      <td>{'service': 5.0, 'cleanliness': 5.0, 'overall'...</td>\n",
       "      <td>“Was there in March 2010 for a conference...”</td>\n",
       "      <td>Was there in March 2010 for a conference in an...</td>\n",
       "      <td>{'username': 'DDPTexas', 'num_cities': 25, 'nu...</td>\n",
       "      <td>NaN</td>\n",
       "      <td>122332</td>\n",
       "      <td>0</td>\n",
       "      <td>2010-05-27</td>\n",
       "      <td>65477565</td>\n",
       "      <td>False</td>\n",
       "      <td>Was there in March 2010 for a conference</td>\n",
       "      <td>Was there in March 2010 for a conference in an...</td>\n",
       "    </tr>\n",
       "    <tr>\n",
       "      <th>14428</th>\n",
       "      <td>{'service': 5.0, 'cleanliness': 5.0, 'overall'...</td>\n",
       "      <td>“This hotel is extremely great, kind staff...”</td>\n",
       "      <td>This hotel is extremely great, kind staff and ...</td>\n",
       "      <td>{'username': 'ebjamjas', 'num_reviews': 1, 'id...</td>\n",
       "      <td>February 2010</td>\n",
       "      <td>96726</td>\n",
       "      <td>0</td>\n",
       "      <td>2010-02-22</td>\n",
       "      <td>56785526</td>\n",
       "      <td>True</td>\n",
       "      <td>This hotel is extremely great kind staff</td>\n",
       "      <td>This hotel is extremely great kind staff and v...</td>\n",
       "    </tr>\n",
       "    <tr>\n",
       "      <th>14848</th>\n",
       "      <td>{'service': 4.0, 'cleanliness': 5.0, 'overall'...</td>\n",
       "      <td>“Great beds, location good but on dark, unkept...</td>\n",
       "      <td>Great beds, location good but on dark, unkept ...</td>\n",
       "      <td>{'username': 'sadiedog', 'num_cities': 22, 'nu...</td>\n",
       "      <td>November 2010</td>\n",
       "      <td>641209</td>\n",
       "      <td>0</td>\n",
       "      <td>2010-11-14</td>\n",
       "      <td>87034020</td>\n",
       "      <td>False</td>\n",
       "      <td>Great beds location good but on dark unkept si...</td>\n",
       "      <td>Great beds location good but on dark unkept si...</td>\n",
       "    </tr>\n",
       "    <tr>\n",
       "      <th>16440</th>\n",
       "      <td>{'service': 5.0, 'cleanliness': 3.0, 'overall'...</td>\n",
       "      <td>“Great check in procedure thru Ellen Douglas,...”</td>\n",
       "      <td>Great check in procedure thru Ellen Douglas, w...</td>\n",
       "      <td>{'username': 'Minibon', 'num_cities': 2, 'num_...</td>\n",
       "      <td>April 2012</td>\n",
       "      <td>93520</td>\n",
       "      <td>0</td>\n",
       "      <td>2012-04-19</td>\n",
       "      <td>128170993</td>\n",
       "      <td>False</td>\n",
       "      <td>Great check in procedure thru Ellen Douglas</td>\n",
       "      <td>Great check in procedure thru Ellen Douglas wh...</td>\n",
       "    </tr>\n",
       "    <tr>\n",
       "      <th>16659</th>\n",
       "      <td>{'service': 5.0, 'cleanliness': 5.0, 'overall'...</td>\n",
       "      <td>“A fine place for a stay in Los Angeles”</td>\n",
       "      <td>A fine place for a stay in Los Angeles. Reason...</td>\n",
       "      <td>{'username': 'poultrip', 'num_cities': 15, 'nu...</td>\n",
       "      <td>July 2009</td>\n",
       "      <td>84440</td>\n",
       "      <td>0</td>\n",
       "      <td>2009-07-28</td>\n",
       "      <td>36056939</td>\n",
       "      <td>False</td>\n",
       "      <td>A fine place for a stay in Los Angeles</td>\n",
       "      <td>A fine place for a stay in Los Angeles Reasona...</td>\n",
       "    </tr>\n",
       "    <tr>\n",
       "      <th>16729</th>\n",
       "      <td>{'value': 4.0, 'overall': 4.0, 'location': 4.0...</td>\n",
       "      <td>“Priceline got us here but we'd go back”</td>\n",
       "      <td>Priceline got us here but we'd go back now tha...</td>\n",
       "      <td>{'username': 'KTT', 'num_cities': 27, 'num_hel...</td>\n",
       "      <td>August 2011</td>\n",
       "      <td>83097</td>\n",
       "      <td>0</td>\n",
       "      <td>2011-09-12</td>\n",
       "      <td>118022522</td>\n",
       "      <td>False</td>\n",
       "      <td>Priceline got us here but wed go back</td>\n",
       "      <td>Priceline got us here but wed go back now that...</td>\n",
       "    </tr>\n",
       "    <tr>\n",
       "      <th>16826</th>\n",
       "      <td>{'service': 4.0, 'cleanliness': 4.0, 'overall'...</td>\n",
       "      <td>“Spent 3 nights during cherry blossom...”</td>\n",
       "      <td>Spent 3 nights during cherry blossom season wi...</td>\n",
       "      <td>{'username': 'RGeffner', 'num_cities': 4, 'num...</td>\n",
       "      <td>NaN</td>\n",
       "      <td>84093</td>\n",
       "      <td>0</td>\n",
       "      <td>2010-04-02</td>\n",
       "      <td>60200392</td>\n",
       "      <td>True</td>\n",
       "      <td>Spent 3 nights during cherry blossom</td>\n",
       "      <td>Spent 3 nights during cherry blossom season wi...</td>\n",
       "    </tr>\n",
       "    <tr>\n",
       "      <th>16968</th>\n",
       "      <td>{'service': 2.0, 'cleanliness': 2.0, 'overall'...</td>\n",
       "      <td>“Hotel is in a reasonable location to 6th St, ...</td>\n",
       "      <td>Hotel is in a reasonable location to 6th St, a...</td>\n",
       "      <td>{'username': 'RICHARD O', 'num_reviews': 1, 'i...</td>\n",
       "      <td>November 2012</td>\n",
       "      <td>73759</td>\n",
       "      <td>0</td>\n",
       "      <td>2012-11-25</td>\n",
       "      <td>146187124</td>\n",
       "      <td>False</td>\n",
       "      <td>Hotel is in a reasonable location to 6th St ap...</td>\n",
       "      <td>Hotel is in a reasonable location to 6th St ap...</td>\n",
       "    </tr>\n",
       "    <tr>\n",
       "      <th>17749</th>\n",
       "      <td>{'overall': 2.0}</td>\n",
       "      <td>“This is a GREAT hotel for less than $100/night”</td>\n",
       "      <td>This is a GREAT hotel for less than $100/night...</td>\n",
       "      <td>{'username': 'vegaslover73', 'num_cities': 28,...</td>\n",
       "      <td>NaN</td>\n",
       "      <td>84078</td>\n",
       "      <td>0</td>\n",
       "      <td>2004-02-13</td>\n",
       "      <td>1648856</td>\n",
       "      <td>False</td>\n",
       "      <td>This is a GREAT hotel for less than 100night</td>\n",
       "      <td>This is a GREAT hotel for less than 100night b...</td>\n",
       "    </tr>\n",
       "    <tr>\n",
       "      <th>18915</th>\n",
       "      <td>{'service': 4.0, 'cleanliness': 4.0, 'overall'...</td>\n",
       "      <td>“This is a very nice hotel. It is right on...”</td>\n",
       "      <td>This is a very nice hotel. It is right on IH 1...</td>\n",
       "      <td>{'username': 'nine_iron76', 'num_cities': 5, '...</td>\n",
       "      <td>September 2010</td>\n",
       "      <td>1229785</td>\n",
       "      <td>0</td>\n",
       "      <td>2010-09-23</td>\n",
       "      <td>80772954</td>\n",
       "      <td>True</td>\n",
       "      <td>This is a very nice hotel It is right on</td>\n",
       "      <td>This is a very nice hotel It is right on IH 10...</td>\n",
       "    </tr>\n",
       "    <tr>\n",
       "      <th>19159</th>\n",
       "      <td>{'service': 3.0, 'cleanliness': 5.0, 'overall'...</td>\n",
       "      <td>“We stayed here for a conference and had a...”</td>\n",
       "      <td>We stayed here for a conference and had a jr s...</td>\n",
       "      <td>{'username': 'photoman1982', 'num_cities': 5, ...</td>\n",
       "      <td>September 2010</td>\n",
       "      <td>223860</td>\n",
       "      <td>0</td>\n",
       "      <td>2010-09-24</td>\n",
       "      <td>80849090</td>\n",
       "      <td>False</td>\n",
       "      <td>We stayed here for a conference and had a</td>\n",
       "      <td>We stayed here for a conference and had a jr s...</td>\n",
       "    </tr>\n",
       "    <tr>\n",
       "      <th>19246</th>\n",
       "      <td>{'overall': 5.0}</td>\n",
       "      <td>“Lovely hotel, wonderful service, great locati...</td>\n",
       "      <td>Lovely hotel, wonderful service, great locatio...</td>\n",
       "      <td>{'username': 'Camalama05', 'num_reviews': 1, '...</td>\n",
       "      <td>September 2010</td>\n",
       "      <td>83040</td>\n",
       "      <td>0</td>\n",
       "      <td>2010-09-16</td>\n",
       "      <td>79815851</td>\n",
       "      <td>False</td>\n",
       "      <td>Lovely hotel wonderful service great location</td>\n",
       "      <td>Lovely hotel wonderful service great location ...</td>\n",
       "    </tr>\n",
       "    <tr>\n",
       "      <th>20426</th>\n",
       "      <td>{'service': 5.0, 'cleanliness': 5.0, 'overall'...</td>\n",
       "      <td>“We had an amazing stay. Totally in line...”</td>\n",
       "      <td>We had an amazing stay. Totally in line with a...</td>\n",
       "      <td>{'username': 'triplover25', 'num_cities': 5, '...</td>\n",
       "      <td>May 2010</td>\n",
       "      <td>81985</td>\n",
       "      <td>0</td>\n",
       "      <td>2010-05-29</td>\n",
       "      <td>65764419</td>\n",
       "      <td>False</td>\n",
       "      <td>We had an amazing stay Totally in line</td>\n",
       "      <td>We had an amazing stay Totally in line with al...</td>\n",
       "    </tr>\n",
       "    <tr>\n",
       "      <th>20475</th>\n",
       "      <td>{'cleanliness': 5.0, 'sleep_quality': 5.0, 'ov...</td>\n",
       "      <td>“Fabulous hotel for business and pleasure.”</td>\n",
       "      <td>Fabulous hotel for business and pleasure with ...</td>\n",
       "      <td>{'username': 'ptousignant', 'num_reviews': 1, ...</td>\n",
       "      <td>July 2011</td>\n",
       "      <td>266157</td>\n",
       "      <td>0</td>\n",
       "      <td>2011-07-25</td>\n",
       "      <td>115754906</td>\n",
       "      <td>False</td>\n",
       "      <td>Fabulous hotel for business and pleasure</td>\n",
       "      <td>Fabulous hotel for business and pleasure with ...</td>\n",
       "    </tr>\n",
       "    <tr>\n",
       "      <th>21046</th>\n",
       "      <td>{'service': 5.0, 'cleanliness': 5.0, 'overall'...</td>\n",
       "      <td>“If you like Art and Something Different...”</td>\n",
       "      <td>If you like Art and something different this i...</td>\n",
       "      <td>{'username': 'Kazeo', 'num_reviews': 1, 'id': ...</td>\n",
       "      <td>August 2008</td>\n",
       "      <td>100587</td>\n",
       "      <td>0</td>\n",
       "      <td>2008-08-21</td>\n",
       "      <td>19218127</td>\n",
       "      <td>False</td>\n",
       "      <td>If you like Art and Something Different</td>\n",
       "      <td>If you like Art and something different this i...</td>\n",
       "    </tr>\n",
       "    <tr>\n",
       "      <th>21898</th>\n",
       "      <td>{'service': 1.0, 'cleanliness': 5.0, 'overall'...</td>\n",
       "      <td>“First of all let me start by saying the...”</td>\n",
       "      <td>First of all let me start by saying the actual...</td>\n",
       "      <td>{'username': 'dana713', 'num_reviews': 1, 'id'...</td>\n",
       "      <td>NaN</td>\n",
       "      <td>114149</td>\n",
       "      <td>3</td>\n",
       "      <td>2010-08-15</td>\n",
       "      <td>75274515</td>\n",
       "      <td>True</td>\n",
       "      <td>First of all let me start by saying the</td>\n",
       "      <td>First of all let me start by saying the actual...</td>\n",
       "    </tr>\n",
       "    <tr>\n",
       "      <th>22373</th>\n",
       "      <td>{'overall': 1.0}</td>\n",
       "      <td>“The view of Downtoen Fort Worth at night was ...</td>\n",
       "      <td>The view of Downtoen Fort Worth at night was w...</td>\n",
       "      <td>{'username': '', 'id': '', 'location': ''}</td>\n",
       "      <td>NaN</td>\n",
       "      <td>98856</td>\n",
       "      <td>5</td>\n",
       "      <td>2003-09-28</td>\n",
       "      <td>1369728</td>\n",
       "      <td>False</td>\n",
       "      <td>The view of Downtoen Fort Worth at night was w...</td>\n",
       "      <td>The view of Downtoen Fort Worth at night was w...</td>\n",
       "    </tr>\n",
       "    <tr>\n",
       "      <th>22762</th>\n",
       "      <td>{'service': 1.0, 'cleanliness': 3.0, 'overall'...</td>\n",
       "      <td>“Very understaffed and eating there made us sick”</td>\n",
       "      <td>Very understaffed and eating there made us sic...</td>\n",
       "      <td>{'username': 'Tiredtraveler1', 'num_cities': 2...</td>\n",
       "      <td>October 2009</td>\n",
       "      <td>111428</td>\n",
       "      <td>1</td>\n",
       "      <td>2009-10-24</td>\n",
       "      <td>47664887</td>\n",
       "      <td>False</td>\n",
       "      <td>Very understaffed and eating there made us sick</td>\n",
       "      <td>Very understaffed and eating there made us sic...</td>\n",
       "    </tr>\n",
       "    <tr>\n",
       "      <th>22852</th>\n",
       "      <td>{'service': 5.0, 'cleanliness': 5.0, 'overall'...</td>\n",
       "      <td>“Red Roof Inn always exceeds my expectations.”</td>\n",
       "      <td>Red Roof Inn always exceeds my expectations. T...</td>\n",
       "      <td>{'username': 'ABIGAILColumbus_Ohio', 'num_revi...</td>\n",
       "      <td>February 2010</td>\n",
       "      <td>224820</td>\n",
       "      <td>0</td>\n",
       "      <td>2010-03-01</td>\n",
       "      <td>57471701</td>\n",
       "      <td>False</td>\n",
       "      <td>Red Roof Inn always exceeds my expectations</td>\n",
       "      <td>Red Roof Inn always exceeds my expectations Th...</td>\n",
       "    </tr>\n",
       "    <tr>\n",
       "      <th>23431</th>\n",
       "      <td>{'service': 4.0, 'cleanliness': 4.0, 'overall'...</td>\n",
       "      <td>“OK for a stop over”</td>\n",
       "      <td>OK for a stop over. Located 200 yds from Mall ...</td>\n",
       "      <td>{'username': 'Only_the_truth', 'num_cities': 3...</td>\n",
       "      <td>October 2009</td>\n",
       "      <td>223166</td>\n",
       "      <td>0</td>\n",
       "      <td>2009-10-10</td>\n",
       "      <td>46469824</td>\n",
       "      <td>False</td>\n",
       "      <td>OK for a stop over</td>\n",
       "      <td>OK for a stop over Located 200 yds from Mall a...</td>\n",
       "    </tr>\n",
       "    <tr>\n",
       "      <th>23957</th>\n",
       "      <td>{'service': 5.0, 'cleanliness': 5.0, 'overall'...</td>\n",
       "      <td>“Great room and happy with the cost also! We f...</td>\n",
       "      <td>Great room and happy with the cost also! We fo...</td>\n",
       "      <td>{'username': 'EVA F', 'num_reviews': 1, 'id': ...</td>\n",
       "      <td>December 2012</td>\n",
       "      <td>217653</td>\n",
       "      <td>0</td>\n",
       "      <td>2012-12-03</td>\n",
       "      <td>146726244</td>\n",
       "      <td>False</td>\n",
       "      <td>Great room and happy with the cost also We fou...</td>\n",
       "      <td>Great room and happy with the cost also We fou...</td>\n",
       "    </tr>\n",
       "  </tbody>\n",
       "</table>\n",
       "</div>"
      ],
      "text/plain": [
       "                                                 ratings  \\\n",
       "556    {'service': 2.0, 'cleanliness': 1.0, 'overall'...   \n",
       "3056   {'service': 3.0, 'cleanliness': 3.0, 'overall'...   \n",
       "3652   {'service': 5.0, 'cleanliness': 5.0, 'overall'...   \n",
       "3832   {'service': 1.0, 'cleanliness': 1.0, 'overall'...   \n",
       "3963   {'service': 5.0, 'cleanliness': 4.0, 'overall'...   \n",
       "4032   {'service': 3.0, 'cleanliness': 4.0, 'overall'...   \n",
       "4382   {'service': 5.0, 'cleanliness': 5.0, 'overall'...   \n",
       "5199   {'service': 5.0, 'cleanliness': 5.0, 'overall'...   \n",
       "5833   {'service': 5.0, 'cleanliness': 5.0, 'overall'...   \n",
       "6225   {'service': 5.0, 'cleanliness': 5.0, 'overall'...   \n",
       "6267   {'service': 5.0, 'cleanliness': 5.0, 'overall'...   \n",
       "6865   {'service': 4.0, 'cleanliness': 4.0, 'overall'...   \n",
       "6942   {'service': 4.0, 'cleanliness': 5.0, 'overall'...   \n",
       "7102   {'service': 5.0, 'cleanliness': 5.0, 'overall'...   \n",
       "8131   {'service': 2.0, 'cleanliness': 3.0, 'overall'...   \n",
       "8594   {'service': 5.0, 'cleanliness': 5.0, 'overall'...   \n",
       "8702   {'service': 1.0, 'cleanliness': 2.0, 'overall'...   \n",
       "11497  {'cleanliness': 5.0, 'sleep_quality': 4.0, 'ov...   \n",
       "12606  {'service': 1.0, 'cleanliness': 2.0, 'overall'...   \n",
       "12701  {'service': 5.0, 'cleanliness': 5.0, 'overall'...   \n",
       "12742  {'service': 5.0, 'cleanliness': 5.0, 'overall'...   \n",
       "13931  {'service': 4.0, 'cleanliness': 3.0, 'overall'...   \n",
       "14308  {'service': 5.0, 'cleanliness': 5.0, 'overall'...   \n",
       "14428  {'service': 5.0, 'cleanliness': 5.0, 'overall'...   \n",
       "14848  {'service': 4.0, 'cleanliness': 5.0, 'overall'...   \n",
       "16440  {'service': 5.0, 'cleanliness': 3.0, 'overall'...   \n",
       "16659  {'service': 5.0, 'cleanliness': 5.0, 'overall'...   \n",
       "16729  {'value': 4.0, 'overall': 4.0, 'location': 4.0...   \n",
       "16826  {'service': 4.0, 'cleanliness': 4.0, 'overall'...   \n",
       "16968  {'service': 2.0, 'cleanliness': 2.0, 'overall'...   \n",
       "17749                                   {'overall': 2.0}   \n",
       "18915  {'service': 4.0, 'cleanliness': 4.0, 'overall'...   \n",
       "19159  {'service': 3.0, 'cleanliness': 5.0, 'overall'...   \n",
       "19246                                   {'overall': 5.0}   \n",
       "20426  {'service': 5.0, 'cleanliness': 5.0, 'overall'...   \n",
       "20475  {'cleanliness': 5.0, 'sleep_quality': 5.0, 'ov...   \n",
       "21046  {'service': 5.0, 'cleanliness': 5.0, 'overall'...   \n",
       "21898  {'service': 1.0, 'cleanliness': 5.0, 'overall'...   \n",
       "22373                                   {'overall': 1.0}   \n",
       "22762  {'service': 1.0, 'cleanliness': 3.0, 'overall'...   \n",
       "22852  {'service': 5.0, 'cleanliness': 5.0, 'overall'...   \n",
       "23431  {'service': 4.0, 'cleanliness': 4.0, 'overall'...   \n",
       "23957  {'service': 5.0, 'cleanliness': 5.0, 'overall'...   \n",
       "\n",
       "                                                   title  \\\n",
       "556    “Sorry to say i did not enjoy my stay at your ...   \n",
       "3056   “Super Location/Tony the Tiger Breakfast (Grrr...   \n",
       "3652   “it is a very decent hotel and an excellent pl...   \n",
       "3832                   “Worst hotel I've ever stayed in”   \n",
       "3963   “Love stayiing at the New Yorker. However, thi...   \n",
       "4032   “Apparently being close to the University of T...   \n",
       "4382   “The Benjamin was absolutely brilliant, from t...   \n",
       "5199        “Stayed here with my partner for several...”   \n",
       "5833   “Warm and friendly staff; great accommodations...   \n",
       "6225      “Wowowowowow Absolutely one of the amazing...”   \n",
       "6267   “My stay was excellent Vickie Bellinghausen, S...   \n",
       "6865       “I got upgraded to one of the hotel's new...”   \n",
       "6942   “This is a great place to stay with your family!”   \n",
       "7102               “The hotel is clean and fresh and...”   \n",
       "8131                               “I Did Not Feel Safe”   \n",
       "8594   “Wonderful Experience. Great Service. Perfect ...   \n",
       "8702      “NEVER AGAIN, will I stay at this hotel. I...”   \n",
       "11497  “I was disappointed by the absence of a bike i...   \n",
       "12606       “Boooo! The manager Jesse was quite rude...”   \n",
       "12701        “Super style-y. Really nice staff. Nice...”   \n",
       "12742  “I've stayed a several high-scale hotels in Da...   \n",
       "13931     “It's 11:30 PM, I'm laying here in bed and...”   \n",
       "14308      “Was there in March 2010 for a conference...”   \n",
       "14428     “This hotel is extremely great, kind staff...”   \n",
       "14848  “Great beds, location good but on dark, unkept...   \n",
       "16440  “Great check in procedure thru Ellen Douglas,...”   \n",
       "16659           “A fine place for a stay in Los Angeles”   \n",
       "16729           “Priceline got us here but we'd go back”   \n",
       "16826          “Spent 3 nights during cherry blossom...”   \n",
       "16968  “Hotel is in a reasonable location to 6th St, ...   \n",
       "17749   “This is a GREAT hotel for less than $100/night”   \n",
       "18915     “This is a very nice hotel. It is right on...”   \n",
       "19159     “We stayed here for a conference and had a...”   \n",
       "19246  “Lovely hotel, wonderful service, great locati...   \n",
       "20426       “We had an amazing stay. Totally in line...”   \n",
       "20475        “Fabulous hotel for business and pleasure.”   \n",
       "21046       “If you like Art and Something Different...”   \n",
       "21898       “First of all let me start by saying the...”   \n",
       "22373  “The view of Downtoen Fort Worth at night was ...   \n",
       "22762  “Very understaffed and eating there made us sick”   \n",
       "22852     “Red Roof Inn always exceeds my expectations.”   \n",
       "23431                               “OK for a stop over”   \n",
       "23957  “Great room and happy with the cost also! We f...   \n",
       "\n",
       "                                                    text  \\\n",
       "556    Sorry to say i did not enjoy my stay at your h...   \n",
       "3056   Super Location/Tony the Tiger Breakfast (Grrrr...   \n",
       "3652   it is a very decent hotel and an excellent pla...   \n",
       "3832   Worst hotel I've ever stayed in!! First I wait...   \n",
       "3963   Love stayiing at the New Yorker. However, this...   \n",
       "4032   Apparently being close to the University of Te...   \n",
       "4382   The Benjamin was absolutely brilliant, from th...   \n",
       "5199   Stayed here with my partner for several nights...   \n",
       "5833   Warm and friendly staff; great accommodations;...   \n",
       "6225   Wowowowowow Absolutely one of the amazing stay...   \n",
       "6267   My stay was excellent Vickie Bellinghausen, Se...   \n",
       "6865   I got upgraded to one of the hotel's new suite...   \n",
       "6942   This is a great place to stay with your family...   \n",
       "7102   The hotel is clean and fresh and inviting! Our...   \n",
       "8131   I did not feel safe at this Hotel. I checked o...   \n",
       "8594   Wonderful Experience. Great Service. Perfect L...   \n",
       "8702   NEVER AGAIN, will I stay at this hotel. I am a...   \n",
       "11497  I was disappointed by the absence of a bike in...   \n",
       "12606  Boooo! The manager Jesse was quite rude. This ...   \n",
       "12701  Super style-y. Really nice staff. Nice comfy r...   \n",
       "12742  I've stayed a several high-scale hotels in Dal...   \n",
       "13931  It's 11:30 PM, I'm laying here in bed and can'...   \n",
       "14308  Was there in March 2010 for a conference in an...   \n",
       "14428  This hotel is extremely great, kind staff and ...   \n",
       "14848  Great beds, location good but on dark, unkept ...   \n",
       "16440  Great check in procedure thru Ellen Douglas, w...   \n",
       "16659  A fine place for a stay in Los Angeles. Reason...   \n",
       "16729  Priceline got us here but we'd go back now tha...   \n",
       "16826  Spent 3 nights during cherry blossom season wi...   \n",
       "16968  Hotel is in a reasonable location to 6th St, a...   \n",
       "17749  This is a GREAT hotel for less than $100/night...   \n",
       "18915  This is a very nice hotel. It is right on IH 1...   \n",
       "19159  We stayed here for a conference and had a jr s...   \n",
       "19246  Lovely hotel, wonderful service, great locatio...   \n",
       "20426  We had an amazing stay. Totally in line with a...   \n",
       "20475  Fabulous hotel for business and pleasure with ...   \n",
       "21046  If you like Art and something different this i...   \n",
       "21898  First of all let me start by saying the actual...   \n",
       "22373  The view of Downtoen Fort Worth at night was w...   \n",
       "22762  Very understaffed and eating there made us sic...   \n",
       "22852  Red Roof Inn always exceeds my expectations. T...   \n",
       "23431  OK for a stop over. Located 200 yds from Mall ...   \n",
       "23957  Great room and happy with the cost also! We fo...   \n",
       "\n",
       "                                                  author     date_stayed  \\\n",
       "556    {'username': 'WYNONNA H', 'num_reviews': 1, 'i...   December 2012   \n",
       "3056   {'username': 'TriciaSK', 'num_cities': 4, 'num...    January 2012   \n",
       "3652   {'username': 'BanuPradeep', 'num_reviews': 1, ...   December 2011   \n",
       "3832   {'username': 'Sk65stang', 'num_reviews': 3, 'n...      April 2012   \n",
       "3963   {'username': 'CLAIRE M', 'num_reviews': 1, 'id...   November 2012   \n",
       "4032   {'username': 'RACHEL B', 'num_reviews': 1, 'id...   December 2012   \n",
       "4382   {'username': 'jimmy096', 'num_reviews': 1, 'id...   November 2010   \n",
       "5199   {'username': 'nickntulsa', 'num_cities': 6, 'n...     August 2010   \n",
       "5833   {'username': 'rhonda_1204', 'num_reviews': 1, ...    January 2012   \n",
       "6225   {'username': 'Jaddo', 'num_cities': 11, 'num_h...     August 2010   \n",
       "6267   {'username': 'kzn1hp48', 'num_reviews': 1, 'id...       July 2010   \n",
       "6865   {'username': 'dmhinsf', 'num_cities': 8, 'num_...       June 2010   \n",
       "6942   {'username': 'eyesesk', 'num_reviews': 2, 'num...      March 2011   \n",
       "7102   {'username': 'Vgvegas', 'num_reviews': 1, 'id'...        May 2010   \n",
       "8131   {'username': 'qualitytravler', 'num_cities': 6...  September 2011   \n",
       "8594   {'username': 'Brian92882', 'num_cities': 10, '...   November 2011   \n",
       "8702   {'username': 'ChoicesNorthCarolina', 'num_citi...       June 2010   \n",
       "11497  {'username': 'reisiger161', 'num_reviews': 1, ...       June 2011   \n",
       "12606  {'username': 'Cleorocks22', 'num_reviews': 1, ...       July 2010   \n",
       "12701         {'username': '', 'id': '', 'location': ''}             NaN   \n",
       "12742  {'username': 'MsBooks', 'num_cities': 5, 'num_...      April 2010   \n",
       "13931  {'username': 'TravelingTracy33', 'num_cities':...       June 2010   \n",
       "14308  {'username': 'DDPTexas', 'num_cities': 25, 'nu...             NaN   \n",
       "14428  {'username': 'ebjamjas', 'num_reviews': 1, 'id...   February 2010   \n",
       "14848  {'username': 'sadiedog', 'num_cities': 22, 'nu...   November 2010   \n",
       "16440  {'username': 'Minibon', 'num_cities': 2, 'num_...      April 2012   \n",
       "16659  {'username': 'poultrip', 'num_cities': 15, 'nu...       July 2009   \n",
       "16729  {'username': 'KTT', 'num_cities': 27, 'num_hel...     August 2011   \n",
       "16826  {'username': 'RGeffner', 'num_cities': 4, 'num...             NaN   \n",
       "16968  {'username': 'RICHARD O', 'num_reviews': 1, 'i...   November 2012   \n",
       "17749  {'username': 'vegaslover73', 'num_cities': 28,...             NaN   \n",
       "18915  {'username': 'nine_iron76', 'num_cities': 5, '...  September 2010   \n",
       "19159  {'username': 'photoman1982', 'num_cities': 5, ...  September 2010   \n",
       "19246  {'username': 'Camalama05', 'num_reviews': 1, '...  September 2010   \n",
       "20426  {'username': 'triplover25', 'num_cities': 5, '...        May 2010   \n",
       "20475  {'username': 'ptousignant', 'num_reviews': 1, ...       July 2011   \n",
       "21046  {'username': 'Kazeo', 'num_reviews': 1, 'id': ...     August 2008   \n",
       "21898  {'username': 'dana713', 'num_reviews': 1, 'id'...             NaN   \n",
       "22373         {'username': '', 'id': '', 'location': ''}             NaN   \n",
       "22762  {'username': 'Tiredtraveler1', 'num_cities': 2...    October 2009   \n",
       "22852  {'username': 'ABIGAILColumbus_Ohio', 'num_revi...   February 2010   \n",
       "23431  {'username': 'Only_the_truth', 'num_cities': 3...    October 2009   \n",
       "23957  {'username': 'EVA F', 'num_reviews': 1, 'id': ...   December 2012   \n",
       "\n",
       "       offering_id  num_helpful_votes       date         id  via_mobile  \\\n",
       "556          73768                  0 2012-12-10  147158092       False   \n",
       "3056         79977                  1 2012-02-16  124670932       False   \n",
       "3652        619615                  1 2011-12-29  122221815       False   \n",
       "3832        108990                  0 2012-04-24  128550978        True   \n",
       "3963        122005                  2 2012-11-30  146487223       False   \n",
       "4032        608007                  0 2012-12-10  147152684       False   \n",
       "4382        217626                  0 2010-12-19   90249199       False   \n",
       "5199        120058                  0 2010-08-08   74239281        True   \n",
       "5833         99007                  0 2012-01-26  123676902       False   \n",
       "6225       1502098                  0 2010-08-23   76580951        True   \n",
       "6267        107836                  0 2010-07-30   73010283       False   \n",
       "6865         79228                  0 2010-06-21   68167756        True   \n",
       "6942        124839                  0 2011-03-21  101052744       False   \n",
       "7102         81375                  0 2010-06-08   66902538        True   \n",
       "8131         81038                  0 2011-10-02  118867489       False   \n",
       "8594         84125                  0 2011-11-28  121149445       False   \n",
       "8702         93450                  1 2010-06-14   67426879        True   \n",
       "11497       217844                  1 2011-06-20  114584724       False   \n",
       "12606       566802                  0 2010-06-29   69096129        True   \n",
       "12701      1201072                  1 2010-05-16   64300621        True   \n",
       "12742        98727                  0 2010-04-06   60574486       False   \n",
       "13931        80193                  0 2010-06-20   68036583        True   \n",
       "14308       122332                  0 2010-05-27   65477565       False   \n",
       "14428        96726                  0 2010-02-22   56785526        True   \n",
       "14848       641209                  0 2010-11-14   87034020       False   \n",
       "16440        93520                  0 2012-04-19  128170993       False   \n",
       "16659        84440                  0 2009-07-28   36056939       False   \n",
       "16729        83097                  0 2011-09-12  118022522       False   \n",
       "16826        84093                  0 2010-04-02   60200392        True   \n",
       "16968        73759                  0 2012-11-25  146187124       False   \n",
       "17749        84078                  0 2004-02-13    1648856       False   \n",
       "18915      1229785                  0 2010-09-23   80772954        True   \n",
       "19159       223860                  0 2010-09-24   80849090       False   \n",
       "19246        83040                  0 2010-09-16   79815851       False   \n",
       "20426        81985                  0 2010-05-29   65764419       False   \n",
       "20475       266157                  0 2011-07-25  115754906       False   \n",
       "21046       100587                  0 2008-08-21   19218127       False   \n",
       "21898       114149                  3 2010-08-15   75274515        True   \n",
       "22373        98856                  5 2003-09-28    1369728       False   \n",
       "22762       111428                  1 2009-10-24   47664887       False   \n",
       "22852       224820                  0 2010-03-01   57471701       False   \n",
       "23431       223166                  0 2009-10-10   46469824       False   \n",
       "23957       217653                  0 2012-12-03  146726244       False   \n",
       "\n",
       "                                             clean_title  \\\n",
       "556    Sorry to say i did not enjoy my stay at your h...   \n",
       "3056     Super LocationTony the Tiger Breakfast Grrrreat   \n",
       "3652   it is a very decent hotel and an excellent pla...   \n",
       "3832                      Worst hotel Ive ever stayed in   \n",
       "3963   Love stayiing at the New Yorker However this t...   \n",
       "4032   Apparently being close to the University of Te...   \n",
       "4382   The Benjamin was absolutely brilliant from the...   \n",
       "5199             Stayed here with my partner for several   \n",
       "5833   Warm and friendly staff great accommodations d...   \n",
       "6225           Wowowowowow Absolutely one of the amazing   \n",
       "6267   My stay was excellent Vickie Bellinghausen Sen...   \n",
       "6865             I got upgraded to one of the hotels new   \n",
       "6942      This is a great place to stay with your family   \n",
       "7102                    The hotel is clean and fresh and   \n",
       "8131                                 I Did Not Feel Safe   \n",
       "8594   Wonderful Experience Great Service Perfect Loc...   \n",
       "8702             NEVER AGAIN will I stay at this hotel I   \n",
       "11497  I was disappointed by the absence of a bike in...   \n",
       "12606             Boooo The manager Jesse was quite rude   \n",
       "12701                Super styley Really nice staff Nice   \n",
       "12742  Ive stayed a several highscale hotels in Dalla...   \n",
       "13931              Its 1130 PM Im laying here in bed and   \n",
       "14308           Was there in March 2010 for a conference   \n",
       "14428           This hotel is extremely great kind staff   \n",
       "14848  Great beds location good but on dark unkept si...   \n",
       "16440        Great check in procedure thru Ellen Douglas   \n",
       "16659             A fine place for a stay in Los Angeles   \n",
       "16729              Priceline got us here but wed go back   \n",
       "16826               Spent 3 nights during cherry blossom   \n",
       "16968  Hotel is in a reasonable location to 6th St ap...   \n",
       "17749       This is a GREAT hotel for less than 100night   \n",
       "18915           This is a very nice hotel It is right on   \n",
       "19159          We stayed here for a conference and had a   \n",
       "19246      Lovely hotel wonderful service great location   \n",
       "20426             We had an amazing stay Totally in line   \n",
       "20475           Fabulous hotel for business and pleasure   \n",
       "21046            If you like Art and Something Different   \n",
       "21898            First of all let me start by saying the   \n",
       "22373  The view of Downtoen Fort Worth at night was w...   \n",
       "22762    Very understaffed and eating there made us sick   \n",
       "22852        Red Roof Inn always exceeds my expectations   \n",
       "23431                                 OK for a stop over   \n",
       "23957  Great room and happy with the cost also We fou...   \n",
       "\n",
       "                                              clean_text  \n",
       "556    Sorry to say i did not enjoy my stay at your h...  \n",
       "3056   Super LocationTony the Tiger Breakfast Grrrrea...  \n",
       "3652   it is a very decent hotel and an excellent pla...  \n",
       "3832   Worst hotel Ive ever stayed in First I waited ...  \n",
       "3963   Love stayiing at the New Yorker However this t...  \n",
       "4032   Apparently being close to the University of Te...  \n",
       "4382   The Benjamin was absolutely brilliant from the...  \n",
       "5199   Stayed here with my partner for several nights...  \n",
       "5833   Warm and friendly staff great accommodations d...  \n",
       "6225   Wowowowowow Absolutely one of the amazing stay...  \n",
       "6267   My stay was excellent Vickie Bellinghausen Sen...  \n",
       "6865   I got upgraded to one of the hotels new suites...  \n",
       "6942   This is a great place to stay with your family...  \n",
       "7102   The hotel is clean and fresh and inviting Our ...  \n",
       "8131   I did not feel safe at this Hotel I checked ou...  \n",
       "8594   Wonderful Experience Great Service Perfect Loc...  \n",
       "8702   NEVER AGAIN will I stay at this hotel I am a D...  \n",
       "11497  I was disappointed by the absence of a bike in...  \n",
       "12606  Boooo The manager Jesse was quite rude This ho...  \n",
       "12701  Super styley Really nice staff Nice comfy room...  \n",
       "12742  Ive stayed a several highscale hotels in Dalla...  \n",
       "13931  Its 1130 PM Im laying here in bed and cant sle...  \n",
       "14308  Was there in March 2010 for a conference in an...  \n",
       "14428  This hotel is extremely great kind staff and v...  \n",
       "14848  Great beds location good but on dark unkept si...  \n",
       "16440  Great check in procedure thru Ellen Douglas wh...  \n",
       "16659  A fine place for a stay in Los Angeles Reasona...  \n",
       "16729  Priceline got us here but wed go back now that...  \n",
       "16826  Spent 3 nights during cherry blossom season wi...  \n",
       "16968  Hotel is in a reasonable location to 6th St ap...  \n",
       "17749  This is a GREAT hotel for less than 100night b...  \n",
       "18915  This is a very nice hotel It is right on IH 10...  \n",
       "19159  We stayed here for a conference and had a jr s...  \n",
       "19246  Lovely hotel wonderful service great location ...  \n",
       "20426  We had an amazing stay Totally in line with al...  \n",
       "20475  Fabulous hotel for business and pleasure with ...  \n",
       "21046  If you like Art and something different this i...  \n",
       "21898  First of all let me start by saying the actual...  \n",
       "22373  The view of Downtoen Fort Worth at night was w...  \n",
       "22762  Very understaffed and eating there made us sic...  \n",
       "22852  Red Roof Inn always exceeds my expectations Th...  \n",
       "23431  OK for a stop over Located 200 yds from Mall a...  \n",
       "23957  Great room and happy with the cost also We fou...  "
      ]
     },
     "execution_count": 149,
     "metadata": {},
     "output_type": "execute_result"
    }
   ],
   "source": [
    "# Here we check the number of titles that mirror the start of their reviews. Title length longer than 4 as shorter titles typically are just expressions and as such not really duplications\n",
    "# For now we'll leave them as is but this could be an area of further research\n",
    "row_data_dups = train_data.loc[\n",
    "    train_data.apply( \n",
    "        lambda train: len(train['clean_title'].split()) > 4 and train['clean_text'].lower().startswith(train['clean_title'].lower()),\n",
    "        axis = 1\n",
    "        )\n",
    "    ]\n",
    "\n",
    "print(f\"Number of reviews thats start with their entire title (title longer than 4 words): {len(row_data_dups)}\")\n",
    "row_data_dups"
   ]
  },
  {
   "cell_type": "code",
   "execution_count": 150,
   "id": "92bf8b26",
   "metadata": {},
   "outputs": [
    {
     "data": {
      "text/html": [
       "<div>\n",
       "<style scoped>\n",
       "    .dataframe tbody tr th:only-of-type {\n",
       "        vertical-align: middle;\n",
       "    }\n",
       "\n",
       "    .dataframe tbody tr th {\n",
       "        vertical-align: top;\n",
       "    }\n",
       "\n",
       "    .dataframe thead th {\n",
       "        text-align: right;\n",
       "    }\n",
       "</style>\n",
       "<table border=\"1\" class=\"dataframe\">\n",
       "  <thead>\n",
       "    <tr style=\"text-align: right;\">\n",
       "      <th></th>\n",
       "      <th>ratings</th>\n",
       "      <th>title</th>\n",
       "      <th>text</th>\n",
       "      <th>author</th>\n",
       "      <th>date_stayed</th>\n",
       "      <th>offering_id</th>\n",
       "      <th>num_helpful_votes</th>\n",
       "      <th>date</th>\n",
       "      <th>id</th>\n",
       "      <th>via_mobile</th>\n",
       "      <th>clean_title</th>\n",
       "      <th>clean_text</th>\n",
       "    </tr>\n",
       "  </thead>\n",
       "  <tbody>\n",
       "    <tr>\n",
       "      <th>15</th>\n",
       "      <td>{'service': 5.0, 'cleanliness': 5.0, 'overall'...</td>\n",
       "      <td>“Value”</td>\n",
       "      <td>Doing an AM tour at Sony Studios, and the loca...</td>\n",
       "      <td>{'username': 'rwmentzer', 'num_cities': 16, 'n...</td>\n",
       "      <td>September 2012</td>\n",
       "      <td>248239</td>\n",
       "      <td>0</td>\n",
       "      <td>2012-09-28</td>\n",
       "      <td>141497337</td>\n",
       "      <td>False</td>\n",
       "      <td>Value</td>\n",
       "      <td>Doing an AM tour at Sony Studios and the locat...</td>\n",
       "    </tr>\n",
       "    <tr>\n",
       "      <th>26</th>\n",
       "      <td>{'service': 5.0, 'cleanliness': 4.0, 'overall'...</td>\n",
       "      <td>“Fairmont-Dallas”</td>\n",
       "      <td>We had a most enjoyable short stay at this fin...</td>\n",
       "      <td>{'username': 'Fred H', 'num_reviews': 1, 'id':...</td>\n",
       "      <td>October 2012</td>\n",
       "      <td>98606</td>\n",
       "      <td>0</td>\n",
       "      <td>2012-10-21</td>\n",
       "      <td>143365025</td>\n",
       "      <td>False</td>\n",
       "      <td>FairmontDallas</td>\n",
       "      <td>We had a most enjoyable short stay at this fin...</td>\n",
       "    </tr>\n",
       "    <tr>\n",
       "      <th>37</th>\n",
       "      <td>{'service': 5.0, 'cleanliness': 5.0, 'overall'...</td>\n",
       "      <td>“Excellent”</td>\n",
       "      <td>We had the misfortune of getting standed in Sa...</td>\n",
       "      <td>{'username': 'NorthLincsChikky', 'num_cities':...</td>\n",
       "      <td>November 2009</td>\n",
       "      <td>79985</td>\n",
       "      <td>1</td>\n",
       "      <td>2009-11-08</td>\n",
       "      <td>48753878</td>\n",
       "      <td>False</td>\n",
       "      <td>Excellent</td>\n",
       "      <td>We had the misfortune of getting standed in Sa...</td>\n",
       "    </tr>\n",
       "    <tr>\n",
       "      <th>70</th>\n",
       "      <td>{'service': 4.0, 'cleanliness': 4.0, 'overall'...</td>\n",
       "      <td>“wow”</td>\n",
       "      <td>well, where to start? \\nfirstly, the location,...</td>\n",
       "      <td>{'username': 'dexbrighton', 'num_cities': 2, '...</td>\n",
       "      <td>February 2007</td>\n",
       "      <td>93507</td>\n",
       "      <td>5</td>\n",
       "      <td>2007-02-19</td>\n",
       "      <td>6811836</td>\n",
       "      <td>False</td>\n",
       "      <td>wow</td>\n",
       "      <td>well where to start firstly the location that ...</td>\n",
       "    </tr>\n",
       "    <tr>\n",
       "      <th>85</th>\n",
       "      <td>{'cleanliness': 5.0, 'value': 4.0, 'overall': ...</td>\n",
       "      <td>“Outstanding!”</td>\n",
       "      <td>Just back from a (2) day stay at the Omni. Aft...</td>\n",
       "      <td>{'username': 'dje', 'num_cities': 10, 'num_hel...</td>\n",
       "      <td>May 2005</td>\n",
       "      <td>224948</td>\n",
       "      <td>7</td>\n",
       "      <td>2005-05-31</td>\n",
       "      <td>3514473</td>\n",
       "      <td>False</td>\n",
       "      <td>Outstanding</td>\n",
       "      <td>Just back from a 2 day stay at the Omni After ...</td>\n",
       "    </tr>\n",
       "    <tr>\n",
       "      <th>...</th>\n",
       "      <td>...</td>\n",
       "      <td>...</td>\n",
       "      <td>...</td>\n",
       "      <td>...</td>\n",
       "      <td>...</td>\n",
       "      <td>...</td>\n",
       "      <td>...</td>\n",
       "      <td>...</td>\n",
       "      <td>...</td>\n",
       "      <td>...</td>\n",
       "      <td>...</td>\n",
       "      <td>...</td>\n",
       "    </tr>\n",
       "    <tr>\n",
       "      <th>23799</th>\n",
       "      <td>{'overall': 2.0}</td>\n",
       "      <td>“Sewage”</td>\n",
       "      <td>Unfortunately the room smelled like sewage. Ve...</td>\n",
       "      <td>{'username': 'J W', 'num_reviews': 2, 'num_cit...</td>\n",
       "      <td>July 2012</td>\n",
       "      <td>87635</td>\n",
       "      <td>0</td>\n",
       "      <td>2012-07-20</td>\n",
       "      <td>134944668</td>\n",
       "      <td>False</td>\n",
       "      <td>Sewage</td>\n",
       "      <td>Unfortunately the room smelled like sewage Ver...</td>\n",
       "    </tr>\n",
       "    <tr>\n",
       "      <th>23806</th>\n",
       "      <td>{'service': 5.0, 'cleanliness': 5.0, 'overall'...</td>\n",
       "      <td>“Exceptional”</td>\n",
       "      <td>In addition to it being about a three minute w...</td>\n",
       "      <td>{'username': 'Layover', 'num_cities': 102, 'nu...</td>\n",
       "      <td>March 2009</td>\n",
       "      <td>1157456</td>\n",
       "      <td>1</td>\n",
       "      <td>2009-05-11</td>\n",
       "      <td>29788756</td>\n",
       "      <td>False</td>\n",
       "      <td>Exceptional</td>\n",
       "      <td>In addition to it being about a three minute w...</td>\n",
       "    </tr>\n",
       "    <tr>\n",
       "      <th>23820</th>\n",
       "      <td>{'service': 2.0, 'cleanliness': 1.0, 'overall'...</td>\n",
       "      <td>“Horrible”</td>\n",
       "      <td>Room doors that look like coffin lids. Sea foa...</td>\n",
       "      <td>{'username': 'spanlaketraveler', 'num_cities':...</td>\n",
       "      <td>December 2007</td>\n",
       "      <td>214197</td>\n",
       "      <td>2</td>\n",
       "      <td>2007-12-08</td>\n",
       "      <td>11326781</td>\n",
       "      <td>False</td>\n",
       "      <td>Horrible</td>\n",
       "      <td>Room doors that look like coffin lids Sea foam...</td>\n",
       "    </tr>\n",
       "    <tr>\n",
       "      <th>23954</th>\n",
       "      <td>{'cleanliness': 1.0, 'overall': 1.0, 'rooms': ...</td>\n",
       "      <td>“Seedy”</td>\n",
       "      <td>I was surprised to learn from the other review...</td>\n",
       "      <td>{'username': '', 'id': '', 'location': ''}</td>\n",
       "      <td>April 2005</td>\n",
       "      <td>100561</td>\n",
       "      <td>9</td>\n",
       "      <td>2005-04-08</td>\n",
       "      <td>3343889</td>\n",
       "      <td>False</td>\n",
       "      <td>Seedy</td>\n",
       "      <td>I was surprised to learn from the other review...</td>\n",
       "    </tr>\n",
       "    <tr>\n",
       "      <th>23967</th>\n",
       "      <td>{'service': 5.0, 'cleanliness': 4.0, 'overall'...</td>\n",
       "      <td>“fantatstic”</td>\n",
       "      <td>stayed in a 1 bedroom suite- 2nd highest floor...</td>\n",
       "      <td>{'username': 'michaelj42', 'num_cities': 3, 'n...</td>\n",
       "      <td>September 2009</td>\n",
       "      <td>93562</td>\n",
       "      <td>0</td>\n",
       "      <td>2009-10-25</td>\n",
       "      <td>47682804</td>\n",
       "      <td>False</td>\n",
       "      <td>fantatstic</td>\n",
       "      <td>stayed in a 1 bedroom suite 2nd highest floor ...</td>\n",
       "    </tr>\n",
       "  </tbody>\n",
       "</table>\n",
       "<p>937 rows × 12 columns</p>\n",
       "</div>"
      ],
      "text/plain": [
       "                                                 ratings              title  \\\n",
       "15     {'service': 5.0, 'cleanliness': 5.0, 'overall'...            “Value”   \n",
       "26     {'service': 5.0, 'cleanliness': 4.0, 'overall'...  “Fairmont-Dallas”   \n",
       "37     {'service': 5.0, 'cleanliness': 5.0, 'overall'...        “Excellent”   \n",
       "70     {'service': 4.0, 'cleanliness': 4.0, 'overall'...              “wow”   \n",
       "85     {'cleanliness': 5.0, 'value': 4.0, 'overall': ...     “Outstanding!”   \n",
       "...                                                  ...                ...   \n",
       "23799                                   {'overall': 2.0}           “Sewage”   \n",
       "23806  {'service': 5.0, 'cleanliness': 5.0, 'overall'...      “Exceptional”   \n",
       "23820  {'service': 2.0, 'cleanliness': 1.0, 'overall'...         “Horrible”   \n",
       "23954  {'cleanliness': 1.0, 'overall': 1.0, 'rooms': ...            “Seedy”   \n",
       "23967  {'service': 5.0, 'cleanliness': 4.0, 'overall'...       “fantatstic”   \n",
       "\n",
       "                                                    text  \\\n",
       "15     Doing an AM tour at Sony Studios, and the loca...   \n",
       "26     We had a most enjoyable short stay at this fin...   \n",
       "37     We had the misfortune of getting standed in Sa...   \n",
       "70     well, where to start? \\nfirstly, the location,...   \n",
       "85     Just back from a (2) day stay at the Omni. Aft...   \n",
       "...                                                  ...   \n",
       "23799  Unfortunately the room smelled like sewage. Ve...   \n",
       "23806  In addition to it being about a three minute w...   \n",
       "23820  Room doors that look like coffin lids. Sea foa...   \n",
       "23954  I was surprised to learn from the other review...   \n",
       "23967  stayed in a 1 bedroom suite- 2nd highest floor...   \n",
       "\n",
       "                                                  author     date_stayed  \\\n",
       "15     {'username': 'rwmentzer', 'num_cities': 16, 'n...  September 2012   \n",
       "26     {'username': 'Fred H', 'num_reviews': 1, 'id':...    October 2012   \n",
       "37     {'username': 'NorthLincsChikky', 'num_cities':...   November 2009   \n",
       "70     {'username': 'dexbrighton', 'num_cities': 2, '...   February 2007   \n",
       "85     {'username': 'dje', 'num_cities': 10, 'num_hel...        May 2005   \n",
       "...                                                  ...             ...   \n",
       "23799  {'username': 'J W', 'num_reviews': 2, 'num_cit...       July 2012   \n",
       "23806  {'username': 'Layover', 'num_cities': 102, 'nu...      March 2009   \n",
       "23820  {'username': 'spanlaketraveler', 'num_cities':...   December 2007   \n",
       "23954         {'username': '', 'id': '', 'location': ''}      April 2005   \n",
       "23967  {'username': 'michaelj42', 'num_cities': 3, 'n...  September 2009   \n",
       "\n",
       "       offering_id  num_helpful_votes       date         id  via_mobile  \\\n",
       "15          248239                  0 2012-09-28  141497337       False   \n",
       "26           98606                  0 2012-10-21  143365025       False   \n",
       "37           79985                  1 2009-11-08   48753878       False   \n",
       "70           93507                  5 2007-02-19    6811836       False   \n",
       "85          224948                  7 2005-05-31    3514473       False   \n",
       "...            ...                ...        ...        ...         ...   \n",
       "23799        87635                  0 2012-07-20  134944668       False   \n",
       "23806      1157456                  1 2009-05-11   29788756       False   \n",
       "23820       214197                  2 2007-12-08   11326781       False   \n",
       "23954       100561                  9 2005-04-08    3343889       False   \n",
       "23967        93562                  0 2009-10-25   47682804       False   \n",
       "\n",
       "          clean_title                                         clean_text  \n",
       "15              Value  Doing an AM tour at Sony Studios and the locat...  \n",
       "26     FairmontDallas  We had a most enjoyable short stay at this fin...  \n",
       "37          Excellent  We had the misfortune of getting standed in Sa...  \n",
       "70                wow  well where to start firstly the location that ...  \n",
       "85        Outstanding  Just back from a 2 day stay at the Omni After ...  \n",
       "...               ...                                                ...  \n",
       "23799          Sewage  Unfortunately the room smelled like sewage Ver...  \n",
       "23806     Exceptional  In addition to it being about a three minute w...  \n",
       "23820        Horrible  Room doors that look like coffin lids Sea foam...  \n",
       "23954           Seedy  I was surprised to learn from the other review...  \n",
       "23967      fantatstic  stayed in a 1 bedroom suite 2nd highest floor ...  \n",
       "\n",
       "[937 rows x 12 columns]"
      ]
     },
     "execution_count": 150,
     "metadata": {},
     "output_type": "execute_result"
    }
   ],
   "source": [
    "row_data = train_data[train_data['clean_title'].str.split().str.len() == 1]\n",
    "row_data"
   ]
  },
  {
   "cell_type": "code",
   "execution_count": 151,
   "id": "42dc9d07",
   "metadata": {},
   "outputs": [
    {
     "data": {
      "image/png": "[encoded data removed]",
      "text/plain": [
       "<Figure size 640x480 with 1 Axes>"
      ]
     },
     "metadata": {},
     "output_type": "display_data"
    }
   ],
   "source": [
    "import seaborn as sns\n",
    "train_data['text_length'] = train_data['clean_text'].apply(lambda x: len(x.split()))\n",
    "sns.histplot(train_data['text_length'], bins=20, kde=True)\n",
    "plt.title('Distribution of review Lengths')\n",
    "plt.xlabel('Review Length')\n",
    "plt.show()"
   ]
  },
  {
   "cell_type": "code",
   "execution_count": 152,
   "id": "4eaee8c8",
   "metadata": {},
   "outputs": [
    {
     "name": "stdout",
     "output_type": "stream",
     "text": [
      "Number of reviews with <=800 words: 23910\n",
      "Total number of reviews: 23999\n",
      "Percentage of reviews with <=800 words: 99.63%\n"
     ]
    }
   ],
   "source": [
    "total_reviews = len(train_data)\n",
    "\n",
    "reviews_upto_800 = len(train_data[train_data['clean_text'].str.split().str.len() <= 800])\n",
    "ratio = reviews_upto_800 / total_reviews\n",
    "percentage = ratio * 100\n",
    "\n",
    "print(f\"Number of reviews with <=800 words: {reviews_upto_800}\")\n",
    "print(f\"Total number of reviews: {total_reviews}\")\n",
    "print(f\"Percentage of reviews with <=800 words: {percentage:.2f}%\")"
   ]
  },
  {
   "cell_type": "code",
   "execution_count": 153,
   "id": "cbce88cf",
   "metadata": {},
   "outputs": [],
   "source": [
    "# train_data = train_data[train_data['clean_text'].str.split().str.len() <= 800].reset_index(drop=True)\n",
    "# train_data['text_length'] = train_data['clean_text'].apply(lambda x: len(x.split()))\n",
    "# sns.histplot(train_data['text_length'], bins=20, kde=True)\n",
    "# plt.title('Distribution of review Lengths')\n",
    "# plt.xlabel('Review Length')\n",
    "# plt.show()"
   ]
  },
  {
   "cell_type": "code",
   "execution_count": 154,
   "id": "566bebc3",
   "metadata": {},
   "outputs": [
    {
     "data": {
      "image/png": "[encoded data removed]",
      "text/plain": [
       "<Figure size 640x480 with 1 Axes>"
      ]
     },
     "metadata": {},
     "output_type": "display_data"
    }
   ],
   "source": [
    "train_data['title_length'] = train_data['clean_title'].apply(lambda x: len(x.split()))\n",
    "sns.histplot(train_data['title_length'], bins=20, kde=True)\n",
    "plt.title('Distribution of title lengths')\n",
    "plt.xlabel('Title Length')\n",
    "plt.show()"
   ]
  },
  {
   "cell_type": "code",
   "execution_count": 155,
   "id": "ce1251cf",
   "metadata": {},
   "outputs": [
    {
     "name": "stdout",
     "output_type": "stream",
     "text": [
      "[(5, 9824), (4, 7720), (3, 3287), (2, 1611), (1, 1557)]\n"
     ]
    },
    {
     "data": {
      "image/png": "[encoded data removed]",
      "text/plain": [
       "<Figure size 1200x500 with 2 Axes>"
      ]
     },
     "metadata": {},
     "output_type": "display_data"
    }
   ],
   "source": [
    "def overall_ratings_plot(data, type):\n",
    "    ratings_distribution = []\n",
    "    for i in range(len(data)):\n",
    "        ratings_distribution.append(int(train_data['ratings'][i]['overall']))\n",
    "    ratings_freq = Counter(ratings_distribution)\n",
    "    print(sorted(ratings_freq.items(), key= lambda x:x[0], reverse=True))\n",
    "    # total = sum(ratings_freq.values())\n",
    "    # print(total)\n",
    "    # print(f'{type} set ratings distribution:', ratings_freq)\n",
    "    # ratios = [(val, round(cnt/total, 3)) for val, cnt in ratings_freq.items()]\n",
    "    # print(f\"percentage of dataset per rating: {sorted(ratios, key= lambda x:x[1], reverse = True)}\")\n",
    "\n",
    "    fig, axes = plt.subplots(1, 2, figsize=(12, 5))\n",
    "    fig.suptitle(f'Distribution of overall ratings in {type} set')\n",
    "    axes[0].bar(ratings_freq.keys(), ratings_freq.values())\n",
    "    axes[0].set_xlabel(f'overall rating values in {type} set')\n",
    "    axes[0].set_ylabel('number of reviews this rating was given')\n",
    "\n",
    "    axes[1].pie (ratings_freq.values(), labels= ratings_freq.keys(), autopct='%1.2f%%')\n",
    "\n",
    "overall_ratings_plot(train_data, 'train')"
   ]
  },
  {
   "cell_type": "code",
   "execution_count": 156,
   "id": "d896d3cb",
   "metadata": {},
   "outputs": [
    {
     "name": "stdout",
     "output_type": "stream",
     "text": [
      "[(5, 2509), (4, 1888), (3, 828), (2, 408), (1, 367)]\n"
     ]
    },
    {
     "data": {
      "image/png": "[encoded data removed]",
      "text/plain": [
       "<Figure size 1200x500 with 2 Axes>"
      ]
     },
     "metadata": {},
     "output_type": "display_data"
    }
   ],
   "source": [
    "overall_ratings_plot(test_data, 'test')"
   ]
  },
  {
   "cell_type": "code",
   "execution_count": 157,
   "id": "891ee85b",
   "metadata": {},
   "outputs": [
    {
     "data": {
      "text/plain": [
       "0        first of all we got there and they didnt have ...\n",
       "1        found racist graffiti in the room request to c...\n",
       "2        close to union squar hotel is a bit of a maze ...\n",
       "3        i had a bad vibe about thi place from the mome...\n",
       "4        after we receiv our final bill and left the em...\n",
       "                               ...                        \n",
       "23994    we stay just one night here when visit our son...\n",
       "23995    spent two night here with spous in conjunct wi...\n",
       "23996    the room wa fairli larg pretti quiet the bed w...\n",
       "23997    great start to our stay when we were check in ...\n",
       "23998    great room comfort bed food is good the locat ...\n",
       "Name: stemmed_text, Length: 23999, dtype: object"
      ]
     },
     "execution_count": 157,
     "metadata": {},
     "output_type": "execute_result"
    }
   ],
   "source": [
    "from nltk.stem import PorterStemmer\n",
    "stemmer = PorterStemmer()\n",
    "train_data['stemmed_text'] = train_data['clean_text'].apply(lambda x: ' '.join([stemmer.stem(word) for word in word_tokenize(x)]))\n",
    "train_data['stemmed_text']"
   ]
  },
  {
   "cell_type": "code",
   "execution_count": 158,
   "id": "aa62ec97",
   "metadata": {},
   "outputs": [
    {
     "data": {
      "text/plain": [
       "0        first of all we get there and they do not have...\n",
       "1        find Racist graffiti in the room request to ch...\n",
       "2        close to Union Square hotel be a bit of a maze...\n",
       "3        I have a bad vibe about this place from the mo...\n",
       "4        after we receive our final bill and leave the ...\n",
       "                               ...                        \n",
       "23994    we stay just one night here when visit our son...\n",
       "23995    spend two night here with spouse in conjunctio...\n",
       "23996    the room be fairly large pretty quiet the bed ...\n",
       "23997    great start to our stay when we be check in 2h...\n",
       "23998    great room comfortable bed food be good the lo...\n",
       "Name: lemmatized_text, Length: 23999, dtype: object"
      ]
     },
     "execution_count": 158,
     "metadata": {},
     "output_type": "execute_result"
    }
   ],
   "source": [
    "import spacy\n",
    "# !python -m spacy download en_core_web_sm\n",
    "nlp = spacy.load('en_core_web_sm')\n",
    "\n",
    "#Noting: Lemmatization takes a while to run so running through pipe to speed it up (still takes ~2 mins)\n",
    "def lemmatize(text):\n",
    "    docs = list(nlp.pipe(text))\n",
    "    return [' '.join([token.lemma_ for token in doc]) for doc in docs]\n",
    "\n",
    "train_data['lemmatized_text'] = lemmatize(train_data['clean_text'])\n",
    "train_data['lemmatized_text']"
   ]
  },
  {
   "cell_type": "code",
   "execution_count": 159,
   "id": "5d479dea",
   "metadata": {},
   "outputs": [
    {
     "name": "stdout",
     "output_type": "stream",
     "text": [
      "Original Word | Stemmed Form | Lemmatized Form\n",
      "--------------------------------------------------\n",
      "received      | receiv       | receive     \n",
      "left          | left         | leave       \n",
      "Empire        | empir        | Empire      \n",
      "another       | anoth        | another     \n",
      "charge        | charg        | charge      \n",
      "accounting    | account      | accounting  \n",
      "sent          | sent         | send        \n",
      "justification | justif       | justification\n",
      "response      | respons      | response    \n",
      "company       | compani      | company     \n"
     ]
    }
   ],
   "source": [
    "a1 = train_data['stemmed_text'][4].split()\n",
    "a2 = train_data['lemmatized_text'][4].split()\n",
    "a3 = train_data['clean_text'][4].split()\n",
    "\n",
    "print(\"Original Word | Stemmed Form | Lemmatized Form\")\n",
    "print(\"-\" * 50)\n",
    "\n",
    "for orig, stem, lemma in zip(a3, a1, a2):\n",
    "    if stem != lemma:\n",
    "        print(f\"{orig:<13} | {stem:<12} | {lemma:<12}\")\n"
   ]
  },
  {
   "cell_type": "markdown",
   "id": "febe1be8",
   "metadata": {},
   "source": [
    "using lemmatized text for further textual analysis as stemming can occasionally cut the actual word into its \"stem\" --> not very useful for for eda"
   ]
  },
  {
   "cell_type": "code",
   "execution_count": 160,
   "id": "425c3d60",
   "metadata": {},
   "outputs": [
    {
     "name": "stdout",
     "output_type": "stream",
     "text": [
      "number of unique words: 62510\n",
      "most frequent words use in reviews: [('the', 192545), ('and', 127800), ('a', 103769), ('to', 93843), ('was', 80158), ('I', 59749), ('in', 57570), ('of', 50150), ('The', 47904), ('is', 46002)]\n"
     ]
    }
   ],
   "source": [
    "unique_words = set()\n",
    "most_frequent_words = defaultdict(int)\n",
    "for i in range(len(train_data)):\n",
    "    data = train_data['clean_text'][i].split()\n",
    "    for w in data:\n",
    "        unique_words.add(w)\n",
    "        most_frequent_words[w] += 1\n",
    "\n",
    "#vocab size of 62493 unique words in all the reviews\n",
    "print(f\"number of unique words: {len(unique_words)}\")\n",
    "\n",
    "most_freq = sorted(most_frequent_words.items(), key=lambda x: x[1], reverse=True)\n",
    "print(f\"most frequent words use in reviews: {most_freq[:10]}\") #Notice how all of them are stop words --> dataset needs pruning"
   ]
  },
  {
   "cell_type": "code",
   "execution_count": 161,
   "id": "243b1054",
   "metadata": {},
   "outputs": [
    {
     "name": "stdout",
     "output_type": "stream",
     "text": [
      "number of unique words: 62505\n"
     ]
    },
    {
     "data": {
      "text/plain": [
       "[('the', 192545),\n",
       " ('and', 127800),\n",
       " ('a', 103769),\n",
       " ('to', 93843),\n",
       " ('was', 80158),\n",
       " ('I', 59749),\n",
       " ('in', 57570),\n",
       " ('of', 50150),\n",
       " ('The', 47904),\n",
       " ('is', 46002)]"
      ]
     },
     "execution_count": 161,
     "metadata": {},
     "output_type": "execute_result"
    }
   ],
   "source": [
    "unique_words = set()\n",
    "all_words = []\n",
    "for i in range(len(train_data)):\n",
    "    data = word_tokenize(train_data['clean_text'][i])\n",
    "    for w in data:\n",
    "        unique_words.add(w)\n",
    "        all_words.append(w)\n",
    "\n",
    "#vocab size of 62493 unique words in all the reviews\n",
    "print(f\"number of unique words: {len(unique_words)}\")\n",
    "\n",
    "#Note these are all stop words so should probably prune the dataset for stop words before looking for most common words\n",
    "fdist = FreqDist(all_words)\n",
    "fdist.most_common(10)"
   ]
  },
  {
   "cell_type": "code",
   "execution_count": 162,
   "id": "86f8a185",
   "metadata": {},
   "outputs": [
    {
     "name": "stdout",
     "output_type": "stream",
     "text": [
      "number of unique words: 54072\n"
     ]
    },
    {
     "data": {
      "text/plain": [
       "[('the', 240655),\n",
       " ('be', 199451),\n",
       " ('and', 129430),\n",
       " ('a', 106050),\n",
       " ('to', 94381),\n",
       " ('I', 73297),\n",
       " ('we', 61408),\n",
       " ('in', 59098),\n",
       " ('of', 50357),\n",
       " ('room', 46906)]"
      ]
     },
     "execution_count": 162,
     "metadata": {},
     "output_type": "execute_result"
    }
   ],
   "source": [
    "unique_words = set()\n",
    "all_words = []\n",
    "for i in range(len(train_data)):\n",
    "    data = word_tokenize(train_data['lemmatized_text'][i])\n",
    "    for w in data:\n",
    "        unique_words.add(w)\n",
    "        all_words.append(w)\n",
    "\n",
    "#vocab size of 62493 unique words in all the reviews\n",
    "print(f\"number of unique words: {len(unique_words)}\")\n",
    "\n",
    "#Note these are all stop words so should probably prune the dataset for stop words before looking for most common words\n",
    "fdist = FreqDist(all_words)\n",
    "fdist.most_common(10)"
   ]
  },
  {
   "cell_type": "code",
   "execution_count": 163,
   "id": "22a5c539",
   "metadata": {},
   "outputs": [
    {
     "name": "stdout",
     "output_type": "stream",
     "text": [
      "number of unique words: 54071\n",
      "most frequent words use in reviews: [('the', 240655), ('be', 199451), ('and', 129430), ('a', 106050), ('to', 94381), ('I', 73297), ('we', 61408), ('in', 59098), ('of', 50357), ('room', 46906)]\n"
     ]
    }
   ],
   "source": [
    "unique_words = set()\n",
    "most_frequent_words = defaultdict(int)\n",
    "for i in range(len(train_data)):\n",
    "    data = train_data['lemmatized_text'][i].split()\n",
    "    for w in data:\n",
    "        unique_words.add(w)\n",
    "        most_frequent_words[w] += 1\n",
    "\n",
    "#vocab size of 62493 unique words in all the reviews\n",
    "print(f\"number of unique words: {len(unique_words)}\")\n",
    "\n",
    "most_freq = sorted(most_frequent_words.items(), key=lambda x: x[1], reverse=True)\n",
    "print(f\"most frequent words use in reviews: {most_freq[:10]}\") #Notice how all of them are stop words --> dataset needs pruning"
   ]
  },
  {
   "cell_type": "code",
   "execution_count": 164,
   "id": "1cbc13aa",
   "metadata": {},
   "outputs": [
    {
     "data": {
      "text/plain": [
       "[('room', 46906),\n",
       " ('hotel', 43971),\n",
       " ('stay', 29283),\n",
       " ('great', 15991),\n",
       " ('would', 14202),\n",
       " ('staff', 14182),\n",
       " ('get', 13934),\n",
       " ('good', 13909),\n",
       " ('night', 12544),\n",
       " ('nice', 11574)]"
      ]
     },
     "execution_count": 164,
     "metadata": {},
     "output_type": "execute_result"
    }
   ],
   "source": [
    "from nltk.corpus import stopwords\n",
    "\n",
    "stop_words = set(stopwords.words('english'))\n",
    "\n",
    "def most_common_words(N:list):\n",
    "    most_frequent_actual_words = []\n",
    "\n",
    "    for n in N:\n",
    "        if n[0].lower() not in stop_words:\n",
    "            most_frequent_actual_words.append(n)\n",
    "        if len(most_frequent_actual_words) == 10:\n",
    "            break\n",
    "\n",
    "    return most_frequent_actual_words\n",
    "\n",
    "most_frequent_actual_words = most_common_words(most_freq)\n",
    "most_frequent_actual_words"
   ]
  },
  {
   "cell_type": "code",
   "execution_count": 165,
   "id": "3165b793",
   "metadata": {},
   "outputs": [
    {
     "data": {
      "image/png": "[encoded data removed]",
      "text/plain": [
       "<Figure size 640x480 with 1 Axes>"
      ]
     },
     "metadata": {},
     "output_type": "display_data"
    }
   ],
   "source": [
    "def plot_words(words, title_text, y_axis_text):\n",
    "    words, counts = zip(*words)\n",
    "    plt.bar(words, counts)\n",
    "    plt.xlabel('words')\n",
    "    plt.ylabel(y_axis_text)\n",
    "    plt.title(title_text)\n",
    "\n",
    "plot_words(most_frequent_actual_words,'Most frequent words across all reviews', 'number of occurances across all reviews')"
   ]
  },
  {
   "cell_type": "code",
   "execution_count": 166,
   "id": "cf333ee6",
   "metadata": {},
   "outputs": [
    {
     "name": "stdout",
     "output_type": "stream",
     "text": [
      "Most common words in positive reviews: \n"
     ]
    },
    {
     "data": {
      "text/plain": [
       "[('room', 37980),\n",
       " ('hotel', 37308),\n",
       " ('stay', 25099),\n",
       " ('great', 15312),\n",
       " ('staff', 12721),\n",
       " ('good', 12563),\n",
       " ('would', 11400),\n",
       " ('get', 11059),\n",
       " ('nice', 10615),\n",
       " ('night', 10108)]"
      ]
     },
     "execution_count": 166,
     "metadata": {},
     "output_type": "execute_result"
    }
   ],
   "source": [
    "def most_common_words_sentiment(N:list):\n",
    "    negative_words = []\n",
    "    positive_words = []\n",
    "    for i in range(len(N)):\n",
    "        data = word_tokenize(N['lemmatized_text'][i])\n",
    "        rating = int(N['ratings'][i]['overall'])\n",
    "        for w in data:\n",
    "            if w.lower() in stop_words: continue\n",
    "            if rating >= 2.5:\n",
    "                positive_words.append(w)\n",
    "            else:\n",
    "                negative_words.append(w)\n",
    "    \n",
    "    return Counter(positive_words), Counter(negative_words)\n",
    "\n",
    "positive_review_words, negative_review_words = most_common_words_sentiment(train_data)\n",
    "\n",
    "print(\"Most common words in positive reviews: \")\n",
    "positive_review_words.most_common(10)"
   ]
  },
  {
   "cell_type": "code",
   "execution_count": 167,
   "id": "3b59f949",
   "metadata": {},
   "outputs": [
    {
     "data": {
      "image/png": "[encoded data removed]",
      "text/plain": [
       "<Figure size 640x480 with 1 Axes>"
      ]
     },
     "metadata": {},
     "output_type": "display_data"
    }
   ],
   "source": [
    "plot_words(positive_review_words.most_common(10),'10 most frequent words in reviews with positive overall rating', 'number of occurances across positive reviews')"
   ]
  },
  {
   "cell_type": "code",
   "execution_count": 168,
   "id": "5fa88896",
   "metadata": {},
   "outputs": [
    {
     "name": "stdout",
     "output_type": "stream",
     "text": [
      "Most common words in negative reviews:\n"
     ]
    },
    {
     "data": {
      "text/plain": [
       "[('room', 8926),\n",
       " ('hotel', 6663),\n",
       " ('stay', 4184),\n",
       " ('get', 2875),\n",
       " ('would', 2802),\n",
       " ('night', 2436),\n",
       " ('one', 2234),\n",
       " ('go', 2135),\n",
       " ('say', 1694),\n",
       " ('could', 1663)]"
      ]
     },
     "execution_count": 168,
     "metadata": {},
     "output_type": "execute_result"
    }
   ],
   "source": [
    "print(\"Most common words in negative reviews:\")\n",
    "negative_review_words.most_common(10)"
   ]
  },
  {
   "cell_type": "code",
   "execution_count": 169,
   "id": "b1ff6429",
   "metadata": {},
   "outputs": [
    {
     "data": {
      "image/png": "[encoded data removed]",
      "text/plain": [
       "<Figure size 640x480 with 1 Axes>"
      ]
     },
     "metadata": {},
     "output_type": "display_data"
    }
   ],
   "source": [
    "plot_words(negative_review_words.most_common(10),'10 most frequent words in reviews with negative overall rating', 'number of occurances across negative reviews')"
   ]
  },
  {
   "cell_type": "code",
   "execution_count": 170,
   "id": "2d423bd6",
   "metadata": {},
   "outputs": [
    {
     "name": "stdout",
     "output_type": "stream",
     "text": [
      "Distribution of 3-grams:\n",
      "The room was: 2943\n",
      "the front desk: 2927\n",
      "in the room: 2192\n",
      "of the hotel: 2064\n",
      "The hotel is: 2030\n",
      "stay here again: 1696\n",
      "stayed at the: 1606\n",
      "at this hotel: 1601\n",
      "the room was: 1563\n",
      "one of the: 1483\n"
     ]
    }
   ],
   "source": [
    "from nltk import ngrams\n",
    "n = 3\n",
    "def generate_ngrams(text, n):\n",
    "    n_grams = ngrams(text, n)\n",
    "    return [' '.join(gram) for gram in n_grams]\n",
    "\n",
    "n_grams_list = []\n",
    "for i in range(len(train_data)):\n",
    "    data = word_tokenize(train_data['clean_text'][i])\n",
    "    n_grams = generate_ngrams(data, n)\n",
    "    for gram in n_grams:\n",
    "        n_grams_list.append(gram)\n",
    "\n",
    "n_gram_freq = Counter(n_grams_list)\n",
    "\n",
    "print(f\"Distribution of {n}-grams:\")\n",
    "for ngram, count in n_gram_freq.most_common(10):\n",
    "    print(f\"{ngram}: {count}\")"
   ]
  },
  {
   "cell_type": "code",
   "execution_count": 171,
   "id": "875e8f15",
   "metadata": {},
   "outputs": [
    {
     "name": "stdout",
     "output_type": "stream",
     "text": [
      "Distribution of 3-grams:\n",
      "the room be: 8638\n",
      "the hotel be: 5439\n",
      "the staff be: 4235\n",
      "the front desk: 3637\n",
      "stay at the: 3604\n",
      "there be a: 3396\n",
      "I do not: 2708\n",
      "in the room: 2601\n",
      "it be a: 2554\n",
      "this hotel be: 2375\n"
     ]
    }
   ],
   "source": [
    "n = 3\n",
    "def generate_ngrams(text, n):\n",
    "    n_grams = ngrams(text, n)\n",
    "    return [' '.join(gram) for gram in n_grams]\n",
    "\n",
    "n_grams_list = []\n",
    "for i in range(len(train_data)):\n",
    "    data = word_tokenize(train_data['lemmatized_text'][i])\n",
    "    n_grams = generate_ngrams(data, n)\n",
    "    for gram in n_grams:\n",
    "        n_grams_list.append(gram)\n",
    "\n",
    "n_gram_freq = Counter(n_grams_list)\n",
    "\n",
    "print(f\"Distribution of {n}-grams:\")\n",
    "for ngram, count in n_gram_freq.most_common(10):\n",
    "    print(f\"{ngram}: {count}\")"
   ]
  },
  {
   "cell_type": "markdown",
   "id": "2f41a8a8",
   "metadata": {},
   "source": [
    "Not very useful. What if we look at the most common tri grams for both \"positive\" and negative reviews?\n"
   ]
  },
  {
   "cell_type": "code",
   "execution_count": 172,
   "id": "00c74ae2",
   "metadata": {},
   "outputs": [
    {
     "name": "stdout",
     "output_type": "stream",
     "text": [
      "Most common 3-grams for positive rating reviews:\n",
      "The room was: 2657\n",
      "the front desk: 2047\n",
      "The hotel is: 1894\n",
      "of the hotel: 1777\n",
      "in the room: 1680\n",
      "stay here again: 1566\n",
      "stayed at the: 1447\n",
      "at this hotel: 1315\n",
      "the room was: 1297\n",
      "and it was: 1279\n",
      "\n",
      "\n",
      "Most common 3-grams for negative rating reviews:\n",
      "the front desk: 880\n",
      "in the room: 512\n",
      "of the hotel: 287\n",
      "The room was: 286\n",
      "at this hotel: 286\n",
      "I had to: 267\n",
      "the room was: 266\n",
      "to the front: 223\n",
      "we had to: 213\n",
      "one of the: 209\n"
     ]
    }
   ],
   "source": [
    "positive_ngrams = []\n",
    "negative_ngrams = []\n",
    "for i in range(len(train_data)):\n",
    "    data = word_tokenize(train_data['clean_text'][i])\n",
    "    n_grams = generate_ngrams(data, n)\n",
    "    rating = int(train_data['ratings'][i]['overall'])\n",
    "    if rating >= 2.5:\n",
    "        for gram in n_grams:\n",
    "            positive_ngrams.append(gram)\n",
    "    else:\n",
    "        for gram in n_grams:\n",
    "            negative_ngrams.append(gram)\n",
    "\n",
    "positive_ngrams_freq = Counter(positive_ngrams)\n",
    "negative_ngrams_freq = Counter(negative_ngrams)\n",
    "\n",
    "print(f\"Most common {n}-grams for positive rating reviews:\")\n",
    "for ngram, count in positive_ngrams_freq.most_common(10):\n",
    "    print(f\"{ngram}: {count}\")\n",
    "print('\\n')\n",
    "print(f\"Most common {n}-grams for negative rating reviews:\")\n",
    "for ngram, count in negative_ngrams_freq.most_common(10):\n",
    "    print(f\"{ngram}: {count}\")\n"
   ]
  },
  {
   "cell_type": "code",
   "execution_count": 173,
   "id": "2837cef3",
   "metadata": {},
   "outputs": [
    {
     "name": "stdout",
     "output_type": "stream",
     "text": [
      "Most common 3-grams for positive rating reviews:\n",
      "the room be: 7601\n",
      "the hotel be: 4880\n",
      "the staff be: 3954\n",
      "stay at the: 3201\n",
      "there be a: 2936\n",
      "the front desk: 2645\n",
      "it be a: 2275\n",
      "the location be: 2158\n",
      "I do not: 2093\n",
      "in the room: 2012\n",
      "\n",
      "\n",
      "Most common 3-grams for negative rating reviews:\n",
      "the room be: 1037\n",
      "the front desk: 992\n",
      "I do not: 615\n",
      "in the room: 589\n",
      "the hotel be: 559\n",
      "there be no: 534\n",
      "there be a: 460\n",
      "stay at the: 403\n",
      "this hotel be: 374\n",
      "I have to: 343\n"
     ]
    }
   ],
   "source": [
    "positive_ngrams = []\n",
    "negative_ngrams = []\n",
    "for i in range(len(train_data)):\n",
    "    data = word_tokenize(train_data['lemmatized_text'][i])\n",
    "    n_grams = generate_ngrams(data, n)\n",
    "    rating = int(train_data['ratings'][i]['overall'])\n",
    "    if rating >= 2.5:\n",
    "        for gram in n_grams:\n",
    "            positive_ngrams.append(gram)\n",
    "    else:\n",
    "        for gram in n_grams:\n",
    "            negative_ngrams.append(gram)\n",
    "\n",
    "positive_ngrams_freq = Counter(positive_ngrams)\n",
    "negative_ngrams_freq = Counter(negative_ngrams)\n",
    "\n",
    "print(f\"Most common {n}-grams for positive rating reviews:\")\n",
    "for ngram, count in positive_ngrams_freq.most_common(10):\n",
    "    print(f\"{ngram}: {count}\")\n",
    "print('\\n')\n",
    "print(f\"Most common {n}-grams for negative rating reviews:\")\n",
    "for ngram, count in negative_ngrams_freq.most_common(10):\n",
    "    print(f\"{ngram}: {count}\")\n"
   ]
  },
  {
   "cell_type": "code",
   "execution_count": 174,
   "id": "a12d7e8d",
   "metadata": {},
   "outputs": [
    {
     "data": {
      "image/png": "[encoded data removed]",
      "text/plain": [
       "<Figure size 1200x500 with 2 Axes>"
      ]
     },
     "metadata": {},
     "output_type": "display_data"
    }
   ],
   "source": [
    "labels_pos, values_pos = zip(*positive_ngrams_freq.most_common(10))\n",
    "labels_neg, values_neg = zip(*negative_ngrams_freq.most_common(10))\n",
    "indexes = range(len(labels_pos))\n",
    "\n",
    "lables = [labels_pos, labels_neg]\n",
    "values = [values_pos, values_pos]\n",
    "\n",
    "titles = [f\"Most common {n}-grams for positive overall rating reviews\", f\"Most common {n}-grams for negative overall rating reviews\"]\n",
    "def multi_graph(indexes, labels, values, count, titles):\n",
    "    fig, axes = plt.subplots(1, 2, figsize=(12, 5))\n",
    "    for i in range(count):\n",
    "        axes[i].bar(indexes, values[i])\n",
    "        axes[i].set_xlabel(f'{n}-grams')\n",
    "        axes[i].set_ylabel('Frequency')\n",
    "        axes[i].set_xticks(indexes, labels[i], rotation='vertical')\n",
    "        axes[i].set_title(titles[i])\n",
    "\n",
    "multi_graph(indexes, lables, values, 2, titles)"
   ]
  },
  {
   "cell_type": "code",
   "execution_count": 175,
   "id": "7622fe52",
   "metadata": {},
   "outputs": [
    {
     "name": "stdout",
     "output_type": "stream",
     "text": [
      "[('great', 5981), ('hotel', 5185), ('location', 3992), ('the', 3191), ('a', 3067), ('and', 2669), ('stay', 2617), ('in', 2119), ('good', 2096), ('for', 1984)]\n"
     ]
    }
   ],
   "source": [
    "titles = train_data['clean_title']\n",
    "title_words = []\n",
    "for n in train_data['clean_title']:\n",
    "    title = word_tokenize(n)\n",
    "    for w in title:\n",
    "        title_words.append(w.lower())\n",
    "\n",
    "print(Counter(title_words).most_common(10))"
   ]
  },
  {
   "cell_type": "code",
   "execution_count": 176,
   "id": "2e4a59e8",
   "metadata": {},
   "outputs": [
    {
     "name": "stdout",
     "output_type": "stream",
     "text": [
      "[('great', 5981), ('hotel', 5185), ('location', 3992), ('stay', 2617), ('good', 2096), ('nice', 1662), ('service', 1402), ('staff', 1118), ('excellent', 1081), ('place', 1079)]\n"
     ]
    }
   ],
   "source": [
    "title_words_ns = []\n",
    "for n in train_data['clean_title']:\n",
    "    title = word_tokenize(n)\n",
    "    for w in title:\n",
    "        if w.lower() not in stop_words:\n",
    "            title_words_ns.append(w.lower())\n",
    "            \n",
    "print(Counter(title_words_ns).most_common(10))"
   ]
  },
  {
   "cell_type": "markdown",
   "id": "a96dce71",
   "metadata": {},
   "source": [
    "Based off all these experiments, it becomes apparent that some additional changes must be made to the data before being fed into a machine learning model. Given the consistant requirement of lowercasing the words for both the title and the text, all the text should be normalised through lowercasing. Though this might remove some of the \"textual emotion\" conveyed in some of the reviews as capital letters could indicate both excitement and anger. But also these are not terribly useful considering how similar the good and the bad reviews seem to be in terms of word similar. So rather than frequency or even n-gram maybe we need to look deeper"
   ]
  },
  {
   "cell_type": "markdown",
   "id": "333cefa8",
   "metadata": {},
   "source": [
    "### 3. Selection and training Machine Learning models"
   ]
  },
  {
   "cell_type": "code",
   "execution_count": 378,
   "id": "9230c2ca",
   "metadata": {},
   "outputs": [],
   "source": [
    "train_data['lemmatized_text'] = train_data['lemmatized_text'].apply(lambda x: x.lower())\n",
    "train_data['clean_title'] = train_data['clean_title'].apply(lambda x: x.lower())"
   ]
  },
  {
   "cell_type": "code",
   "execution_count": 379,
   "id": "b764ae69",
   "metadata": {},
   "outputs": [],
   "source": [
    "train_data['clean_title'] = lemmatize(train_data['clean_title'])"
   ]
  },
  {
   "cell_type": "code",
   "execution_count": 380,
   "id": "5b3237a5",
   "metadata": {},
   "outputs": [
    {
     "data": {
      "text/plain": [
       "0        1\n",
       "1        1\n",
       "2        4\n",
       "3        2\n",
       "4        1\n",
       "        ..\n",
       "23994    4\n",
       "23995    3\n",
       "23996    5\n",
       "23997    4\n",
       "23998    5\n",
       "Name: overall, Length: 23999, dtype: int64"
      ]
     },
     "execution_count": 380,
     "metadata": {},
     "output_type": "execute_result"
    }
   ],
   "source": [
    "def get_overall(ratings):\n",
    "    try:\n",
    "        return int(ratings.get('overall',None))\n",
    "    except(AttributeError, TypeError):\n",
    "        return None\n",
    "\n",
    "train_data['overall'] = train_data['ratings'].apply(get_overall)\n",
    "train_data['overall']"
   ]
  },
  {
   "cell_type": "code",
   "execution_count": 381,
   "id": "74116979",
   "metadata": {},
   "outputs": [],
   "source": [
    "lem_train_data_cur = train_data[['overall', 'clean_title','lemmatized_text']]\n",
    "stem_train_data =  train_data[['overall', 'clean_title','stemmed_text']]"
   ]
  },
  {
   "cell_type": "code",
   "execution_count": 382,
   "id": "69acf1fb",
   "metadata": {},
   "outputs": [
    {
     "data": {
      "text/html": [
       "<div>\n",
       "<style scoped>\n",
       "    .dataframe tbody tr th:only-of-type {\n",
       "        vertical-align: middle;\n",
       "    }\n",
       "\n",
       "    .dataframe tbody tr th {\n",
       "        vertical-align: top;\n",
       "    }\n",
       "\n",
       "    .dataframe thead th {\n",
       "        text-align: right;\n",
       "    }\n",
       "</style>\n",
       "<table border=\"1\" class=\"dataframe\">\n",
       "  <thead>\n",
       "    <tr style=\"text-align: right;\">\n",
       "      <th></th>\n",
       "      <th>overall</th>\n",
       "      <th>clean_title</th>\n",
       "      <th>lemmatized_text</th>\n",
       "    </tr>\n",
       "  </thead>\n",
       "  <tbody>\n",
       "    <tr>\n",
       "      <th>0</th>\n",
       "      <td>1</td>\n",
       "      <td>horrible experience</td>\n",
       "      <td>first of all we get there and they do not have...</td>\n",
       "    </tr>\n",
       "    <tr>\n",
       "      <th>1</th>\n",
       "      <td>1</td>\n",
       "      <td>stay away</td>\n",
       "      <td>find racist graffiti in the room request to ch...</td>\n",
       "    </tr>\n",
       "    <tr>\n",
       "      <th>2</th>\n",
       "      <td>4</td>\n",
       "      <td>great location and service</td>\n",
       "      <td>close to union square hotel be a bit of a maze...</td>\n",
       "    </tr>\n",
       "    <tr>\n",
       "      <th>3</th>\n",
       "      <td>2</td>\n",
       "      <td>I will never go back here again</td>\n",
       "      <td>i have a bad vibe about this place from the mo...</td>\n",
       "    </tr>\n",
       "    <tr>\n",
       "      <th>4</th>\n",
       "      <td>1</td>\n",
       "      <td>rip off our visa card after departure</td>\n",
       "      <td>after we receive our final bill and leave the ...</td>\n",
       "    </tr>\n",
       "    <tr>\n",
       "      <th>...</th>\n",
       "      <td>...</td>\n",
       "      <td>...</td>\n",
       "      <td>...</td>\n",
       "    </tr>\n",
       "    <tr>\n",
       "      <th>23994</th>\n",
       "      <td>4</td>\n",
       "      <td>pleasant stay with good location</td>\n",
       "      <td>we stay just one night here when visit our son...</td>\n",
       "    </tr>\n",
       "    <tr>\n",
       "      <th>23995</th>\n",
       "      <td>3</td>\n",
       "      <td>hit or miss some thing need attention</td>\n",
       "      <td>spend two night here with spouse in conjunctio...</td>\n",
       "    </tr>\n",
       "    <tr>\n",
       "      <th>23996</th>\n",
       "      <td>5</td>\n",
       "      <td>good breakfast</td>\n",
       "      <td>the room be fairly large pretty quiet the bed ...</td>\n",
       "    </tr>\n",
       "    <tr>\n",
       "      <th>23997</th>\n",
       "      <td>4</td>\n",
       "      <td>deserve a high rating</td>\n",
       "      <td>great start to our stay when we be check in 2h...</td>\n",
       "    </tr>\n",
       "    <tr>\n",
       "      <th>23998</th>\n",
       "      <td>5</td>\n",
       "      <td>clean comfortable</td>\n",
       "      <td>great room comfortable bed food be good the lo...</td>\n",
       "    </tr>\n",
       "  </tbody>\n",
       "</table>\n",
       "<p>23999 rows × 3 columns</p>\n",
       "</div>"
      ],
      "text/plain": [
       "       overall                            clean_title  \\\n",
       "0            1                    horrible experience   \n",
       "1            1                              stay away   \n",
       "2            4             great location and service   \n",
       "3            2        I will never go back here again   \n",
       "4            1  rip off our visa card after departure   \n",
       "...        ...                                    ...   \n",
       "23994        4       pleasant stay with good location   \n",
       "23995        3  hit or miss some thing need attention   \n",
       "23996        5                         good breakfast   \n",
       "23997        4                  deserve a high rating   \n",
       "23998        5                      clean comfortable   \n",
       "\n",
       "                                         lemmatized_text  \n",
       "0      first of all we get there and they do not have...  \n",
       "1      find racist graffiti in the room request to ch...  \n",
       "2      close to union square hotel be a bit of a maze...  \n",
       "3      i have a bad vibe about this place from the mo...  \n",
       "4      after we receive our final bill and leave the ...  \n",
       "...                                                  ...  \n",
       "23994  we stay just one night here when visit our son...  \n",
       "23995  spend two night here with spouse in conjunctio...  \n",
       "23996  the room be fairly large pretty quiet the bed ...  \n",
       "23997  great start to our stay when we be check in 2h...  \n",
       "23998  great room comfortable bed food be good the lo...  \n",
       "\n",
       "[23999 rows x 3 columns]"
      ]
     },
     "execution_count": 382,
     "metadata": {},
     "output_type": "execute_result"
    }
   ],
   "source": [
    "lem_train_data_cur"
   ]
  },
  {
   "cell_type": "code",
   "execution_count": 384,
   "id": "b9d2be50",
   "metadata": {},
   "outputs": [
    {
     "data": {
      "text/html": [
       "<div>\n",
       "<style scoped>\n",
       "    .dataframe tbody tr th:only-of-type {\n",
       "        vertical-align: middle;\n",
       "    }\n",
       "\n",
       "    .dataframe tbody tr th {\n",
       "        vertical-align: top;\n",
       "    }\n",
       "\n",
       "    .dataframe thead th {\n",
       "        text-align: right;\n",
       "    }\n",
       "</style>\n",
       "<table border=\"1\" class=\"dataframe\">\n",
       "  <thead>\n",
       "    <tr style=\"text-align: right;\">\n",
       "      <th></th>\n",
       "      <th>overall</th>\n",
       "      <th>clean_title</th>\n",
       "      <th>lemmatized_text</th>\n",
       "      <th>combined</th>\n",
       "    </tr>\n",
       "  </thead>\n",
       "  <tbody>\n",
       "    <tr>\n",
       "      <th>0</th>\n",
       "      <td>1</td>\n",
       "      <td>horrible experience</td>\n",
       "      <td>first of all we get there and they do not have...</td>\n",
       "      <td>horrible experience first of all we get there ...</td>\n",
       "    </tr>\n",
       "    <tr>\n",
       "      <th>1</th>\n",
       "      <td>1</td>\n",
       "      <td>stay away</td>\n",
       "      <td>find racist graffiti in the room request to ch...</td>\n",
       "      <td>stay away find racist graffiti in the room req...</td>\n",
       "    </tr>\n",
       "    <tr>\n",
       "      <th>2</th>\n",
       "      <td>4</td>\n",
       "      <td>great location and service</td>\n",
       "      <td>close to union square hotel be a bit of a maze...</td>\n",
       "      <td>great location and service close to union squa...</td>\n",
       "    </tr>\n",
       "    <tr>\n",
       "      <th>3</th>\n",
       "      <td>2</td>\n",
       "      <td>I will never go back here again</td>\n",
       "      <td>i have a bad vibe about this place from the mo...</td>\n",
       "      <td>I will never go back here again i have a bad v...</td>\n",
       "    </tr>\n",
       "    <tr>\n",
       "      <th>4</th>\n",
       "      <td>1</td>\n",
       "      <td>rip off our visa card after departure</td>\n",
       "      <td>after we receive our final bill and leave the ...</td>\n",
       "      <td>rip off our visa card after departure after we...</td>\n",
       "    </tr>\n",
       "    <tr>\n",
       "      <th>...</th>\n",
       "      <td>...</td>\n",
       "      <td>...</td>\n",
       "      <td>...</td>\n",
       "      <td>...</td>\n",
       "    </tr>\n",
       "    <tr>\n",
       "      <th>23994</th>\n",
       "      <td>4</td>\n",
       "      <td>pleasant stay with good location</td>\n",
       "      <td>we stay just one night here when visit our son...</td>\n",
       "      <td>pleasant stay with good location we stay just ...</td>\n",
       "    </tr>\n",
       "    <tr>\n",
       "      <th>23995</th>\n",
       "      <td>3</td>\n",
       "      <td>hit or miss some thing need attention</td>\n",
       "      <td>spend two night here with spouse in conjunctio...</td>\n",
       "      <td>hit or miss some thing need attention spend tw...</td>\n",
       "    </tr>\n",
       "    <tr>\n",
       "      <th>23996</th>\n",
       "      <td>5</td>\n",
       "      <td>good breakfast</td>\n",
       "      <td>the room be fairly large pretty quiet the bed ...</td>\n",
       "      <td>good breakfast the room be fairly large pretty...</td>\n",
       "    </tr>\n",
       "    <tr>\n",
       "      <th>23997</th>\n",
       "      <td>4</td>\n",
       "      <td>deserve a high rating</td>\n",
       "      <td>great start to our stay when we be check in 2h...</td>\n",
       "      <td>deserve a high rating great start to our stay ...</td>\n",
       "    </tr>\n",
       "    <tr>\n",
       "      <th>23998</th>\n",
       "      <td>5</td>\n",
       "      <td>clean comfortable</td>\n",
       "      <td>great room comfortable bed food be good the lo...</td>\n",
       "      <td>clean comfortable great room comfortable bed f...</td>\n",
       "    </tr>\n",
       "  </tbody>\n",
       "</table>\n",
       "<p>23999 rows × 4 columns</p>\n",
       "</div>"
      ],
      "text/plain": [
       "       overall                            clean_title  \\\n",
       "0            1                    horrible experience   \n",
       "1            1                              stay away   \n",
       "2            4             great location and service   \n",
       "3            2        I will never go back here again   \n",
       "4            1  rip off our visa card after departure   \n",
       "...        ...                                    ...   \n",
       "23994        4       pleasant stay with good location   \n",
       "23995        3  hit or miss some thing need attention   \n",
       "23996        5                         good breakfast   \n",
       "23997        4                  deserve a high rating   \n",
       "23998        5                      clean comfortable   \n",
       "\n",
       "                                         lemmatized_text  \\\n",
       "0      first of all we get there and they do not have...   \n",
       "1      find racist graffiti in the room request to ch...   \n",
       "2      close to union square hotel be a bit of a maze...   \n",
       "3      i have a bad vibe about this place from the mo...   \n",
       "4      after we receive our final bill and leave the ...   \n",
       "...                                                  ...   \n",
       "23994  we stay just one night here when visit our son...   \n",
       "23995  spend two night here with spouse in conjunctio...   \n",
       "23996  the room be fairly large pretty quiet the bed ...   \n",
       "23997  great start to our stay when we be check in 2h...   \n",
       "23998  great room comfortable bed food be good the lo...   \n",
       "\n",
       "                                                combined  \n",
       "0      horrible experience first of all we get there ...  \n",
       "1      stay away find racist graffiti in the room req...  \n",
       "2      great location and service close to union squa...  \n",
       "3      I will never go back here again i have a bad v...  \n",
       "4      rip off our visa card after departure after we...  \n",
       "...                                                  ...  \n",
       "23994  pleasant stay with good location we stay just ...  \n",
       "23995  hit or miss some thing need attention spend tw...  \n",
       "23996  good breakfast the room be fairly large pretty...  \n",
       "23997  deserve a high rating great start to our stay ...  \n",
       "23998  clean comfortable great room comfortable bed f...  \n",
       "\n",
       "[23999 rows x 4 columns]"
      ]
     },
     "execution_count": 384,
     "metadata": {},
     "output_type": "execute_result"
    }
   ],
   "source": [
    "lem_train_data_cur['combined'] = lem_train_data_cur['clean_title'] + ' ' + lem_train_data_cur['lemmatized_text']\n",
    "lem_train_data_cur"
   ]
  },
  {
   "cell_type": "code",
   "execution_count": 385,
   "id": "3164af51",
   "metadata": {},
   "outputs": [
    {
     "name": "stdout",
     "output_type": "stream",
     "text": [
      "0        horrible experience first of all we get there ...\n",
      "1        stay away find racist graffiti in the room req...\n",
      "2        great location and service close to union squa...\n",
      "3        I will never go back here again i have a bad v...\n",
      "4        rip off our visa card after departure after we...\n",
      "                               ...                        \n",
      "23994    pleasant stay with good location we stay just ...\n",
      "23995    hit or miss some thing need attention spend tw...\n",
      "23996    good breakfast the room be fairly large pretty...\n",
      "23997    deserve a high rating great start to our stay ...\n",
      "23998    clean comfortable great room comfortable bed f...\n",
      "Name: combined, Length: 23999, dtype: object\n"
     ]
    }
   ],
   "source": [
    "# stop_words = set(stopwords.words('english'))\n",
    "\n",
    "# def remove_stopwords(text):\n",
    "#     if not isinstance(text, str):\n",
    "#         return \"\"\n",
    "    \n",
    "#     words = text.split()\n",
    "#     filtered_words = [word for word in words if word.lower() not in stop_words]\n",
    "#     return ' '.join(filtered_words)\n",
    "\n",
    "# lem_train_data_cur.loc[:, 'lemmatized_text'] = lem_train_data_cur['lemmatized_text'].apply(remove_stopwords)\n",
    "\n",
    "print(lem_train_data_cur['combined'])"
   ]
  },
  {
   "cell_type": "code",
   "execution_count": 386,
   "id": "fc846da5",
   "metadata": {},
   "outputs": [
    {
     "data": {
      "text/html": [
       "<div>\n",
       "<style scoped>\n",
       "    .dataframe tbody tr th:only-of-type {\n",
       "        vertical-align: middle;\n",
       "    }\n",
       "\n",
       "    .dataframe tbody tr th {\n",
       "        vertical-align: top;\n",
       "    }\n",
       "\n",
       "    .dataframe thead th {\n",
       "        text-align: right;\n",
       "    }\n",
       "</style>\n",
       "<table border=\"1\" class=\"dataframe\">\n",
       "  <thead>\n",
       "    <tr style=\"text-align: right;\">\n",
       "      <th></th>\n",
       "      <th>overall</th>\n",
       "      <th>combined</th>\n",
       "    </tr>\n",
       "  </thead>\n",
       "  <tbody>\n",
       "    <tr>\n",
       "      <th>0</th>\n",
       "      <td>1</td>\n",
       "      <td>horrible experience first of all we get there ...</td>\n",
       "    </tr>\n",
       "    <tr>\n",
       "      <th>1</th>\n",
       "      <td>1</td>\n",
       "      <td>stay away find racist graffiti in the room req...</td>\n",
       "    </tr>\n",
       "    <tr>\n",
       "      <th>2</th>\n",
       "      <td>4</td>\n",
       "      <td>great location and service close to union squa...</td>\n",
       "    </tr>\n",
       "    <tr>\n",
       "      <th>3</th>\n",
       "      <td>2</td>\n",
       "      <td>I will never go back here again i have a bad v...</td>\n",
       "    </tr>\n",
       "    <tr>\n",
       "      <th>4</th>\n",
       "      <td>1</td>\n",
       "      <td>rip off our visa card after departure after we...</td>\n",
       "    </tr>\n",
       "    <tr>\n",
       "      <th>...</th>\n",
       "      <td>...</td>\n",
       "      <td>...</td>\n",
       "    </tr>\n",
       "    <tr>\n",
       "      <th>23994</th>\n",
       "      <td>4</td>\n",
       "      <td>pleasant stay with good location we stay just ...</td>\n",
       "    </tr>\n",
       "    <tr>\n",
       "      <th>23995</th>\n",
       "      <td>3</td>\n",
       "      <td>hit or miss some thing need attention spend tw...</td>\n",
       "    </tr>\n",
       "    <tr>\n",
       "      <th>23996</th>\n",
       "      <td>5</td>\n",
       "      <td>good breakfast the room be fairly large pretty...</td>\n",
       "    </tr>\n",
       "    <tr>\n",
       "      <th>23997</th>\n",
       "      <td>4</td>\n",
       "      <td>deserve a high rating great start to our stay ...</td>\n",
       "    </tr>\n",
       "    <tr>\n",
       "      <th>23998</th>\n",
       "      <td>5</td>\n",
       "      <td>clean comfortable great room comfortable bed f...</td>\n",
       "    </tr>\n",
       "  </tbody>\n",
       "</table>\n",
       "<p>23999 rows × 2 columns</p>\n",
       "</div>"
      ],
      "text/plain": [
       "       overall                                           combined\n",
       "0            1  horrible experience first of all we get there ...\n",
       "1            1  stay away find racist graffiti in the room req...\n",
       "2            4  great location and service close to union squa...\n",
       "3            2  I will never go back here again i have a bad v...\n",
       "4            1  rip off our visa card after departure after we...\n",
       "...        ...                                                ...\n",
       "23994        4  pleasant stay with good location we stay just ...\n",
       "23995        3  hit or miss some thing need attention spend tw...\n",
       "23996        5  good breakfast the room be fairly large pretty...\n",
       "23997        4  deserve a high rating great start to our stay ...\n",
       "23998        5  clean comfortable great room comfortable bed f...\n",
       "\n",
       "[23999 rows x 2 columns]"
      ]
     },
     "execution_count": 386,
     "metadata": {},
     "output_type": "execute_result"
    }
   ],
   "source": [
    "lem_train_data = lem_train_data_cur[['overall', 'combined']]\n",
    "lem_train_data"
   ]
  },
  {
   "cell_type": "code",
   "execution_count": 387,
   "id": "870191a7",
   "metadata": {},
   "outputs": [
    {
     "name": "stdout",
     "output_type": "stream",
     "text": [
      "<class 'pandas.core.frame.DataFrame'>\n",
      "RangeIndex: 23999 entries, 0 to 23998\n",
      "Data columns (total 2 columns):\n",
      " #   Column    Non-Null Count  Dtype \n",
      "---  ------    --------------  ----- \n",
      " 0   overall   23999 non-null  int64 \n",
      " 1   combined  23999 non-null  object\n",
      "dtypes: int64(1), object(1)\n",
      "memory usage: 375.1+ KB\n"
     ]
    }
   ],
   "source": [
    "lem_train_data.info()"
   ]
  },
  {
   "cell_type": "code",
   "execution_count": 388,
   "id": "e6a531dc",
   "metadata": {},
   "outputs": [
    {
     "data": {
      "text/plain": [
       "0        False\n",
       "1        False\n",
       "2        False\n",
       "3        False\n",
       "4        False\n",
       "         ...  \n",
       "23994    False\n",
       "23995    False\n",
       "23996    False\n",
       "23997    False\n",
       "23998    False\n",
       "Length: 23999, dtype: bool"
      ]
     },
     "execution_count": 388,
     "metadata": {},
     "output_type": "execute_result"
    }
   ],
   "source": [
    "duplicate = lem_train_data.duplicated()\n",
    "duplicate"
   ]
  },
  {
   "cell_type": "code",
   "execution_count": 389,
   "id": "6dd68a7c",
   "metadata": {},
   "outputs": [
    {
     "name": "stdout",
     "output_type": "stream",
     "text": [
      "<class 'pandas.core.frame.DataFrame'>\n",
      "Index: 23998 entries, 0 to 23998\n",
      "Data columns (total 2 columns):\n",
      " #   Column    Non-Null Count  Dtype \n",
      "---  ------    --------------  ----- \n",
      " 0   overall   23998 non-null  int64 \n",
      " 1   combined  23998 non-null  object\n",
      "dtypes: int64(1), object(1)\n",
      "memory usage: 562.5+ KB\n"
     ]
    }
   ],
   "source": [
    "lem_train_data.drop_duplicates(inplace=True)\n",
    "lem_train_data.info()"
   ]
  },
  {
   "cell_type": "code",
   "execution_count": 390,
   "id": "1a5b2898",
   "metadata": {},
   "outputs": [
    {
     "name": "stdout",
     "output_type": "stream",
     "text": [
      "21598 2400\n",
      "class counts\n",
      "1 : 1557\n",
      "4 : 7720\n",
      "2 : 1611\n",
      "3 : 3287\n",
      "5 : 9823\n"
     ]
    }
   ],
   "source": [
    "from sklearn.model_selection import train_test_split\n",
    "from sklearn.feature_extraction.text import TfidfVectorizer, CountVectorizer\n",
    "from sklearn.naive_bayes import MultinomialNB\n",
    "from sklearn.svm import SVC\n",
    "from imblearn.over_sampling import SMOTE, RandomOverSampler\n",
    "from sklearn.metrics import accuracy_score, f1_score, precision_score, recall_score, classification_report, mean_absolute_error, confusion_matrix\n",
    "\n",
    "class_counts = Counter(lem_train_data['overall'])\n",
    "X_train, X_test, y_train, y_test = train_test_split(lem_train_data[\"combined\"], \n",
    "                                                    lem_train_data[\"overall\"], \n",
    "                                                    test_size=0.1, \n",
    "                                                    random_state=42,\n",
    "                                                    shuffle=True)\n",
    "print(len(X_train), len(X_test))\n",
    "\n",
    "print(\"class counts\")\n",
    "for k,v in class_counts.items():\n",
    "    print(f'{k} : {v}')"
   ]
  },
  {
   "cell_type": "code",
   "execution_count": 391,
   "id": "351404df",
   "metadata": {},
   "outputs": [],
   "source": [
    "vectorizer = TfidfVectorizer(ngram_range=(1, 3), max_features=6000, min_df=5, max_df=0.8)\n",
    "# vectorizer = CountVectorizer(lowercase=True, token_pattern='[a-zA-Z0-9@#$%_]{2,}', \\\n",
    "#                                  max_features=None)\n",
    "X_train_vec = vectorizer.fit_transform(X_train)\n",
    "X_test_vec = vectorizer.transform(X_test)"
   ]
  },
  {
   "cell_type": "code",
   "execution_count": 392,
   "id": "eb5222ff",
   "metadata": {},
   "outputs": [
    {
     "name": "stdout",
     "output_type": "stream",
     "text": [
      "class counts\n",
      "5 : 9823\n",
      "4 : 7720\n",
      "3 : 6000\n",
      "2 : 6000\n",
      "1 : 6000\n"
     ]
    }
   ],
   "source": [
    "smote = SMOTE(sampling_strategy={\n",
    "    1: 6000, \n",
    "    2: 6000,\n",
    "    3: 6000,\n",
    "    4: class_counts[4],\n",
    "    5: class_counts[5]\n",
    "}, random_state=42)\n",
    "x_train_smote, y_train_smote = smote.fit_resample(X_train_vec, y_train)\n",
    "\n",
    "resampled_counts = Counter(y_train_smote)\n",
    "print(\"class counts\")\n",
    "for k,v in resampled_counts.items():\n",
    "    print(f'{k} : {v}')"
   ]
  },
  {
   "cell_type": "code",
   "execution_count": 393,
   "id": "89adaff6",
   "metadata": {},
   "outputs": [
    {
     "data": {
      "image/png": "[encoded data removed]",
      "text/plain": [
       "<Figure size 600x600 with 1 Axes>"
      ]
     },
     "metadata": {},
     "output_type": "display_data"
    }
   ],
   "source": [
    "plt.figure(figsize=(6,6))\n",
    "plt.pie(\n",
    "    resampled_counts.values(),\n",
    "    labels = resampled_counts.keys(),\n",
    "    autopct='%1.1f%%'\n",
    ")\n",
    "plt.title('Class divison after SMOTE')\n",
    "plt.show()"
   ]
  },
  {
   "cell_type": "code",
   "execution_count": 394,
   "id": "e5919792",
   "metadata": {},
   "outputs": [],
   "source": [
    "def eval_metrics(y_t, y_pred, model_name):\n",
    "    mae = mean_absolute_error(y_t, y_pred)\n",
    "    acc = accuracy_score(y_t, y_pred)\n",
    "    weighted_f1 = f1_score(y_t, y_pred, average='weighted')\n",
    "    macro_f1 = f1_score(y_t, y_pred, average='macro')\n",
    "\n",
    "    print(f\"{model_name}\")\n",
    "    print(f\"Accuracy: {acc:.4f}\")\n",
    "    print(f\"F1 score: {weighted_f1:.4f}\")\n",
    "    print(f\"F1 macro score: {macro_f1:.4f}\")\n",
    "    print(f\"Mean Absolute Error: {mae:.4f}\")\n",
    "    print(classification_report(y_t, y_pred))\n",
    "\n",
    "    con_mat = confusion_matrix(y_t, y_pred)\n",
    "    plt.figure(figsize=(8, 6))\n",
    "    sns.heatmap(con_mat, annot=True, fmt='d', cmap='Blues', \n",
    "                xticklabels=range(1, 6),\n",
    "                yticklabels=range(1, 6))\n",
    "    plt.xlabel('Predicted Rating')\n",
    "    plt.ylabel('True Rating')\n",
    "    plt.title('Confusion Matrix')\n",
    "    plt.show()"
   ]
  },
  {
   "cell_type": "code",
   "execution_count": 395,
   "id": "2203f744",
   "metadata": {},
   "outputs": [
    {
     "name": "stdout",
     "output_type": "stream",
     "text": [
      "Multinomial Naive Bayes\n",
      "Accuracy: 0.6012\n",
      "F1 score: 0.5965\n",
      "F1 macro score: 0.5336\n",
      "Mean Absolute Error: 0.4779\n",
      "              precision    recall  f1-score   support\n",
      "\n",
      "           1       0.55      0.69      0.61       162\n",
      "           2       0.31      0.36      0.33       147\n",
      "           3       0.49      0.41      0.45       358\n",
      "           4       0.57      0.49      0.53       774\n",
      "           5       0.71      0.78      0.75       959\n",
      "\n",
      "    accuracy                           0.60      2400\n",
      "   macro avg       0.53      0.55      0.53      2400\n",
      "weighted avg       0.60      0.60      0.60      2400\n",
      "\n"
     ]
    },
    {
     "data": {
      "image/png": "[encoded data removed]",
      "text/plain": [
       "<Figure size 800x600 with 2 Axes>"
      ]
     },
     "metadata": {},
     "output_type": "display_data"
    }
   ],
   "source": [
    "mnb = MultinomialNB()\n",
    "mnb.fit(x_train_smote, y_train_smote)\n",
    "\n",
    "y_pred_mnb = mnb.predict(X_test_vec)\n",
    "\n",
    "eval_metrics(y_test, y_pred_mnb, \"Multinomial Naive Bayes\")"
   ]
  },
  {
   "cell_type": "code",
   "execution_count": 396,
   "id": "5fa384ad",
   "metadata": {},
   "outputs": [],
   "source": [
    "vectorizer = TfidfVectorizer(ngram_range=(1, 3), max_features=70000, min_df=5, max_df=0.8)\n",
    "# vectorizer = CountVectorizer(lowercase=True, token_pattern='[a-zA-Z0-9@#$%_]{2,}', \\\n",
    "#                                  max_features=None)\n",
    "X_train_vec = vectorizer.fit_transform(X_train)\n",
    "X_test_vec = vectorizer.transform(X_test)"
   ]
  },
  {
   "cell_type": "code",
   "execution_count": 397,
   "id": "1840ad55",
   "metadata": {},
   "outputs": [
    {
     "name": "stdout",
     "output_type": "stream",
     "text": [
      "class counts\n",
      "5 : 9823\n",
      "4 : 7720\n",
      "3 : 6000\n",
      "2 : 6000\n",
      "1 : 6000\n"
     ]
    }
   ],
   "source": [
    "smote = SMOTE(sampling_strategy={\n",
    "    1: 6000, \n",
    "    2: 6000,\n",
    "    3: 6000,\n",
    "    4: class_counts[4],\n",
    "    5: class_counts[5]\n",
    "}, random_state=42)\n",
    "x_train_smote, y_train_smote = smote.fit_resample(X_train_vec, y_train)\n",
    "\n",
    "resampled_counts = Counter(y_train_smote)\n",
    "print(\"class counts\")\n",
    "for k,v in resampled_counts.items():\n",
    "    print(f'{k} : {v}')"
   ]
  },
  {
   "cell_type": "code",
   "execution_count": 398,
   "id": "cad73f27",
   "metadata": {},
   "outputs": [
    {
     "name": "stdout",
     "output_type": "stream",
     "text": [
      "normal_svm\n",
      "Accuracy: 0.6008\n",
      "F1 score: 0.5907\n",
      "F1 macro score: 0.5195\n",
      "Mean Absolute Error: 0.4729\n",
      "              precision    recall  f1-score   support\n",
      "\n",
      "           1       0.61      0.65      0.63       162\n",
      "           2       0.28      0.20      0.23       147\n",
      "           3       0.53      0.44      0.48       358\n",
      "           4       0.56      0.51      0.53       774\n",
      "           5       0.68      0.79      0.73       959\n",
      "\n",
      "    accuracy                           0.60      2400\n",
      "   macro avg       0.53      0.52      0.52      2400\n",
      "weighted avg       0.59      0.60      0.59      2400\n",
      "\n"
     ]
    },
    {
     "data": {
      "image/png": "[encoded data removed]",
      "text/plain": [
       "<Figure size 800x600 with 2 Axes>"
      ]
     },
     "metadata": {},
     "output_type": "display_data"
    }
   ],
   "source": [
    "from sklearn.svm import LinearSVC\n",
    "\n",
    "svm = LinearSVC(C=1)\n",
    "svm.fit(x_train_smote, y_train_smote)\n",
    "y_pred_svm = svm.predict(X_test_vec)\n",
    "\n",
    "eval_metrics(y_test, y_pred_svm, \"normal_svm\")"
   ]
  },
  {
   "cell_type": "code",
   "execution_count": 399,
   "id": "058b311d",
   "metadata": {},
   "outputs": [
    {
     "name": "stdout",
     "output_type": "stream",
     "text": [
      "Normal Logistic Regression\n",
      "Accuracy: 0.6404\n",
      "F1 score: 0.6347\n",
      "F1 macro score: 0.5756\n",
      "Mean Absolute Error: 0.4146\n",
      "              precision    recall  f1-score   support\n",
      "\n",
      "           1       0.63      0.77      0.69       162\n",
      "           2       0.33      0.31      0.32       147\n",
      "           3       0.58      0.50      0.54       358\n",
      "           4       0.61      0.54      0.57       774\n",
      "           5       0.72      0.80      0.76       959\n",
      "\n",
      "    accuracy                           0.64      2400\n",
      "   macro avg       0.57      0.58      0.58      2400\n",
      "weighted avg       0.63      0.64      0.63      2400\n",
      "\n"
     ]
    },
    {
     "data": {
      "image/png": "[encoded data removed]",
      "text/plain": [
       "<Figure size 800x600 with 2 Axes>"
      ]
     },
     "metadata": {},
     "output_type": "display_data"
    }
   ],
   "source": [
    "from sklearn.linear_model import LogisticRegression\n",
    "\n",
    "log_reg = LogisticRegression(C=1, class_weight='balanced', \n",
    "                             solver='liblinear', penalty='l2',            \n",
    "                             max_iter=10000, random_state=42\n",
    "                             )\n",
    "\n",
    "log_reg.fit(X_train_vec, y_train)\n",
    "y_pred_lr = log_reg.predict(X_test_vec)\n",
    "eval_metrics(y_test, y_pred_lr, \"Normal Logistic Regression\")"
   ]
  },
  {
   "cell_type": "code",
   "execution_count": 400,
   "id": "38808e1f",
   "metadata": {},
   "outputs": [
    {
     "name": "stdout",
     "output_type": "stream",
     "text": [
      "Cross-Validation Scores: [0.61583473 0.60277929 0.60172239 0.61572824 0.61212556 0.62741771\n",
      " 0.61845474 0.61415265 0.61219059 0.61297677]\n",
      "Mean Stratified CV Score: 0.6133 (±0.0070)\n",
      "SVM with stratified K-fold validation\n",
      "Accuracy: 0.6133\n",
      "F1 score: 0.5964\n",
      "F1 macro score: 0.5173\n",
      "Mean Absolute Error: 0.4617\n",
      "              precision    recall  f1-score   support\n",
      "\n",
      "           1       0.66      0.69      0.67       162\n",
      "           2       0.29      0.13      0.18       147\n",
      "           3       0.56      0.37      0.45       358\n",
      "           4       0.55      0.55      0.55       774\n",
      "           5       0.68      0.82      0.74       959\n",
      "\n",
      "    accuracy                           0.61      2400\n",
      "   macro avg       0.55      0.51      0.52      2400\n",
      "weighted avg       0.59      0.61      0.60      2400\n",
      "\n"
     ]
    },
    {
     "data": {
      "image/png": "[encoded data removed]",
      "text/plain": [
       "<Figure size 800x600 with 2 Axes>"
      ]
     },
     "metadata": {},
     "output_type": "display_data"
    }
   ],
   "source": [
    "from sklearn.pipeline import Pipeline\n",
    "from sklearn.svm import LinearSVC\n",
    "from sklearn.ensemble import RandomForestClassifier\n",
    "from sklearn.model_selection import cross_val_score, StratifiedKFold\n",
    "from sklearn.calibration import CalibratedClassifierCV\n",
    "\n",
    "pipeline = Pipeline([\n",
    "    ('tfidf', TfidfVectorizer(ngram_range=(1, 3), max_features=70000, min_df=5, max_df=0.8)),\n",
    "    ('model', CalibratedClassifierCV(LinearSVC(C=1, class_weight='balanced')))\n",
    "])\n",
    "\n",
    "stratified_kfold = StratifiedKFold(n_splits=10, shuffle=True, random_state=42)\n",
    "stratified_cv_scores = cross_val_score(pipeline, lem_train_data[\"combined\"], \n",
    "                                       lem_train_data[\"overall\"], \n",
    "                                       cv=stratified_kfold, scoring='f1_weighted')\n",
    "\n",
    "print(f\"Cross-Validation Scores: {stratified_cv_scores}\")\n",
    "print(f\"Mean Stratified CV Score: {np.mean(stratified_cv_scores):.4f} (±{np.std(stratified_cv_scores):.4f})\")\n",
    "\n",
    "pipeline.fit(X_train, y_train)\n",
    "\n",
    "y_pred_svm = pipeline.predict(X_test)\n",
    "eval_metrics(y_test, y_pred_svm, \"SVM with stratified K-fold validation\")\n"
   ]
  },
  {
   "cell_type": "code",
   "execution_count": 401,
   "id": "44f7bf73",
   "metadata": {},
   "outputs": [
    {
     "name": "stdout",
     "output_type": "stream",
     "text": [
      "Cross-Validation Scores (Stratified): [0.6504665  0.64019083 0.61957947 0.62997077 0.62733873 0.64234219\n",
      " 0.64711325 0.63887937 0.63918807 0.62811868]\n",
      "Mean Stratified CV Score: 0.6363 (±0.0092)\n",
      "Logistic Regression with stratified K-fold validation\n",
      "Accuracy: 0.6404\n",
      "F1 score: 0.6349\n",
      "F1 macro score: 0.5755\n",
      "Mean Absolute Error: 0.4150\n",
      "              precision    recall  f1-score   support\n",
      "\n",
      "           1       0.62      0.75      0.68       162\n",
      "           2       0.33      0.31      0.32       147\n",
      "           3       0.58      0.51      0.55       358\n",
      "           4       0.61      0.55      0.57       774\n",
      "           5       0.72      0.80      0.76       959\n",
      "\n",
      "    accuracy                           0.64      2400\n",
      "   macro avg       0.57      0.58      0.58      2400\n",
      "weighted avg       0.63      0.64      0.63      2400\n",
      "\n"
     ]
    },
    {
     "data": {
      "image/png": "[encoded data removed]",
      "text/plain": [
       "<Figure size 800x600 with 2 Axes>"
      ]
     },
     "metadata": {},
     "output_type": "display_data"
    }
   ],
   "source": [
    "from sklearn.linear_model import LogisticRegression\n",
    "from sklearn.model_selection import cross_val_score, StratifiedKFold\n",
    "\n",
    "pipeline = Pipeline([\n",
    "    ('tfidf', TfidfVectorizer(ngram_range=(1,3), max_features=50000, min_df=5, max_df=0.8)),\n",
    "    ('model', LogisticRegression(C=1, class_weight='balanced', \n",
    "                             solver='liblinear', penalty='l2',            \n",
    "                             max_iter=10000, random_state=42\n",
    "                             ))\n",
    "])\n",
    "\n",
    "stratified_kfold = StratifiedKFold(n_splits=10, shuffle=True, random_state=42)\n",
    "stratified_cv_scores = cross_val_score(pipeline, lem_train_data[\"combined\"], \n",
    "                                       lem_train_data[\"overall\"], \n",
    "                                       cv=stratified_kfold, scoring='f1_weighted')\n",
    "\n",
    "print(f\"Cross-Validation Scores (Stratified): {stratified_cv_scores}\")\n",
    "print(f\"Mean Stratified CV Score: {np.mean(stratified_cv_scores):.4f} (±{np.std(stratified_cv_scores):.4f})\")\n",
    "\n",
    "pipeline.fit(X_train, y_train)\n",
    "y_pred = pipeline.predict(X_test)\n",
    "\n",
    "eval_metrics(y_test, y_pred, \"Logistic Regression with stratified K-fold validation\")"
   ]
  },
  {
   "cell_type": "code",
   "execution_count": 402,
   "id": "1183f0ba",
   "metadata": {},
   "outputs": [
    {
     "name": "stdout",
     "output_type": "stream",
     "text": [
      "Random Forest\n",
      "Accuracy: 0.5521\n",
      "F1 score: 0.5098\n",
      "F1 macro score: 0.4144\n",
      "Mean Absolute Error: 0.6050\n",
      "              precision    recall  f1-score   support\n",
      "\n",
      "           1       0.68      0.59      0.63       162\n",
      "           2       0.25      0.03      0.06       147\n",
      "           3       0.46      0.13      0.21       358\n",
      "           4       0.47      0.48      0.48       774\n",
      "           5       0.60      0.84      0.70       959\n",
      "\n",
      "    accuracy                           0.55      2400\n",
      "   macro avg       0.49      0.42      0.41      2400\n",
      "weighted avg       0.52      0.55      0.51      2400\n",
      "\n"
     ]
    },
    {
     "data": {
      "image/png": "[encoded data removed]",
      "text/plain": [
       "<Figure size 800x600 with 2 Axes>"
      ]
     },
     "metadata": {},
     "output_type": "display_data"
    }
   ],
   "source": [
    "from sklearn.ensemble import RandomForestClassifier\n",
    "pipeline_rf = Pipeline([\n",
    "    ('tfidf', TfidfVectorizer(ngram_range=(1, 3), max_features=10000, min_df=5, max_df=0.9)),\n",
    "    ('model', RandomForestClassifier(\n",
    "        n_estimators=100,     \n",
    "        max_depth=None,       \n",
    "        min_samples_split=2,  \n",
    "        random_state=42,\n",
    "        class_weight='balanced'       \n",
    "    ))\n",
    "])\n",
    "\n",
    "pipeline_rf.fit(X_train, y_train)\n",
    "y_pred_rf = pipeline_rf.predict(X_test)\n",
    "\n",
    "eval_metrics(y_test, y_pred_rf, \"Random Forest\")"
   ]
  },
  {
   "cell_type": "code",
   "execution_count": 403,
   "id": "98e28e8c",
   "metadata": {},
   "outputs": [],
   "source": [
    "# import gensim\n",
    "# from gensim.models import Word2Vec\n",
    "# from gensim.models import KeyedVectors\n",
    "# # !python -m spacy download en_core_web_md\n",
    "\n",
    "# nlp = spacy.load('en_core_web_md')\n",
    "\n",
    "# X_train, X_test, y_train, y_test = train_test_split(\n",
    "#     lem_train_data[\"lemmatized_text\"], \n",
    "#     lem_train_data[\"overall\"], \n",
    "#     test_size=0.3, \n",
    "#     random_state=42\n",
    "# )\n",
    "# print(len(X_train), len(X_test))"
   ]
  },
  {
   "cell_type": "code",
   "execution_count": 404,
   "id": "4f206b6c",
   "metadata": {},
   "outputs": [],
   "source": [
    "# from sklearn.base import BaseEstimator, TransformerMixin\n",
    "\n",
    "# class SpacyVectorTransformer(BaseEstimator, TransformerMixin):\n",
    "#     def __init__(self, model='en_core_web_md'):\n",
    "#         self.model = model\n",
    "#         self.nlp = spacy.load(model)\n",
    "        \n",
    "#     def fit(self, X, y=None):\n",
    "#         return self\n",
    "\n",
    "#     def transform(self, X):\n",
    "#         return np.array([self.nlp(doc).vector for doc in X])\n",
    "\n",
    "# pipeline_rf_vectors = Pipeline([\n",
    "#     ('word_vectors', SpacyVectorTransformer(model='en_core_web_md')),\n",
    "#     ('classifier', RandomForestClassifier(\n",
    "#         n_estimators=100,\n",
    "#         max_depth=None,\n",
    "#         min_samples_split=2,\n",
    "#         random_state=42\n",
    "#     ))\n",
    "# ])\n",
    "\n",
    "# pipeline_rf_vectors.fit(X_train, y_train)\n",
    "\n",
    "# y_pred_rf = pipeline_rf_vectors.predict(X_test)\n",
    "\n",
    "# eval_metrics(y_test, y_pred_rf, \"Random Forest with word vectors\")"
   ]
  },
  {
   "cell_type": "code",
   "execution_count": 424,
   "id": "280421c5",
   "metadata": {},
   "outputs": [
    {
     "name": "stdout",
     "output_type": "stream",
     "text": [
      "cuda\n"
     ]
    }
   ],
   "source": [
    "import torch\n",
    "import torch.nn as nn\n",
    "import torch.optim as optim\n",
    "import torch.nn.functional as F\n",
    "from torch.utils.data import TensorDataset, DataLoader\n",
    "\n",
    "device = torch.device(\"cuda\" if torch.cuda.is_available() else \"cpu\")\n",
    "print(device)"
   ]
  },
  {
   "cell_type": "code",
   "execution_count": 406,
   "id": "9f3936a4",
   "metadata": {},
   "outputs": [],
   "source": [
    "vectorizer = TfidfVectorizer(ngram_range=(1, 3), max_features=10000, min_df=10, max_df=0.9)\n",
    "X_train_vec = vectorizer.fit_transform(X_train)\n",
    "X_test_vec = vectorizer.transform(X_test)\n",
    "\n",
    "X_train_tensor = torch.FloatTensor(X_train_vec.toarray()).to(device)\n",
    "X_test_tensor = torch.FloatTensor(X_test_vec.toarray()).to(device)\n",
    "\n",
    "y_train_tensor = torch.LongTensor(y_train.values - 1).to(device)\n",
    "y_test_tensor = torch.LongTensor(y_test.values - 1).to(device) "
   ]
  },
  {
   "cell_type": "code",
   "execution_count": 407,
   "id": "880b79e6",
   "metadata": {},
   "outputs": [],
   "source": [
    "train_set = TensorDataset(X_train_tensor, y_train_tensor)\n",
    "test_set = TensorDataset(X_test_tensor, y_test_tensor)\n",
    "\n",
    "batch_size = 64 if device == 'cuda' else 32\n",
    "\n",
    "train_loader = DataLoader(train_set, batch_size=batch_size, shuffle=True)\n",
    "test_loader = DataLoader(test_set, batch_size=batch_size, shuffle=True)"
   ]
  },
  {
   "cell_type": "code",
   "execution_count": 408,
   "id": "941f98f4",
   "metadata": {},
   "outputs": [
    {
     "name": "stdout",
     "output_type": "stream",
     "text": [
      "basicNN(\n",
      "  (model): Sequential(\n",
      "    (0): Linear(in_features=10000, out_features=64, bias=True)\n",
      "    (1): BatchNorm1d(64, eps=1e-05, momentum=0.1, affine=True, track_running_stats=True)\n",
      "    (2): ReLU()\n",
      "    (3): Dropout(p=0.5, inplace=False)\n",
      "    (4): Linear(in_features=64, out_features=32, bias=True)\n",
      "    (5): BatchNorm1d(32, eps=1e-05, momentum=0.1, affine=True, track_running_stats=True)\n",
      "    (6): ReLU()\n",
      "    (7): Dropout(p=0.5, inplace=False)\n",
      "    (8): Linear(in_features=32, out_features=5, bias=True)\n",
      "  )\n",
      ")\n"
     ]
    }
   ],
   "source": [
    "#Custom NN just to test out DL approach \n",
    "class basicNN(nn.Module):\n",
    "    def __init__(self,input):\n",
    "        super(basicNN, self).__init__()\n",
    "        self.model = nn.Sequential(\n",
    "            nn.Linear(input, 64),\n",
    "            nn.BatchNorm1d(64),\n",
    "            nn.ReLU(),\n",
    "            nn.Dropout(0.5),\n",
    "\n",
    "            nn.Linear(64, 32),\n",
    "            nn.BatchNorm1d(32),\n",
    "            nn.ReLU(),\n",
    "            nn.Dropout(0.5),\n",
    "            \n",
    "            nn.Linear(32,5),\n",
    "        )\n",
    "\n",
    "    def forward(self, x):\n",
    "        return self.model(x)\n",
    "    \n",
    "input_shape = X_train_vec.shape[1]\n",
    "model = basicNN(input_shape).to(device)\n",
    "print(model)"
   ]
  },
  {
   "cell_type": "markdown",
   "id": "53fdbf98",
   "metadata": {},
   "source": [
    "massive overfitting (whoops)"
   ]
  },
  {
   "cell_type": "code",
   "execution_count": 409,
   "id": "a1507815",
   "metadata": {},
   "outputs": [
    {
     "name": "stdout",
     "output_type": "stream",
     "text": [
      "Epoch [1/10], Train Loss: 1.5152, Test Loss: 1.3117, Accuracy: 0.5350\n",
      "Epoch [2/10], Train Loss: 1.2318, Test Loss: 1.1450, Accuracy: 0.5833\n",
      "Epoch [3/10], Train Loss: 1.0844, Test Loss: 1.0419, Accuracy: 0.5979\n",
      "Epoch [4/10], Train Loss: 0.9853, Test Loss: 0.9821, Accuracy: 0.6104\n",
      "Epoch [5/10], Train Loss: 0.9067, Test Loss: 0.9447, Accuracy: 0.6292\n",
      "Epoch [6/10], Train Loss: 0.8371, Test Loss: 0.9197, Accuracy: 0.6221\n",
      "Epoch [7/10], Train Loss: 0.7791, Test Loss: 0.9024, Accuracy: 0.6283\n",
      "Epoch [8/10], Train Loss: 0.7258, Test Loss: 0.8981, Accuracy: 0.6258\n",
      "Epoch [9/10], Train Loss: 0.6862, Test Loss: 0.8988, Accuracy: 0.6233\n",
      "Epoch [10/10], Train Loss: 0.6499, Test Loss: 0.9064, Accuracy: 0.6217\n"
     ]
    }
   ],
   "source": [
    "criterion = nn.CrossEntropyLoss()\n",
    "optimizer = optim.Adam(model.parameters(), lr=5e-5, weight_decay=1e-3)\n",
    "\n",
    "num_epochs = 10\n",
    "train_loss = []\n",
    "test_loss = []\n",
    "test_acc = []\n",
    "\n",
    "for epoch in range(num_epochs):\n",
    "    model.train()\n",
    "    cur_loss = 0.0\n",
    "\n",
    "    for input, label in train_loader:\n",
    "        optimizer.zero_grad()\n",
    "        output = model(input)\n",
    "        loss = criterion(output, label)\n",
    "        loss.backward()\n",
    "\n",
    "        #Clip exploding gradients \n",
    "        torch.nn.utils.clip_grad_norm_(model.parameters(), max_norm=1.0)\n",
    "\n",
    "        optimizer.step()\n",
    "        cur_loss += loss.item()\n",
    "    \n",
    "    avg_train_loss = cur_loss / len(train_loader)\n",
    "    train_loss.append(avg_train_loss)\n",
    "\n",
    "    model.eval()\n",
    "    cur_test_loss = 0.0\n",
    "    right = 0\n",
    "    total = 0\n",
    "\n",
    "    with torch.no_grad():\n",
    "        for inputs, labels in test_loader:\n",
    "            output = model(inputs)\n",
    "            loss = criterion(output, labels)\n",
    "            cur_test_loss += loss\n",
    "\n",
    "            _, predicted = torch.max(output, 1)\n",
    "            total += labels.size(0)\n",
    "            right += (predicted == labels).sum().item()\n",
    "    \n",
    "    avg_test_loss = cur_test_loss / len(test_loader)\n",
    "    test_loss.append(avg_test_loss)\n",
    "\n",
    "    accuracy = right / total\n",
    "    test_acc.append(accuracy)\n",
    "\n",
    "    print(f'Epoch [{epoch + 1}/{num_epochs}], Train Loss: {avg_train_loss:.4f}, Test Loss: {avg_test_loss:.4f}, Accuracy: {accuracy:.4f}')"
   ]
  },
  {
   "cell_type": "code",
   "execution_count": 433,
   "id": "16286b98",
   "metadata": {},
   "outputs": [
    {
     "name": "stderr",
     "output_type": "stream",
     "text": [
      "Some weights of RobertaForSequenceClassification were not initialized from the model checkpoint at roberta-base and are newly initialized: ['classifier.dense.bias', 'classifier.dense.weight', 'classifier.out_proj.bias', 'classifier.out_proj.weight']\n",
      "You should probably TRAIN this model on a down-stream task to be able to use it for predictions and inference.\n"
     ]
    }
   ],
   "source": [
    "import transformers \n",
    "from transformers import (\n",
    "    RobertaTokenizer, \n",
    "    RobertaForSequenceClassification, \n",
    "    Trainer, \n",
    "    TrainingArguments,\n",
    "    DataCollatorWithPadding\n",
    ")\n",
    "\n",
    "from datasets import Dataset\n",
    "\n",
    "tokeniser =  RobertaTokenizer.from_pretrained('roberta-base')\n",
    "model = RobertaForSequenceClassification.from_pretrained(\n",
    "    'roberta-base',\n",
    "    num_labels = 5\n",
    ")\n"
   ]
  },
  {
   "cell_type": "code",
   "execution_count": 434,
   "id": "62a53c17",
   "metadata": {},
   "outputs": [
    {
     "name": "stdout",
     "output_type": "stream",
     "text": [
      "Torch version: 2.6.0+cu118\n",
      "cuda\n"
     ]
    }
   ],
   "source": [
    "import torch\n",
    "print(\"Torch version:\", torch.__version__)\n",
    "device = torch.device(\"cuda\" if torch.cuda.is_available() else \"cpu\")\n",
    "print(device)"
   ]
  },
  {
   "cell_type": "code",
   "execution_count": 435,
   "id": "411b991b",
   "metadata": {},
   "outputs": [
    {
     "name": "stdout",
     "output_type": "stream",
     "text": [
      "19198 4800\n",
      "class counts\n",
      "1 : 1557\n",
      "4 : 7720\n",
      "2 : 1611\n",
      "3 : 3287\n",
      "5 : 9823\n"
     ]
    },
    {
     "data": {
      "text/plain": [
       "{'text': Value(dtype='string', id=None),\n",
       " 'labels': Value(dtype='int64', id=None),\n",
       " '__index_level_0__': Value(dtype='int64', id=None)}"
      ]
     },
     "execution_count": 435,
     "metadata": {},
     "output_type": "execute_result"
    }
   ],
   "source": [
    "# clean_train_data =  train_data[['overall', 'clean_title','clean_text']]\n",
    "# clean_train_data['combined'] = lem_train_data_cur['clean_title'] + ' ' + lem_train_data_cur['lemmatized_text']\n",
    "\n",
    "class_counts = Counter(lem_train_data['overall'])\n",
    "X_train, X_test, y_train, y_test = train_test_split(lem_train_data[\"combined\"], \n",
    "                                                    lem_train_data[\"overall\"], \n",
    "                                                    test_size=0.2, \n",
    "                                                    random_state=42,\n",
    "                                                    shuffle=True)\n",
    "print(len(X_train), len(X_test))\n",
    "\n",
    "print(\"class counts\")\n",
    "for k,v in class_counts.items():\n",
    "    print(f'{k} : {v}')\n",
    "\n",
    "train_df = pd.DataFrame({'text': X_train, 'labels': y_train})\n",
    "val_df = pd.DataFrame({'text': X_test, 'labels':y_test}) #more appropriately named as it technically is the validation set\n",
    "\n",
    "train_set = Dataset.from_pandas(train_df)\n",
    "val_set = Dataset.from_pandas(val_df)\n",
    "\n",
    "train_set.features"
   ]
  },
  {
   "cell_type": "code",
   "execution_count": 436,
   "id": "fc170cd0",
   "metadata": {},
   "outputs": [
    {
     "name": "stderr",
     "output_type": "stream",
     "text": [
      "Map: 100%|██████████| 19198/19198 [00:10<00:00, 1817.41 examples/s]\n",
      "Map: 100%|██████████| 4800/4800 [00:00<00:00, 7445.54 examples/s] \n"
     ]
    },
    {
     "name": "stdout",
     "output_type": "stream",
     "text": [
      "label of first training example before adjustment: [5]\n"
     ]
    },
    {
     "name": "stderr",
     "output_type": "stream",
     "text": [
      "Map: 100%|██████████| 19198/19198 [00:00<00:00, 55166.89 examples/s]\n",
      "Map: 100%|██████████| 4800/4800 [00:00<00:00, 58481.65 examples/s]"
     ]
    },
    {
     "name": "stdout",
     "output_type": "stream",
     "text": [
      "label of first training example after adjustment: [4]\n"
     ]
    },
    {
     "name": "stderr",
     "output_type": "stream",
     "text": [
      "\n"
     ]
    },
    {
     "data": {
      "text/plain": [
       "{'labels': Value(dtype='int64', id=None),\n",
       " 'input_ids': Sequence(feature=Value(dtype='int32', id=None), length=-1, id=None),\n",
       " 'attention_mask': Sequence(feature=Value(dtype='int8', id=None), length=-1, id=None)}"
      ]
     },
     "execution_count": 436,
     "metadata": {},
     "output_type": "execute_result"
    }
   ],
   "source": [
    "def tokenise_data(data):\n",
    "    return tokeniser(\n",
    "        data['text'],\n",
    "        truncation=True,\n",
    "        max_length = 256, \n",
    "        padding='max_length',\n",
    "    )\n",
    "\n",
    "train_set_tokens = train_set.map(tokenise_data, batched=True, remove_columns=(['text','__index_level_0__']))\n",
    "val_set_tokens = val_set.map(tokenise_data, batched=True,  remove_columns=(['text','__index_level_0__']))\n",
    "\n",
    "print(f\"label of first training example before adjustment: {train_set_tokens[:1]['labels']}\")\n",
    "\n",
    "train_set_tokens = train_set_tokens.map(lambda x: {'labels': x['labels'] - 1})\n",
    "val_set_tokens = val_set_tokens.map(lambda x: {'labels': x['labels'] - 1})\n",
    "\n",
    "print(f\"label of first training example after adjustment: {train_set_tokens[:1]['labels']}\")\n",
    "train_set_tokens.features"
   ]
  },
  {
   "cell_type": "code",
   "execution_count": 437,
   "id": "01d14d5f",
   "metadata": {},
   "outputs": [
    {
     "data": {
      "text/plain": [
       "Dataset({\n",
       "    features: ['labels', 'input_ids', 'attention_mask'],\n",
       "    num_rows: 19198\n",
       "})"
      ]
     },
     "execution_count": 437,
     "metadata": {},
     "output_type": "execute_result"
    }
   ],
   "source": [
    "train_set_tokens.set_format(type='torch', columns=['input_ids', 'attention_mask', 'labels'])\n",
    "val_set_tokens.set_format(type='torch', columns=['input_ids', 'attention_mask', 'labels'])\n",
    "\n",
    "train_set_tokens"
   ]
  },
  {
   "cell_type": "code",
   "execution_count": 438,
   "id": "e8d88c74",
   "metadata": {},
   "outputs": [],
   "source": [
    "def metrics(eva):\n",
    "    preds, labels = eva\n",
    "    preds = np.argmax(preds, axis=1)\n",
    "\n",
    "    f1_weighted = f1_score(labels, preds, average='weighted')\n",
    "    f1_macro = f1_score(labels, preds, average=\"macro\")\n",
    "\n",
    "    return {\"weighted f1\": f1_weighted, \"macro f1\": f1_macro}"
   ]
  },
  {
   "cell_type": "code",
   "execution_count": 439,
   "id": "cee82c83",
   "metadata": {},
   "outputs": [
    {
     "name": "stdout",
     "output_type": "stream",
     "text": [
      "4.50.3 1.6.0\n"
     ]
    },
    {
     "data": {
      "text/html": [
       "\n",
       "    <div>\n",
       "      \n",
       "      <progress value='1800' max='1800' style='width:300px; height:20px; vertical-align: middle;'></progress>\n",
       "      [1800/1800 07:02, Epoch 3/3]\n",
       "    </div>\n",
       "    <table border=\"1\" class=\"dataframe\">\n",
       "  <thead>\n",
       " <tr style=\"text-align: left;\">\n",
       "      <th>Epoch</th>\n",
       "      <th>Training Loss</th>\n",
       "      <th>Validation Loss</th>\n",
       "      <th>Weighted f1</th>\n",
       "      <th>Macro f1</th>\n",
       "    </tr>\n",
       "  </thead>\n",
       "  <tbody>\n",
       "    <tr>\n",
       "      <td>1</td>\n",
       "      <td>0.943600</td>\n",
       "      <td>0.815790</td>\n",
       "      <td>0.618119</td>\n",
       "      <td>0.592870</td>\n",
       "    </tr>\n",
       "    <tr>\n",
       "      <td>2</td>\n",
       "      <td>0.747500</td>\n",
       "      <td>0.726364</td>\n",
       "      <td>0.666706</td>\n",
       "      <td>0.617573</td>\n",
       "    </tr>\n",
       "    <tr>\n",
       "      <td>3</td>\n",
       "      <td>0.608400</td>\n",
       "      <td>0.752129</td>\n",
       "      <td>0.683418</td>\n",
       "      <td>0.648544</td>\n",
       "    </tr>\n",
       "  </tbody>\n",
       "</table><p>"
      ],
      "text/plain": [
       "<IPython.core.display.HTML object>"
      ]
     },
     "metadata": {},
     "output_type": "display_data"
    },
    {
     "data": {
      "text/plain": [
       "TrainOutput(global_step=1800, training_loss=0.7279186587863499, metrics={'train_runtime': 423.1191, 'train_samples_per_second': 136.118, 'train_steps_per_second': 4.254, 'total_flos': 7577013148535808.0, 'train_loss': 0.7279186587863499, 'epoch': 3.0})"
      ]
     },
     "execution_count": 439,
     "metadata": {},
     "output_type": "execute_result"
    }
   ],
   "source": [
    "import accelerate\n",
    "import transformers\n",
    "\n",
    "print(transformers.__version__, accelerate.__version__)\n",
    "\n",
    "args = TrainingArguments(\n",
    "    output_dir='./bert_robert',\n",
    "    num_train_epochs=3,\n",
    "    per_device_train_batch_size=32,\n",
    "    per_device_eval_batch_size=32,\n",
    "    learning_rate = 5e-5,\n",
    "    lr_scheduler_type= \"cosine\",\n",
    "    weight_decay=1e-3,\n",
    "    warmup_steps= 600,\n",
    "    eval_strategy='epoch',\n",
    "    metric_for_best_model=\"weighted f1\",\n",
    "    # load_best_model_at_end=True,\n",
    "    # save_strategy='epoch',\n",
    "    # save_total_limit=2,\n",
    ")\n",
    "\n",
    "trainer = Trainer(\n",
    "    model = model, \n",
    "    args = args,\n",
    "    train_dataset= train_set_tokens,\n",
    "    eval_dataset = val_set_tokens,\n",
    "    processing_class=tokeniser,\n",
    "    data_collator=DataCollatorWithPadding(tokeniser),\n",
    "    compute_metrics=metrics,\n",
    ")\n",
    "\n",
    "trainer.train()\n",
    "# trainer.save_model(\"./best_model\")"
   ]
  },
  {
   "cell_type": "code",
   "execution_count": 441,
   "id": "031fb9a5",
   "metadata": {},
   "outputs": [
    {
     "data": {
      "text/html": [],
      "text/plain": [
       "<IPython.core.display.HTML object>"
      ]
     },
     "metadata": {},
     "output_type": "display_data"
    },
    {
     "name": "stdout",
     "output_type": "stream",
     "text": [
      "              precision    recall  f1-score   support\n",
      "\n",
      "           0       0.75      0.73      0.74       307\n",
      "           1       0.53      0.47      0.49       329\n",
      "           2       0.62      0.58      0.60       672\n",
      "           3       0.62      0.63      0.63      1569\n",
      "           4       0.77      0.80      0.78      1923\n",
      "\n",
      "    accuracy                           0.69      4800\n",
      "   macro avg       0.66      0.64      0.65      4800\n",
      "weighted avg       0.68      0.69      0.68      4800\n",
      "\n"
     ]
    }
   ],
   "source": [
    "predictions = trainer.predict(val_set_tokens)\n",
    "preds = np.argmax(predictions.predictions, axis=1)\n",
    "\n",
    "print(classification_report(\n",
    "    val_set_tokens['labels'].numpy(),\n",
    "    preds\n",
    "))"
   ]
  },
  {
   "cell_type": "markdown",
   "id": "067cebcf",
   "metadata": {},
   "source": [
    "### 4. Experiment with VADER sentiment lexicon"
   ]
  },
  {
   "cell_type": "code",
   "execution_count": 145,
   "id": "8e874105",
   "metadata": {},
   "outputs": [
    {
     "data": {
      "text/html": [
       "<div>\n",
       "<style scoped>\n",
       "    .dataframe tbody tr th:only-of-type {\n",
       "        vertical-align: middle;\n",
       "    }\n",
       "\n",
       "    .dataframe tbody tr th {\n",
       "        vertical-align: top;\n",
       "    }\n",
       "\n",
       "    .dataframe thead th {\n",
       "        text-align: right;\n",
       "    }\n",
       "</style>\n",
       "<table border=\"1\" class=\"dataframe\">\n",
       "  <thead>\n",
       "    <tr style=\"text-align: right;\">\n",
       "      <th></th>\n",
       "      <th>overall</th>\n",
       "      <th>lemmatized_text</th>\n",
       "      <th>vader_score</th>\n",
       "    </tr>\n",
       "  </thead>\n",
       "  <tbody>\n",
       "    <tr>\n",
       "      <th>0</th>\n",
       "      <td>1</td>\n",
       "      <td>horrible experience first get room book pay di...</td>\n",
       "      <td>0.7717</td>\n",
       "    </tr>\n",
       "    <tr>\n",
       "      <th>1</th>\n",
       "      <td>1</td>\n",
       "      <td>stay away find racist graffiti room request ch...</td>\n",
       "      <td>-0.8225</td>\n",
       "    </tr>\n",
       "    <tr>\n",
       "      <th>2</th>\n",
       "      <td>4</td>\n",
       "      <td>great location service close union square hote...</td>\n",
       "      <td>0.8360</td>\n",
       "    </tr>\n",
       "    <tr>\n",
       "      <th>3</th>\n",
       "      <td>2</td>\n",
       "      <td>never go back bad vibe place moment walk main ...</td>\n",
       "      <td>0.9676</td>\n",
       "    </tr>\n",
       "    <tr>\n",
       "      <th>4</th>\n",
       "      <td>1</td>\n",
       "      <td>rip visa card departure receive final bill lea...</td>\n",
       "      <td>0.6124</td>\n",
       "    </tr>\n",
       "    <tr>\n",
       "      <th>...</th>\n",
       "      <td>...</td>\n",
       "      <td>...</td>\n",
       "      <td>...</td>\n",
       "    </tr>\n",
       "    <tr>\n",
       "      <th>23994</th>\n",
       "      <td>4</td>\n",
       "      <td>pleasant stay good location stay one night vis...</td>\n",
       "      <td>0.9774</td>\n",
       "    </tr>\n",
       "    <tr>\n",
       "      <th>23995</th>\n",
       "      <td>3</td>\n",
       "      <td>hit miss thing need attention spend two night ...</td>\n",
       "      <td>0.9771</td>\n",
       "    </tr>\n",
       "    <tr>\n",
       "      <th>23996</th>\n",
       "      <td>5</td>\n",
       "      <td>good breakfast room fairly large pretty quiet ...</td>\n",
       "      <td>0.8689</td>\n",
       "    </tr>\n",
       "    <tr>\n",
       "      <th>23997</th>\n",
       "      <td>4</td>\n",
       "      <td>deserve high rating great start stay check 2hr...</td>\n",
       "      <td>0.9618</td>\n",
       "    </tr>\n",
       "    <tr>\n",
       "      <th>23998</th>\n",
       "      <td>5</td>\n",
       "      <td>clean comfortable great room comfortable bed f...</td>\n",
       "      <td>0.9485</td>\n",
       "    </tr>\n",
       "  </tbody>\n",
       "</table>\n",
       "<p>23999 rows × 3 columns</p>\n",
       "</div>"
      ],
      "text/plain": [
       "       overall                                    lemmatized_text  vader_score\n",
       "0            1  horrible experience first get room book pay di...       0.7717\n",
       "1            1  stay away find racist graffiti room request ch...      -0.8225\n",
       "2            4  great location service close union square hote...       0.8360\n",
       "3            2  never go back bad vibe place moment walk main ...       0.9676\n",
       "4            1  rip visa card departure receive final bill lea...       0.6124\n",
       "...        ...                                                ...          ...\n",
       "23994        4  pleasant stay good location stay one night vis...       0.9774\n",
       "23995        3  hit miss thing need attention spend two night ...       0.9771\n",
       "23996        5  good breakfast room fairly large pretty quiet ...       0.8689\n",
       "23997        4  deserve high rating great start stay check 2hr...       0.9618\n",
       "23998        5  clean comfortable great room comfortable bed f...       0.9485\n",
       "\n",
       "[23999 rows x 3 columns]"
      ]
     },
     "execution_count": 145,
     "metadata": {},
     "output_type": "execute_result"
    }
   ],
   "source": [
    "from nltk.sentiment.vader import SentimentIntensityAnalyzer\n",
    "# nltk.download('vader_lexicon')\n",
    "\n",
    "sentiment = SentimentIntensityAnalyzer()\n",
    "\n",
    "def sentiment_scores(text):\n",
    "    score = sentiment.polarity_scores(text)\n",
    "    return score['compound']\n",
    "\n",
    "lem_train_data.loc[:, 'vader_score'] = lem_train_data['lemmatized_text'].apply(sentiment_scores)\n",
    "lem_train_data\n"
   ]
  },
  {
   "cell_type": "code",
   "execution_count": 146,
   "id": "23c816a9",
   "metadata": {},
   "outputs": [
    {
     "data": {
      "text/html": [
       "<div>\n",
       "<style scoped>\n",
       "    .dataframe tbody tr th:only-of-type {\n",
       "        vertical-align: middle;\n",
       "    }\n",
       "\n",
       "    .dataframe tbody tr th {\n",
       "        vertical-align: top;\n",
       "    }\n",
       "\n",
       "    .dataframe thead th {\n",
       "        text-align: right;\n",
       "    }\n",
       "</style>\n",
       "<table border=\"1\" class=\"dataframe\">\n",
       "  <thead>\n",
       "    <tr style=\"text-align: right;\">\n",
       "      <th></th>\n",
       "      <th>overall</th>\n",
       "      <th>lemmatized_text</th>\n",
       "      <th>vader_score</th>\n",
       "      <th>vader_rating</th>\n",
       "      <th>rating_discrepancy</th>\n",
       "    </tr>\n",
       "  </thead>\n",
       "  <tbody>\n",
       "    <tr>\n",
       "      <th>0</th>\n",
       "      <td>1</td>\n",
       "      <td>horrible experience first get room book pay di...</td>\n",
       "      <td>0.7717</td>\n",
       "      <td>5</td>\n",
       "      <td>4</td>\n",
       "    </tr>\n",
       "    <tr>\n",
       "      <th>1</th>\n",
       "      <td>1</td>\n",
       "      <td>stay away find racist graffiti room request ch...</td>\n",
       "      <td>-0.8225</td>\n",
       "      <td>1</td>\n",
       "      <td>0</td>\n",
       "    </tr>\n",
       "    <tr>\n",
       "      <th>2</th>\n",
       "      <td>4</td>\n",
       "      <td>great location service close union square hote...</td>\n",
       "      <td>0.8360</td>\n",
       "      <td>5</td>\n",
       "      <td>1</td>\n",
       "    </tr>\n",
       "    <tr>\n",
       "      <th>3</th>\n",
       "      <td>2</td>\n",
       "      <td>never go back bad vibe place moment walk main ...</td>\n",
       "      <td>0.9676</td>\n",
       "      <td>5</td>\n",
       "      <td>3</td>\n",
       "    </tr>\n",
       "    <tr>\n",
       "      <th>4</th>\n",
       "      <td>1</td>\n",
       "      <td>rip visa card departure receive final bill lea...</td>\n",
       "      <td>0.6124</td>\n",
       "      <td>4</td>\n",
       "      <td>3</td>\n",
       "    </tr>\n",
       "    <tr>\n",
       "      <th>...</th>\n",
       "      <td>...</td>\n",
       "      <td>...</td>\n",
       "      <td>...</td>\n",
       "      <td>...</td>\n",
       "      <td>...</td>\n",
       "    </tr>\n",
       "    <tr>\n",
       "      <th>23994</th>\n",
       "      <td>4</td>\n",
       "      <td>pleasant stay good location stay one night vis...</td>\n",
       "      <td>0.9774</td>\n",
       "      <td>5</td>\n",
       "      <td>1</td>\n",
       "    </tr>\n",
       "    <tr>\n",
       "      <th>23995</th>\n",
       "      <td>3</td>\n",
       "      <td>hit miss thing need attention spend two night ...</td>\n",
       "      <td>0.9771</td>\n",
       "      <td>5</td>\n",
       "      <td>2</td>\n",
       "    </tr>\n",
       "    <tr>\n",
       "      <th>23996</th>\n",
       "      <td>5</td>\n",
       "      <td>good breakfast room fairly large pretty quiet ...</td>\n",
       "      <td>0.8689</td>\n",
       "      <td>5</td>\n",
       "      <td>0</td>\n",
       "    </tr>\n",
       "    <tr>\n",
       "      <th>23997</th>\n",
       "      <td>4</td>\n",
       "      <td>deserve high rating great start stay check 2hr...</td>\n",
       "      <td>0.9618</td>\n",
       "      <td>5</td>\n",
       "      <td>1</td>\n",
       "    </tr>\n",
       "    <tr>\n",
       "      <th>23998</th>\n",
       "      <td>5</td>\n",
       "      <td>clean comfortable great room comfortable bed f...</td>\n",
       "      <td>0.9485</td>\n",
       "      <td>5</td>\n",
       "      <td>0</td>\n",
       "    </tr>\n",
       "  </tbody>\n",
       "</table>\n",
       "<p>23999 rows × 5 columns</p>\n",
       "</div>"
      ],
      "text/plain": [
       "       overall                                    lemmatized_text  \\\n",
       "0            1  horrible experience first get room book pay di...   \n",
       "1            1  stay away find racist graffiti room request ch...   \n",
       "2            4  great location service close union square hote...   \n",
       "3            2  never go back bad vibe place moment walk main ...   \n",
       "4            1  rip visa card departure receive final bill lea...   \n",
       "...        ...                                                ...   \n",
       "23994        4  pleasant stay good location stay one night vis...   \n",
       "23995        3  hit miss thing need attention spend two night ...   \n",
       "23996        5  good breakfast room fairly large pretty quiet ...   \n",
       "23997        4  deserve high rating great start stay check 2hr...   \n",
       "23998        5  clean comfortable great room comfortable bed f...   \n",
       "\n",
       "       vader_score  vader_rating  rating_discrepancy  \n",
       "0           0.7717             5                   4  \n",
       "1          -0.8225             1                   0  \n",
       "2           0.8360             5                   1  \n",
       "3           0.9676             5                   3  \n",
       "4           0.6124             4                   3  \n",
       "...            ...           ...                 ...  \n",
       "23994       0.9774             5                   1  \n",
       "23995       0.9771             5                   2  \n",
       "23996       0.8689             5                   0  \n",
       "23997       0.9618             5                   1  \n",
       "23998       0.9485             5                   0  \n",
       "\n",
       "[23999 rows x 5 columns]"
      ]
     },
     "execution_count": 146,
     "metadata": {},
     "output_type": "execute_result"
    }
   ],
   "source": [
    "def vader_classification(score):\n",
    "    if score >= 0.7:\n",
    "        return 5\n",
    "    elif score > 0.3:\n",
    "        return 4\n",
    "    elif score > -0.3:\n",
    "        return 3\n",
    "    elif score >= -0.7:\n",
    "        return 2\n",
    "    else:\n",
    "        return 1\n",
    "    \n",
    "lem_train_data.loc[:, 'vader_rating'] = lem_train_data['vader_score'].apply(vader_classification)\n",
    "lem_train_data['vader_rating']\n",
    "lem_train_data.loc[:, 'rating_discrepancy'] = abs(lem_train_data['overall'] - lem_train_data['vader_rating'])\n",
    "lem_train_data"
   ]
  },
  {
   "cell_type": "code",
   "execution_count": 147,
   "id": "aa73e920",
   "metadata": {},
   "outputs": [
    {
     "name": "stdout",
     "output_type": "stream",
     "text": [
      "The average discrepancy between vader sentiment rating based on text and ground truth rating given by customer is: 0.8494\n"
     ]
    }
   ],
   "source": [
    "mean_discrepancy = lem_train_data['rating_discrepancy'].mean()\n",
    "print(f\"The average discrepancy between vader sentiment rating based on text and ground truth rating given by customer is: {mean_discrepancy:.4f}\")"
   ]
  },
  {
   "cell_type": "code",
   "execution_count": 148,
   "id": "6f9cbe76",
   "metadata": {},
   "outputs": [
    {
     "name": "stdout",
     "output_type": "stream",
     "text": [
      "accuracy: 0.4416\n",
      "precision: 0.3465\n",
      "recall: 0.4416\n",
      "f1_weighted: 0.3147\n",
      "              precision    recall  f1-score   support\n",
      "\n",
      "           1       0.69      0.28      0.40      1557\n",
      "           2       0.28      0.08      0.13      1611\n",
      "           3       0.25      0.05      0.08      3287\n",
      "           4       0.19      0.02      0.04      7720\n",
      "           5       0.46      0.98      0.62      9824\n",
      "\n",
      "    accuracy                           0.44     23999\n",
      "   macro avg       0.37      0.28      0.26     23999\n",
      "weighted avg       0.35      0.44      0.31     23999\n",
      "\n"
     ]
    },
    {
     "data": {
      "image/png": "[encoded data removed]",
      "text/plain": [
       "<Figure size 800x600 with 2 Axes>"
      ]
     },
     "metadata": {},
     "output_type": "display_data"
    }
   ],
   "source": [
    "y_true, y_pred = lem_train_data['overall'], lem_train_data['vader_rating']\n",
    "\n",
    "accuracy = accuracy_score(y_true, y_pred)\n",
    "precision_weighted = precision_score(y_true, y_pred, average='weighted')\n",
    "recall_weighted = recall_score(y_true, y_pred, average='weighted')\n",
    "f1_weighted = f1_score(y_true, y_pred, average='weighted')\n",
    "\n",
    "print(f'accuracy: {accuracy:.4f}')\n",
    "print(f'precision: {precision_weighted:.4f}')\n",
    "print(f'recall: {recall_weighted:.4f}')\n",
    "print(f'f1_weighted: {f1_weighted:.4f}')\n",
    "\n",
    "print(classification_report(y_true, y_pred))\n",
    "\n",
    "con_mat = confusion_matrix(y_true, y_pred)\n",
    "plt.figure(figsize=(8, 6))\n",
    "sns.heatmap(con_mat, annot=True, fmt='d', cmap='Blues', \n",
    "            xticklabels=range(1, 6),\n",
    "            yticklabels=range(1, 6))\n",
    "plt.xlabel('Predicted Rating')\n",
    "plt.ylabel('True Rating')\n",
    "plt.title('Confusion Matrix')\n",
    "plt.show()"
   ]
  },
  {
   "cell_type": "code",
   "execution_count": null,
   "id": "6572b3f8",
   "metadata": {},
   "outputs": [],
   "source": []
  },
  {
   "cell_type": "markdown",
   "id": "333ba5cb",
   "metadata": {},
   "source": [
    "### 5. Final testing on test set and discussion of results"
   ]
  },
  {
   "cell_type": "code",
   "execution_count": null,
   "id": "58a6ebe4",
   "metadata": {},
   "outputs": [],
   "source": []
  },
  {
   "cell_type": "markdown",
   "id": "ba7ea3a2",
   "metadata": {},
   "source": [
    "### 6. Propose a method to predict aspects \n",
    "\n",
    "***(COMP SCI 7417 and COMP SCI 7717 only)***"
   ]
  },
  {
   "cell_type": "code",
   "execution_count": null,
   "id": "99cf2087",
   "metadata": {},
   "outputs": [],
   "source": []
  },
  {
   "cell_type": "markdown",
   "id": "23d3d17f",
   "metadata": {},
   "source": [
    "### 7. Reflection on the ***Product*** development."
   ]
  },
  {
   "cell_type": "code",
   "execution_count": null,
   "id": "3d4dae7f",
   "metadata": {},
   "outputs": [],
   "source": []
  },
  {
   "cell_type": "markdown",
   "id": "af38d9fc",
   "metadata": {},
   "source": [
    "### 9. References"
   ]
  },
  {
   "cell_type": "markdown",
   "id": "dcb3a062",
   "metadata": {},
   "source": []
  },
  {
   "cell_type": "markdown",
   "id": "c088010b-92f5-499b-a24e-4e3f874f4950",
   "metadata": {},
   "source": [
    "### Appendix"
   ]
  },
  {
   "cell_type": "code",
   "execution_count": null,
   "id": "4a7289b0-b12b-4be4-bc07-0b41a55266c2",
   "metadata": {},
   "outputs": [],
   "source": []
  }
 ],
 "metadata": {
  "kernelspec": {
   "display_name": "a1nlp",
   "language": "python",
   "name": "python3"
  },
  "language_info": {
   "codemirror_mode": {
    "name": "ipython",
    "version": 3
   },
   "file_extension": ".py",
   "mimetype": "text/x-python",
   "name": "python",
   "nbconvert_exporter": "python",
   "pygments_lexer": "ipython3",
   "version": "3.11.8"
  }
 },
 "nbformat": 4,
 "nbformat_minor": 5
}
