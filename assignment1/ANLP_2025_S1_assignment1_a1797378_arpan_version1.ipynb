{
 "cells": [
  {
   "cell_type": "markdown",
   "id": "6730fecf",
   "metadata": {},
   "source": [
    "## ANLP Assignment 1: Sentiment Analysis\n",
    "### your name,  your id"
   ]
  },
  {
   "cell_type": "code",
   "execution_count": 89,
   "id": "5810d2d6",
   "metadata": {},
   "outputs": [],
   "source": [
    "import numpy as np\n",
    "import matplotlib.pyplot as plt\n",
    "import pandas as pd\n",
    "import nltk\n",
    "from langdetect import detect\n",
    "import json\n",
    "import re\n",
    "from collections import Counter"
   ]
  },
  {
   "cell_type": "markdown",
   "id": "3c1fad6c-9f9a-431c-86fc-c40547146582",
   "metadata": {},
   "source": [
    "### 1. Reading dataset and initial pre-processing"
   ]
  },
  {
   "cell_type": "code",
   "execution_count": 61,
   "id": "e967e07b",
   "metadata": {},
   "outputs": [],
   "source": [
    "#Cleaning out the original test and train datasets \n",
    "def langFilter(file,type:str):\n",
    "    num = 0\n",
    "    with open(f\"hotel_review_en_{type}.JSON\", \"w\") as out_file:\n",
    "        with open(file,\"r\") as in_file:\n",
    "            lines = in_file.readlines()\n",
    "            for line in lines:\n",
    "                num += 1\n",
    "                # if num%100==0: print(num)\n",
    "                json_line = json.loads(line)\n",
    "                try:\n",
    "                    lang = detect(json_line[\"text\"])\n",
    "                    if lang == \"en\":\n",
    "                        out_file.write(line)\n",
    "                except:\n",
    "                    print(\"exception\")\n",
    "                    pass\n",
    "# langFilter(\"hotel_reviews_train.JSON\",\"train\")\n",
    "# langFilter(\"hotel_reviews_test.JSON\",\"test\")"
   ]
  },
  {
   "cell_type": "code",
   "execution_count": null,
   "id": "fd78c007",
   "metadata": {},
   "outputs": [],
   "source": []
  },
  {
   "cell_type": "code",
   "execution_count": 62,
   "id": "6fc0b32f",
   "metadata": {},
   "outputs": [
    {
     "name": "stdout",
     "output_type": "stream",
     "text": [
      "24000\n",
      "23998\n"
     ]
    }
   ],
   "source": [
    "original_data = pd.read_json('hotel_reviews_train.JSON', lines=True)\n",
    "train_data = pd.read_json(\"hotel_review_en_train.JSON\", lines=True)\n",
    "\n",
    "print(len(original_data))\n",
    "print(len(train_data))"
   ]
  },
  {
   "cell_type": "code",
   "execution_count": 63,
   "id": "26f30148",
   "metadata": {},
   "outputs": [
    {
     "name": "stdout",
     "output_type": "stream",
     "text": [
      "6000\n"
     ]
    }
   ],
   "source": [
    "test_data = pd.read_json(\"hotel_review_en_test.JSON\", lines=True)\n",
    "print(len(test_data))"
   ]
  },
  {
   "cell_type": "code",
   "execution_count": 64,
   "id": "e7e304f3",
   "metadata": {},
   "outputs": [
    {
     "data": {
      "text/plain": [
       "Index(['ratings', 'title', 'text', 'author', 'date_stayed', 'offering_id',\n",
       "       'num_helpful_votes', 'date', 'id', 'via_mobile'],\n",
       "      dtype='object')"
      ]
     },
     "execution_count": 64,
     "metadata": {},
     "output_type": "execute_result"
    }
   ],
   "source": [
    "train_data.columns"
   ]
  },
  {
   "cell_type": "code",
   "execution_count": 65,
   "id": "d4fb109b",
   "metadata": {},
   "outputs": [
    {
     "data": {
      "text/plain": [
       "0                             “Horrible experience”\n",
       "1                                       “Stay Away”\n",
       "2                      “Great location and service”\n",
       "3                “I will never go back here again!”\n",
       "4        “Ripped off our VISA card after departure”\n",
       "                            ...                    \n",
       "23993            “pleasant stay with good location”\n",
       "23994     “Hit or miss, some things need attention”\n",
       "23995                              “Good breakfast”\n",
       "23996                    “Deserves a higher rating”\n",
       "23997                        “Clean & comfortable!”\n",
       "Name: title, Length: 23998, dtype: object"
      ]
     },
     "execution_count": 65,
     "metadata": {},
     "output_type": "execute_result"
    }
   ],
   "source": [
    "train_data['title']"
   ]
  },
  {
   "cell_type": "code",
   "execution_count": 66,
   "id": "4750200a",
   "metadata": {},
   "outputs": [
    {
     "data": {
      "text/plain": [
       "'First of all we got there and they didn\\'t have the room we booked; did not pay us the difference from the room we booked to the cheaper one they gave us. STAFF took forever to address our problem, not KID friendly, pool dirty- and parking wow good luck going somewhere at night time and come back to the hotel to try to find a parking space THAT THEY CHARGE AN ADDITIONAL FEE FOR! (NOT INCLUDED IN THEIR OVERPRICED HOTEL STAY)\\nWe thought by paying more we would get a good deal well this hotel is not the case!!\\n$400 for a 2 night stay plus horrible customer service and a manager who never returned our call when we submitted the complain is not how you do business- They are giving SHERATON a horrible reputation- I guess they are managed by SHERATON but have their own \"policies\" and undesirable customer service.\\nGreat time in San Diego but a nightmare of a hotel.\\nDon\\'t ever write reviews but this one was called for, if you can avoid this hotel do it.\\n(Being a military family and moving from state to state we know about hotels and excellent customer service) \\n(Oh yeah no free breakfast either)'"
      ]
     },
     "execution_count": 66,
     "metadata": {},
     "output_type": "execute_result"
    }
   ],
   "source": [
    "train_data['text'][0]"
   ]
  },
  {
   "cell_type": "code",
   "execution_count": 69,
   "id": "21ccb43c",
   "metadata": {},
   "outputs": [
    {
     "data": {
      "text/plain": [
       "'First of all we got there and they didnt have the room we booked did not pay us the difference from the room we booked to the cheaper one they gave us STAFF took forever to address our problem not KID friendly pool dirty and parking wow good luck going somewhere at night time and come back to the hotel to try to find a parking space THAT THEY CHARGE AN ADDITIONAL FEE FOR NOT INCLUDED IN THEIR OVERPRICED HOTEL STAY We thought by paying more we would get a good deal well this hotel is not the case 400 for a 2 night stay plus horrible customer service and a manager who never returned our call when we submitted the complain is not how you do business They are giving SHERATON a horrible reputation I guess they are managed by SHERATON but have their own policies and undesirable customer service Great time in San Diego but a nightmare of a hotel Dont ever write reviews but this one was called for if you can avoid this hotel do it Being a military family and moving from state to state we know about hotels and excellent customer service Oh yeah no free breakfast either'"
      ]
     },
     "execution_count": 69,
     "metadata": {},
     "output_type": "execute_result"
    }
   ],
   "source": [
    "def clean_text(text):\n",
    "    if isinstance(text, str):\n",
    "        text = re.sub(r'[^a-zA-Z0-9\\s]','',text)\n",
    "        text = re.sub(r'[\\n\\r\\t]', ' ',text)\n",
    "        text = re.sub(r'\\s+', ' ', text)\n",
    "        return text.strip()\n",
    "    return \"\"\n",
    "\n",
    "train_data['clean_title'] = train_data['title'].apply(clean_text)\n",
    "train_data['clean_text'] = train_data['text'].apply(clean_text)\n",
    "\n",
    "test_data['clean_title'] = test_data['title'].apply(clean_text)\n",
    "test_data['clean_text'] = test_data['text'].apply(clean_text)\n",
    " \n",
    "train_data['clean_text'][0]"
   ]
  },
  {
   "cell_type": "markdown",
   "id": "31d75afc",
   "metadata": {},
   "source": [
    "### 2. Exploratory Data Analysis (EDA)"
   ]
  },
  {
   "cell_type": "code",
   "execution_count": 74,
   "id": "2d286790",
   "metadata": {},
   "outputs": [
    {
     "name": "stdout",
     "output_type": "stream",
     "text": [
      "Index(['ratings', 'title', 'text', 'author', 'date_stayed', 'offering_id',\n",
      "       'num_helpful_votes', 'date', 'id', 'via_mobile', 'clean_title',\n",
      "       'clean_text'],\n",
      "      dtype='object')\n",
      "Index(['ratings', 'title', 'text', 'author', 'date_stayed', 'offering_id',\n",
      "       'num_helpful_votes', 'date', 'id', 'via_mobile', 'clean_title',\n",
      "       'clean_text'],\n",
      "      dtype='object')\n"
     ]
    }
   ],
   "source": [
    "print(train_data.columns)\n",
    "print(test_data.columns)"
   ]
  },
  {
   "cell_type": "code",
   "execution_count": 79,
   "id": "37426673",
   "metadata": {},
   "outputs": [
    {
     "data": {
      "text/html": [
       "<div>\n",
       "<style scoped>\n",
       "    .dataframe tbody tr th:only-of-type {\n",
       "        vertical-align: middle;\n",
       "    }\n",
       "\n",
       "    .dataframe tbody tr th {\n",
       "        vertical-align: top;\n",
       "    }\n",
       "\n",
       "    .dataframe thead th {\n",
       "        text-align: right;\n",
       "    }\n",
       "</style>\n",
       "<table border=\"1\" class=\"dataframe\">\n",
       "  <thead>\n",
       "    <tr style=\"text-align: right;\">\n",
       "      <th></th>\n",
       "      <th>ratings</th>\n",
       "      <th>title</th>\n",
       "      <th>text</th>\n",
       "      <th>author</th>\n",
       "      <th>date_stayed</th>\n",
       "      <th>offering_id</th>\n",
       "      <th>num_helpful_votes</th>\n",
       "      <th>date</th>\n",
       "      <th>id</th>\n",
       "      <th>via_mobile</th>\n",
       "      <th>clean_title</th>\n",
       "      <th>clean_text</th>\n",
       "    </tr>\n",
       "  </thead>\n",
       "  <tbody>\n",
       "    <tr>\n",
       "      <th>0</th>\n",
       "      <td>{'service': 1.0, 'cleanliness': 2.0, 'overall'...</td>\n",
       "      <td>“Horrible experience”</td>\n",
       "      <td>First of all we got there and they didn't have...</td>\n",
       "      <td>{'username': 'Kh3RD', 'num_reviews': 1, 'id': ...</td>\n",
       "      <td>September 2012</td>\n",
       "      <td>80138</td>\n",
       "      <td>0</td>\n",
       "      <td>2012-09-19</td>\n",
       "      <td>140716137</td>\n",
       "      <td>False</td>\n",
       "      <td>Horrible experience</td>\n",
       "      <td>First of all we got there and they didnt have ...</td>\n",
       "    </tr>\n",
       "    <tr>\n",
       "      <th>1</th>\n",
       "      <td>{'cleanliness': 1.0, 'sleep_quality': 1.0, 'ov...</td>\n",
       "      <td>“Stay Away”</td>\n",
       "      <td>Found Racist graffiti in the room. Request to ...</td>\n",
       "      <td>{'username': 'TheUglyPhotographer', 'num_citie...</td>\n",
       "      <td>June 2011</td>\n",
       "      <td>240151</td>\n",
       "      <td>1</td>\n",
       "      <td>2011-06-27</td>\n",
       "      <td>114807323</td>\n",
       "      <td>False</td>\n",
       "      <td>Stay Away</td>\n",
       "      <td>Found Racist graffiti in the room Request to c...</td>\n",
       "    </tr>\n",
       "    <tr>\n",
       "      <th>2</th>\n",
       "      <td>{'service': 4.0, 'cleanliness': 5.0, 'overall'...</td>\n",
       "      <td>“Great location and service”</td>\n",
       "      <td>Close to Union Square - hotel is a bit of a ma...</td>\n",
       "      <td>{'username': 'Moonstonemoclips', 'num_cities':...</td>\n",
       "      <td>October 2010</td>\n",
       "      <td>80793</td>\n",
       "      <td>0</td>\n",
       "      <td>2010-10-25</td>\n",
       "      <td>84805430</td>\n",
       "      <td>False</td>\n",
       "      <td>Great location and service</td>\n",
       "      <td>Close to Union Square hotel is a bit of a maze...</td>\n",
       "    </tr>\n",
       "    <tr>\n",
       "      <th>3</th>\n",
       "      <td>{'service': 3.0, 'cleanliness': 2.0, 'overall'...</td>\n",
       "      <td>“I will never go back here again!”</td>\n",
       "      <td>I had a bad vibe about this place from the mom...</td>\n",
       "      <td>{'username': 'JoanellenJ', 'num_cities': 10, '...</td>\n",
       "      <td>June 2012</td>\n",
       "      <td>111418</td>\n",
       "      <td>1</td>\n",
       "      <td>2012-06-28</td>\n",
       "      <td>132971117</td>\n",
       "      <td>False</td>\n",
       "      <td>I will never go back here again</td>\n",
       "      <td>I had a bad vibe about this place from the mom...</td>\n",
       "    </tr>\n",
       "    <tr>\n",
       "      <th>4</th>\n",
       "      <td>{'overall': 1.0}</td>\n",
       "      <td>“Ripped off our VISA card after departure”</td>\n",
       "      <td>After we received our \"final\" bill and left th...</td>\n",
       "      <td>{'username': 'Lynnworks', 'num_cities': 3, 'nu...</td>\n",
       "      <td>January 2012</td>\n",
       "      <td>671150</td>\n",
       "      <td>3</td>\n",
       "      <td>2012-02-04</td>\n",
       "      <td>124104157</td>\n",
       "      <td>False</td>\n",
       "      <td>Ripped off our VISA card after departure</td>\n",
       "      <td>After we received our final bill and left the ...</td>\n",
       "    </tr>\n",
       "  </tbody>\n",
       "</table>\n",
       "</div>"
      ],
      "text/plain": [
       "                                             ratings  \\\n",
       "0  {'service': 1.0, 'cleanliness': 2.0, 'overall'...   \n",
       "1  {'cleanliness': 1.0, 'sleep_quality': 1.0, 'ov...   \n",
       "2  {'service': 4.0, 'cleanliness': 5.0, 'overall'...   \n",
       "3  {'service': 3.0, 'cleanliness': 2.0, 'overall'...   \n",
       "4                                   {'overall': 1.0}   \n",
       "\n",
       "                                        title  \\\n",
       "0                       “Horrible experience”   \n",
       "1                                 “Stay Away”   \n",
       "2                “Great location and service”   \n",
       "3          “I will never go back here again!”   \n",
       "4  “Ripped off our VISA card after departure”   \n",
       "\n",
       "                                                text  \\\n",
       "0  First of all we got there and they didn't have...   \n",
       "1  Found Racist graffiti in the room. Request to ...   \n",
       "2  Close to Union Square - hotel is a bit of a ma...   \n",
       "3  I had a bad vibe about this place from the mom...   \n",
       "4  After we received our \"final\" bill and left th...   \n",
       "\n",
       "                                              author     date_stayed  \\\n",
       "0  {'username': 'Kh3RD', 'num_reviews': 1, 'id': ...  September 2012   \n",
       "1  {'username': 'TheUglyPhotographer', 'num_citie...       June 2011   \n",
       "2  {'username': 'Moonstonemoclips', 'num_cities':...    October 2010   \n",
       "3  {'username': 'JoanellenJ', 'num_cities': 10, '...       June 2012   \n",
       "4  {'username': 'Lynnworks', 'num_cities': 3, 'nu...    January 2012   \n",
       "\n",
       "   offering_id  num_helpful_votes       date         id  via_mobile  \\\n",
       "0        80138                  0 2012-09-19  140716137       False   \n",
       "1       240151                  1 2011-06-27  114807323       False   \n",
       "2        80793                  0 2010-10-25   84805430       False   \n",
       "3       111418                  1 2012-06-28  132971117       False   \n",
       "4       671150                  3 2012-02-04  124104157       False   \n",
       "\n",
       "                                clean_title  \\\n",
       "0                       Horrible experience   \n",
       "1                                 Stay Away   \n",
       "2                Great location and service   \n",
       "3           I will never go back here again   \n",
       "4  Ripped off our VISA card after departure   \n",
       "\n",
       "                                          clean_text  \n",
       "0  First of all we got there and they didnt have ...  \n",
       "1  Found Racist graffiti in the room Request to c...  \n",
       "2  Close to Union Square hotel is a bit of a maze...  \n",
       "3  I had a bad vibe about this place from the mom...  \n",
       "4  After we received our final bill and left the ...  "
      ]
     },
     "execution_count": 79,
     "metadata": {},
     "output_type": "execute_result"
    }
   ],
   "source": [
    "train_data.head()"
   ]
  },
  {
   "cell_type": "code",
   "execution_count": null,
   "id": "ce1251cf",
   "metadata": {},
   "outputs": [
    {
     "name": "stdout",
     "output_type": "stream",
     "text": [
      "Counter({5.0: 9823, 4.0: 7720, 3.0: 3287, 2.0: 1611, 1.0: 1557})\n"
     ]
    },
    {
     "ename": "TypeError",
     "evalue": "bar() missing 1 required positional argument: 'height'",
     "output_type": "error",
     "traceback": [
      "\u001b[31m---------------------------------------------------------------------------\u001b[39m",
      "\u001b[31mTypeError\u001b[39m                                 Traceback (most recent call last)",
      "\u001b[36mCell\u001b[39m\u001b[36m \u001b[39m\u001b[32mIn[93]\u001b[39m\u001b[32m, line 6\u001b[39m\n\u001b[32m      3\u001b[39m     ratings_distribution.append(train_data[\u001b[33m'\u001b[39m\u001b[33mratings\u001b[39m\u001b[33m'\u001b[39m][i][\u001b[33m'\u001b[39m\u001b[33moverall\u001b[39m\u001b[33m'\u001b[39m])\n\u001b[32m      5\u001b[39m \u001b[38;5;28mprint\u001b[39m(Counter(ratings_distribution))\n\u001b[32m----> \u001b[39m\u001b[32m6\u001b[39m \u001b[43mplt\u001b[49m\u001b[43m.\u001b[49m\u001b[43mbar\u001b[49m\u001b[43m(\u001b[49m\u001b[43mCounter\u001b[49m\u001b[43m(\u001b[49m\u001b[43mratings_distribution\u001b[49m\u001b[43m)\u001b[49m\u001b[43m)\u001b[49m\n",
      "\u001b[31mTypeError\u001b[39m: bar() missing 1 required positional argument: 'height'"
     ]
    }
   ],
   "source": [
    "ratings_distribution = []\n",
    "for i in range(len(train_data)):\n",
    "    ratings_distribution.append(train_data['ratings'][i]['overall'])\n",
    "\n",
    "ratings_freq = Counter(ratings_distribution)\n",
    "print(ratings_freq)\n",
    "\n",
    "plt.bar(Counter(ratings_distribution))"
   ]
  },
  {
   "cell_type": "markdown",
   "id": "333cefa8",
   "metadata": {},
   "source": [
    "### 3. Selection and training Machine Learning models"
   ]
  },
  {
   "cell_type": "code",
   "execution_count": null,
   "id": "c292820d",
   "metadata": {},
   "outputs": [],
   "source": []
  },
  {
   "cell_type": "markdown",
   "id": "067cebcf",
   "metadata": {},
   "source": [
    "### 4. Experiment with VADER sentiment lexicon"
   ]
  },
  {
   "cell_type": "code",
   "execution_count": null,
   "id": "23c816a9",
   "metadata": {},
   "outputs": [],
   "source": []
  },
  {
   "cell_type": "markdown",
   "id": "333ba5cb",
   "metadata": {},
   "source": [
    "### 5. Final testing on test set and discussion of results"
   ]
  },
  {
   "cell_type": "code",
   "execution_count": null,
   "id": "58a6ebe4",
   "metadata": {},
   "outputs": [],
   "source": []
  },
  {
   "cell_type": "markdown",
   "id": "ba7ea3a2",
   "metadata": {},
   "source": [
    "### 6. Propose a method to predict aspects \n",
    "\n",
    "***(COMP SCI 7417 and COMP SCI 7717 only)***"
   ]
  },
  {
   "cell_type": "code",
   "execution_count": null,
   "id": "99cf2087",
   "metadata": {},
   "outputs": [],
   "source": []
  },
  {
   "cell_type": "markdown",
   "id": "23d3d17f",
   "metadata": {},
   "source": [
    "### 7. Reflection on the ***Product*** development."
   ]
  },
  {
   "cell_type": "code",
   "execution_count": null,
   "id": "3d4dae7f",
   "metadata": {},
   "outputs": [],
   "source": []
  },
  {
   "cell_type": "markdown",
   "id": "af38d9fc",
   "metadata": {},
   "source": [
    "### 9. References"
   ]
  },
  {
   "cell_type": "markdown",
   "id": "dcb3a062",
   "metadata": {},
   "source": []
  },
  {
   "cell_type": "markdown",
   "id": "c088010b-92f5-499b-a24e-4e3f874f4950",
   "metadata": {},
   "source": [
    "### Appendix"
   ]
  },
  {
   "cell_type": "code",
   "execution_count": null,
   "id": "4a7289b0-b12b-4be4-bc07-0b41a55266c2",
   "metadata": {},
   "outputs": [],
   "source": []
  }
 ],
 "metadata": {
  "kernelspec": {
   "display_name": "rootenv",
   "language": "python",
   "name": "python3"
  },
  "language_info": {
   "codemirror_mode": {
    "name": "ipython",
    "version": 3
   },
   "file_extension": ".py",
   "mimetype": "text/x-python",
   "name": "python",
   "nbconvert_exporter": "python",
   "pygments_lexer": "ipython3",
   "version": "3.11.8"
  }
 },
 "nbformat": 4,
 "nbformat_minor": 5
}
