{
 "cells": [
  {
   "cell_type": "markdown",
   "id": "6730fecf",
   "metadata": {},
   "source": [
    "## ANLP Assignment 1: Sentiment Analysis\n",
    "### Arpan Mukhopadhyay,  a1797378"
   ]
  },
  {
   "cell_type": "code",
   "execution_count": 547,
   "id": "5810d2d6",
   "metadata": {},
   "outputs": [],
   "source": [
    "import numpy as np\n",
    "import matplotlib.pyplot as plt\n",
    "import pandas as pd\n",
    "import nltk\n",
    "from nltk import word_tokenize\n",
    "from nltk.probability import FreqDist\n",
    "from langdetect import detect\n",
    "import json\n",
    "import re\n",
    "from collections import Counter, defaultdict\n",
    "import string\n",
    "pd.options.mode.chained_assignment = None  # default='warn'"
   ]
  },
  {
   "cell_type": "markdown",
   "id": "3c1fad6c-9f9a-431c-86fc-c40547146582",
   "metadata": {},
   "source": [
    "### 1. Reading dataset and initial pre-processing"
   ]
  },
  {
   "cell_type": "markdown",
   "id": "b06e54bc",
   "metadata": {},
   "source": [
    "Before any real visualisations or exploration of the data, the removal of any non english reviews is conducted using the function in language_filter.py."
   ]
  },
  {
   "cell_type": "code",
   "execution_count": 548,
   "id": "e967e07b",
   "metadata": {},
   "outputs": [],
   "source": [
    "#Cleaning out the original test and train datasets \n",
    "def langFilter(file,type:str):\n",
    "    num = 0\n",
    "    with open(f\"hotel_review_en_{type}.JSON\", \"w\") as out_file:\n",
    "        with open(file,\"r\") as in_file:\n",
    "            lines = in_file.readlines()\n",
    "            for line in lines:\n",
    "                num += 1\n",
    "                # if num%100==0: print(num)\n",
    "                json_line = json.loads(line)\n",
    "                try:\n",
    "                    lang = detect(json_line[\"text\"])\n",
    "                    if lang == \"en\":\n",
    "                        out_file.write(line)\n",
    "                except:\n",
    "                    print(\"exception\")\n",
    "                    pass\n",
    "\n",
    "#uncomment to generate JSON train and test sets of only english texts\n",
    "# langFilter(\"hotel_reviews_train.JSON\",\"train\")\n",
    "# langFilter(\"hotel_reviews_test.JSON\",\"test\")"
   ]
  },
  {
   "cell_type": "markdown",
   "id": "b2ba0aa3",
   "metadata": {},
   "source": [
    "We can see below that by applying the function on the training dataset, we removed a single non english review. We can also load in our json data as a pandas dataframe to make it easier to work with."
   ]
  },
  {
   "cell_type": "code",
   "execution_count": 549,
   "id": "6fc0b32f",
   "metadata": {},
   "outputs": [
    {
     "name": "stdout",
     "output_type": "stream",
     "text": [
      "24000\n",
      "23999\n"
     ]
    }
   ],
   "source": [
    "original_data = pd.read_json('hotel_reviews_train.JSON', lines=True)\n",
    "train_data = pd.read_json(\"hotel_review_en_train.JSON\", lines=True)\n",
    "\n",
    "#checking to see the difference in reviews after removal of non english reviews\n",
    "print(len(original_data))\n",
    "print(len(train_data))"
   ]
  },
  {
   "cell_type": "code",
   "execution_count": 550,
   "id": "26f30148",
   "metadata": {},
   "outputs": [
    {
     "name": "stdout",
     "output_type": "stream",
     "text": [
      "6000\n"
     ]
    }
   ],
   "source": [
    "test_data = pd.read_json(\"hotel_review_en_test.JSON\", lines=True)\n",
    "print(len(test_data))"
   ]
  },
  {
   "cell_type": "markdown",
   "id": "debf2b9b",
   "metadata": {},
   "source": [
    "With our data now in df format, we can begin to explore the formatting of what we are working with. Intially let's look at all the different components that make up a single \"review\""
   ]
  },
  {
   "cell_type": "code",
   "execution_count": 551,
   "id": "e7e304f3",
   "metadata": {},
   "outputs": [
    {
     "data": {
      "text/plain": [
       "Index(['ratings', 'title', 'text', 'author', 'date_stayed', 'offering_id',\n",
       "       'num_helpful_votes', 'date', 'id', 'via_mobile'],\n",
       "      dtype='object')"
      ]
     },
     "execution_count": 551,
     "metadata": {},
     "output_type": "execute_result"
    }
   ],
   "source": [
    "train_data.columns"
   ]
  },
  {
   "cell_type": "markdown",
   "id": "d6b7bbe8",
   "metadata": {},
   "source": [
    "Now let's have a closer look at how the title and text sections of our data is formated in our current dataset"
   ]
  },
  {
   "cell_type": "code",
   "execution_count": 552,
   "id": "d4fb109b",
   "metadata": {},
   "outputs": [
    {
     "data": {
      "text/plain": [
       "0                             “Horrible experience”\n",
       "1                                       “Stay Away”\n",
       "2                      “Great location and service”\n",
       "3                “I will never go back here again!”\n",
       "4        “Ripped off our VISA card after departure”\n",
       "                            ...                    \n",
       "23994            “pleasant stay with good location”\n",
       "23995     “Hit or miss, some things need attention”\n",
       "23996                              “Good breakfast”\n",
       "23997                    “Deserves a higher rating”\n",
       "23998                        “Clean & comfortable!”\n",
       "Name: title, Length: 23999, dtype: object"
      ]
     },
     "execution_count": 552,
     "metadata": {},
     "output_type": "execute_result"
    }
   ],
   "source": [
    "train_data['title']"
   ]
  },
  {
   "cell_type": "code",
   "execution_count": 553,
   "id": "4750200a",
   "metadata": {},
   "outputs": [
    {
     "data": {
      "text/plain": [
       "'First of all we got there and they didn\\'t have the room we booked; did not pay us the difference from the room we booked to the cheaper one they gave us. STAFF took forever to address our problem, not KID friendly, pool dirty- and parking wow good luck going somewhere at night time and come back to the hotel to try to find a parking space THAT THEY CHARGE AN ADDITIONAL FEE FOR! (NOT INCLUDED IN THEIR OVERPRICED HOTEL STAY)\\nWe thought by paying more we would get a good deal well this hotel is not the case!!\\n$400 for a 2 night stay plus horrible customer service and a manager who never returned our call when we submitted the complain is not how you do business- They are giving SHERATON a horrible reputation- I guess they are managed by SHERATON but have their own \"policies\" and undesirable customer service.\\nGreat time in San Diego but a nightmare of a hotel.\\nDon\\'t ever write reviews but this one was called for, if you can avoid this hotel do it.\\n(Being a military family and moving from state to state we know about hotels and excellent customer service) \\n(Oh yeah no free breakfast either)'"
      ]
     },
     "execution_count": 553,
     "metadata": {},
     "output_type": "execute_result"
    }
   ],
   "source": [
    "train_data['text'][0]"
   ]
  },
  {
   "cell_type": "markdown",
   "id": "0bfdca17",
   "metadata": {},
   "source": [
    "We can see - especially in the text of our first review - that there are a number of non-alphanumeric characters (\\'t, -, \\n) that pepper the text. This could likely cause problems during evaluation as in the simplest terms, they add \"noise\" to our data. Our models and their respective tokenisers would also likely only expect alphanumeric representations. For more complex and dynamic tokenisation methods, the removal of these additional characters would reduce the overall vocab size and number of features which would make evaluation much less computationally intensive.\n",
    "\n",
    "To do this, we clean the data using some basic regex commands. Non-alphanumeric characters were prioritised alongside newline characters and apostrophes. Additional white spaces were also cleaned while an additional english translation step was introduced as a final sanity check for the previous step.\n",
    "\n",
    "While it should be noted that the removal of some of these characteristics may impact context clues, a more simplistic assumption is followed over the course of this assignment. Given an extention, experimentation could have been conducted regarding this. "
   ]
  },
  {
   "cell_type": "code",
   "execution_count": 554,
   "id": "21ccb43c",
   "metadata": {},
   "outputs": [],
   "source": [
    "#omitting lowercase for now\n",
    "def clean_text(text):\n",
    "    if isinstance(text, str):\n",
    "        text = re.sub(r'[^a-zA-Z0-9\\s]','',text)\n",
    "        text = re.sub(r'[\\n\\r\\t]', ' ',text)\n",
    "        text = re.sub(r'\\s+', ' ', text)\n",
    "        text.translate(text.maketrans('', '', string.punctuation)) #added just as a final sanity check if stuff was missed\n",
    "        return text.strip()\n",
    "    return \"\"\n",
    "\n",
    "train_data['clean_title'] = train_data['title'].apply(clean_text)\n",
    "train_data['clean_text'] = train_data['text'].apply(clean_text)\n",
    "\n",
    "test_data['clean_title'] = test_data['title'].apply(clean_text)\n",
    "test_data['clean_text'] = test_data['text'].apply(clean_text)"
   ]
  },
  {
   "cell_type": "markdown",
   "id": "f4f7044f",
   "metadata": {},
   "source": [
    "Now by comparing the original and clean text, we can verify that the text cleaning function worked."
   ]
  },
  {
   "cell_type": "code",
   "execution_count": 555,
   "id": "f0649051",
   "metadata": {},
   "outputs": [
    {
     "data": {
      "text/plain": [
       "'First of all we got there and they didn\\'t have the room we booked; did not pay us the difference from the room we booked to the cheaper one they gave us. STAFF took forever to address our problem, not KID friendly, pool dirty- and parking wow good luck going somewhere at night time and come back to the hotel to try to find a parking space THAT THEY CHARGE AN ADDITIONAL FEE FOR! (NOT INCLUDED IN THEIR OVERPRICED HOTEL STAY)\\nWe thought by paying more we would get a good deal well this hotel is not the case!!\\n$400 for a 2 night stay plus horrible customer service and a manager who never returned our call when we submitted the complain is not how you do business- They are giving SHERATON a horrible reputation- I guess they are managed by SHERATON but have their own \"policies\" and undesirable customer service.\\nGreat time in San Diego but a nightmare of a hotel.\\nDon\\'t ever write reviews but this one was called for, if you can avoid this hotel do it.\\n(Being a military family and moving from state to state we know about hotels and excellent customer service) \\n(Oh yeah no free breakfast either)'"
      ]
     },
     "execution_count": 555,
     "metadata": {},
     "output_type": "execute_result"
    }
   ],
   "source": [
    "train_data['text'][0]"
   ]
  },
  {
   "cell_type": "code",
   "execution_count": 556,
   "id": "38b1a62e",
   "metadata": {},
   "outputs": [
    {
     "data": {
      "text/plain": [
       "'First of all we got there and they didnt have the room we booked did not pay us the difference from the room we booked to the cheaper one they gave us STAFF took forever to address our problem not KID friendly pool dirty and parking wow good luck going somewhere at night time and come back to the hotel to try to find a parking space THAT THEY CHARGE AN ADDITIONAL FEE FOR NOT INCLUDED IN THEIR OVERPRICED HOTEL STAY We thought by paying more we would get a good deal well this hotel is not the case 400 for a 2 night stay plus horrible customer service and a manager who never returned our call when we submitted the complain is not how you do business They are giving SHERATON a horrible reputation I guess they are managed by SHERATON but have their own policies and undesirable customer service Great time in San Diego but a nightmare of a hotel Dont ever write reviews but this one was called for if you can avoid this hotel do it Being a military family and moving from state to state we know about hotels and excellent customer service Oh yeah no free breakfast either'"
      ]
     },
     "execution_count": 556,
     "metadata": {},
     "output_type": "execute_result"
    }
   ],
   "source": [
    "train_data['clean_text'][0]"
   ]
  },
  {
   "cell_type": "markdown",
   "id": "31d75afc",
   "metadata": {},
   "source": [
    "### 2. Exploratory Data Analysis (EDA)"
   ]
  },
  {
   "cell_type": "markdown",
   "id": "17beda67",
   "metadata": {},
   "source": [
    "Now following basic cleaning, we can start exploring the more telling sections of our dataset. We begin by verifying that the features for both the training and test set are identical"
   ]
  },
  {
   "cell_type": "code",
   "execution_count": 557,
   "id": "2d286790",
   "metadata": {},
   "outputs": [
    {
     "name": "stdout",
     "output_type": "stream",
     "text": [
      "Index(['ratings', 'title', 'text', 'author', 'date_stayed', 'offering_id',\n",
      "       'num_helpful_votes', 'date', 'id', 'via_mobile', 'clean_title',\n",
      "       'clean_text'],\n",
      "      dtype='object')\n",
      "Index(['ratings', 'title', 'text', 'author', 'date_stayed', 'offering_id',\n",
      "       'num_helpful_votes', 'date', 'id', 'via_mobile', 'clean_title',\n",
      "       'clean_text'],\n",
      "      dtype='object')\n"
     ]
    }
   ],
   "source": [
    "print(train_data.columns)\n",
    "print(test_data.columns)"
   ]
  },
  {
   "cell_type": "markdown",
   "id": "fbd36146",
   "metadata": {},
   "source": [
    "Now we can have a better look at our dataset as a whole. From now on, all visualisations will almost exclusively be conducted on the training data"
   ]
  },
  {
   "cell_type": "code",
   "execution_count": 558,
   "id": "37426673",
   "metadata": {},
   "outputs": [
    {
     "data": {
      "text/html": [
       "<div>\n",
       "<style scoped>\n",
       "    .dataframe tbody tr th:only-of-type {\n",
       "        vertical-align: middle;\n",
       "    }\n",
       "\n",
       "    .dataframe tbody tr th {\n",
       "        vertical-align: top;\n",
       "    }\n",
       "\n",
       "    .dataframe thead th {\n",
       "        text-align: right;\n",
       "    }\n",
       "</style>\n",
       "<table border=\"1\" class=\"dataframe\">\n",
       "  <thead>\n",
       "    <tr style=\"text-align: right;\">\n",
       "      <th></th>\n",
       "      <th>ratings</th>\n",
       "      <th>title</th>\n",
       "      <th>text</th>\n",
       "      <th>author</th>\n",
       "      <th>date_stayed</th>\n",
       "      <th>offering_id</th>\n",
       "      <th>num_helpful_votes</th>\n",
       "      <th>date</th>\n",
       "      <th>id</th>\n",
       "      <th>via_mobile</th>\n",
       "      <th>clean_title</th>\n",
       "      <th>clean_text</th>\n",
       "    </tr>\n",
       "  </thead>\n",
       "  <tbody>\n",
       "    <tr>\n",
       "      <th>0</th>\n",
       "      <td>{'service': 1.0, 'cleanliness': 2.0, 'overall'...</td>\n",
       "      <td>“Horrible experience”</td>\n",
       "      <td>First of all we got there and they didn't have...</td>\n",
       "      <td>{'username': 'Kh3RD', 'num_reviews': 1, 'id': ...</td>\n",
       "      <td>September 2012</td>\n",
       "      <td>80138</td>\n",
       "      <td>0</td>\n",
       "      <td>2012-09-19</td>\n",
       "      <td>140716137</td>\n",
       "      <td>False</td>\n",
       "      <td>Horrible experience</td>\n",
       "      <td>First of all we got there and they didnt have ...</td>\n",
       "    </tr>\n",
       "    <tr>\n",
       "      <th>1</th>\n",
       "      <td>{'cleanliness': 1.0, 'sleep_quality': 1.0, 'ov...</td>\n",
       "      <td>“Stay Away”</td>\n",
       "      <td>Found Racist graffiti in the room. Request to ...</td>\n",
       "      <td>{'username': 'TheUglyPhotographer', 'num_citie...</td>\n",
       "      <td>June 2011</td>\n",
       "      <td>240151</td>\n",
       "      <td>1</td>\n",
       "      <td>2011-06-27</td>\n",
       "      <td>114807323</td>\n",
       "      <td>False</td>\n",
       "      <td>Stay Away</td>\n",
       "      <td>Found Racist graffiti in the room Request to c...</td>\n",
       "    </tr>\n",
       "    <tr>\n",
       "      <th>2</th>\n",
       "      <td>{'service': 4.0, 'cleanliness': 5.0, 'overall'...</td>\n",
       "      <td>“Great location and service”</td>\n",
       "      <td>Close to Union Square - hotel is a bit of a ma...</td>\n",
       "      <td>{'username': 'Moonstonemoclips', 'num_cities':...</td>\n",
       "      <td>October 2010</td>\n",
       "      <td>80793</td>\n",
       "      <td>0</td>\n",
       "      <td>2010-10-25</td>\n",
       "      <td>84805430</td>\n",
       "      <td>False</td>\n",
       "      <td>Great location and service</td>\n",
       "      <td>Close to Union Square hotel is a bit of a maze...</td>\n",
       "    </tr>\n",
       "    <tr>\n",
       "      <th>3</th>\n",
       "      <td>{'service': 3.0, 'cleanliness': 2.0, 'overall'...</td>\n",
       "      <td>“I will never go back here again!”</td>\n",
       "      <td>I had a bad vibe about this place from the mom...</td>\n",
       "      <td>{'username': 'JoanellenJ', 'num_cities': 10, '...</td>\n",
       "      <td>June 2012</td>\n",
       "      <td>111418</td>\n",
       "      <td>1</td>\n",
       "      <td>2012-06-28</td>\n",
       "      <td>132971117</td>\n",
       "      <td>False</td>\n",
       "      <td>I will never go back here again</td>\n",
       "      <td>I had a bad vibe about this place from the mom...</td>\n",
       "    </tr>\n",
       "    <tr>\n",
       "      <th>4</th>\n",
       "      <td>{'overall': 1.0}</td>\n",
       "      <td>“Ripped off our VISA card after departure”</td>\n",
       "      <td>After we received our \"final\" bill and left th...</td>\n",
       "      <td>{'username': 'Lynnworks', 'num_cities': 3, 'nu...</td>\n",
       "      <td>January 2012</td>\n",
       "      <td>671150</td>\n",
       "      <td>3</td>\n",
       "      <td>2012-02-04</td>\n",
       "      <td>124104157</td>\n",
       "      <td>False</td>\n",
       "      <td>Ripped off our VISA card after departure</td>\n",
       "      <td>After we received our final bill and left the ...</td>\n",
       "    </tr>\n",
       "  </tbody>\n",
       "</table>\n",
       "</div>"
      ],
      "text/plain": [
       "                                             ratings  \\\n",
       "0  {'service': 1.0, 'cleanliness': 2.0, 'overall'...   \n",
       "1  {'cleanliness': 1.0, 'sleep_quality': 1.0, 'ov...   \n",
       "2  {'service': 4.0, 'cleanliness': 5.0, 'overall'...   \n",
       "3  {'service': 3.0, 'cleanliness': 2.0, 'overall'...   \n",
       "4                                   {'overall': 1.0}   \n",
       "\n",
       "                                        title  \\\n",
       "0                       “Horrible experience”   \n",
       "1                                 “Stay Away”   \n",
       "2                “Great location and service”   \n",
       "3          “I will never go back here again!”   \n",
       "4  “Ripped off our VISA card after departure”   \n",
       "\n",
       "                                                text  \\\n",
       "0  First of all we got there and they didn't have...   \n",
       "1  Found Racist graffiti in the room. Request to ...   \n",
       "2  Close to Union Square - hotel is a bit of a ma...   \n",
       "3  I had a bad vibe about this place from the mom...   \n",
       "4  After we received our \"final\" bill and left th...   \n",
       "\n",
       "                                              author     date_stayed  \\\n",
       "0  {'username': 'Kh3RD', 'num_reviews': 1, 'id': ...  September 2012   \n",
       "1  {'username': 'TheUglyPhotographer', 'num_citie...       June 2011   \n",
       "2  {'username': 'Moonstonemoclips', 'num_cities':...    October 2010   \n",
       "3  {'username': 'JoanellenJ', 'num_cities': 10, '...       June 2012   \n",
       "4  {'username': 'Lynnworks', 'num_cities': 3, 'nu...    January 2012   \n",
       "\n",
       "   offering_id  num_helpful_votes       date         id  via_mobile  \\\n",
       "0        80138                  0 2012-09-19  140716137       False   \n",
       "1       240151                  1 2011-06-27  114807323       False   \n",
       "2        80793                  0 2010-10-25   84805430       False   \n",
       "3       111418                  1 2012-06-28  132971117       False   \n",
       "4       671150                  3 2012-02-04  124104157       False   \n",
       "\n",
       "                                clean_title  \\\n",
       "0                       Horrible experience   \n",
       "1                                 Stay Away   \n",
       "2                Great location and service   \n",
       "3           I will never go back here again   \n",
       "4  Ripped off our VISA card after departure   \n",
       "\n",
       "                                          clean_text  \n",
       "0  First of all we got there and they didnt have ...  \n",
       "1  Found Racist graffiti in the room Request to c...  \n",
       "2  Close to Union Square hotel is a bit of a maze...  \n",
       "3  I had a bad vibe about this place from the mom...  \n",
       "4  After we received our final bill and left the ...  "
      ]
     },
     "execution_count": 558,
     "metadata": {},
     "output_type": "execute_result"
    }
   ],
   "source": [
    "train_data.head()"
   ]
  },
  {
   "cell_type": "markdown",
   "id": "1951043f",
   "metadata": {},
   "source": [
    "Now given that the assignment specifies the evaluation features to be \"overall\", \"title\" and \"text\", we should check to see if there are any missing fields that we should omit from the data. It can be seen that the overall rating is contained within a dictionary of ratings so to see if any reviews dont have an overall rating, it's as simple as doing key lookups in a dictionary."
   ]
  },
  {
   "cell_type": "code",
   "execution_count": 559,
   "id": "03661f61",
   "metadata": {},
   "outputs": [
    {
     "data": {
      "text/html": [
       "<div>\n",
       "<style scoped>\n",
       "    .dataframe tbody tr th:only-of-type {\n",
       "        vertical-align: middle;\n",
       "    }\n",
       "\n",
       "    .dataframe tbody tr th {\n",
       "        vertical-align: top;\n",
       "    }\n",
       "\n",
       "    .dataframe thead th {\n",
       "        text-align: right;\n",
       "    }\n",
       "</style>\n",
       "<table border=\"1\" class=\"dataframe\">\n",
       "  <thead>\n",
       "    <tr style=\"text-align: right;\">\n",
       "      <th></th>\n",
       "      <th>ratings</th>\n",
       "      <th>title</th>\n",
       "      <th>text</th>\n",
       "      <th>author</th>\n",
       "      <th>date_stayed</th>\n",
       "      <th>offering_id</th>\n",
       "      <th>num_helpful_votes</th>\n",
       "      <th>date</th>\n",
       "      <th>id</th>\n",
       "      <th>via_mobile</th>\n",
       "      <th>clean_title</th>\n",
       "      <th>clean_text</th>\n",
       "    </tr>\n",
       "  </thead>\n",
       "  <tbody>\n",
       "  </tbody>\n",
       "</table>\n",
       "</div>"
      ],
      "text/plain": [
       "Empty DataFrame\n",
       "Columns: [ratings, title, text, author, date_stayed, offering_id, num_helpful_votes, date, id, via_mobile, clean_title, clean_text]\n",
       "Index: []"
      ]
     },
     "execution_count": 559,
     "metadata": {},
     "output_type": "execute_result"
    }
   ],
   "source": [
    "missing_overall_rating = train_data[~train_data['ratings'].apply(lambda x: 'overall' in x)]\n",
    "missing_overall_rating"
   ]
  },
  {
   "cell_type": "markdown",
   "id": "679b9936",
   "metadata": {},
   "source": [
    "By performing this key lookup, we can see that every single review in the dataset contains atleast an overall rating of some kind. This means we can continue on to both the text and title fields. "
   ]
  },
  {
   "cell_type": "markdown",
   "id": "45f29d53",
   "metadata": {},
   "source": [
    "To explore the properties of both the text and title fields, the easiet way would be to check the minimum, average and maximum lengths of their contents. The code for both checks is near identical with only the accessed column being different "
   ]
  },
  {
   "cell_type": "code",
   "execution_count": 560,
   "id": "80188b7c",
   "metadata": {},
   "outputs": [
    {
     "name": "stdout",
     "output_type": "stream",
     "text": [
      "Shortest review: 4 words \n",
      "Average length of review: 152.342 words \n",
      "Longest review: 2239 words\n"
     ]
    }
   ],
   "source": [
    "max_words = train_data['clean_text'].apply(lambda x: len(str(x).split())).max()\n",
    "mean_words = train_data['clean_text'].apply(lambda x: len(str(x).split())).mean()\n",
    "min_words = train_data['clean_text'].apply(lambda x: len(str(x).split())).min()\n",
    "\n",
    "print(f\"Shortest review: {min_words} words\", \n",
    "      f\"\\nAverage length of review: {round(mean_words,3)} words\", \n",
    "      f\"\\nLongest review: {max_words} words\")"
   ]
  },
  {
   "cell_type": "code",
   "execution_count": 561,
   "id": "54989a8a",
   "metadata": {},
   "outputs": [
    {
     "name": "stdout",
     "output_type": "stream",
     "text": [
      "Shortest review title: 0 words \n",
      "Average length of review title: 4.822 words \n",
      "Longest review title: 26 words\n"
     ]
    }
   ],
   "source": [
    "max_title_length = train_data['clean_title'].apply(lambda x: len(str(x).split())).max()\n",
    "mean_title_length = train_data['clean_title'].apply(lambda x: len(str(x).split())).mean()\n",
    "min_title_length = train_data['clean_title'].apply(lambda x: len(str(x).split())).min()\n",
    "\n",
    "print(f\"Shortest review title: {min_title_length} words\", \n",
    "      f\"\\nAverage length of review title: {round(mean_title_length ,3)} words\", \n",
    "      f\"\\nLongest review title: {max_title_length} words\")"
   ]
  },
  {
   "cell_type": "markdown",
   "id": "b4092393",
   "metadata": {},
   "source": [
    "We notice here that while there seems to be text content for all the reviews in the dataset, there are titles present that have 0 words. Through exploration of the data, we can see that it seems to only be one review that lacks a title. We also see that this is a result of data cleaning as the original title contained a non-alphanumeric character."
   ]
  },
  {
   "cell_type": "code",
   "execution_count": 562,
   "id": "caf047bd",
   "metadata": {},
   "outputs": [
    {
     "data": {
      "text/html": [
       "<div>\n",
       "<style scoped>\n",
       "    .dataframe tbody tr th:only-of-type {\n",
       "        vertical-align: middle;\n",
       "    }\n",
       "\n",
       "    .dataframe tbody tr th {\n",
       "        vertical-align: top;\n",
       "    }\n",
       "\n",
       "    .dataframe thead th {\n",
       "        text-align: right;\n",
       "    }\n",
       "</style>\n",
       "<table border=\"1\" class=\"dataframe\">\n",
       "  <thead>\n",
       "    <tr style=\"text-align: right;\">\n",
       "      <th></th>\n",
       "      <th>ratings</th>\n",
       "      <th>title</th>\n",
       "      <th>text</th>\n",
       "      <th>author</th>\n",
       "      <th>date_stayed</th>\n",
       "      <th>offering_id</th>\n",
       "      <th>num_helpful_votes</th>\n",
       "      <th>date</th>\n",
       "      <th>id</th>\n",
       "      <th>via_mobile</th>\n",
       "      <th>clean_title</th>\n",
       "      <th>clean_text</th>\n",
       "    </tr>\n",
       "  </thead>\n",
       "  <tbody>\n",
       "    <tr>\n",
       "      <th>2169</th>\n",
       "      <td>{'service': 1.0, 'cleanliness': 5.0, 'overall'...</td>\n",
       "      <td>“!\"”</td>\n",
       "      <td>We stayed in the W in Dallas twice. The first ...</td>\n",
       "      <td>{'username': 'Chach63', 'num_cities': 15, 'num...</td>\n",
       "      <td>October 2011</td>\n",
       "      <td>600113</td>\n",
       "      <td>3</td>\n",
       "      <td>2012-07-06</td>\n",
       "      <td>133598143</td>\n",
       "      <td>False</td>\n",
       "      <td></td>\n",
       "      <td>We stayed in the W in Dallas twice The first t...</td>\n",
       "    </tr>\n",
       "  </tbody>\n",
       "</table>\n",
       "</div>"
      ],
      "text/plain": [
       "                                                ratings title  \\\n",
       "2169  {'service': 1.0, 'cleanliness': 5.0, 'overall'...  “!\"”   \n",
       "\n",
       "                                                   text  \\\n",
       "2169  We stayed in the W in Dallas twice. The first ...   \n",
       "\n",
       "                                                 author   date_stayed  \\\n",
       "2169  {'username': 'Chach63', 'num_cities': 15, 'num...  October 2011   \n",
       "\n",
       "      offering_id  num_helpful_votes       date         id  via_mobile  \\\n",
       "2169       600113                  3 2012-07-06  133598143       False   \n",
       "\n",
       "     clean_title                                         clean_text  \n",
       "2169              We stayed in the W in Dallas twice The first t...  "
      ]
     },
     "execution_count": 562,
     "metadata": {},
     "output_type": "execute_result"
    }
   ],
   "source": [
    "row_data = train_data.loc[train_data['clean_title'].str.split().str.len() == 0]\n",
    "row_data"
   ]
  },
  {
   "cell_type": "markdown",
   "id": "32918bc5",
   "metadata": {},
   "source": [
    " We make the decision to keep to keep this datapoint as text content of the review is still quite relavent and further down the line, both the title and text content will be combined into a singluar feature."
   ]
  },
  {
   "cell_type": "code",
   "execution_count": 563,
   "id": "ea82397e",
   "metadata": {},
   "outputs": [
    {
     "name": "stdout",
     "output_type": "stream",
     "text": [
      "original title: “!\"”,\n",
      "cleaned title: '' \n"
     ]
    }
   ],
   "source": [
    "print(f\"original title: {row_data['title'].iloc[0]},\\ncleaned title: '{row_data['clean_title'].iloc[0]}' \")"
   ]
  },
  {
   "cell_type": "markdown",
   "id": "9d50e35c",
   "metadata": {},
   "source": [
    "Now why dont we have a look at the longest title"
   ]
  },
  {
   "cell_type": "code",
   "execution_count": 564,
   "id": "925d4f95",
   "metadata": {},
   "outputs": [
    {
     "data": {
      "text/html": [
       "<div>\n",
       "<style scoped>\n",
       "    .dataframe tbody tr th:only-of-type {\n",
       "        vertical-align: middle;\n",
       "    }\n",
       "\n",
       "    .dataframe tbody tr th {\n",
       "        vertical-align: top;\n",
       "    }\n",
       "\n",
       "    .dataframe thead th {\n",
       "        text-align: right;\n",
       "    }\n",
       "</style>\n",
       "<table border=\"1\" class=\"dataframe\">\n",
       "  <thead>\n",
       "    <tr style=\"text-align: right;\">\n",
       "      <th></th>\n",
       "      <th>ratings</th>\n",
       "      <th>title</th>\n",
       "      <th>text</th>\n",
       "      <th>author</th>\n",
       "      <th>date_stayed</th>\n",
       "      <th>offering_id</th>\n",
       "      <th>num_helpful_votes</th>\n",
       "      <th>date</th>\n",
       "      <th>id</th>\n",
       "      <th>via_mobile</th>\n",
       "      <th>clean_title</th>\n",
       "      <th>clean_text</th>\n",
       "    </tr>\n",
       "  </thead>\n",
       "  <tbody>\n",
       "    <tr>\n",
       "      <th>5851</th>\n",
       "      <td>{'service': 4.0, 'cleanliness': 4.0, 'overall'...</td>\n",
       "      <td>“It was good hotel, a bit of walk to union squ...</td>\n",
       "      <td>It was good hotel, a bit of walk to union squa...</td>\n",
       "      <td>{'username': 'ECO_minnie', 'num_cities': 7, 'n...</td>\n",
       "      <td>January 2012</td>\n",
       "      <td>676408</td>\n",
       "      <td>0</td>\n",
       "      <td>2012-01-08</td>\n",
       "      <td>122776348</td>\n",
       "      <td>True</td>\n",
       "      <td>It was good hotel a bit of walk to union squar...</td>\n",
       "      <td>It was good hotel a bit of walk to union squar...</td>\n",
       "    </tr>\n",
       "  </tbody>\n",
       "</table>\n",
       "</div>"
      ],
      "text/plain": [
       "                                                ratings  \\\n",
       "5851  {'service': 4.0, 'cleanliness': 4.0, 'overall'...   \n",
       "\n",
       "                                                  title  \\\n",
       "5851  “It was good hotel, a bit of walk to union squ...   \n",
       "\n",
       "                                                   text  \\\n",
       "5851  It was good hotel, a bit of walk to union squa...   \n",
       "\n",
       "                                                 author   date_stayed  \\\n",
       "5851  {'username': 'ECO_minnie', 'num_cities': 7, 'n...  January 2012   \n",
       "\n",
       "      offering_id  num_helpful_votes       date         id  via_mobile  \\\n",
       "5851       676408                  0 2012-01-08  122776348        True   \n",
       "\n",
       "                                            clean_title  \\\n",
       "5851  It was good hotel a bit of walk to union squar...   \n",
       "\n",
       "                                             clean_text  \n",
       "5851  It was good hotel a bit of walk to union squar...  "
      ]
     },
     "execution_count": 564,
     "metadata": {},
     "output_type": "execute_result"
    }
   ],
   "source": [
    "row_data_max = train_data.loc[train_data['clean_title'].str.split().str.len() == 26]\n",
    "row_data_max"
   ]
  },
  {
   "cell_type": "markdown",
   "id": "cdf9d0e6",
   "metadata": {},
   "source": [
    "We notice here that the title of the review mirrors the text content of the review. This is an odd finding, could there be many more cases where this is the case?"
   ]
  },
  {
   "cell_type": "code",
   "execution_count": 565,
   "id": "535e390d",
   "metadata": {},
   "outputs": [
    {
     "name": "stdout",
     "output_type": "stream",
     "text": [
      "Number of reviews thats start with their entire title (title longer than 4 words): 43\n"
     ]
    },
    {
     "data": {
      "text/html": [
       "<div>\n",
       "<style scoped>\n",
       "    .dataframe tbody tr th:only-of-type {\n",
       "        vertical-align: middle;\n",
       "    }\n",
       "\n",
       "    .dataframe tbody tr th {\n",
       "        vertical-align: top;\n",
       "    }\n",
       "\n",
       "    .dataframe thead th {\n",
       "        text-align: right;\n",
       "    }\n",
       "</style>\n",
       "<table border=\"1\" class=\"dataframe\">\n",
       "  <thead>\n",
       "    <tr style=\"text-align: right;\">\n",
       "      <th></th>\n",
       "      <th>ratings</th>\n",
       "      <th>title</th>\n",
       "      <th>text</th>\n",
       "      <th>author</th>\n",
       "      <th>date_stayed</th>\n",
       "      <th>offering_id</th>\n",
       "      <th>num_helpful_votes</th>\n",
       "      <th>date</th>\n",
       "      <th>id</th>\n",
       "      <th>via_mobile</th>\n",
       "      <th>clean_title</th>\n",
       "      <th>clean_text</th>\n",
       "    </tr>\n",
       "  </thead>\n",
       "  <tbody>\n",
       "    <tr>\n",
       "      <th>556</th>\n",
       "      <td>{'service': 2.0, 'cleanliness': 1.0, 'overall'...</td>\n",
       "      <td>“Sorry to say i did not enjoy my stay at your ...</td>\n",
       "      <td>Sorry to say i did not enjoy my stay at your h...</td>\n",
       "      <td>{'username': 'WYNONNA H', 'num_reviews': 1, 'i...</td>\n",
       "      <td>December 2012</td>\n",
       "      <td>73768</td>\n",
       "      <td>0</td>\n",
       "      <td>2012-12-10</td>\n",
       "      <td>147158092</td>\n",
       "      <td>False</td>\n",
       "      <td>Sorry to say i did not enjoy my stay at your h...</td>\n",
       "      <td>Sorry to say i did not enjoy my stay at your h...</td>\n",
       "    </tr>\n",
       "    <tr>\n",
       "      <th>3056</th>\n",
       "      <td>{'service': 3.0, 'cleanliness': 3.0, 'overall'...</td>\n",
       "      <td>“Super Location/Tony the Tiger Breakfast (Grrr...</td>\n",
       "      <td>Super Location/Tony the Tiger Breakfast (Grrrr...</td>\n",
       "      <td>{'username': 'TriciaSK', 'num_cities': 4, 'num...</td>\n",
       "      <td>January 2012</td>\n",
       "      <td>79977</td>\n",
       "      <td>1</td>\n",
       "      <td>2012-02-16</td>\n",
       "      <td>124670932</td>\n",
       "      <td>False</td>\n",
       "      <td>Super LocationTony the Tiger Breakfast Grrrreat</td>\n",
       "      <td>Super LocationTony the Tiger Breakfast Grrrrea...</td>\n",
       "    </tr>\n",
       "    <tr>\n",
       "      <th>3652</th>\n",
       "      <td>{'service': 5.0, 'cleanliness': 5.0, 'overall'...</td>\n",
       "      <td>“it is a very decent hotel and an excellent pl...</td>\n",
       "      <td>it is a very decent hotel and an excellent pla...</td>\n",
       "      <td>{'username': 'BanuPradeep', 'num_reviews': 1, ...</td>\n",
       "      <td>December 2011</td>\n",
       "      <td>619615</td>\n",
       "      <td>1</td>\n",
       "      <td>2011-12-29</td>\n",
       "      <td>122221815</td>\n",
       "      <td>False</td>\n",
       "      <td>it is a very decent hotel and an excellent pla...</td>\n",
       "      <td>it is a very decent hotel and an excellent pla...</td>\n",
       "    </tr>\n",
       "    <tr>\n",
       "      <th>3832</th>\n",
       "      <td>{'service': 1.0, 'cleanliness': 1.0, 'overall'...</td>\n",
       "      <td>“Worst hotel I've ever stayed in”</td>\n",
       "      <td>Worst hotel I've ever stayed in!! First I wait...</td>\n",
       "      <td>{'username': 'Sk65stang', 'num_reviews': 3, 'n...</td>\n",
       "      <td>April 2012</td>\n",
       "      <td>108990</td>\n",
       "      <td>0</td>\n",
       "      <td>2012-04-24</td>\n",
       "      <td>128550978</td>\n",
       "      <td>True</td>\n",
       "      <td>Worst hotel Ive ever stayed in</td>\n",
       "      <td>Worst hotel Ive ever stayed in First I waited ...</td>\n",
       "    </tr>\n",
       "    <tr>\n",
       "      <th>3963</th>\n",
       "      <td>{'service': 5.0, 'cleanliness': 4.0, 'overall'...</td>\n",
       "      <td>“Love stayiing at the New Yorker. However, thi...</td>\n",
       "      <td>Love stayiing at the New Yorker. However, this...</td>\n",
       "      <td>{'username': 'CLAIRE M', 'num_reviews': 1, 'id...</td>\n",
       "      <td>November 2012</td>\n",
       "      <td>122005</td>\n",
       "      <td>2</td>\n",
       "      <td>2012-11-30</td>\n",
       "      <td>146487223</td>\n",
       "      <td>False</td>\n",
       "      <td>Love stayiing at the New Yorker However this t...</td>\n",
       "      <td>Love stayiing at the New Yorker However this t...</td>\n",
       "    </tr>\n",
       "    <tr>\n",
       "      <th>4032</th>\n",
       "      <td>{'service': 3.0, 'cleanliness': 4.0, 'overall'...</td>\n",
       "      <td>“Apparently being close to the University of T...</td>\n",
       "      <td>Apparently being close to the University of Te...</td>\n",
       "      <td>{'username': 'RACHEL B', 'num_reviews': 1, 'id...</td>\n",
       "      <td>December 2012</td>\n",
       "      <td>608007</td>\n",
       "      <td>0</td>\n",
       "      <td>2012-12-10</td>\n",
       "      <td>147152684</td>\n",
       "      <td>False</td>\n",
       "      <td>Apparently being close to the University of Te...</td>\n",
       "      <td>Apparently being close to the University of Te...</td>\n",
       "    </tr>\n",
       "    <tr>\n",
       "      <th>4382</th>\n",
       "      <td>{'service': 5.0, 'cleanliness': 5.0, 'overall'...</td>\n",
       "      <td>“The Benjamin was absolutely brilliant, from t...</td>\n",
       "      <td>The Benjamin was absolutely brilliant, from th...</td>\n",
       "      <td>{'username': 'jimmy096', 'num_reviews': 1, 'id...</td>\n",
       "      <td>November 2010</td>\n",
       "      <td>217626</td>\n",
       "      <td>0</td>\n",
       "      <td>2010-12-19</td>\n",
       "      <td>90249199</td>\n",
       "      <td>False</td>\n",
       "      <td>The Benjamin was absolutely brilliant from the...</td>\n",
       "      <td>The Benjamin was absolutely brilliant from the...</td>\n",
       "    </tr>\n",
       "    <tr>\n",
       "      <th>5199</th>\n",
       "      <td>{'service': 5.0, 'cleanliness': 5.0, 'overall'...</td>\n",
       "      <td>“Stayed here with my partner for several...”</td>\n",
       "      <td>Stayed here with my partner for several nights...</td>\n",
       "      <td>{'username': 'nickntulsa', 'num_cities': 6, 'n...</td>\n",
       "      <td>August 2010</td>\n",
       "      <td>120058</td>\n",
       "      <td>0</td>\n",
       "      <td>2010-08-08</td>\n",
       "      <td>74239281</td>\n",
       "      <td>True</td>\n",
       "      <td>Stayed here with my partner for several</td>\n",
       "      <td>Stayed here with my partner for several nights...</td>\n",
       "    </tr>\n",
       "    <tr>\n",
       "      <th>5833</th>\n",
       "      <td>{'service': 5.0, 'cleanliness': 5.0, 'overall'...</td>\n",
       "      <td>“Warm and friendly staff; great accommodations...</td>\n",
       "      <td>Warm and friendly staff; great accommodations;...</td>\n",
       "      <td>{'username': 'rhonda_1204', 'num_reviews': 1, ...</td>\n",
       "      <td>January 2012</td>\n",
       "      <td>99007</td>\n",
       "      <td>0</td>\n",
       "      <td>2012-01-26</td>\n",
       "      <td>123676902</td>\n",
       "      <td>False</td>\n",
       "      <td>Warm and friendly staff great accommodations d...</td>\n",
       "      <td>Warm and friendly staff great accommodations d...</td>\n",
       "    </tr>\n",
       "    <tr>\n",
       "      <th>6225</th>\n",
       "      <td>{'service': 5.0, 'cleanliness': 5.0, 'overall'...</td>\n",
       "      <td>“Wowowowowow Absolutely one of the amazing...”</td>\n",
       "      <td>Wowowowowow Absolutely one of the amazing stay...</td>\n",
       "      <td>{'username': 'Jaddo', 'num_cities': 11, 'num_h...</td>\n",
       "      <td>August 2010</td>\n",
       "      <td>1502098</td>\n",
       "      <td>0</td>\n",
       "      <td>2010-08-23</td>\n",
       "      <td>76580951</td>\n",
       "      <td>True</td>\n",
       "      <td>Wowowowowow Absolutely one of the amazing</td>\n",
       "      <td>Wowowowowow Absolutely one of the amazing stay...</td>\n",
       "    </tr>\n",
       "    <tr>\n",
       "      <th>6267</th>\n",
       "      <td>{'service': 5.0, 'cleanliness': 5.0, 'overall'...</td>\n",
       "      <td>“My stay was excellent Vickie Bellinghausen, S...</td>\n",
       "      <td>My stay was excellent Vickie Bellinghausen, Se...</td>\n",
       "      <td>{'username': 'kzn1hp48', 'num_reviews': 1, 'id...</td>\n",
       "      <td>July 2010</td>\n",
       "      <td>107836</td>\n",
       "      <td>0</td>\n",
       "      <td>2010-07-30</td>\n",
       "      <td>73010283</td>\n",
       "      <td>False</td>\n",
       "      <td>My stay was excellent Vickie Bellinghausen Sen...</td>\n",
       "      <td>My stay was excellent Vickie Bellinghausen Sen...</td>\n",
       "    </tr>\n",
       "    <tr>\n",
       "      <th>6865</th>\n",
       "      <td>{'service': 4.0, 'cleanliness': 4.0, 'overall'...</td>\n",
       "      <td>“I got upgraded to one of the hotel's new...”</td>\n",
       "      <td>I got upgraded to one of the hotel's new suite...</td>\n",
       "      <td>{'username': 'dmhinsf', 'num_cities': 8, 'num_...</td>\n",
       "      <td>June 2010</td>\n",
       "      <td>79228</td>\n",
       "      <td>0</td>\n",
       "      <td>2010-06-21</td>\n",
       "      <td>68167756</td>\n",
       "      <td>True</td>\n",
       "      <td>I got upgraded to one of the hotels new</td>\n",
       "      <td>I got upgraded to one of the hotels new suites...</td>\n",
       "    </tr>\n",
       "    <tr>\n",
       "      <th>6942</th>\n",
       "      <td>{'service': 4.0, 'cleanliness': 5.0, 'overall'...</td>\n",
       "      <td>“This is a great place to stay with your family!”</td>\n",
       "      <td>This is a great place to stay with your family...</td>\n",
       "      <td>{'username': 'eyesesk', 'num_reviews': 2, 'num...</td>\n",
       "      <td>March 2011</td>\n",
       "      <td>124839</td>\n",
       "      <td>0</td>\n",
       "      <td>2011-03-21</td>\n",
       "      <td>101052744</td>\n",
       "      <td>False</td>\n",
       "      <td>This is a great place to stay with your family</td>\n",
       "      <td>This is a great place to stay with your family...</td>\n",
       "    </tr>\n",
       "    <tr>\n",
       "      <th>7102</th>\n",
       "      <td>{'service': 5.0, 'cleanliness': 5.0, 'overall'...</td>\n",
       "      <td>“The hotel is clean and fresh and...”</td>\n",
       "      <td>The hotel is clean and fresh and inviting! Our...</td>\n",
       "      <td>{'username': 'Vgvegas', 'num_reviews': 1, 'id'...</td>\n",
       "      <td>May 2010</td>\n",
       "      <td>81375</td>\n",
       "      <td>0</td>\n",
       "      <td>2010-06-08</td>\n",
       "      <td>66902538</td>\n",
       "      <td>True</td>\n",
       "      <td>The hotel is clean and fresh and</td>\n",
       "      <td>The hotel is clean and fresh and inviting Our ...</td>\n",
       "    </tr>\n",
       "    <tr>\n",
       "      <th>8131</th>\n",
       "      <td>{'service': 2.0, 'cleanliness': 3.0, 'overall'...</td>\n",
       "      <td>“I Did Not Feel Safe”</td>\n",
       "      <td>I did not feel safe at this Hotel. I checked o...</td>\n",
       "      <td>{'username': 'qualitytravler', 'num_cities': 6...</td>\n",
       "      <td>September 2011</td>\n",
       "      <td>81038</td>\n",
       "      <td>0</td>\n",
       "      <td>2011-10-02</td>\n",
       "      <td>118867489</td>\n",
       "      <td>False</td>\n",
       "      <td>I Did Not Feel Safe</td>\n",
       "      <td>I did not feel safe at this Hotel I checked ou...</td>\n",
       "    </tr>\n",
       "    <tr>\n",
       "      <th>8594</th>\n",
       "      <td>{'service': 5.0, 'cleanliness': 5.0, 'overall'...</td>\n",
       "      <td>“Wonderful Experience. Great Service. Perfect ...</td>\n",
       "      <td>Wonderful Experience. Great Service. Perfect L...</td>\n",
       "      <td>{'username': 'Brian92882', 'num_cities': 10, '...</td>\n",
       "      <td>November 2011</td>\n",
       "      <td>84125</td>\n",
       "      <td>0</td>\n",
       "      <td>2011-11-28</td>\n",
       "      <td>121149445</td>\n",
       "      <td>False</td>\n",
       "      <td>Wonderful Experience Great Service Perfect Loc...</td>\n",
       "      <td>Wonderful Experience Great Service Perfect Loc...</td>\n",
       "    </tr>\n",
       "    <tr>\n",
       "      <th>8702</th>\n",
       "      <td>{'service': 1.0, 'cleanliness': 2.0, 'overall'...</td>\n",
       "      <td>“NEVER AGAIN, will I stay at this hotel. I...”</td>\n",
       "      <td>NEVER AGAIN, will I stay at this hotel. I am a...</td>\n",
       "      <td>{'username': 'ChoicesNorthCarolina', 'num_citi...</td>\n",
       "      <td>June 2010</td>\n",
       "      <td>93450</td>\n",
       "      <td>1</td>\n",
       "      <td>2010-06-14</td>\n",
       "      <td>67426879</td>\n",
       "      <td>True</td>\n",
       "      <td>NEVER AGAIN will I stay at this hotel I</td>\n",
       "      <td>NEVER AGAIN will I stay at this hotel I am a D...</td>\n",
       "    </tr>\n",
       "    <tr>\n",
       "      <th>11497</th>\n",
       "      <td>{'cleanliness': 5.0, 'sleep_quality': 4.0, 'ov...</td>\n",
       "      <td>“I was disappointed by the absence of a bike i...</td>\n",
       "      <td>I was disappointed by the absence of a bike in...</td>\n",
       "      <td>{'username': 'reisiger161', 'num_reviews': 1, ...</td>\n",
       "      <td>June 2011</td>\n",
       "      <td>217844</td>\n",
       "      <td>1</td>\n",
       "      <td>2011-06-20</td>\n",
       "      <td>114584724</td>\n",
       "      <td>False</td>\n",
       "      <td>I was disappointed by the absence of a bike in...</td>\n",
       "      <td>I was disappointed by the absence of a bike in...</td>\n",
       "    </tr>\n",
       "    <tr>\n",
       "      <th>12606</th>\n",
       "      <td>{'service': 1.0, 'cleanliness': 2.0, 'overall'...</td>\n",
       "      <td>“Boooo! The manager Jesse was quite rude...”</td>\n",
       "      <td>Boooo! The manager Jesse was quite rude. This ...</td>\n",
       "      <td>{'username': 'Cleorocks22', 'num_reviews': 1, ...</td>\n",
       "      <td>July 2010</td>\n",
       "      <td>566802</td>\n",
       "      <td>0</td>\n",
       "      <td>2010-06-29</td>\n",
       "      <td>69096129</td>\n",
       "      <td>True</td>\n",
       "      <td>Boooo The manager Jesse was quite rude</td>\n",
       "      <td>Boooo The manager Jesse was quite rude This ho...</td>\n",
       "    </tr>\n",
       "    <tr>\n",
       "      <th>12701</th>\n",
       "      <td>{'service': 5.0, 'cleanliness': 5.0, 'overall'...</td>\n",
       "      <td>“Super style-y. Really nice staff. Nice...”</td>\n",
       "      <td>Super style-y. Really nice staff. Nice comfy r...</td>\n",
       "      <td>{'username': '', 'id': '', 'location': ''}</td>\n",
       "      <td>NaN</td>\n",
       "      <td>1201072</td>\n",
       "      <td>1</td>\n",
       "      <td>2010-05-16</td>\n",
       "      <td>64300621</td>\n",
       "      <td>True</td>\n",
       "      <td>Super styley Really nice staff Nice</td>\n",
       "      <td>Super styley Really nice staff Nice comfy room...</td>\n",
       "    </tr>\n",
       "    <tr>\n",
       "      <th>12742</th>\n",
       "      <td>{'service': 5.0, 'cleanliness': 5.0, 'overall'...</td>\n",
       "      <td>“I've stayed a several high-scale hotels in Da...</td>\n",
       "      <td>I've stayed a several high-scale hotels in Dal...</td>\n",
       "      <td>{'username': 'MsBooks', 'num_cities': 5, 'num_...</td>\n",
       "      <td>April 2010</td>\n",
       "      <td>98727</td>\n",
       "      <td>0</td>\n",
       "      <td>2010-04-06</td>\n",
       "      <td>60574486</td>\n",
       "      <td>False</td>\n",
       "      <td>Ive stayed a several highscale hotels in Dalla...</td>\n",
       "      <td>Ive stayed a several highscale hotels in Dalla...</td>\n",
       "    </tr>\n",
       "    <tr>\n",
       "      <th>13931</th>\n",
       "      <td>{'service': 4.0, 'cleanliness': 3.0, 'overall'...</td>\n",
       "      <td>“It's 11:30 PM, I'm laying here in bed and...”</td>\n",
       "      <td>It's 11:30 PM, I'm laying here in bed and can'...</td>\n",
       "      <td>{'username': 'TravelingTracy33', 'num_cities':...</td>\n",
       "      <td>June 2010</td>\n",
       "      <td>80193</td>\n",
       "      <td>0</td>\n",
       "      <td>2010-06-20</td>\n",
       "      <td>68036583</td>\n",
       "      <td>True</td>\n",
       "      <td>Its 1130 PM Im laying here in bed and</td>\n",
       "      <td>Its 1130 PM Im laying here in bed and cant sle...</td>\n",
       "    </tr>\n",
       "    <tr>\n",
       "      <th>14308</th>\n",
       "      <td>{'service': 5.0, 'cleanliness': 5.0, 'overall'...</td>\n",
       "      <td>“Was there in March 2010 for a conference...”</td>\n",
       "      <td>Was there in March 2010 for a conference in an...</td>\n",
       "      <td>{'username': 'DDPTexas', 'num_cities': 25, 'nu...</td>\n",
       "      <td>NaN</td>\n",
       "      <td>122332</td>\n",
       "      <td>0</td>\n",
       "      <td>2010-05-27</td>\n",
       "      <td>65477565</td>\n",
       "      <td>False</td>\n",
       "      <td>Was there in March 2010 for a conference</td>\n",
       "      <td>Was there in March 2010 for a conference in an...</td>\n",
       "    </tr>\n",
       "    <tr>\n",
       "      <th>14428</th>\n",
       "      <td>{'service': 5.0, 'cleanliness': 5.0, 'overall'...</td>\n",
       "      <td>“This hotel is extremely great, kind staff...”</td>\n",
       "      <td>This hotel is extremely great, kind staff and ...</td>\n",
       "      <td>{'username': 'ebjamjas', 'num_reviews': 1, 'id...</td>\n",
       "      <td>February 2010</td>\n",
       "      <td>96726</td>\n",
       "      <td>0</td>\n",
       "      <td>2010-02-22</td>\n",
       "      <td>56785526</td>\n",
       "      <td>True</td>\n",
       "      <td>This hotel is extremely great kind staff</td>\n",
       "      <td>This hotel is extremely great kind staff and v...</td>\n",
       "    </tr>\n",
       "    <tr>\n",
       "      <th>14848</th>\n",
       "      <td>{'service': 4.0, 'cleanliness': 5.0, 'overall'...</td>\n",
       "      <td>“Great beds, location good but on dark, unkept...</td>\n",
       "      <td>Great beds, location good but on dark, unkept ...</td>\n",
       "      <td>{'username': 'sadiedog', 'num_cities': 22, 'nu...</td>\n",
       "      <td>November 2010</td>\n",
       "      <td>641209</td>\n",
       "      <td>0</td>\n",
       "      <td>2010-11-14</td>\n",
       "      <td>87034020</td>\n",
       "      <td>False</td>\n",
       "      <td>Great beds location good but on dark unkept si...</td>\n",
       "      <td>Great beds location good but on dark unkept si...</td>\n",
       "    </tr>\n",
       "    <tr>\n",
       "      <th>16440</th>\n",
       "      <td>{'service': 5.0, 'cleanliness': 3.0, 'overall'...</td>\n",
       "      <td>“Great check in procedure thru Ellen Douglas,...”</td>\n",
       "      <td>Great check in procedure thru Ellen Douglas, w...</td>\n",
       "      <td>{'username': 'Minibon', 'num_cities': 2, 'num_...</td>\n",
       "      <td>April 2012</td>\n",
       "      <td>93520</td>\n",
       "      <td>0</td>\n",
       "      <td>2012-04-19</td>\n",
       "      <td>128170993</td>\n",
       "      <td>False</td>\n",
       "      <td>Great check in procedure thru Ellen Douglas</td>\n",
       "      <td>Great check in procedure thru Ellen Douglas wh...</td>\n",
       "    </tr>\n",
       "    <tr>\n",
       "      <th>16659</th>\n",
       "      <td>{'service': 5.0, 'cleanliness': 5.0, 'overall'...</td>\n",
       "      <td>“A fine place for a stay in Los Angeles”</td>\n",
       "      <td>A fine place for a stay in Los Angeles. Reason...</td>\n",
       "      <td>{'username': 'poultrip', 'num_cities': 15, 'nu...</td>\n",
       "      <td>July 2009</td>\n",
       "      <td>84440</td>\n",
       "      <td>0</td>\n",
       "      <td>2009-07-28</td>\n",
       "      <td>36056939</td>\n",
       "      <td>False</td>\n",
       "      <td>A fine place for a stay in Los Angeles</td>\n",
       "      <td>A fine place for a stay in Los Angeles Reasona...</td>\n",
       "    </tr>\n",
       "    <tr>\n",
       "      <th>16729</th>\n",
       "      <td>{'value': 4.0, 'overall': 4.0, 'location': 4.0...</td>\n",
       "      <td>“Priceline got us here but we'd go back”</td>\n",
       "      <td>Priceline got us here but we'd go back now tha...</td>\n",
       "      <td>{'username': 'KTT', 'num_cities': 27, 'num_hel...</td>\n",
       "      <td>August 2011</td>\n",
       "      <td>83097</td>\n",
       "      <td>0</td>\n",
       "      <td>2011-09-12</td>\n",
       "      <td>118022522</td>\n",
       "      <td>False</td>\n",
       "      <td>Priceline got us here but wed go back</td>\n",
       "      <td>Priceline got us here but wed go back now that...</td>\n",
       "    </tr>\n",
       "    <tr>\n",
       "      <th>16826</th>\n",
       "      <td>{'service': 4.0, 'cleanliness': 4.0, 'overall'...</td>\n",
       "      <td>“Spent 3 nights during cherry blossom...”</td>\n",
       "      <td>Spent 3 nights during cherry blossom season wi...</td>\n",
       "      <td>{'username': 'RGeffner', 'num_cities': 4, 'num...</td>\n",
       "      <td>NaN</td>\n",
       "      <td>84093</td>\n",
       "      <td>0</td>\n",
       "      <td>2010-04-02</td>\n",
       "      <td>60200392</td>\n",
       "      <td>True</td>\n",
       "      <td>Spent 3 nights during cherry blossom</td>\n",
       "      <td>Spent 3 nights during cherry blossom season wi...</td>\n",
       "    </tr>\n",
       "    <tr>\n",
       "      <th>16968</th>\n",
       "      <td>{'service': 2.0, 'cleanliness': 2.0, 'overall'...</td>\n",
       "      <td>“Hotel is in a reasonable location to 6th St, ...</td>\n",
       "      <td>Hotel is in a reasonable location to 6th St, a...</td>\n",
       "      <td>{'username': 'RICHARD O', 'num_reviews': 1, 'i...</td>\n",
       "      <td>November 2012</td>\n",
       "      <td>73759</td>\n",
       "      <td>0</td>\n",
       "      <td>2012-11-25</td>\n",
       "      <td>146187124</td>\n",
       "      <td>False</td>\n",
       "      <td>Hotel is in a reasonable location to 6th St ap...</td>\n",
       "      <td>Hotel is in a reasonable location to 6th St ap...</td>\n",
       "    </tr>\n",
       "    <tr>\n",
       "      <th>17749</th>\n",
       "      <td>{'overall': 2.0}</td>\n",
       "      <td>“This is a GREAT hotel for less than $100/night”</td>\n",
       "      <td>This is a GREAT hotel for less than $100/night...</td>\n",
       "      <td>{'username': 'vegaslover73', 'num_cities': 28,...</td>\n",
       "      <td>NaN</td>\n",
       "      <td>84078</td>\n",
       "      <td>0</td>\n",
       "      <td>2004-02-13</td>\n",
       "      <td>1648856</td>\n",
       "      <td>False</td>\n",
       "      <td>This is a GREAT hotel for less than 100night</td>\n",
       "      <td>This is a GREAT hotel for less than 100night b...</td>\n",
       "    </tr>\n",
       "    <tr>\n",
       "      <th>18915</th>\n",
       "      <td>{'service': 4.0, 'cleanliness': 4.0, 'overall'...</td>\n",
       "      <td>“This is a very nice hotel. It is right on...”</td>\n",
       "      <td>This is a very nice hotel. It is right on IH 1...</td>\n",
       "      <td>{'username': 'nine_iron76', 'num_cities': 5, '...</td>\n",
       "      <td>September 2010</td>\n",
       "      <td>1229785</td>\n",
       "      <td>0</td>\n",
       "      <td>2010-09-23</td>\n",
       "      <td>80772954</td>\n",
       "      <td>True</td>\n",
       "      <td>This is a very nice hotel It is right on</td>\n",
       "      <td>This is a very nice hotel It is right on IH 10...</td>\n",
       "    </tr>\n",
       "    <tr>\n",
       "      <th>19159</th>\n",
       "      <td>{'service': 3.0, 'cleanliness': 5.0, 'overall'...</td>\n",
       "      <td>“We stayed here for a conference and had a...”</td>\n",
       "      <td>We stayed here for a conference and had a jr s...</td>\n",
       "      <td>{'username': 'photoman1982', 'num_cities': 5, ...</td>\n",
       "      <td>September 2010</td>\n",
       "      <td>223860</td>\n",
       "      <td>0</td>\n",
       "      <td>2010-09-24</td>\n",
       "      <td>80849090</td>\n",
       "      <td>False</td>\n",
       "      <td>We stayed here for a conference and had a</td>\n",
       "      <td>We stayed here for a conference and had a jr s...</td>\n",
       "    </tr>\n",
       "    <tr>\n",
       "      <th>19246</th>\n",
       "      <td>{'overall': 5.0}</td>\n",
       "      <td>“Lovely hotel, wonderful service, great locati...</td>\n",
       "      <td>Lovely hotel, wonderful service, great locatio...</td>\n",
       "      <td>{'username': 'Camalama05', 'num_reviews': 1, '...</td>\n",
       "      <td>September 2010</td>\n",
       "      <td>83040</td>\n",
       "      <td>0</td>\n",
       "      <td>2010-09-16</td>\n",
       "      <td>79815851</td>\n",
       "      <td>False</td>\n",
       "      <td>Lovely hotel wonderful service great location</td>\n",
       "      <td>Lovely hotel wonderful service great location ...</td>\n",
       "    </tr>\n",
       "    <tr>\n",
       "      <th>20426</th>\n",
       "      <td>{'service': 5.0, 'cleanliness': 5.0, 'overall'...</td>\n",
       "      <td>“We had an amazing stay. Totally in line...”</td>\n",
       "      <td>We had an amazing stay. Totally in line with a...</td>\n",
       "      <td>{'username': 'triplover25', 'num_cities': 5, '...</td>\n",
       "      <td>May 2010</td>\n",
       "      <td>81985</td>\n",
       "      <td>0</td>\n",
       "      <td>2010-05-29</td>\n",
       "      <td>65764419</td>\n",
       "      <td>False</td>\n",
       "      <td>We had an amazing stay Totally in line</td>\n",
       "      <td>We had an amazing stay Totally in line with al...</td>\n",
       "    </tr>\n",
       "    <tr>\n",
       "      <th>20475</th>\n",
       "      <td>{'cleanliness': 5.0, 'sleep_quality': 5.0, 'ov...</td>\n",
       "      <td>“Fabulous hotel for business and pleasure.”</td>\n",
       "      <td>Fabulous hotel for business and pleasure with ...</td>\n",
       "      <td>{'username': 'ptousignant', 'num_reviews': 1, ...</td>\n",
       "      <td>July 2011</td>\n",
       "      <td>266157</td>\n",
       "      <td>0</td>\n",
       "      <td>2011-07-25</td>\n",
       "      <td>115754906</td>\n",
       "      <td>False</td>\n",
       "      <td>Fabulous hotel for business and pleasure</td>\n",
       "      <td>Fabulous hotel for business and pleasure with ...</td>\n",
       "    </tr>\n",
       "    <tr>\n",
       "      <th>21046</th>\n",
       "      <td>{'service': 5.0, 'cleanliness': 5.0, 'overall'...</td>\n",
       "      <td>“If you like Art and Something Different...”</td>\n",
       "      <td>If you like Art and something different this i...</td>\n",
       "      <td>{'username': 'Kazeo', 'num_reviews': 1, 'id': ...</td>\n",
       "      <td>August 2008</td>\n",
       "      <td>100587</td>\n",
       "      <td>0</td>\n",
       "      <td>2008-08-21</td>\n",
       "      <td>19218127</td>\n",
       "      <td>False</td>\n",
       "      <td>If you like Art and Something Different</td>\n",
       "      <td>If you like Art and something different this i...</td>\n",
       "    </tr>\n",
       "    <tr>\n",
       "      <th>21898</th>\n",
       "      <td>{'service': 1.0, 'cleanliness': 5.0, 'overall'...</td>\n",
       "      <td>“First of all let me start by saying the...”</td>\n",
       "      <td>First of all let me start by saying the actual...</td>\n",
       "      <td>{'username': 'dana713', 'num_reviews': 1, 'id'...</td>\n",
       "      <td>NaN</td>\n",
       "      <td>114149</td>\n",
       "      <td>3</td>\n",
       "      <td>2010-08-15</td>\n",
       "      <td>75274515</td>\n",
       "      <td>True</td>\n",
       "      <td>First of all let me start by saying the</td>\n",
       "      <td>First of all let me start by saying the actual...</td>\n",
       "    </tr>\n",
       "    <tr>\n",
       "      <th>22373</th>\n",
       "      <td>{'overall': 1.0}</td>\n",
       "      <td>“The view of Downtoen Fort Worth at night was ...</td>\n",
       "      <td>The view of Downtoen Fort Worth at night was w...</td>\n",
       "      <td>{'username': '', 'id': '', 'location': ''}</td>\n",
       "      <td>NaN</td>\n",
       "      <td>98856</td>\n",
       "      <td>5</td>\n",
       "      <td>2003-09-28</td>\n",
       "      <td>1369728</td>\n",
       "      <td>False</td>\n",
       "      <td>The view of Downtoen Fort Worth at night was w...</td>\n",
       "      <td>The view of Downtoen Fort Worth at night was w...</td>\n",
       "    </tr>\n",
       "    <tr>\n",
       "      <th>22762</th>\n",
       "      <td>{'service': 1.0, 'cleanliness': 3.0, 'overall'...</td>\n",
       "      <td>“Very understaffed and eating there made us sick”</td>\n",
       "      <td>Very understaffed and eating there made us sic...</td>\n",
       "      <td>{'username': 'Tiredtraveler1', 'num_cities': 2...</td>\n",
       "      <td>October 2009</td>\n",
       "      <td>111428</td>\n",
       "      <td>1</td>\n",
       "      <td>2009-10-24</td>\n",
       "      <td>47664887</td>\n",
       "      <td>False</td>\n",
       "      <td>Very understaffed and eating there made us sick</td>\n",
       "      <td>Very understaffed and eating there made us sic...</td>\n",
       "    </tr>\n",
       "    <tr>\n",
       "      <th>22852</th>\n",
       "      <td>{'service': 5.0, 'cleanliness': 5.0, 'overall'...</td>\n",
       "      <td>“Red Roof Inn always exceeds my expectations.”</td>\n",
       "      <td>Red Roof Inn always exceeds my expectations. T...</td>\n",
       "      <td>{'username': 'ABIGAILColumbus_Ohio', 'num_revi...</td>\n",
       "      <td>February 2010</td>\n",
       "      <td>224820</td>\n",
       "      <td>0</td>\n",
       "      <td>2010-03-01</td>\n",
       "      <td>57471701</td>\n",
       "      <td>False</td>\n",
       "      <td>Red Roof Inn always exceeds my expectations</td>\n",
       "      <td>Red Roof Inn always exceeds my expectations Th...</td>\n",
       "    </tr>\n",
       "    <tr>\n",
       "      <th>23431</th>\n",
       "      <td>{'service': 4.0, 'cleanliness': 4.0, 'overall'...</td>\n",
       "      <td>“OK for a stop over”</td>\n",
       "      <td>OK for a stop over. Located 200 yds from Mall ...</td>\n",
       "      <td>{'username': 'Only_the_truth', 'num_cities': 3...</td>\n",
       "      <td>October 2009</td>\n",
       "      <td>223166</td>\n",
       "      <td>0</td>\n",
       "      <td>2009-10-10</td>\n",
       "      <td>46469824</td>\n",
       "      <td>False</td>\n",
       "      <td>OK for a stop over</td>\n",
       "      <td>OK for a stop over Located 200 yds from Mall a...</td>\n",
       "    </tr>\n",
       "    <tr>\n",
       "      <th>23957</th>\n",
       "      <td>{'service': 5.0, 'cleanliness': 5.0, 'overall'...</td>\n",
       "      <td>“Great room and happy with the cost also! We f...</td>\n",
       "      <td>Great room and happy with the cost also! We fo...</td>\n",
       "      <td>{'username': 'EVA F', 'num_reviews': 1, 'id': ...</td>\n",
       "      <td>December 2012</td>\n",
       "      <td>217653</td>\n",
       "      <td>0</td>\n",
       "      <td>2012-12-03</td>\n",
       "      <td>146726244</td>\n",
       "      <td>False</td>\n",
       "      <td>Great room and happy with the cost also We fou...</td>\n",
       "      <td>Great room and happy with the cost also We fou...</td>\n",
       "    </tr>\n",
       "  </tbody>\n",
       "</table>\n",
       "</div>"
      ],
      "text/plain": [
       "                                                 ratings  \\\n",
       "556    {'service': 2.0, 'cleanliness': 1.0, 'overall'...   \n",
       "3056   {'service': 3.0, 'cleanliness': 3.0, 'overall'...   \n",
       "3652   {'service': 5.0, 'cleanliness': 5.0, 'overall'...   \n",
       "3832   {'service': 1.0, 'cleanliness': 1.0, 'overall'...   \n",
       "3963   {'service': 5.0, 'cleanliness': 4.0, 'overall'...   \n",
       "4032   {'service': 3.0, 'cleanliness': 4.0, 'overall'...   \n",
       "4382   {'service': 5.0, 'cleanliness': 5.0, 'overall'...   \n",
       "5199   {'service': 5.0, 'cleanliness': 5.0, 'overall'...   \n",
       "5833   {'service': 5.0, 'cleanliness': 5.0, 'overall'...   \n",
       "6225   {'service': 5.0, 'cleanliness': 5.0, 'overall'...   \n",
       "6267   {'service': 5.0, 'cleanliness': 5.0, 'overall'...   \n",
       "6865   {'service': 4.0, 'cleanliness': 4.0, 'overall'...   \n",
       "6942   {'service': 4.0, 'cleanliness': 5.0, 'overall'...   \n",
       "7102   {'service': 5.0, 'cleanliness': 5.0, 'overall'...   \n",
       "8131   {'service': 2.0, 'cleanliness': 3.0, 'overall'...   \n",
       "8594   {'service': 5.0, 'cleanliness': 5.0, 'overall'...   \n",
       "8702   {'service': 1.0, 'cleanliness': 2.0, 'overall'...   \n",
       "11497  {'cleanliness': 5.0, 'sleep_quality': 4.0, 'ov...   \n",
       "12606  {'service': 1.0, 'cleanliness': 2.0, 'overall'...   \n",
       "12701  {'service': 5.0, 'cleanliness': 5.0, 'overall'...   \n",
       "12742  {'service': 5.0, 'cleanliness': 5.0, 'overall'...   \n",
       "13931  {'service': 4.0, 'cleanliness': 3.0, 'overall'...   \n",
       "14308  {'service': 5.0, 'cleanliness': 5.0, 'overall'...   \n",
       "14428  {'service': 5.0, 'cleanliness': 5.0, 'overall'...   \n",
       "14848  {'service': 4.0, 'cleanliness': 5.0, 'overall'...   \n",
       "16440  {'service': 5.0, 'cleanliness': 3.0, 'overall'...   \n",
       "16659  {'service': 5.0, 'cleanliness': 5.0, 'overall'...   \n",
       "16729  {'value': 4.0, 'overall': 4.0, 'location': 4.0...   \n",
       "16826  {'service': 4.0, 'cleanliness': 4.0, 'overall'...   \n",
       "16968  {'service': 2.0, 'cleanliness': 2.0, 'overall'...   \n",
       "17749                                   {'overall': 2.0}   \n",
       "18915  {'service': 4.0, 'cleanliness': 4.0, 'overall'...   \n",
       "19159  {'service': 3.0, 'cleanliness': 5.0, 'overall'...   \n",
       "19246                                   {'overall': 5.0}   \n",
       "20426  {'service': 5.0, 'cleanliness': 5.0, 'overall'...   \n",
       "20475  {'cleanliness': 5.0, 'sleep_quality': 5.0, 'ov...   \n",
       "21046  {'service': 5.0, 'cleanliness': 5.0, 'overall'...   \n",
       "21898  {'service': 1.0, 'cleanliness': 5.0, 'overall'...   \n",
       "22373                                   {'overall': 1.0}   \n",
       "22762  {'service': 1.0, 'cleanliness': 3.0, 'overall'...   \n",
       "22852  {'service': 5.0, 'cleanliness': 5.0, 'overall'...   \n",
       "23431  {'service': 4.0, 'cleanliness': 4.0, 'overall'...   \n",
       "23957  {'service': 5.0, 'cleanliness': 5.0, 'overall'...   \n",
       "\n",
       "                                                   title  \\\n",
       "556    “Sorry to say i did not enjoy my stay at your ...   \n",
       "3056   “Super Location/Tony the Tiger Breakfast (Grrr...   \n",
       "3652   “it is a very decent hotel and an excellent pl...   \n",
       "3832                   “Worst hotel I've ever stayed in”   \n",
       "3963   “Love stayiing at the New Yorker. However, thi...   \n",
       "4032   “Apparently being close to the University of T...   \n",
       "4382   “The Benjamin was absolutely brilliant, from t...   \n",
       "5199        “Stayed here with my partner for several...”   \n",
       "5833   “Warm and friendly staff; great accommodations...   \n",
       "6225      “Wowowowowow Absolutely one of the amazing...”   \n",
       "6267   “My stay was excellent Vickie Bellinghausen, S...   \n",
       "6865       “I got upgraded to one of the hotel's new...”   \n",
       "6942   “This is a great place to stay with your family!”   \n",
       "7102               “The hotel is clean and fresh and...”   \n",
       "8131                               “I Did Not Feel Safe”   \n",
       "8594   “Wonderful Experience. Great Service. Perfect ...   \n",
       "8702      “NEVER AGAIN, will I stay at this hotel. I...”   \n",
       "11497  “I was disappointed by the absence of a bike i...   \n",
       "12606       “Boooo! The manager Jesse was quite rude...”   \n",
       "12701        “Super style-y. Really nice staff. Nice...”   \n",
       "12742  “I've stayed a several high-scale hotels in Da...   \n",
       "13931     “It's 11:30 PM, I'm laying here in bed and...”   \n",
       "14308      “Was there in March 2010 for a conference...”   \n",
       "14428     “This hotel is extremely great, kind staff...”   \n",
       "14848  “Great beds, location good but on dark, unkept...   \n",
       "16440  “Great check in procedure thru Ellen Douglas,...”   \n",
       "16659           “A fine place for a stay in Los Angeles”   \n",
       "16729           “Priceline got us here but we'd go back”   \n",
       "16826          “Spent 3 nights during cherry blossom...”   \n",
       "16968  “Hotel is in a reasonable location to 6th St, ...   \n",
       "17749   “This is a GREAT hotel for less than $100/night”   \n",
       "18915     “This is a very nice hotel. It is right on...”   \n",
       "19159     “We stayed here for a conference and had a...”   \n",
       "19246  “Lovely hotel, wonderful service, great locati...   \n",
       "20426       “We had an amazing stay. Totally in line...”   \n",
       "20475        “Fabulous hotel for business and pleasure.”   \n",
       "21046       “If you like Art and Something Different...”   \n",
       "21898       “First of all let me start by saying the...”   \n",
       "22373  “The view of Downtoen Fort Worth at night was ...   \n",
       "22762  “Very understaffed and eating there made us sick”   \n",
       "22852     “Red Roof Inn always exceeds my expectations.”   \n",
       "23431                               “OK for a stop over”   \n",
       "23957  “Great room and happy with the cost also! We f...   \n",
       "\n",
       "                                                    text  \\\n",
       "556    Sorry to say i did not enjoy my stay at your h...   \n",
       "3056   Super Location/Tony the Tiger Breakfast (Grrrr...   \n",
       "3652   it is a very decent hotel and an excellent pla...   \n",
       "3832   Worst hotel I've ever stayed in!! First I wait...   \n",
       "3963   Love stayiing at the New Yorker. However, this...   \n",
       "4032   Apparently being close to the University of Te...   \n",
       "4382   The Benjamin was absolutely brilliant, from th...   \n",
       "5199   Stayed here with my partner for several nights...   \n",
       "5833   Warm and friendly staff; great accommodations;...   \n",
       "6225   Wowowowowow Absolutely one of the amazing stay...   \n",
       "6267   My stay was excellent Vickie Bellinghausen, Se...   \n",
       "6865   I got upgraded to one of the hotel's new suite...   \n",
       "6942   This is a great place to stay with your family...   \n",
       "7102   The hotel is clean and fresh and inviting! Our...   \n",
       "8131   I did not feel safe at this Hotel. I checked o...   \n",
       "8594   Wonderful Experience. Great Service. Perfect L...   \n",
       "8702   NEVER AGAIN, will I stay at this hotel. I am a...   \n",
       "11497  I was disappointed by the absence of a bike in...   \n",
       "12606  Boooo! The manager Jesse was quite rude. This ...   \n",
       "12701  Super style-y. Really nice staff. Nice comfy r...   \n",
       "12742  I've stayed a several high-scale hotels in Dal...   \n",
       "13931  It's 11:30 PM, I'm laying here in bed and can'...   \n",
       "14308  Was there in March 2010 for a conference in an...   \n",
       "14428  This hotel is extremely great, kind staff and ...   \n",
       "14848  Great beds, location good but on dark, unkept ...   \n",
       "16440  Great check in procedure thru Ellen Douglas, w...   \n",
       "16659  A fine place for a stay in Los Angeles. Reason...   \n",
       "16729  Priceline got us here but we'd go back now tha...   \n",
       "16826  Spent 3 nights during cherry blossom season wi...   \n",
       "16968  Hotel is in a reasonable location to 6th St, a...   \n",
       "17749  This is a GREAT hotel for less than $100/night...   \n",
       "18915  This is a very nice hotel. It is right on IH 1...   \n",
       "19159  We stayed here for a conference and had a jr s...   \n",
       "19246  Lovely hotel, wonderful service, great locatio...   \n",
       "20426  We had an amazing stay. Totally in line with a...   \n",
       "20475  Fabulous hotel for business and pleasure with ...   \n",
       "21046  If you like Art and something different this i...   \n",
       "21898  First of all let me start by saying the actual...   \n",
       "22373  The view of Downtoen Fort Worth at night was w...   \n",
       "22762  Very understaffed and eating there made us sic...   \n",
       "22852  Red Roof Inn always exceeds my expectations. T...   \n",
       "23431  OK for a stop over. Located 200 yds from Mall ...   \n",
       "23957  Great room and happy with the cost also! We fo...   \n",
       "\n",
       "                                                  author     date_stayed  \\\n",
       "556    {'username': 'WYNONNA H', 'num_reviews': 1, 'i...   December 2012   \n",
       "3056   {'username': 'TriciaSK', 'num_cities': 4, 'num...    January 2012   \n",
       "3652   {'username': 'BanuPradeep', 'num_reviews': 1, ...   December 2011   \n",
       "3832   {'username': 'Sk65stang', 'num_reviews': 3, 'n...      April 2012   \n",
       "3963   {'username': 'CLAIRE M', 'num_reviews': 1, 'id...   November 2012   \n",
       "4032   {'username': 'RACHEL B', 'num_reviews': 1, 'id...   December 2012   \n",
       "4382   {'username': 'jimmy096', 'num_reviews': 1, 'id...   November 2010   \n",
       "5199   {'username': 'nickntulsa', 'num_cities': 6, 'n...     August 2010   \n",
       "5833   {'username': 'rhonda_1204', 'num_reviews': 1, ...    January 2012   \n",
       "6225   {'username': 'Jaddo', 'num_cities': 11, 'num_h...     August 2010   \n",
       "6267   {'username': 'kzn1hp48', 'num_reviews': 1, 'id...       July 2010   \n",
       "6865   {'username': 'dmhinsf', 'num_cities': 8, 'num_...       June 2010   \n",
       "6942   {'username': 'eyesesk', 'num_reviews': 2, 'num...      March 2011   \n",
       "7102   {'username': 'Vgvegas', 'num_reviews': 1, 'id'...        May 2010   \n",
       "8131   {'username': 'qualitytravler', 'num_cities': 6...  September 2011   \n",
       "8594   {'username': 'Brian92882', 'num_cities': 10, '...   November 2011   \n",
       "8702   {'username': 'ChoicesNorthCarolina', 'num_citi...       June 2010   \n",
       "11497  {'username': 'reisiger161', 'num_reviews': 1, ...       June 2011   \n",
       "12606  {'username': 'Cleorocks22', 'num_reviews': 1, ...       July 2010   \n",
       "12701         {'username': '', 'id': '', 'location': ''}             NaN   \n",
       "12742  {'username': 'MsBooks', 'num_cities': 5, 'num_...      April 2010   \n",
       "13931  {'username': 'TravelingTracy33', 'num_cities':...       June 2010   \n",
       "14308  {'username': 'DDPTexas', 'num_cities': 25, 'nu...             NaN   \n",
       "14428  {'username': 'ebjamjas', 'num_reviews': 1, 'id...   February 2010   \n",
       "14848  {'username': 'sadiedog', 'num_cities': 22, 'nu...   November 2010   \n",
       "16440  {'username': 'Minibon', 'num_cities': 2, 'num_...      April 2012   \n",
       "16659  {'username': 'poultrip', 'num_cities': 15, 'nu...       July 2009   \n",
       "16729  {'username': 'KTT', 'num_cities': 27, 'num_hel...     August 2011   \n",
       "16826  {'username': 'RGeffner', 'num_cities': 4, 'num...             NaN   \n",
       "16968  {'username': 'RICHARD O', 'num_reviews': 1, 'i...   November 2012   \n",
       "17749  {'username': 'vegaslover73', 'num_cities': 28,...             NaN   \n",
       "18915  {'username': 'nine_iron76', 'num_cities': 5, '...  September 2010   \n",
       "19159  {'username': 'photoman1982', 'num_cities': 5, ...  September 2010   \n",
       "19246  {'username': 'Camalama05', 'num_reviews': 1, '...  September 2010   \n",
       "20426  {'username': 'triplover25', 'num_cities': 5, '...        May 2010   \n",
       "20475  {'username': 'ptousignant', 'num_reviews': 1, ...       July 2011   \n",
       "21046  {'username': 'Kazeo', 'num_reviews': 1, 'id': ...     August 2008   \n",
       "21898  {'username': 'dana713', 'num_reviews': 1, 'id'...             NaN   \n",
       "22373         {'username': '', 'id': '', 'location': ''}             NaN   \n",
       "22762  {'username': 'Tiredtraveler1', 'num_cities': 2...    October 2009   \n",
       "22852  {'username': 'ABIGAILColumbus_Ohio', 'num_revi...   February 2010   \n",
       "23431  {'username': 'Only_the_truth', 'num_cities': 3...    October 2009   \n",
       "23957  {'username': 'EVA F', 'num_reviews': 1, 'id': ...   December 2012   \n",
       "\n",
       "       offering_id  num_helpful_votes       date         id  via_mobile  \\\n",
       "556          73768                  0 2012-12-10  147158092       False   \n",
       "3056         79977                  1 2012-02-16  124670932       False   \n",
       "3652        619615                  1 2011-12-29  122221815       False   \n",
       "3832        108990                  0 2012-04-24  128550978        True   \n",
       "3963        122005                  2 2012-11-30  146487223       False   \n",
       "4032        608007                  0 2012-12-10  147152684       False   \n",
       "4382        217626                  0 2010-12-19   90249199       False   \n",
       "5199        120058                  0 2010-08-08   74239281        True   \n",
       "5833         99007                  0 2012-01-26  123676902       False   \n",
       "6225       1502098                  0 2010-08-23   76580951        True   \n",
       "6267        107836                  0 2010-07-30   73010283       False   \n",
       "6865         79228                  0 2010-06-21   68167756        True   \n",
       "6942        124839                  0 2011-03-21  101052744       False   \n",
       "7102         81375                  0 2010-06-08   66902538        True   \n",
       "8131         81038                  0 2011-10-02  118867489       False   \n",
       "8594         84125                  0 2011-11-28  121149445       False   \n",
       "8702         93450                  1 2010-06-14   67426879        True   \n",
       "11497       217844                  1 2011-06-20  114584724       False   \n",
       "12606       566802                  0 2010-06-29   69096129        True   \n",
       "12701      1201072                  1 2010-05-16   64300621        True   \n",
       "12742        98727                  0 2010-04-06   60574486       False   \n",
       "13931        80193                  0 2010-06-20   68036583        True   \n",
       "14308       122332                  0 2010-05-27   65477565       False   \n",
       "14428        96726                  0 2010-02-22   56785526        True   \n",
       "14848       641209                  0 2010-11-14   87034020       False   \n",
       "16440        93520                  0 2012-04-19  128170993       False   \n",
       "16659        84440                  0 2009-07-28   36056939       False   \n",
       "16729        83097                  0 2011-09-12  118022522       False   \n",
       "16826        84093                  0 2010-04-02   60200392        True   \n",
       "16968        73759                  0 2012-11-25  146187124       False   \n",
       "17749        84078                  0 2004-02-13    1648856       False   \n",
       "18915      1229785                  0 2010-09-23   80772954        True   \n",
       "19159       223860                  0 2010-09-24   80849090       False   \n",
       "19246        83040                  0 2010-09-16   79815851       False   \n",
       "20426        81985                  0 2010-05-29   65764419       False   \n",
       "20475       266157                  0 2011-07-25  115754906       False   \n",
       "21046       100587                  0 2008-08-21   19218127       False   \n",
       "21898       114149                  3 2010-08-15   75274515        True   \n",
       "22373        98856                  5 2003-09-28    1369728       False   \n",
       "22762       111428                  1 2009-10-24   47664887       False   \n",
       "22852       224820                  0 2010-03-01   57471701       False   \n",
       "23431       223166                  0 2009-10-10   46469824       False   \n",
       "23957       217653                  0 2012-12-03  146726244       False   \n",
       "\n",
       "                                             clean_title  \\\n",
       "556    Sorry to say i did not enjoy my stay at your h...   \n",
       "3056     Super LocationTony the Tiger Breakfast Grrrreat   \n",
       "3652   it is a very decent hotel and an excellent pla...   \n",
       "3832                      Worst hotel Ive ever stayed in   \n",
       "3963   Love stayiing at the New Yorker However this t...   \n",
       "4032   Apparently being close to the University of Te...   \n",
       "4382   The Benjamin was absolutely brilliant from the...   \n",
       "5199             Stayed here with my partner for several   \n",
       "5833   Warm and friendly staff great accommodations d...   \n",
       "6225           Wowowowowow Absolutely one of the amazing   \n",
       "6267   My stay was excellent Vickie Bellinghausen Sen...   \n",
       "6865             I got upgraded to one of the hotels new   \n",
       "6942      This is a great place to stay with your family   \n",
       "7102                    The hotel is clean and fresh and   \n",
       "8131                                 I Did Not Feel Safe   \n",
       "8594   Wonderful Experience Great Service Perfect Loc...   \n",
       "8702             NEVER AGAIN will I stay at this hotel I   \n",
       "11497  I was disappointed by the absence of a bike in...   \n",
       "12606             Boooo The manager Jesse was quite rude   \n",
       "12701                Super styley Really nice staff Nice   \n",
       "12742  Ive stayed a several highscale hotels in Dalla...   \n",
       "13931              Its 1130 PM Im laying here in bed and   \n",
       "14308           Was there in March 2010 for a conference   \n",
       "14428           This hotel is extremely great kind staff   \n",
       "14848  Great beds location good but on dark unkept si...   \n",
       "16440        Great check in procedure thru Ellen Douglas   \n",
       "16659             A fine place for a stay in Los Angeles   \n",
       "16729              Priceline got us here but wed go back   \n",
       "16826               Spent 3 nights during cherry blossom   \n",
       "16968  Hotel is in a reasonable location to 6th St ap...   \n",
       "17749       This is a GREAT hotel for less than 100night   \n",
       "18915           This is a very nice hotel It is right on   \n",
       "19159          We stayed here for a conference and had a   \n",
       "19246      Lovely hotel wonderful service great location   \n",
       "20426             We had an amazing stay Totally in line   \n",
       "20475           Fabulous hotel for business and pleasure   \n",
       "21046            If you like Art and Something Different   \n",
       "21898            First of all let me start by saying the   \n",
       "22373  The view of Downtoen Fort Worth at night was w...   \n",
       "22762    Very understaffed and eating there made us sick   \n",
       "22852        Red Roof Inn always exceeds my expectations   \n",
       "23431                                 OK for a stop over   \n",
       "23957  Great room and happy with the cost also We fou...   \n",
       "\n",
       "                                              clean_text  \n",
       "556    Sorry to say i did not enjoy my stay at your h...  \n",
       "3056   Super LocationTony the Tiger Breakfast Grrrrea...  \n",
       "3652   it is a very decent hotel and an excellent pla...  \n",
       "3832   Worst hotel Ive ever stayed in First I waited ...  \n",
       "3963   Love stayiing at the New Yorker However this t...  \n",
       "4032   Apparently being close to the University of Te...  \n",
       "4382   The Benjamin was absolutely brilliant from the...  \n",
       "5199   Stayed here with my partner for several nights...  \n",
       "5833   Warm and friendly staff great accommodations d...  \n",
       "6225   Wowowowowow Absolutely one of the amazing stay...  \n",
       "6267   My stay was excellent Vickie Bellinghausen Sen...  \n",
       "6865   I got upgraded to one of the hotels new suites...  \n",
       "6942   This is a great place to stay with your family...  \n",
       "7102   The hotel is clean and fresh and inviting Our ...  \n",
       "8131   I did not feel safe at this Hotel I checked ou...  \n",
       "8594   Wonderful Experience Great Service Perfect Loc...  \n",
       "8702   NEVER AGAIN will I stay at this hotel I am a D...  \n",
       "11497  I was disappointed by the absence of a bike in...  \n",
       "12606  Boooo The manager Jesse was quite rude This ho...  \n",
       "12701  Super styley Really nice staff Nice comfy room...  \n",
       "12742  Ive stayed a several highscale hotels in Dalla...  \n",
       "13931  Its 1130 PM Im laying here in bed and cant sle...  \n",
       "14308  Was there in March 2010 for a conference in an...  \n",
       "14428  This hotel is extremely great kind staff and v...  \n",
       "14848  Great beds location good but on dark unkept si...  \n",
       "16440  Great check in procedure thru Ellen Douglas wh...  \n",
       "16659  A fine place for a stay in Los Angeles Reasona...  \n",
       "16729  Priceline got us here but wed go back now that...  \n",
       "16826  Spent 3 nights during cherry blossom season wi...  \n",
       "16968  Hotel is in a reasonable location to 6th St ap...  \n",
       "17749  This is a GREAT hotel for less than 100night b...  \n",
       "18915  This is a very nice hotel It is right on IH 10...  \n",
       "19159  We stayed here for a conference and had a jr s...  \n",
       "19246  Lovely hotel wonderful service great location ...  \n",
       "20426  We had an amazing stay Totally in line with al...  \n",
       "20475  Fabulous hotel for business and pleasure with ...  \n",
       "21046  If you like Art and something different this i...  \n",
       "21898  First of all let me start by saying the actual...  \n",
       "22373  The view of Downtoen Fort Worth at night was w...  \n",
       "22762  Very understaffed and eating there made us sic...  \n",
       "22852  Red Roof Inn always exceeds my expectations Th...  \n",
       "23431  OK for a stop over Located 200 yds from Mall a...  \n",
       "23957  Great room and happy with the cost also We fou...  "
      ]
     },
     "execution_count": 565,
     "metadata": {},
     "output_type": "execute_result"
    }
   ],
   "source": [
    "# Here we check the number of titles that mirror the start of their reviews. Title length longer than 4 as shorter titles typically are just expressions and as such not really duplications\n",
    "# For now we'll leave them as is but this could be an area of further research\n",
    "row_data_dups = train_data.loc[\n",
    "    train_data.apply( \n",
    "        lambda train: len(train['clean_title'].split()) > 4 and train['clean_text'].lower().startswith(train['clean_title'].lower()),\n",
    "        axis = 1\n",
    "        )\n",
    "    ]\n",
    "\n",
    "print(f\"Number of reviews thats start with their entire title (title longer than 4 words): {len(row_data_dups)}\")\n",
    "row_data_dups"
   ]
  },
  {
   "cell_type": "code",
   "execution_count": 566,
   "id": "92bf8b26",
   "metadata": {},
   "outputs": [
    {
     "data": {
      "text/html": [
       "<div>\n",
       "<style scoped>\n",
       "    .dataframe tbody tr th:only-of-type {\n",
       "        vertical-align: middle;\n",
       "    }\n",
       "\n",
       "    .dataframe tbody tr th {\n",
       "        vertical-align: top;\n",
       "    }\n",
       "\n",
       "    .dataframe thead th {\n",
       "        text-align: right;\n",
       "    }\n",
       "</style>\n",
       "<table border=\"1\" class=\"dataframe\">\n",
       "  <thead>\n",
       "    <tr style=\"text-align: right;\">\n",
       "      <th></th>\n",
       "      <th>ratings</th>\n",
       "      <th>title</th>\n",
       "      <th>text</th>\n",
       "      <th>author</th>\n",
       "      <th>date_stayed</th>\n",
       "      <th>offering_id</th>\n",
       "      <th>num_helpful_votes</th>\n",
       "      <th>date</th>\n",
       "      <th>id</th>\n",
       "      <th>via_mobile</th>\n",
       "      <th>clean_title</th>\n",
       "      <th>clean_text</th>\n",
       "    </tr>\n",
       "  </thead>\n",
       "  <tbody>\n",
       "    <tr>\n",
       "      <th>15</th>\n",
       "      <td>{'service': 5.0, 'cleanliness': 5.0, 'overall'...</td>\n",
       "      <td>“Value”</td>\n",
       "      <td>Doing an AM tour at Sony Studios, and the loca...</td>\n",
       "      <td>{'username': 'rwmentzer', 'num_cities': 16, 'n...</td>\n",
       "      <td>September 2012</td>\n",
       "      <td>248239</td>\n",
       "      <td>0</td>\n",
       "      <td>2012-09-28</td>\n",
       "      <td>141497337</td>\n",
       "      <td>False</td>\n",
       "      <td>Value</td>\n",
       "      <td>Doing an AM tour at Sony Studios and the locat...</td>\n",
       "    </tr>\n",
       "    <tr>\n",
       "      <th>26</th>\n",
       "      <td>{'service': 5.0, 'cleanliness': 4.0, 'overall'...</td>\n",
       "      <td>“Fairmont-Dallas”</td>\n",
       "      <td>We had a most enjoyable short stay at this fin...</td>\n",
       "      <td>{'username': 'Fred H', 'num_reviews': 1, 'id':...</td>\n",
       "      <td>October 2012</td>\n",
       "      <td>98606</td>\n",
       "      <td>0</td>\n",
       "      <td>2012-10-21</td>\n",
       "      <td>143365025</td>\n",
       "      <td>False</td>\n",
       "      <td>FairmontDallas</td>\n",
       "      <td>We had a most enjoyable short stay at this fin...</td>\n",
       "    </tr>\n",
       "    <tr>\n",
       "      <th>37</th>\n",
       "      <td>{'service': 5.0, 'cleanliness': 5.0, 'overall'...</td>\n",
       "      <td>“Excellent”</td>\n",
       "      <td>We had the misfortune of getting standed in Sa...</td>\n",
       "      <td>{'username': 'NorthLincsChikky', 'num_cities':...</td>\n",
       "      <td>November 2009</td>\n",
       "      <td>79985</td>\n",
       "      <td>1</td>\n",
       "      <td>2009-11-08</td>\n",
       "      <td>48753878</td>\n",
       "      <td>False</td>\n",
       "      <td>Excellent</td>\n",
       "      <td>We had the misfortune of getting standed in Sa...</td>\n",
       "    </tr>\n",
       "    <tr>\n",
       "      <th>70</th>\n",
       "      <td>{'service': 4.0, 'cleanliness': 4.0, 'overall'...</td>\n",
       "      <td>“wow”</td>\n",
       "      <td>well, where to start? \\nfirstly, the location,...</td>\n",
       "      <td>{'username': 'dexbrighton', 'num_cities': 2, '...</td>\n",
       "      <td>February 2007</td>\n",
       "      <td>93507</td>\n",
       "      <td>5</td>\n",
       "      <td>2007-02-19</td>\n",
       "      <td>6811836</td>\n",
       "      <td>False</td>\n",
       "      <td>wow</td>\n",
       "      <td>well where to start firstly the location that ...</td>\n",
       "    </tr>\n",
       "    <tr>\n",
       "      <th>85</th>\n",
       "      <td>{'cleanliness': 5.0, 'value': 4.0, 'overall': ...</td>\n",
       "      <td>“Outstanding!”</td>\n",
       "      <td>Just back from a (2) day stay at the Omni. Aft...</td>\n",
       "      <td>{'username': 'dje', 'num_cities': 10, 'num_hel...</td>\n",
       "      <td>May 2005</td>\n",
       "      <td>224948</td>\n",
       "      <td>7</td>\n",
       "      <td>2005-05-31</td>\n",
       "      <td>3514473</td>\n",
       "      <td>False</td>\n",
       "      <td>Outstanding</td>\n",
       "      <td>Just back from a 2 day stay at the Omni After ...</td>\n",
       "    </tr>\n",
       "    <tr>\n",
       "      <th>...</th>\n",
       "      <td>...</td>\n",
       "      <td>...</td>\n",
       "      <td>...</td>\n",
       "      <td>...</td>\n",
       "      <td>...</td>\n",
       "      <td>...</td>\n",
       "      <td>...</td>\n",
       "      <td>...</td>\n",
       "      <td>...</td>\n",
       "      <td>...</td>\n",
       "      <td>...</td>\n",
       "      <td>...</td>\n",
       "    </tr>\n",
       "    <tr>\n",
       "      <th>23799</th>\n",
       "      <td>{'overall': 2.0}</td>\n",
       "      <td>“Sewage”</td>\n",
       "      <td>Unfortunately the room smelled like sewage. Ve...</td>\n",
       "      <td>{'username': 'J W', 'num_reviews': 2, 'num_cit...</td>\n",
       "      <td>July 2012</td>\n",
       "      <td>87635</td>\n",
       "      <td>0</td>\n",
       "      <td>2012-07-20</td>\n",
       "      <td>134944668</td>\n",
       "      <td>False</td>\n",
       "      <td>Sewage</td>\n",
       "      <td>Unfortunately the room smelled like sewage Ver...</td>\n",
       "    </tr>\n",
       "    <tr>\n",
       "      <th>23806</th>\n",
       "      <td>{'service': 5.0, 'cleanliness': 5.0, 'overall'...</td>\n",
       "      <td>“Exceptional”</td>\n",
       "      <td>In addition to it being about a three minute w...</td>\n",
       "      <td>{'username': 'Layover', 'num_cities': 102, 'nu...</td>\n",
       "      <td>March 2009</td>\n",
       "      <td>1157456</td>\n",
       "      <td>1</td>\n",
       "      <td>2009-05-11</td>\n",
       "      <td>29788756</td>\n",
       "      <td>False</td>\n",
       "      <td>Exceptional</td>\n",
       "      <td>In addition to it being about a three minute w...</td>\n",
       "    </tr>\n",
       "    <tr>\n",
       "      <th>23820</th>\n",
       "      <td>{'service': 2.0, 'cleanliness': 1.0, 'overall'...</td>\n",
       "      <td>“Horrible”</td>\n",
       "      <td>Room doors that look like coffin lids. Sea foa...</td>\n",
       "      <td>{'username': 'spanlaketraveler', 'num_cities':...</td>\n",
       "      <td>December 2007</td>\n",
       "      <td>214197</td>\n",
       "      <td>2</td>\n",
       "      <td>2007-12-08</td>\n",
       "      <td>11326781</td>\n",
       "      <td>False</td>\n",
       "      <td>Horrible</td>\n",
       "      <td>Room doors that look like coffin lids Sea foam...</td>\n",
       "    </tr>\n",
       "    <tr>\n",
       "      <th>23954</th>\n",
       "      <td>{'cleanliness': 1.0, 'overall': 1.0, 'rooms': ...</td>\n",
       "      <td>“Seedy”</td>\n",
       "      <td>I was surprised to learn from the other review...</td>\n",
       "      <td>{'username': '', 'id': '', 'location': ''}</td>\n",
       "      <td>April 2005</td>\n",
       "      <td>100561</td>\n",
       "      <td>9</td>\n",
       "      <td>2005-04-08</td>\n",
       "      <td>3343889</td>\n",
       "      <td>False</td>\n",
       "      <td>Seedy</td>\n",
       "      <td>I was surprised to learn from the other review...</td>\n",
       "    </tr>\n",
       "    <tr>\n",
       "      <th>23967</th>\n",
       "      <td>{'service': 5.0, 'cleanliness': 4.0, 'overall'...</td>\n",
       "      <td>“fantatstic”</td>\n",
       "      <td>stayed in a 1 bedroom suite- 2nd highest floor...</td>\n",
       "      <td>{'username': 'michaelj42', 'num_cities': 3, 'n...</td>\n",
       "      <td>September 2009</td>\n",
       "      <td>93562</td>\n",
       "      <td>0</td>\n",
       "      <td>2009-10-25</td>\n",
       "      <td>47682804</td>\n",
       "      <td>False</td>\n",
       "      <td>fantatstic</td>\n",
       "      <td>stayed in a 1 bedroom suite 2nd highest floor ...</td>\n",
       "    </tr>\n",
       "  </tbody>\n",
       "</table>\n",
       "<p>937 rows × 12 columns</p>\n",
       "</div>"
      ],
      "text/plain": [
       "                                                 ratings              title  \\\n",
       "15     {'service': 5.0, 'cleanliness': 5.0, 'overall'...            “Value”   \n",
       "26     {'service': 5.0, 'cleanliness': 4.0, 'overall'...  “Fairmont-Dallas”   \n",
       "37     {'service': 5.0, 'cleanliness': 5.0, 'overall'...        “Excellent”   \n",
       "70     {'service': 4.0, 'cleanliness': 4.0, 'overall'...              “wow”   \n",
       "85     {'cleanliness': 5.0, 'value': 4.0, 'overall': ...     “Outstanding!”   \n",
       "...                                                  ...                ...   \n",
       "23799                                   {'overall': 2.0}           “Sewage”   \n",
       "23806  {'service': 5.0, 'cleanliness': 5.0, 'overall'...      “Exceptional”   \n",
       "23820  {'service': 2.0, 'cleanliness': 1.0, 'overall'...         “Horrible”   \n",
       "23954  {'cleanliness': 1.0, 'overall': 1.0, 'rooms': ...            “Seedy”   \n",
       "23967  {'service': 5.0, 'cleanliness': 4.0, 'overall'...       “fantatstic”   \n",
       "\n",
       "                                                    text  \\\n",
       "15     Doing an AM tour at Sony Studios, and the loca...   \n",
       "26     We had a most enjoyable short stay at this fin...   \n",
       "37     We had the misfortune of getting standed in Sa...   \n",
       "70     well, where to start? \\nfirstly, the location,...   \n",
       "85     Just back from a (2) day stay at the Omni. Aft...   \n",
       "...                                                  ...   \n",
       "23799  Unfortunately the room smelled like sewage. Ve...   \n",
       "23806  In addition to it being about a three minute w...   \n",
       "23820  Room doors that look like coffin lids. Sea foa...   \n",
       "23954  I was surprised to learn from the other review...   \n",
       "23967  stayed in a 1 bedroom suite- 2nd highest floor...   \n",
       "\n",
       "                                                  author     date_stayed  \\\n",
       "15     {'username': 'rwmentzer', 'num_cities': 16, 'n...  September 2012   \n",
       "26     {'username': 'Fred H', 'num_reviews': 1, 'id':...    October 2012   \n",
       "37     {'username': 'NorthLincsChikky', 'num_cities':...   November 2009   \n",
       "70     {'username': 'dexbrighton', 'num_cities': 2, '...   February 2007   \n",
       "85     {'username': 'dje', 'num_cities': 10, 'num_hel...        May 2005   \n",
       "...                                                  ...             ...   \n",
       "23799  {'username': 'J W', 'num_reviews': 2, 'num_cit...       July 2012   \n",
       "23806  {'username': 'Layover', 'num_cities': 102, 'nu...      March 2009   \n",
       "23820  {'username': 'spanlaketraveler', 'num_cities':...   December 2007   \n",
       "23954         {'username': '', 'id': '', 'location': ''}      April 2005   \n",
       "23967  {'username': 'michaelj42', 'num_cities': 3, 'n...  September 2009   \n",
       "\n",
       "       offering_id  num_helpful_votes       date         id  via_mobile  \\\n",
       "15          248239                  0 2012-09-28  141497337       False   \n",
       "26           98606                  0 2012-10-21  143365025       False   \n",
       "37           79985                  1 2009-11-08   48753878       False   \n",
       "70           93507                  5 2007-02-19    6811836       False   \n",
       "85          224948                  7 2005-05-31    3514473       False   \n",
       "...            ...                ...        ...        ...         ...   \n",
       "23799        87635                  0 2012-07-20  134944668       False   \n",
       "23806      1157456                  1 2009-05-11   29788756       False   \n",
       "23820       214197                  2 2007-12-08   11326781       False   \n",
       "23954       100561                  9 2005-04-08    3343889       False   \n",
       "23967        93562                  0 2009-10-25   47682804       False   \n",
       "\n",
       "          clean_title                                         clean_text  \n",
       "15              Value  Doing an AM tour at Sony Studios and the locat...  \n",
       "26     FairmontDallas  We had a most enjoyable short stay at this fin...  \n",
       "37          Excellent  We had the misfortune of getting standed in Sa...  \n",
       "70                wow  well where to start firstly the location that ...  \n",
       "85        Outstanding  Just back from a 2 day stay at the Omni After ...  \n",
       "...               ...                                                ...  \n",
       "23799          Sewage  Unfortunately the room smelled like sewage Ver...  \n",
       "23806     Exceptional  In addition to it being about a three minute w...  \n",
       "23820        Horrible  Room doors that look like coffin lids Sea foam...  \n",
       "23954           Seedy  I was surprised to learn from the other review...  \n",
       "23967      fantatstic  stayed in a 1 bedroom suite 2nd highest floor ...  \n",
       "\n",
       "[937 rows x 12 columns]"
      ]
     },
     "execution_count": 566,
     "metadata": {},
     "output_type": "execute_result"
    }
   ],
   "source": [
    "row_data = train_data[train_data['clean_title'].str.split().str.len() == 1]\n",
    "row_data"
   ]
  },
  {
   "cell_type": "markdown",
   "id": "60093e32",
   "metadata": {},
   "source": [
    "Although we have numerically analysed some properties of our review lengths, a better way to fully gauge the spread of our data would be through visualisations. We can start by graphing the spread of review lengths."
   ]
  },
  {
   "cell_type": "code",
   "execution_count": 567,
   "id": "42dc9d07",
   "metadata": {},
   "outputs": [
    {
     "data": {
      "image/png": "[encoded data removed]",
      "text/plain": [
       "<Figure size 640x480 with 1 Axes>"
      ]
     },
     "metadata": {},
     "output_type": "display_data"
    }
   ],
   "source": [
    "import seaborn as sns\n",
    "train_data['text_length'] = train_data['clean_text'].apply(lambda x: len(x.split()))\n",
    "sns.histplot(train_data['text_length'], bins=20, kde=True)\n",
    "plt.title('Distribution of review Lengths')\n",
    "plt.xlabel('Review Length')\n",
    "plt.show()"
   ]
  },
  {
   "cell_type": "markdown",
   "id": "1f94cbd0",
   "metadata": {},
   "source": [
    "We can see here that our data in regards to review lengths is heavily imbalanced and gives us something akin to a right-skewed distribution. However, it seems that while there is a large spread of data, the actual number of reviews above approximately, 800 words doesnt seem to be very much. We can verify this assumption numerically. "
   ]
  },
  {
   "cell_type": "code",
   "execution_count": 568,
   "id": "4eaee8c8",
   "metadata": {},
   "outputs": [
    {
     "name": "stdout",
     "output_type": "stream",
     "text": [
      "Number of reviews with <=800 words: 23910\n",
      "Total number of reviews: 23999\n",
      "Percentage of reviews with <=800 words: 99.63%\n"
     ]
    }
   ],
   "source": [
    "total_reviews = len(train_data)\n",
    "\n",
    "reviews_upto_800 = len(train_data[train_data['clean_text'].str.split().str.len() <= 800])\n",
    "ratio = reviews_upto_800 / total_reviews\n",
    "percentage = ratio * 100\n",
    "\n",
    "print(f\"Number of reviews with <=800 words: {reviews_upto_800}\")\n",
    "print(f\"Total number of reviews: {total_reviews}\")\n",
    "print(f\"Percentage of reviews with <=800 words: {percentage:.2f}%\")"
   ]
  },
  {
   "cell_type": "markdown",
   "id": "9a5d8988",
   "metadata": {},
   "source": [
    "We can see here that despite the large spread, 99.63% of all reviews are under 800 words with the rest shown on the graph being key outliers. Though this could potentially cause problems in regards to compute, it is assumed that most models, especially proficient deep learning models have in built truncation methods to minimise the effect of such outlandish data points. It is also assumed that enough of the key sentiment would be contained in the intiial few hundred words of those reviews. As such, they have been kept within the dataset. Code to remove them has been included if computational efficiency is preferred though it is expected that their removal would not affect performance too heavily. "
   ]
  },
  {
   "cell_type": "code",
   "execution_count": 569,
   "id": "cbce88cf",
   "metadata": {},
   "outputs": [],
   "source": [
    "# train_data = train_data[train_data['clean_text'].str.split().str.len() <= 800].reset_index(drop=True)\n",
    "# train_data['text_length'] = train_data['clean_text'].apply(lambda x: len(x.split()))\n",
    "# sns.histplot(train_data['text_length'], bins=20, kde=True)\n",
    "# plt.title('Distribution of review Lengths')\n",
    "# plt.xlabel('Review Length')\n",
    "# plt.show()"
   ]
  },
  {
   "cell_type": "markdown",
   "id": "96a17763",
   "metadata": {},
   "source": [
    "We perform the same visuation on title lengths as shown below and while still right-skewed, indicates a much less extreme distribution and presence of outliers. "
   ]
  },
  {
   "cell_type": "code",
   "execution_count": 570,
   "id": "566bebc3",
   "metadata": {},
   "outputs": [
    {
     "data": {
      "image/png": "[encoded data removed]",
      "text/plain": [
       "<Figure size 640x480 with 1 Axes>"
      ]
     },
     "metadata": {},
     "output_type": "display_data"
    }
   ],
   "source": [
    "train_data['title_length'] = train_data['clean_title'].apply(lambda x: len(x.split()))\n",
    "sns.histplot(train_data['title_length'], bins=20, kde=True)\n",
    "plt.title('Distribution of title lengths')\n",
    "plt.xlabel('Title Length')\n",
    "plt.show()"
   ]
  },
  {
   "cell_type": "markdown",
   "id": "8073c1cb",
   "metadata": {},
   "source": [
    "Following the visual analysis of textual content, we can visualise the distribution of the values taken by the \"overall\" ratings. The visualisation and understanding of the data here is crucial as this is our primary predictive label. While variety and outliers in our features provides points of interest, issues with our classes could cause large problems down the line if not identified early. As such, two different visualisation types were exercised to best understand the distribution and variation of labels. A bar graph to illustrate the quantitative range of the labels and a pie chart to show the percentage breakdown of each class."
   ]
  },
  {
   "cell_type": "code",
   "execution_count": 571,
   "id": "ce1251cf",
   "metadata": {},
   "outputs": [
    {
     "name": "stdout",
     "output_type": "stream",
     "text": [
      "[(5, 9824), (4, 7720), (3, 3287), (2, 1611), (1, 1557)]\n"
     ]
    },
    {
     "data": {
      "image/png": "[encoded data removed]",
      "text/plain": [
       "<Figure size 1200x500 with 2 Axes>"
      ]
     },
     "metadata": {},
     "output_type": "display_data"
    }
   ],
   "source": [
    "def overall_ratings_plot(data, type):\n",
    "    ratings_distribution = []\n",
    "    for i in range(len(data)):\n",
    "        ratings_distribution.append(int(train_data['ratings'][i]['overall']))\n",
    "    ratings_freq = Counter(ratings_distribution)\n",
    "    print(sorted(ratings_freq.items(), key= lambda x:x[0], reverse=True))\n",
    "\n",
    "    fig, axes = plt.subplots(1, 2, figsize=(12, 5))\n",
    "    fig.suptitle(f'Distribution of overall ratings in {type} set')\n",
    "    axes[0].bar(ratings_freq.keys(), ratings_freq.values())\n",
    "    axes[0].set_xlabel(f'overall rating values in {type} set')\n",
    "    axes[0].set_ylabel('number of reviews this rating was given')\n",
    "\n",
    "    axes[1].pie (ratings_freq.values(), labels= ratings_freq.keys(), autopct='%1.2f%%')\n",
    "\n",
    "overall_ratings_plot(train_data, 'train')"
   ]
  },
  {
   "cell_type": "markdown",
   "id": "48be87a2",
   "metadata": {},
   "source": [
    "From both visualisations it becomes quite evident that the dataset contains a very large imbalance between labels. Class imbalance is a large talking point in data analysis and machine learning as given improper care, it could lead to models showing bias towards the classes with more data points and hence generalising better towards them and performing worse against classes with lesser data points. In our case, given the current distribution, we can see that positive reviews (4,5 star) make up 73.11% of the data. This is a distribution that becomes especially more problematic when we consider how our model may approach the classification of texts into classes 1,2,3. Especially when considering the notion that \"neutral\" emotions tend to be the most difficult to classify. Further discussion on class imbalance will be conducted in the machine learning models section."
   ]
  },
  {
   "cell_type": "markdown",
   "id": "db13d850",
   "metadata": {},
   "source": [
    "As a further sanity check, we see if the distribution of labels in the test set is akin to that in the training set. "
   ]
  },
  {
   "cell_type": "code",
   "execution_count": 572,
   "id": "d896d3cb",
   "metadata": {},
   "outputs": [
    {
     "name": "stdout",
     "output_type": "stream",
     "text": [
      "[(5, 2509), (4, 1888), (3, 828), (2, 408), (1, 367)]\n"
     ]
    },
    {
     "data": {
      "image/png": "[encoded data removed]",
      "text/plain": [
       "<Figure size 1200x500 with 2 Axes>"
      ]
     },
     "metadata": {},
     "output_type": "display_data"
    }
   ],
   "source": [
    "overall_ratings_plot(test_data, 'test')"
   ]
  },
  {
   "cell_type": "markdown",
   "id": "e238c225",
   "metadata": {},
   "source": [
    "As shown above, we can see that while not exactly identical to the train set in regards to distribution, the test set very closely mirrors it. This bodes well for future experiments."
   ]
  },
  {
   "cell_type": "markdown",
   "id": "086cd6a8",
   "metadata": {},
   "source": [
    "Following the visualisation and analysis of the more general components of our features and labels, it makes sense to now visualise and analyse the differences between some potential transformations that could be applied to the data to see which seem to work best. We can do so by comparing the difference between the clean, stemmed and lemmatized version of some of our texts"
   ]
  },
  {
   "cell_type": "code",
   "execution_count": 573,
   "id": "891ee85b",
   "metadata": {},
   "outputs": [
    {
     "data": {
      "text/plain": [
       "0        first of all we got there and they didnt have ...\n",
       "1        found racist graffiti in the room request to c...\n",
       "2        close to union squar hotel is a bit of a maze ...\n",
       "3        i had a bad vibe about thi place from the mome...\n",
       "4        after we receiv our final bill and left the em...\n",
       "                               ...                        \n",
       "23994    we stay just one night here when visit our son...\n",
       "23995    spent two night here with spous in conjunct wi...\n",
       "23996    the room wa fairli larg pretti quiet the bed w...\n",
       "23997    great start to our stay when we were check in ...\n",
       "23998    great room comfort bed food is good the locat ...\n",
       "Name: stemmed_text, Length: 23999, dtype: object"
      ]
     },
     "execution_count": 573,
     "metadata": {},
     "output_type": "execute_result"
    }
   ],
   "source": [
    "from nltk.stem import PorterStemmer\n",
    "stemmer = PorterStemmer()\n",
    "train_data['stemmed_text'] = train_data['clean_text'].apply(lambda x: ' '.join([stemmer.stem(word) for word in word_tokenize(x)]))\n",
    "train_data['stemmed_text']"
   ]
  },
  {
   "cell_type": "code",
   "execution_count": 574,
   "id": "aa62ec97",
   "metadata": {},
   "outputs": [
    {
     "data": {
      "text/plain": [
       "0        first of all we get there and they do not have...\n",
       "1        find Racist graffiti in the room request to ch...\n",
       "2        close to Union Square hotel be a bit of a maze...\n",
       "3        I have a bad vibe about this place from the mo...\n",
       "4        after we receive our final bill and leave the ...\n",
       "                               ...                        \n",
       "23994    we stay just one night here when visit our son...\n",
       "23995    spend two night here with spouse in conjunctio...\n",
       "23996    the room be fairly large pretty quiet the bed ...\n",
       "23997    great start to our stay when we be check in 2h...\n",
       "23998    great room comfortable bed food be good the lo...\n",
       "Name: lemmatized_text, Length: 23999, dtype: object"
      ]
     },
     "execution_count": 574,
     "metadata": {},
     "output_type": "execute_result"
    }
   ],
   "source": [
    "import spacy\n",
    "# !python -m spacy download en_core_web_sm\n",
    "nlp = spacy.load('en_core_web_sm')\n",
    "\n",
    "#Noting: Lemmatization takes a while to run so running through pipe to speed it up (still takes ~2 mins)\n",
    "def lemmatize(text):\n",
    "    docs = list(nlp.pipe(text))\n",
    "    return [' '.join([token.lemma_ for token in doc]) for doc in docs]\n",
    "\n",
    "train_data['lemmatized_text'] = lemmatize(train_data['clean_text'])\n",
    "train_data['lemmatized_text']"
   ]
  },
  {
   "cell_type": "code",
   "execution_count": 575,
   "id": "5d479dea",
   "metadata": {},
   "outputs": [
    {
     "name": "stdout",
     "output_type": "stream",
     "text": [
      "Original Word | Stemmed Form | Lemmatized Form\n",
      "--------------------------------------------------\n",
      "received      | receiv       | receive     \n",
      "left          | left         | leave       \n",
      "Empire        | empir        | Empire      \n",
      "another       | anoth        | another     \n",
      "charge        | charg        | charge      \n",
      "accounting    | account      | accounting  \n",
      "sent          | sent         | send        \n",
      "justification | justif       | justification\n",
      "response      | respons      | response    \n",
      "company       | compani      | company     \n"
     ]
    }
   ],
   "source": [
    "a1 = train_data['stemmed_text'][4].split()\n",
    "a2 = train_data['lemmatized_text'][4].split()\n",
    "a3 = train_data['clean_text'][4].split()\n",
    "\n",
    "print(\"Original Word | Stemmed Form | Lemmatized Form\")\n",
    "print(\"-\" * 50)\n",
    "\n",
    "for orig, stem, lemma in zip(a3, a1, a2):\n",
    "    if stem != lemma:\n",
    "        print(f\"{orig:<13} | {stem:<12} | {lemma:<12}\")\n"
   ]
  },
  {
   "cell_type": "markdown",
   "id": "68cc1d9c",
   "metadata": {},
   "source": [
    "Using this table we can best compare how stemming and lemmatization differ from both each other and the original cleaned text. The idea behind stemming and lemmatization is once again to reduce to number of features present within the text and simplify them to their core forms. Although as we can see here, they approach this same problem in different ways. While stemming reduces words into their \"stems\" (the core meaning-bearing units of a word), lemmatization reduces the word to its base form. \n",
    "\n",
    "And while both have their benefits, just from this table alone we can see that while stemming transforms the word into occasionally odd word forms, lemmatization converst the words into base forms that are still real words. This is because it reduces the word to its dictionary form and as a result essentially helps preserve almost full contextual and sentiment meaning. This is a feature that makes it especially good for our sentiment analysis taks. As a result, lemmatization was the transformation of choice for both visualisations and models moving forward. "
   ]
  },
  {
   "cell_type": "markdown",
   "id": "ef770144",
   "metadata": {},
   "source": [
    "Moving forward, we can start looking at the spread of individual words in our dataset to begin a brief exploration into how these reveiws are written and if certian words may potentially indicate certain sentiments."
   ]
  },
  {
   "cell_type": "code",
   "execution_count": 576,
   "id": "243b1054",
   "metadata": {},
   "outputs": [
    {
     "name": "stdout",
     "output_type": "stream",
     "text": [
      "number of unique words: 62505\n"
     ]
    },
    {
     "data": {
      "text/plain": [
       "[('the', 192545),\n",
       " ('and', 127800),\n",
       " ('a', 103769),\n",
       " ('to', 93843),\n",
       " ('was', 80158),\n",
       " ('I', 59749),\n",
       " ('in', 57570),\n",
       " ('of', 50150),\n",
       " ('The', 47904),\n",
       " ('is', 46002)]"
      ]
     },
     "execution_count": 576,
     "metadata": {},
     "output_type": "execute_result"
    }
   ],
   "source": [
    "unique_words = set()\n",
    "all_words = []\n",
    "for i in range(len(train_data)):\n",
    "    data = word_tokenize(train_data['clean_text'][i])\n",
    "    for w in data:\n",
    "        unique_words.add(w)\n",
    "        all_words.append(w)\n",
    "\n",
    "#vocab size of 62505 unique words in all the reviews\n",
    "print(f\"number of unique words: {len(unique_words)}\")\n",
    "\n",
    "#Note these are all stop words so should probably prune the dataset for stop words before looking for most common words\n",
    "fdist = FreqDist(all_words)\n",
    "fdist.most_common(10)"
   ]
  },
  {
   "cell_type": "markdown",
   "id": "c96bb557",
   "metadata": {},
   "source": [
    "Now lets see if the distribution of the most common words differs following lemmatization of the text"
   ]
  },
  {
   "cell_type": "code",
   "execution_count": 577,
   "id": "86f8a185",
   "metadata": {},
   "outputs": [
    {
     "name": "stdout",
     "output_type": "stream",
     "text": [
      "number of unique words: 54072\n"
     ]
    },
    {
     "data": {
      "text/plain": [
       "[('the', 240655),\n",
       " ('be', 199451),\n",
       " ('and', 129430),\n",
       " ('a', 106050),\n",
       " ('to', 94381),\n",
       " ('I', 73297),\n",
       " ('we', 61408),\n",
       " ('in', 59098),\n",
       " ('of', 50357),\n",
       " ('room', 46906)]"
      ]
     },
     "execution_count": 577,
     "metadata": {},
     "output_type": "execute_result"
    }
   ],
   "source": [
    "unique_words = set()\n",
    "all_words = []\n",
    "for i in range(len(train_data)):\n",
    "    data = word_tokenize(train_data['lemmatized_text'][i])\n",
    "    for w in data:\n",
    "        unique_words.add(w)\n",
    "        all_words.append(w)\n",
    "\n",
    "#vocab size of 62493 unique words in all the reviews\n",
    "print(f\"number of unique words: {len(unique_words)}\")\n",
    "\n",
    "#Note these are all stop words so should probably prune the dataset for stop words before looking for most common words\n",
    "fdist = FreqDist(all_words)\n",
    "fdist.most_common(10)"
   ]
  },
  {
   "cell_type": "markdown",
   "id": "0ac3e7d2",
   "metadata": {},
   "source": [
    "Seems to more or less the same. The problem could be we're including stop words in our analysis. It makes sense for stop words to be the most common words in our reviews as they typically act as \"joining\" words and almost all reviews and sentences contain them. In our following analysis, we conduct the same tests but this time without considering stop words"
   ]
  },
  {
   "cell_type": "code",
   "execution_count": 578,
   "id": "d83c8857",
   "metadata": {},
   "outputs": [
    {
     "name": "stdout",
     "output_type": "stream",
     "text": [
      "number of unique words: 54071\n",
      "most frequent words use in reviews: [('the', 240655), ('be', 199451), ('and', 129430), ('a', 106050), ('to', 94381), ('I', 73297), ('we', 61408), ('in', 59098), ('of', 50357), ('room', 46906)]\n"
     ]
    }
   ],
   "source": [
    "unique_words = set()\n",
    "most_frequent_words = defaultdict(int)\n",
    "for i in range(len(train_data)):\n",
    "    data = train_data['lemmatized_text'][i].split()\n",
    "    for w in data:\n",
    "        unique_words.add(w)\n",
    "        most_frequent_words[w] += 1\n",
    "\n",
    "#vocab size of 62493 unique words in all the reviews\n",
    "print(f\"number of unique words: {len(unique_words)}\")\n",
    "\n",
    "most_freq = sorted(most_frequent_words.items(), key=lambda x: x[1], reverse=True)\n",
    "print(f\"most frequent words use in reviews: {most_freq[:10]}\") #Notice how all of them are stop words --> dataset needs pruning"
   ]
  },
  {
   "cell_type": "code",
   "execution_count": 579,
   "id": "1cbc13aa",
   "metadata": {},
   "outputs": [
    {
     "data": {
      "text/plain": [
       "[('room', 46906),\n",
       " ('hotel', 43971),\n",
       " ('stay', 29283),\n",
       " ('great', 15991),\n",
       " ('would', 14202),\n",
       " ('staff', 14182),\n",
       " ('get', 13934),\n",
       " ('good', 13909),\n",
       " ('night', 12544),\n",
       " ('nice', 11574)]"
      ]
     },
     "execution_count": 579,
     "metadata": {},
     "output_type": "execute_result"
    }
   ],
   "source": [
    "from nltk.corpus import stopwords\n",
    "\n",
    "stop_words = set(stopwords.words('english'))\n",
    "\n",
    "def most_common_words(N:list):\n",
    "    most_frequent_actual_words = []\n",
    "\n",
    "    for n in N:\n",
    "        if n[0].lower() not in stop_words:\n",
    "            most_frequent_actual_words.append(n)\n",
    "        if len(most_frequent_actual_words) == 10:\n",
    "            break\n",
    "\n",
    "    return most_frequent_actual_words\n",
    "\n",
    "most_frequent_actual_words = most_common_words(most_freq)\n",
    "most_frequent_actual_words"
   ]
  },
  {
   "cell_type": "markdown",
   "id": "a77444cd",
   "metadata": {},
   "source": [
    "Nice we can now see the most common words across all the reviews. We can now graph these using a bar graph to get a visual representation of just how often these words appear."
   ]
  },
  {
   "cell_type": "code",
   "execution_count": 580,
   "id": "3165b793",
   "metadata": {},
   "outputs": [
    {
     "data": {
      "image/png": "[encoded data removed]",
      "text/plain": [
       "<Figure size 640x480 with 1 Axes>"
      ]
     },
     "metadata": {},
     "output_type": "display_data"
    }
   ],
   "source": [
    "def plot_words(words, title_text, y_axis_text):\n",
    "    words, counts = zip(*words)\n",
    "    plt.bar(words, counts)\n",
    "    plt.xlabel('words')\n",
    "    plt.ylabel(y_axis_text)\n",
    "    plt.title(title_text)\n",
    "\n",
    "plot_words(most_frequent_actual_words,'Most frequent words across all reviews', 'number of occurances across all reviews')"
   ]
  },
  {
   "cell_type": "markdown",
   "id": "ffee4c0d",
   "metadata": {},
   "source": [
    "Now this alone doesn't really help us too much. Most of these words seem to either be about rooms, the hotel, or words that typically carry positive sentiment (likely due to the very large class imbalance). Why dont we try zooming in a little more and try gauge the most common words present in both negative and positive reviews."
   ]
  },
  {
   "cell_type": "code",
   "execution_count": null,
   "id": "cf333ee6",
   "metadata": {},
   "outputs": [
    {
     "name": "stdout",
     "output_type": "stream",
     "text": [
      "Most common words in positive reviews: \n"
     ]
    },
    {
     "data": {
      "text/plain": [
       "[('room', 37980),\n",
       " ('hotel', 37308),\n",
       " ('stay', 25099),\n",
       " ('great', 15312),\n",
       " ('staff', 12721),\n",
       " ('good', 12563),\n",
       " ('would', 11400),\n",
       " ('get', 11059),\n",
       " ('nice', 10615),\n",
       " ('night', 10108)]"
      ]
     },
     "execution_count": 581,
     "metadata": {},
     "output_type": "execute_result"
    }
   ],
   "source": [
    "def most_common_words_sentiment(N:list):\n",
    "    negative_words = []\n",
    "    positive_words = []\n",
    "    for i in range(len(N)):\n",
    "        data = word_tokenize(N['lemmatized_text'][i])\n",
    "        rating = int(N['ratings'][i]['overall'])\n",
    "        for w in data:\n",
    "            if w.lower() in stop_words: continue\n",
    "            #This is slightly problematic as it considers any rating >= 3 as positive. However we shall persist for simplicities sake.\n",
    "            if rating >= 2.5: \n",
    "                positive_words.append(w)\n",
    "            else:\n",
    "                negative_words.append(w)\n",
    "    \n",
    "    return Counter(positive_words), Counter(negative_words)\n",
    "\n",
    "positive_review_words, negative_review_words = most_common_words_sentiment(train_data)\n",
    "\n",
    "print(\"Most common words in positive reviews: \")\n",
    "positive_review_words.most_common(10)"
   ]
  },
  {
   "cell_type": "code",
   "execution_count": 582,
   "id": "3b59f949",
   "metadata": {},
   "outputs": [
    {
     "data": {
      "image/png": "[encoded data removed]",
      "text/plain": [
       "<Figure size 640x480 with 1 Axes>"
      ]
     },
     "metadata": {},
     "output_type": "display_data"
    }
   ],
   "source": [
    "plot_words(positive_review_words.most_common(10),'10 most frequent words in reviews with positive overall rating', 'number of occurances across positive reviews')"
   ]
  },
  {
   "cell_type": "code",
   "execution_count": 583,
   "id": "5fa88896",
   "metadata": {},
   "outputs": [
    {
     "name": "stdout",
     "output_type": "stream",
     "text": [
      "Most common words in negative reviews:\n"
     ]
    },
    {
     "data": {
      "text/plain": [
       "[('room', 8926),\n",
       " ('hotel', 6663),\n",
       " ('stay', 4184),\n",
       " ('get', 2875),\n",
       " ('would', 2802),\n",
       " ('night', 2436),\n",
       " ('one', 2234),\n",
       " ('go', 2135),\n",
       " ('say', 1694),\n",
       " ('could', 1663)]"
      ]
     },
     "execution_count": 583,
     "metadata": {},
     "output_type": "execute_result"
    }
   ],
   "source": [
    "print(\"Most common words in negative reviews:\")\n",
    "negative_review_words.most_common(10)"
   ]
  },
  {
   "cell_type": "code",
   "execution_count": 584,
   "id": "b1ff6429",
   "metadata": {},
   "outputs": [
    {
     "data": {
      "image/png": "[encoded data removed]",
      "text/plain": [
       "<Figure size 640x480 with 1 Axes>"
      ]
     },
     "metadata": {},
     "output_type": "display_data"
    }
   ],
   "source": [
    "plot_words(negative_review_words.most_common(10),'10 most frequent words in reviews with negative overall rating', 'number of occurances across negative reviews')"
   ]
  },
  {
   "cell_type": "markdown",
   "id": "0e21241f",
   "metadata": {},
   "source": [
    "We see here that even after looking at the words that appear most comononly in both positive and negative reveiws, we really dont know much about what differentiates both types of reviews. The most notable difference, (apart from the word counts which are naturally higher for the positive words) is the presence of the words \"great\", \"good\", \"nice\" in the most common positive reveiws. This makes sense in regards to sentiment, which shows that the partititon of reviews is likely accurate."
   ]
  },
  {
   "cell_type": "markdown",
   "id": "494e7478",
   "metadata": {},
   "source": [
    "But while it does seem interesting to look at the most common words for both positive and negative reviews, we can go even further. Rather than just words, we can examine the most common \"n-grams\" present in both the text as a whole and alongside positive and negative reviews. These n-grams can give a better understanding of the most common phrases and combination of words within certain reviews and give us a visual and quantiative understanding of them. As a baseline, we will be using tri-grams as our basis for analysis as they seem to strike the best middle ground in terms of content and length.\n",
    "\n",
    "We will calculate the most common n-grams for both the clean_text variants and the lemmatized variants of the reviews. "
   ]
  },
  {
   "cell_type": "code",
   "execution_count": 585,
   "id": "2d423bd6",
   "metadata": {},
   "outputs": [
    {
     "name": "stdout",
     "output_type": "stream",
     "text": [
      "Distribution of 3-grams:\n",
      "The room was: 2943\n",
      "the front desk: 2927\n",
      "in the room: 2192\n",
      "of the hotel: 2064\n",
      "The hotel is: 2030\n",
      "stay here again: 1696\n",
      "stayed at the: 1606\n",
      "at this hotel: 1601\n",
      "the room was: 1563\n",
      "one of the: 1483\n"
     ]
    }
   ],
   "source": [
    "from nltk import ngrams\n",
    "n = 3\n",
    "def generate_ngrams(text, n):\n",
    "    n_grams = ngrams(text, n)\n",
    "    return [' '.join(gram) for gram in n_grams]\n",
    "\n",
    "n_grams_list = []\n",
    "for i in range(len(train_data)):\n",
    "    data = word_tokenize(train_data['clean_text'][i])\n",
    "    n_grams = generate_ngrams(data, n)\n",
    "    for gram in n_grams:\n",
    "        n_grams_list.append(gram)\n",
    "\n",
    "n_gram_freq = Counter(n_grams_list)\n",
    "\n",
    "print(f\"Distribution of {n}-grams:\")\n",
    "for ngram, count in n_gram_freq.most_common(10):\n",
    "    print(f\"{ngram}: {count}\")"
   ]
  },
  {
   "cell_type": "code",
   "execution_count": 586,
   "id": "875e8f15",
   "metadata": {},
   "outputs": [
    {
     "name": "stdout",
     "output_type": "stream",
     "text": [
      "Distribution of 3-grams:\n",
      "the room be: 8638\n",
      "the hotel be: 5439\n",
      "the staff be: 4235\n",
      "the front desk: 3637\n",
      "stay at the: 3604\n",
      "there be a: 3396\n",
      "I do not: 2708\n",
      "in the room: 2601\n",
      "it be a: 2554\n",
      "this hotel be: 2375\n"
     ]
    }
   ],
   "source": [
    "n = 3\n",
    "def generate_ngrams(text, n):\n",
    "    n_grams = ngrams(text, n)\n",
    "    return [' '.join(gram) for gram in n_grams]\n",
    "\n",
    "n_grams_list = []\n",
    "for i in range(len(train_data)):\n",
    "    data = word_tokenize(train_data['lemmatized_text'][i])\n",
    "    n_grams = generate_ngrams(data, n)\n",
    "    for gram in n_grams:\n",
    "        n_grams_list.append(gram)\n",
    "\n",
    "n_gram_freq = Counter(n_grams_list)\n",
    "\n",
    "print(f\"Distribution of {n}-grams:\")\n",
    "for ngram, count in n_gram_freq.most_common(10):\n",
    "    print(f\"{ngram}: {count}\")"
   ]
  },
  {
   "cell_type": "markdown",
   "id": "2f41a8a8",
   "metadata": {},
   "source": [
    "The most common tri-grams for all the reviews don't seem to be very useful as they seem to just be joining statements. What if we look at the most common tri grams for both \"positive\" and negative reviews?\n"
   ]
  },
  {
   "cell_type": "code",
   "execution_count": null,
   "id": "00c74ae2",
   "metadata": {},
   "outputs": [
    {
     "name": "stdout",
     "output_type": "stream",
     "text": [
      "Most common 3-grams for positive rating reviews:\n",
      "The room was: 2657\n",
      "the front desk: 2047\n",
      "The hotel is: 1894\n",
      "of the hotel: 1777\n",
      "in the room: 1680\n",
      "stay here again: 1566\n",
      "stayed at the: 1447\n",
      "at this hotel: 1315\n",
      "the room was: 1297\n",
      "and it was: 1279\n",
      "\n",
      "\n",
      "Most common 3-grams for negative rating reviews:\n",
      "the front desk: 880\n",
      "in the room: 512\n",
      "of the hotel: 287\n",
      "The room was: 286\n",
      "at this hotel: 286\n",
      "I had to: 267\n",
      "the room was: 266\n",
      "to the front: 223\n",
      "we had to: 213\n",
      "one of the: 209\n"
     ]
    }
   ],
   "source": [
    "#positive and negative n-grams using the primary clean text corpus\n",
    "positive_ngrams = []\n",
    "negative_ngrams = []\n",
    "for i in range(len(train_data)):\n",
    "    data = word_tokenize(train_data['clean_text'][i])\n",
    "    n_grams = generate_ngrams(data, n)\n",
    "    rating = int(train_data['ratings'][i]['overall'])\n",
    "    if rating >= 2.5:\n",
    "        for gram in n_grams:\n",
    "            positive_ngrams.append(gram)\n",
    "    else:\n",
    "        for gram in n_grams:\n",
    "            negative_ngrams.append(gram)\n",
    "\n",
    "positive_ngrams_freq = Counter(positive_ngrams)\n",
    "negative_ngrams_freq = Counter(negative_ngrams)\n",
    "\n",
    "print(f\"Most common {n}-grams for positive rating reviews:\")\n",
    "for ngram, count in positive_ngrams_freq.most_common(10):\n",
    "    print(f\"{ngram}: {count}\")\n",
    "print('\\n')\n",
    "print(f\"Most common {n}-grams for negative rating reviews:\")\n",
    "for ngram, count in negative_ngrams_freq.most_common(10):\n",
    "    print(f\"{ngram}: {count}\")\n"
   ]
  },
  {
   "cell_type": "code",
   "execution_count": null,
   "id": "2837cef3",
   "metadata": {},
   "outputs": [
    {
     "name": "stdout",
     "output_type": "stream",
     "text": [
      "Most common 3-grams for positive rating reviews:\n",
      "the room be: 7601\n",
      "the hotel be: 4880\n",
      "the staff be: 3954\n",
      "stay at the: 3201\n",
      "there be a: 2936\n",
      "the front desk: 2645\n",
      "it be a: 2275\n",
      "the location be: 2158\n",
      "I do not: 2093\n",
      "in the room: 2012\n",
      "\n",
      "\n",
      "Most common 3-grams for negative rating reviews:\n",
      "the room be: 1037\n",
      "the front desk: 992\n",
      "I do not: 615\n",
      "in the room: 589\n",
      "the hotel be: 559\n",
      "there be no: 534\n",
      "there be a: 460\n",
      "stay at the: 403\n",
      "this hotel be: 374\n",
      "I have to: 343\n"
     ]
    }
   ],
   "source": [
    "#positive and negative ngrams using the lemmatized text corpus\n",
    "positive_ngrams = []\n",
    "negative_ngrams = []\n",
    "for i in range(len(train_data)):\n",
    "    data = word_tokenize(train_data['lemmatized_text'][i])\n",
    "    n_grams = generate_ngrams(data, n)\n",
    "    rating = int(train_data['ratings'][i]['overall'])\n",
    "    if rating >= 2.5:\n",
    "        for gram in n_grams:\n",
    "            positive_ngrams.append(gram)\n",
    "    else:\n",
    "        for gram in n_grams:\n",
    "            negative_ngrams.append(gram)\n",
    "\n",
    "positive_ngrams_freq = Counter(positive_ngrams)\n",
    "negative_ngrams_freq = Counter(negative_ngrams)\n",
    "\n",
    "print(f\"Most common {n}-grams for positive rating reviews:\")\n",
    "for ngram, count in positive_ngrams_freq.most_common(10):\n",
    "    print(f\"{ngram}: {count}\")\n",
    "print('\\n')\n",
    "print(f\"Most common {n}-grams for negative rating reviews:\")\n",
    "for ngram, count in negative_ngrams_freq.most_common(10):\n",
    "    print(f\"{ngram}: {count}\")\n"
   ]
  },
  {
   "cell_type": "markdown",
   "id": "c4f8e52c",
   "metadata": {},
   "source": [
    "Oddly enough, we see that the tri-grams for both positive and negative reviews are very similar. We can see below in the frequency bar grpahs for tri-grams in positive and negative reviews, that even their distributions are quite similar. This is a strange finding. But while this does not exactly answer the question regarding specific differences positive and negative reviews, it does show us that the most prevalent perdictive terms for most of these sequences are stop words. While it could be argued that their presence removes more meaningful sentiment carrying terms, it can be argued that they are the best predictors of other words which hence leads to unique contexts and unique sentiments. "
   ]
  },
  {
   "cell_type": "code",
   "execution_count": 589,
   "id": "a12d7e8d",
   "metadata": {},
   "outputs": [
    {
     "data": {
      "image/png": "[encoded data removed]",
      "text/plain": [
       "<Figure size 1200x500 with 2 Axes>"
      ]
     },
     "metadata": {},
     "output_type": "display_data"
    }
   ],
   "source": [
    "labels_pos, values_pos = zip(*positive_ngrams_freq.most_common(10))\n",
    "labels_neg, values_neg = zip(*negative_ngrams_freq.most_common(10))\n",
    "indexes = range(len(labels_pos))\n",
    "\n",
    "lables = [labels_pos, labels_neg]\n",
    "values = [values_pos, values_pos]\n",
    "\n",
    "titles = [f\"Most common {n}-grams for positive overall rating reviews\", f\"Most common {n}-grams for negative overall rating reviews\"]\n",
    "def multi_graph(indexes, labels, values, count, titles):\n",
    "    fig, axes = plt.subplots(1, 2, figsize=(12, 5))\n",
    "    for i in range(count):\n",
    "        axes[i].bar(indexes, values[i])\n",
    "        axes[i].set_xlabel(f'{n}-grams')\n",
    "        axes[i].set_ylabel('Frequency')\n",
    "        axes[i].set_xticks(indexes, labels[i], rotation='vertical')\n",
    "        axes[i].set_title(titles[i])\n",
    "\n",
    "multi_graph(indexes, lables, values, 2, titles)"
   ]
  },
  {
   "cell_type": "markdown",
   "id": "3e0670a1",
   "metadata": {},
   "source": [
    "We can now perform similar visualisations on the titles"
   ]
  },
  {
   "cell_type": "code",
   "execution_count": 590,
   "id": "7622fe52",
   "metadata": {},
   "outputs": [
    {
     "name": "stdout",
     "output_type": "stream",
     "text": [
      "[('great', 5981), ('hotel', 5185), ('location', 3992), ('the', 3191), ('a', 3067), ('and', 2669), ('stay', 2617), ('in', 2119), ('good', 2096), ('for', 1984)]\n"
     ]
    }
   ],
   "source": [
    "titles = train_data['clean_title']\n",
    "title_words = []\n",
    "for n in train_data['clean_title']:\n",
    "    title = word_tokenize(n)\n",
    "    for w in title:\n",
    "        title_words.append(w.lower())\n",
    "\n",
    "print(Counter(title_words).most_common(10))"
   ]
  },
  {
   "cell_type": "code",
   "execution_count": 591,
   "id": "2e4a59e8",
   "metadata": {},
   "outputs": [
    {
     "name": "stdout",
     "output_type": "stream",
     "text": [
      "[('great', 5981), ('hotel', 5185), ('location', 3992), ('stay', 2617), ('good', 2096), ('nice', 1662), ('service', 1402), ('staff', 1118), ('excellent', 1081), ('place', 1079)]\n"
     ]
    }
   ],
   "source": [
    "title_words_ns = []\n",
    "for n in train_data['clean_title']:\n",
    "    title = word_tokenize(n)\n",
    "    for w in title:\n",
    "        if w.lower() not in stop_words:\n",
    "            title_words_ns.append(w.lower())\n",
    "            \n",
    "print(Counter(title_words_ns).most_common(10))"
   ]
  },
  {
   "cell_type": "markdown",
   "id": "a96dce71",
   "metadata": {},
   "source": [
    "Based off all these experiments, it becomes apparent that some additional changes must be made to the data before being fed into a machine learning model. Given the consistant requirement of lowercasing the words for both the title and the text, all the text should be normalised through lowercasing. Though this might remove some of the \"textual emotion\" conveyed in some of the reviews as capital letters could indicate both excitement and anger. But also these are not terribly useful considering how similar the good and the bad reviews seem to be in terms of word similar. So rather than frequency or even n-gram maybe we need to look deeper"
   ]
  },
  {
   "cell_type": "markdown",
   "id": "333cefa8",
   "metadata": {},
   "source": [
    "### 3. Selection and training Machine Learning models"
   ]
  },
  {
   "cell_type": "markdown",
   "id": "3529bfb3",
   "metadata": {},
   "source": [
    "To prepare the dataset for machine learning, we must collate all the necessary fields into their own dataset. This process includes lowercasing the text and creating a dataset with columns containing the textual content of the review and its corresponding rating. As stated earlier, lemmatization will be the pre-processing technique of choice."
   ]
  },
  {
   "cell_type": "code",
   "execution_count": 592,
   "id": "9230c2ca",
   "metadata": {},
   "outputs": [],
   "source": [
    "train_data['lemmatized_text'] = train_data['lemmatized_text'].apply(lambda x: x.lower())\n",
    "train_data['clean_title'] = train_data['clean_title'].apply(lambda x: x.lower())"
   ]
  },
  {
   "cell_type": "code",
   "execution_count": 593,
   "id": "b764ae69",
   "metadata": {},
   "outputs": [],
   "source": [
    "train_data['clean_title'] = lemmatize(train_data['clean_title'])"
   ]
  },
  {
   "cell_type": "code",
   "execution_count": null,
   "id": "5b3237a5",
   "metadata": {},
   "outputs": [
    {
     "data": {
      "text/plain": [
       "0        1\n",
       "1        1\n",
       "2        4\n",
       "3        2\n",
       "4        1\n",
       "        ..\n",
       "23994    4\n",
       "23995    3\n",
       "23996    5\n",
       "23997    4\n",
       "23998    5\n",
       "Name: overall, Length: 23999, dtype: int64"
      ]
     },
     "execution_count": 594,
     "metadata": {},
     "output_type": "execute_result"
    }
   ],
   "source": [
    "#Function to extract the \"overall\" from the ratings dictionary of every review -> Convert to int from float\n",
    "def get_overall(ratings):\n",
    "    try:\n",
    "        return int(ratings.get('overall',None))\n",
    "    except(AttributeError, TypeError):\n",
    "        return None\n",
    "\n",
    "train_data['overall'] = train_data['ratings'].apply(get_overall)\n",
    "train_data['overall']"
   ]
  },
  {
   "cell_type": "code",
   "execution_count": null,
   "id": "74116979",
   "metadata": {},
   "outputs": [],
   "source": [
    "#combining the rating, title and text into one dataframe to make it best suited for machine learning\n",
    "lem_train_data_cur = train_data[['overall', 'clean_title','lemmatized_text']]"
   ]
  },
  {
   "cell_type": "code",
   "execution_count": 596,
   "id": "69acf1fb",
   "metadata": {},
   "outputs": [
    {
     "data": {
      "text/html": [
       "<div>\n",
       "<style scoped>\n",
       "    .dataframe tbody tr th:only-of-type {\n",
       "        vertical-align: middle;\n",
       "    }\n",
       "\n",
       "    .dataframe tbody tr th {\n",
       "        vertical-align: top;\n",
       "    }\n",
       "\n",
       "    .dataframe thead th {\n",
       "        text-align: right;\n",
       "    }\n",
       "</style>\n",
       "<table border=\"1\" class=\"dataframe\">\n",
       "  <thead>\n",
       "    <tr style=\"text-align: right;\">\n",
       "      <th></th>\n",
       "      <th>overall</th>\n",
       "      <th>clean_title</th>\n",
       "      <th>lemmatized_text</th>\n",
       "    </tr>\n",
       "  </thead>\n",
       "  <tbody>\n",
       "    <tr>\n",
       "      <th>0</th>\n",
       "      <td>1</td>\n",
       "      <td>horrible experience</td>\n",
       "      <td>first of all we get there and they do not have...</td>\n",
       "    </tr>\n",
       "    <tr>\n",
       "      <th>1</th>\n",
       "      <td>1</td>\n",
       "      <td>stay away</td>\n",
       "      <td>find racist graffiti in the room request to ch...</td>\n",
       "    </tr>\n",
       "    <tr>\n",
       "      <th>2</th>\n",
       "      <td>4</td>\n",
       "      <td>great location and service</td>\n",
       "      <td>close to union square hotel be a bit of a maze...</td>\n",
       "    </tr>\n",
       "    <tr>\n",
       "      <th>3</th>\n",
       "      <td>2</td>\n",
       "      <td>I will never go back here again</td>\n",
       "      <td>i have a bad vibe about this place from the mo...</td>\n",
       "    </tr>\n",
       "    <tr>\n",
       "      <th>4</th>\n",
       "      <td>1</td>\n",
       "      <td>rip off our visa card after departure</td>\n",
       "      <td>after we receive our final bill and leave the ...</td>\n",
       "    </tr>\n",
       "    <tr>\n",
       "      <th>...</th>\n",
       "      <td>...</td>\n",
       "      <td>...</td>\n",
       "      <td>...</td>\n",
       "    </tr>\n",
       "    <tr>\n",
       "      <th>23994</th>\n",
       "      <td>4</td>\n",
       "      <td>pleasant stay with good location</td>\n",
       "      <td>we stay just one night here when visit our son...</td>\n",
       "    </tr>\n",
       "    <tr>\n",
       "      <th>23995</th>\n",
       "      <td>3</td>\n",
       "      <td>hit or miss some thing need attention</td>\n",
       "      <td>spend two night here with spouse in conjunctio...</td>\n",
       "    </tr>\n",
       "    <tr>\n",
       "      <th>23996</th>\n",
       "      <td>5</td>\n",
       "      <td>good breakfast</td>\n",
       "      <td>the room be fairly large pretty quiet the bed ...</td>\n",
       "    </tr>\n",
       "    <tr>\n",
       "      <th>23997</th>\n",
       "      <td>4</td>\n",
       "      <td>deserve a high rating</td>\n",
       "      <td>great start to our stay when we be check in 2h...</td>\n",
       "    </tr>\n",
       "    <tr>\n",
       "      <th>23998</th>\n",
       "      <td>5</td>\n",
       "      <td>clean comfortable</td>\n",
       "      <td>great room comfortable bed food be good the lo...</td>\n",
       "    </tr>\n",
       "  </tbody>\n",
       "</table>\n",
       "<p>23999 rows × 3 columns</p>\n",
       "</div>"
      ],
      "text/plain": [
       "       overall                            clean_title  \\\n",
       "0            1                    horrible experience   \n",
       "1            1                              stay away   \n",
       "2            4             great location and service   \n",
       "3            2        I will never go back here again   \n",
       "4            1  rip off our visa card after departure   \n",
       "...        ...                                    ...   \n",
       "23994        4       pleasant stay with good location   \n",
       "23995        3  hit or miss some thing need attention   \n",
       "23996        5                         good breakfast   \n",
       "23997        4                  deserve a high rating   \n",
       "23998        5                      clean comfortable   \n",
       "\n",
       "                                         lemmatized_text  \n",
       "0      first of all we get there and they do not have...  \n",
       "1      find racist graffiti in the room request to ch...  \n",
       "2      close to union square hotel be a bit of a maze...  \n",
       "3      i have a bad vibe about this place from the mo...  \n",
       "4      after we receive our final bill and leave the ...  \n",
       "...                                                  ...  \n",
       "23994  we stay just one night here when visit our son...  \n",
       "23995  spend two night here with spouse in conjunctio...  \n",
       "23996  the room be fairly large pretty quiet the bed ...  \n",
       "23997  great start to our stay when we be check in 2h...  \n",
       "23998  great room comfortable bed food be good the lo...  \n",
       "\n",
       "[23999 rows x 3 columns]"
      ]
     },
     "execution_count": 596,
     "metadata": {},
     "output_type": "execute_result"
    }
   ],
   "source": [
    "lem_train_data_cur"
   ]
  },
  {
   "cell_type": "markdown",
   "id": "d9749fb7",
   "metadata": {},
   "source": [
    "Though there could have been many methods in regards to using the title and text as features, the easiest route was chosen and both were combined in to a single feature."
   ]
  },
  {
   "cell_type": "code",
   "execution_count": 597,
   "id": "b9d2be50",
   "metadata": {},
   "outputs": [
    {
     "data": {
      "text/html": [
       "<div>\n",
       "<style scoped>\n",
       "    .dataframe tbody tr th:only-of-type {\n",
       "        vertical-align: middle;\n",
       "    }\n",
       "\n",
       "    .dataframe tbody tr th {\n",
       "        vertical-align: top;\n",
       "    }\n",
       "\n",
       "    .dataframe thead th {\n",
       "        text-align: right;\n",
       "    }\n",
       "</style>\n",
       "<table border=\"1\" class=\"dataframe\">\n",
       "  <thead>\n",
       "    <tr style=\"text-align: right;\">\n",
       "      <th></th>\n",
       "      <th>overall</th>\n",
       "      <th>clean_title</th>\n",
       "      <th>lemmatized_text</th>\n",
       "      <th>combined</th>\n",
       "    </tr>\n",
       "  </thead>\n",
       "  <tbody>\n",
       "    <tr>\n",
       "      <th>0</th>\n",
       "      <td>1</td>\n",
       "      <td>horrible experience</td>\n",
       "      <td>first of all we get there and they do not have...</td>\n",
       "      <td>horrible experience first of all we get there ...</td>\n",
       "    </tr>\n",
       "    <tr>\n",
       "      <th>1</th>\n",
       "      <td>1</td>\n",
       "      <td>stay away</td>\n",
       "      <td>find racist graffiti in the room request to ch...</td>\n",
       "      <td>stay away find racist graffiti in the room req...</td>\n",
       "    </tr>\n",
       "    <tr>\n",
       "      <th>2</th>\n",
       "      <td>4</td>\n",
       "      <td>great location and service</td>\n",
       "      <td>close to union square hotel be a bit of a maze...</td>\n",
       "      <td>great location and service close to union squa...</td>\n",
       "    </tr>\n",
       "    <tr>\n",
       "      <th>3</th>\n",
       "      <td>2</td>\n",
       "      <td>I will never go back here again</td>\n",
       "      <td>i have a bad vibe about this place from the mo...</td>\n",
       "      <td>I will never go back here again i have a bad v...</td>\n",
       "    </tr>\n",
       "    <tr>\n",
       "      <th>4</th>\n",
       "      <td>1</td>\n",
       "      <td>rip off our visa card after departure</td>\n",
       "      <td>after we receive our final bill and leave the ...</td>\n",
       "      <td>rip off our visa card after departure after we...</td>\n",
       "    </tr>\n",
       "    <tr>\n",
       "      <th>...</th>\n",
       "      <td>...</td>\n",
       "      <td>...</td>\n",
       "      <td>...</td>\n",
       "      <td>...</td>\n",
       "    </tr>\n",
       "    <tr>\n",
       "      <th>23994</th>\n",
       "      <td>4</td>\n",
       "      <td>pleasant stay with good location</td>\n",
       "      <td>we stay just one night here when visit our son...</td>\n",
       "      <td>pleasant stay with good location we stay just ...</td>\n",
       "    </tr>\n",
       "    <tr>\n",
       "      <th>23995</th>\n",
       "      <td>3</td>\n",
       "      <td>hit or miss some thing need attention</td>\n",
       "      <td>spend two night here with spouse in conjunctio...</td>\n",
       "      <td>hit or miss some thing need attention spend tw...</td>\n",
       "    </tr>\n",
       "    <tr>\n",
       "      <th>23996</th>\n",
       "      <td>5</td>\n",
       "      <td>good breakfast</td>\n",
       "      <td>the room be fairly large pretty quiet the bed ...</td>\n",
       "      <td>good breakfast the room be fairly large pretty...</td>\n",
       "    </tr>\n",
       "    <tr>\n",
       "      <th>23997</th>\n",
       "      <td>4</td>\n",
       "      <td>deserve a high rating</td>\n",
       "      <td>great start to our stay when we be check in 2h...</td>\n",
       "      <td>deserve a high rating great start to our stay ...</td>\n",
       "    </tr>\n",
       "    <tr>\n",
       "      <th>23998</th>\n",
       "      <td>5</td>\n",
       "      <td>clean comfortable</td>\n",
       "      <td>great room comfortable bed food be good the lo...</td>\n",
       "      <td>clean comfortable great room comfortable bed f...</td>\n",
       "    </tr>\n",
       "  </tbody>\n",
       "</table>\n",
       "<p>23999 rows × 4 columns</p>\n",
       "</div>"
      ],
      "text/plain": [
       "       overall                            clean_title  \\\n",
       "0            1                    horrible experience   \n",
       "1            1                              stay away   \n",
       "2            4             great location and service   \n",
       "3            2        I will never go back here again   \n",
       "4            1  rip off our visa card after departure   \n",
       "...        ...                                    ...   \n",
       "23994        4       pleasant stay with good location   \n",
       "23995        3  hit or miss some thing need attention   \n",
       "23996        5                         good breakfast   \n",
       "23997        4                  deserve a high rating   \n",
       "23998        5                      clean comfortable   \n",
       "\n",
       "                                         lemmatized_text  \\\n",
       "0      first of all we get there and they do not have...   \n",
       "1      find racist graffiti in the room request to ch...   \n",
       "2      close to union square hotel be a bit of a maze...   \n",
       "3      i have a bad vibe about this place from the mo...   \n",
       "4      after we receive our final bill and leave the ...   \n",
       "...                                                  ...   \n",
       "23994  we stay just one night here when visit our son...   \n",
       "23995  spend two night here with spouse in conjunctio...   \n",
       "23996  the room be fairly large pretty quiet the bed ...   \n",
       "23997  great start to our stay when we be check in 2h...   \n",
       "23998  great room comfortable bed food be good the lo...   \n",
       "\n",
       "                                                combined  \n",
       "0      horrible experience first of all we get there ...  \n",
       "1      stay away find racist graffiti in the room req...  \n",
       "2      great location and service close to union squa...  \n",
       "3      I will never go back here again i have a bad v...  \n",
       "4      rip off our visa card after departure after we...  \n",
       "...                                                  ...  \n",
       "23994  pleasant stay with good location we stay just ...  \n",
       "23995  hit or miss some thing need attention spend tw...  \n",
       "23996  good breakfast the room be fairly large pretty...  \n",
       "23997  deserve a high rating great start to our stay ...  \n",
       "23998  clean comfortable great room comfortable bed f...  \n",
       "\n",
       "[23999 rows x 4 columns]"
      ]
     },
     "execution_count": 597,
     "metadata": {},
     "output_type": "execute_result"
    }
   ],
   "source": [
    "lem_train_data_cur['combined'] = lem_train_data_cur['clean_title'] + ' ' + lem_train_data_cur['lemmatized_text']\n",
    "lem_train_data_cur"
   ]
  },
  {
   "cell_type": "code",
   "execution_count": 598,
   "id": "3164af51",
   "metadata": {},
   "outputs": [
    {
     "name": "stdout",
     "output_type": "stream",
     "text": [
      "0        horrible experience first of all we get there ...\n",
      "1        stay away find racist graffiti in the room req...\n",
      "2        great location and service close to union squa...\n",
      "3        I will never go back here again i have a bad v...\n",
      "4        rip off our visa card after departure after we...\n",
      "                               ...                        \n",
      "23994    pleasant stay with good location we stay just ...\n",
      "23995    hit or miss some thing need attention spend tw...\n",
      "23996    good breakfast the room be fairly large pretty...\n",
      "23997    deserve a high rating great start to our stay ...\n",
      "23998    clean comfortable great room comfortable bed f...\n",
      "Name: combined, Length: 23999, dtype: object\n"
     ]
    }
   ],
   "source": [
    "print(lem_train_data_cur['combined'])"
   ]
  },
  {
   "cell_type": "markdown",
   "id": "84808298",
   "metadata": {},
   "source": [
    "Here is the final dataset that would be used for almost all of the machine learning work going forward. By simplifying the problem we now essentially have one input (combined block of text containing both the title and review) and one label (overall rating)."
   ]
  },
  {
   "cell_type": "code",
   "execution_count": 599,
   "id": "fc846da5",
   "metadata": {},
   "outputs": [
    {
     "data": {
      "text/html": [
       "<div>\n",
       "<style scoped>\n",
       "    .dataframe tbody tr th:only-of-type {\n",
       "        vertical-align: middle;\n",
       "    }\n",
       "\n",
       "    .dataframe tbody tr th {\n",
       "        vertical-align: top;\n",
       "    }\n",
       "\n",
       "    .dataframe thead th {\n",
       "        text-align: right;\n",
       "    }\n",
       "</style>\n",
       "<table border=\"1\" class=\"dataframe\">\n",
       "  <thead>\n",
       "    <tr style=\"text-align: right;\">\n",
       "      <th></th>\n",
       "      <th>overall</th>\n",
       "      <th>combined</th>\n",
       "    </tr>\n",
       "  </thead>\n",
       "  <tbody>\n",
       "    <tr>\n",
       "      <th>0</th>\n",
       "      <td>1</td>\n",
       "      <td>horrible experience first of all we get there ...</td>\n",
       "    </tr>\n",
       "    <tr>\n",
       "      <th>1</th>\n",
       "      <td>1</td>\n",
       "      <td>stay away find racist graffiti in the room req...</td>\n",
       "    </tr>\n",
       "    <tr>\n",
       "      <th>2</th>\n",
       "      <td>4</td>\n",
       "      <td>great location and service close to union squa...</td>\n",
       "    </tr>\n",
       "    <tr>\n",
       "      <th>3</th>\n",
       "      <td>2</td>\n",
       "      <td>I will never go back here again i have a bad v...</td>\n",
       "    </tr>\n",
       "    <tr>\n",
       "      <th>4</th>\n",
       "      <td>1</td>\n",
       "      <td>rip off our visa card after departure after we...</td>\n",
       "    </tr>\n",
       "    <tr>\n",
       "      <th>...</th>\n",
       "      <td>...</td>\n",
       "      <td>...</td>\n",
       "    </tr>\n",
       "    <tr>\n",
       "      <th>23994</th>\n",
       "      <td>4</td>\n",
       "      <td>pleasant stay with good location we stay just ...</td>\n",
       "    </tr>\n",
       "    <tr>\n",
       "      <th>23995</th>\n",
       "      <td>3</td>\n",
       "      <td>hit or miss some thing need attention spend tw...</td>\n",
       "    </tr>\n",
       "    <tr>\n",
       "      <th>23996</th>\n",
       "      <td>5</td>\n",
       "      <td>good breakfast the room be fairly large pretty...</td>\n",
       "    </tr>\n",
       "    <tr>\n",
       "      <th>23997</th>\n",
       "      <td>4</td>\n",
       "      <td>deserve a high rating great start to our stay ...</td>\n",
       "    </tr>\n",
       "    <tr>\n",
       "      <th>23998</th>\n",
       "      <td>5</td>\n",
       "      <td>clean comfortable great room comfortable bed f...</td>\n",
       "    </tr>\n",
       "  </tbody>\n",
       "</table>\n",
       "<p>23999 rows × 2 columns</p>\n",
       "</div>"
      ],
      "text/plain": [
       "       overall                                           combined\n",
       "0            1  horrible experience first of all we get there ...\n",
       "1            1  stay away find racist graffiti in the room req...\n",
       "2            4  great location and service close to union squa...\n",
       "3            2  I will never go back here again i have a bad v...\n",
       "4            1  rip off our visa card after departure after we...\n",
       "...        ...                                                ...\n",
       "23994        4  pleasant stay with good location we stay just ...\n",
       "23995        3  hit or miss some thing need attention spend tw...\n",
       "23996        5  good breakfast the room be fairly large pretty...\n",
       "23997        4  deserve a high rating great start to our stay ...\n",
       "23998        5  clean comfortable great room comfortable bed f...\n",
       "\n",
       "[23999 rows x 2 columns]"
      ]
     },
     "execution_count": 599,
     "metadata": {},
     "output_type": "execute_result"
    }
   ],
   "source": [
    "lem_train_data = lem_train_data_cur[['overall', 'combined']]\n",
    "lem_train_data"
   ]
  },
  {
   "cell_type": "markdown",
   "id": "afbcbbcf",
   "metadata": {},
   "source": [
    "Final sanity checks before model work"
   ]
  },
  {
   "cell_type": "code",
   "execution_count": 600,
   "id": "870191a7",
   "metadata": {},
   "outputs": [
    {
     "name": "stdout",
     "output_type": "stream",
     "text": [
      "<class 'pandas.core.frame.DataFrame'>\n",
      "RangeIndex: 23999 entries, 0 to 23998\n",
      "Data columns (total 2 columns):\n",
      " #   Column    Non-Null Count  Dtype \n",
      "---  ------    --------------  ----- \n",
      " 0   overall   23999 non-null  int64 \n",
      " 1   combined  23999 non-null  object\n",
      "dtypes: int64(1), object(1)\n",
      "memory usage: 375.1+ KB\n"
     ]
    }
   ],
   "source": [
    "lem_train_data.info()"
   ]
  },
  {
   "cell_type": "code",
   "execution_count": 601,
   "id": "e6a531dc",
   "metadata": {},
   "outputs": [
    {
     "data": {
      "text/plain": [
       "0        False\n",
       "1        False\n",
       "2        False\n",
       "3        False\n",
       "4        False\n",
       "         ...  \n",
       "23994    False\n",
       "23995    False\n",
       "23996    False\n",
       "23997    False\n",
       "23998    False\n",
       "Length: 23999, dtype: bool"
      ]
     },
     "execution_count": 601,
     "metadata": {},
     "output_type": "execute_result"
    }
   ],
   "source": [
    "duplicate = lem_train_data.duplicated()\n",
    "duplicate"
   ]
  },
  {
   "cell_type": "code",
   "execution_count": null,
   "id": "6dd68a7c",
   "metadata": {},
   "outputs": [
    {
     "name": "stdout",
     "output_type": "stream",
     "text": [
      "<class 'pandas.core.frame.DataFrame'>\n",
      "Index: 23998 entries, 0 to 23998\n",
      "Data columns (total 2 columns):\n",
      " #   Column    Non-Null Count  Dtype \n",
      "---  ------    --------------  ----- \n",
      " 0   overall   23998 non-null  int64 \n",
      " 1   combined  23998 non-null  object\n",
      "dtypes: int64(1), object(1)\n",
      "memory usage: 562.5+ KB\n"
     ]
    }
   ],
   "source": [
    "#Dropping duplicate found during analysis\n",
    "lem_train_data.drop_duplicates(inplace=True)\n",
    "lem_train_data.info()"
   ]
  },
  {
   "cell_type": "code",
   "execution_count": null,
   "id": "1a5b2898",
   "metadata": {},
   "outputs": [
    {
     "name": "stdout",
     "output_type": "stream",
     "text": [
      "21598 2400\n",
      "class counts\n",
      "1 : 1557\n",
      "4 : 7720\n",
      "2 : 1611\n",
      "3 : 3287\n",
      "5 : 9823\n"
     ]
    }
   ],
   "source": [
    "from sklearn.model_selection import train_test_split\n",
    "from sklearn.feature_extraction.text import TfidfVectorizer, CountVectorizer\n",
    "from sklearn.naive_bayes import MultinomialNB\n",
    "from imblearn.over_sampling import SMOTE, RandomOverSampler\n",
    "from sklearn.metrics import accuracy_score, f1_score, precision_score, recall_score, classification_report, mean_absolute_error, confusion_matrix\n",
    "\n",
    "#Data broken up into a 90:10 split between training and test set. We can consider the test set in this case as esentially be a validation set\n",
    "class_counts = Counter(lem_train_data['overall'])\n",
    "X_train, X_test, y_train, y_test = train_test_split(lem_train_data[\"combined\"], \n",
    "                                                    lem_train_data[\"overall\"], \n",
    "                                                    test_size=0.1, \n",
    "                                                    random_state=42,\n",
    "                                                    shuffle=True)\n",
    "print(len(X_train), len(X_test))\n",
    "\n",
    "print(\"class counts\")\n",
    "for k,v in class_counts.items():\n",
    "    print(f'{k} : {v}')"
   ]
  },
  {
   "cell_type": "code",
   "execution_count": 607,
   "id": "e5919792",
   "metadata": {},
   "outputs": [],
   "source": [
    "def eval_metrics(y_t, y_pred, model_name):\n",
    "    mae = mean_absolute_error(y_t, y_pred)\n",
    "    acc = accuracy_score(y_t, y_pred)\n",
    "    weighted_f1 = f1_score(y_t, y_pred, average='weighted')\n",
    "    macro_f1 = f1_score(y_t, y_pred, average='macro')\n",
    "\n",
    "    print(f\"{model_name}\")\n",
    "    print(f\"Accuracy: {acc:.4f}\")\n",
    "    print(f\"F1 score: {weighted_f1:.4f}\")\n",
    "    print(f\"F1 macro score: {macro_f1:.4f}\")\n",
    "    print(f\"Mean Absolute Error: {mae:.4f}\")\n",
    "    print(classification_report(y_t, y_pred))\n",
    "\n",
    "    con_mat = confusion_matrix(y_t, y_pred)\n",
    "    plt.figure(figsize=(8, 6))\n",
    "    sns.heatmap(con_mat, annot=True, fmt='d', cmap='Blues', \n",
    "                xticklabels=range(1, 6),\n",
    "                yticklabels=range(1, 6))\n",
    "    plt.xlabel('Predicted Rating')\n",
    "    plt.ylabel('True Rating')\n",
    "    plt.title('Confusion Matrix')\n",
    "    plt.show()"
   ]
  },
  {
   "cell_type": "markdown",
   "id": "e880f982",
   "metadata": {},
   "source": [
    "Here we have chosen to go with TF-IDF as the vectorisation method of choice. Unlike count vectorisation, which just counts the frequency of words, TF-IDF assigns scores to words based on the term frequency in a document and the inverse document frequency across the entire corpus. This helps reduce the influence of commonly occurring words (counters the choice to include stop words in the text) and puts more importance on words that are informative for each review. Which for a sentiment classification task seems more ideal. This was further verified through experiments across multiple models.\n",
    "\n",
    "While word embeddings were considered, and would have likely provided more nuanced results, embedding models like GloVe and Word2Vec were not used due to techincal difficulties with the virtual environment."
   ]
  },
  {
   "cell_type": "code",
   "execution_count": 609,
   "id": "5fa384ad",
   "metadata": {},
   "outputs": [],
   "source": [
    "vectorizer = TfidfVectorizer(ngram_range=(1, 3), max_features=70000, min_df=5, max_df=0.8)\n",
    "X_train_vec = vectorizer.fit_transform(X_train)\n",
    "X_test_vec = vectorizer.transform(X_test)"
   ]
  },
  {
   "cell_type": "markdown",
   "id": "b29fdc34",
   "metadata": {},
   "source": [
    "Logistic Regression was the model that performed best after much testing. While it was initially expected that the SVM would perform best due to its ability to deal with high dimensional data (like text) very well, Logistic regression with l2 regularisation managed to out perform it over a number of test runs. One way to understand why Logistic Regression outperformed the expected SVM (Hsu, 2020) here is to look at how they compute their results. As Logistic Regression computes outputs using the softmax activation function, it naturally has a better pre-disposition to a multi-class classification problem like this as it applies probabilities to each class on each output. In comparison SVM's operate on a one versus many approach for each class which could lead to inconsistencies when trying to classify ratings that veer into sentiment the gray zone (neutral or neutral adjacent ratings). Though it is assumed that through finer tuning, the SVM could likely out perform Logistic Regression. Further notes regarding SVM are also present in the reflection.\n",
    "\n",
    "We should note here that class_weight was set to balanced to deal with the heavily imbalanced dataset. While resampling techniques such as SMOTE (Chawla et al.,2002) were tested, primarily on models like Multinomial Naive Bayes, it was found that using the inbuilt class balancing parameters of these models provided the best results. \n",
    "\n",
    "For model evaluation, a weighted F1 score was chosen to account for the imbalanced dataset. While accuracy measures the raw number of correct predictions the model is making, the F1 score is the harmonic mean of precision and recall, offering a more balanced assessment of performance. The weighted F1 score assigns each class a weight proportional to its frequency, thereby adjusting the overall score Macro F1 score is also considered, which treats all classes as equal. While all three metrics are visualised, consider the weighted F1 score to be the key metric. \n",
    "\n",
    "Alongside this, a confusion matrix accompanies the models for a more comprehensive look at model performance and the exact correct and incorrect classifications."
   ]
  },
  {
   "cell_type": "code",
   "execution_count": 611,
   "id": "058b311d",
   "metadata": {},
   "outputs": [
    {
     "name": "stdout",
     "output_type": "stream",
     "text": [
      "Normal Logistic Regression\n",
      "Accuracy: 0.6404\n",
      "F1 score: 0.6350\n",
      "F1 macro score: 0.5767\n",
      "Mean Absolute Error: 0.4146\n",
      "              precision    recall  f1-score   support\n",
      "\n",
      "           1       0.63      0.76      0.69       162\n",
      "           2       0.33      0.31      0.32       147\n",
      "           3       0.58      0.51      0.54       358\n",
      "           4       0.60      0.55      0.58       774\n",
      "           5       0.72      0.80      0.76       959\n",
      "\n",
      "    accuracy                           0.64      2400\n",
      "   macro avg       0.57      0.58      0.58      2400\n",
      "weighted avg       0.63      0.64      0.63      2400\n",
      "\n"
     ]
    },
    {
     "data": {
      "image/png": "[encoded data removed]",
      "text/plain": [
       "<Figure size 800x600 with 2 Axes>"
      ]
     },
     "metadata": {},
     "output_type": "display_data"
    }
   ],
   "source": [
    "from sklearn.linear_model import LogisticRegression\n",
    "\n",
    "log_reg = LogisticRegression(C=1, class_weight='balanced', \n",
    "                             solver='liblinear', penalty='l2',            \n",
    "                             max_iter=10000, random_state=42\n",
    "                             )\n",
    "\n",
    "log_reg.fit(X_train_vec, y_train)\n",
    "y_pred_lr = log_reg.predict(X_test_vec)\n",
    "eval_metrics(y_test, y_pred_lr, \"Normal Logistic Regression\")"
   ]
  },
  {
   "cell_type": "markdown",
   "id": "efe98848",
   "metadata": {},
   "source": [
    "As expected, by looking at the classification matrix, the worst classified ratings seem to be 2 and 3. Much of this can be attributed to the fact that these fall the most amongst the \"neutral\" sentiment. While the same could be said about 4 in regards to neutrality, there a many more datapoints that are classed as a 4 rated review. This likely makes it much easier for the model to discern the certain texts as a 4. We can also see that despite not having many samples, the model did very well when classifying texts into class 1. This is once again likely due to those reviews containing very strong negative features, hence making them easier to classify."
   ]
  },
  {
   "cell_type": "markdown",
   "id": "7e708b11",
   "metadata": {},
   "source": [
    "We can test this model once again more comprehensively by performing 10-fold cross validation on it. This will let us better undrestand if this singular run might have been an anomaly or if logistic regression consistently performs well on our dataset."
   ]
  },
  {
   "cell_type": "code",
   "execution_count": null,
   "id": "44f7bf73",
   "metadata": {},
   "outputs": [
    {
     "name": "stdout",
     "output_type": "stream",
     "text": [
      "Cross-Validation Scores (Stratified): [0.65001513 0.64100572 0.62088675 0.62866983 0.62706246 0.64301254\n",
      " 0.64496312 0.63872512 0.63955272 0.63078044]\n",
      "Mean Stratified CV Score: 0.6365 (±0.0087)\n",
      "Logistic Regression with stratified K-fold validation\n",
      "Accuracy: 0.6404\n",
      "F1 score: 0.6350\n",
      "F1 macro score: 0.5788\n",
      "Mean Absolute Error: 0.4138\n",
      "              precision    recall  f1-score   support\n",
      "\n",
      "           1       0.64      0.75      0.69       162\n",
      "           2       0.34      0.32      0.33       147\n",
      "           3       0.58      0.51      0.54       358\n",
      "           4       0.60      0.54      0.57       774\n",
      "           5       0.72      0.80      0.76       959\n",
      "\n",
      "    accuracy                           0.64      2400\n",
      "   macro avg       0.58      0.58      0.58      2400\n",
      "weighted avg       0.63      0.64      0.64      2400\n",
      "\n"
     ]
    },
    {
     "data": {
      "image/png": "[encoded data removed]",
      "text/plain": [
       "<Figure size 800x600 with 2 Axes>"
      ]
     },
     "metadata": {},
     "output_type": "display_data"
    }
   ],
   "source": [
    "from sklearn.pipeline import Pipeline\n",
    "from sklearn.linear_model import LogisticRegression\n",
    "from sklearn.model_selection import cross_val_score, StratifiedKFold\n",
    "\n",
    "pipeline = Pipeline([\n",
    "    ('tfidf', TfidfVectorizer(ngram_range=(1,3), max_features=50000, min_df=5, max_df=0.8)),\n",
    "    ('model', LogisticRegression(C=1, class_weight='balanced', \n",
    "                             solver='liblinear', penalty='l2',            \n",
    "                             max_iter=10000, random_state=42\n",
    "                             ))\n",
    "])\n",
    "\n",
    "stratified_kfold = StratifiedKFold(n_splits=10, shuffle=True, random_state=42)\n",
    "stratified_cv_scores = cross_val_score(pipeline, lem_train_data[\"combined\"], \n",
    "                                       lem_train_data[\"overall\"], \n",
    "                                       cv=stratified_kfold, scoring='f1_weighted')\n",
    "\n",
    "print(f\"Cross-Validation Scores (Stratified): {stratified_cv_scores}\")\n",
    "print(f\"Mean Stratified CV Score: {np.mean(stratified_cv_scores):.4f} (±{np.std(stratified_cv_scores):.4f})\")\n",
    "\n",
    "pipeline.fit(X_train, y_train)\n",
    "y_pred = pipeline.predict(X_test)\n",
    "\n",
    "eval_metrics(y_test, y_pred, \"Logistic Regression with stratified K-fold validation\")"
   ]
  },
  {
   "cell_type": "markdown",
   "id": "de27d7bb",
   "metadata": {},
   "source": [
    "We can see that the model performs almost the exact same following 10 fold cross validation, indicating that it might be the furthest it can go regarding the current problem. As such, it might be time to look at more modern architectures. \n",
    "\n",
    "When concerning modern deep learning architectures, the model that seemed best poised to tackle this particular problem was the RoBERTa model (Liu et al., 2019) by researchers at the University of Washington. This is because RoBERTa acts as an extention of google's groundbreaking BERT model, elevating it further with extensive pre-training on a number of various topics. This makes it especially robust when compared to other models and very able at interpretating rich contextual texts such as reviews. The encoder-transformer architecture allows for the model to perform bi-directional context understanding of text, another feature which would make it very well fit for the current task.\n",
    "\n",
    "The model was accessed through hugging face and utilised through the a number of supplemenentary hugging face libraries. These were understood through youtube videos referenced in the code next to their use. "
   ]
  },
  {
   "cell_type": "code",
   "execution_count": 613,
   "id": "280421c5",
   "metadata": {},
   "outputs": [
    {
     "name": "stdout",
     "output_type": "stream",
     "text": [
      "cuda\n"
     ]
    }
   ],
   "source": [
    "import torch\n",
    "import torch.nn as nn\n",
    "import torch.optim as optim\n",
    "import torch.nn.functional as F\n",
    "from torch.utils.data import TensorDataset, DataLoader\n",
    "\n",
    "device = torch.device(\"cuda\" if torch.cuda.is_available() else \"cpu\")\n",
    "print(device)"
   ]
  },
  {
   "cell_type": "code",
   "execution_count": null,
   "id": "16286b98",
   "metadata": {},
   "outputs": [
    {
     "name": "stderr",
     "output_type": "stream",
     "text": [
      "Some weights of RobertaForSequenceClassification were not initialized from the model checkpoint at roberta-base and are newly initialized: ['classifier.dense.bias', 'classifier.dense.weight', 'classifier.out_proj.bias', 'classifier.out_proj.weight']\n",
      "You should probably TRAIN this model on a down-stream task to be able to use it for predictions and inference.\n"
     ]
    }
   ],
   "source": [
    "import transformers \n",
    "from transformers import (\n",
    "    RobertaTokenizer, \n",
    "    RobertaForSequenceClassification, \n",
    "    Trainer, \n",
    "    TrainingArguments,\n",
    "    DataCollatorWithPadding\n",
    ")\n",
    "\n",
    "from datasets import Dataset\n",
    "\n",
    "#importing the pretrained roberta model from hugging face\n",
    "tokeniser =  RobertaTokenizer.from_pretrained('roberta-base')\n",
    "model = RobertaForSequenceClassification.from_pretrained(\n",
    "    'roberta-base',\n",
    "    num_labels = 5\n",
    ")\n"
   ]
  },
  {
   "cell_type": "code",
   "execution_count": 615,
   "id": "62a53c17",
   "metadata": {},
   "outputs": [
    {
     "name": "stdout",
     "output_type": "stream",
     "text": [
      "Torch version: 2.6.0+cu118\n",
      "cuda\n"
     ]
    }
   ],
   "source": [
    "import torch\n",
    "print(\"Torch version:\", torch.__version__)\n",
    "device = torch.device(\"cuda\" if torch.cuda.is_available() else \"cpu\")\n",
    "print(device)"
   ]
  },
  {
   "cell_type": "code",
   "execution_count": null,
   "id": "411b991b",
   "metadata": {},
   "outputs": [
    {
     "name": "stdout",
     "output_type": "stream",
     "text": [
      "21598 2400\n",
      "class counts\n",
      "1 : 1557\n",
      "4 : 7720\n",
      "2 : 1611\n",
      "3 : 3287\n",
      "5 : 9823\n"
     ]
    },
    {
     "data": {
      "text/plain": [
       "{'text': Value(dtype='string', id=None),\n",
       " 'labels': Value(dtype='int64', id=None),\n",
       " '__index_level_0__': Value(dtype='int64', id=None)}"
      ]
     },
     "execution_count": 616,
     "metadata": {},
     "output_type": "execute_result"
    }
   ],
   "source": [
    "class_counts = Counter(lem_train_data['overall'])\n",
    "X_train, X_test, y_train, y_test = train_test_split(lem_train_data[\"combined\"], \n",
    "                                                    lem_train_data[\"overall\"], \n",
    "                                                    test_size=0.1, \n",
    "                                                    random_state=42,\n",
    "                                                    shuffle=True)\n",
    "print(len(X_train), len(X_test))\n",
    "\n",
    "print(\"class counts\")\n",
    "for k,v in class_counts.items():\n",
    "    print(f'{k} : {v}')\n",
    "\n",
    "train_df = pd.DataFrame({'text': X_train, 'labels': y_train})\n",
    "val_df = pd.DataFrame({'text': X_test, 'labels':y_test}) #we consider this the validation set before testing at the end of assignment\n",
    "\n",
    "#HF dataset video: https://www.youtube.com/watch?v=_BZearw7f0w&ab_channel=HuggingFace\n",
    "train_set = Dataset.from_pandas(train_df)\n",
    "val_set = Dataset.from_pandas(val_df)\n",
    "\n",
    "train_set.features"
   ]
  },
  {
   "cell_type": "code",
   "execution_count": null,
   "id": "d20daff5",
   "metadata": {},
   "outputs": [],
   "source": [
    "#Hugging Face Tokeniser method: https://www.youtube.com/watch?v=0u3ioSwev3s&ab_channel=HuggingFace\n",
    "def tokenise_data(data):\n",
    "    return tokeniser(\n",
    "        data['text'],\n",
    "        truncation=True,\n",
    "        max_length = 256, \n",
    "        padding='max_length',\n",
    "    )"
   ]
  },
  {
   "cell_type": "code",
   "execution_count": null,
   "id": "fc170cd0",
   "metadata": {},
   "outputs": [
    {
     "name": "stderr",
     "output_type": "stream",
     "text": [
      "Map: 100%|██████████| 21598/21598 [00:11<00:00, 1915.97 examples/s]\n",
      "Map: 100%|██████████| 2400/2400 [00:01<00:00, 1789.79 examples/s]\n"
     ]
    },
    {
     "name": "stdout",
     "output_type": "stream",
     "text": [
      "label of first training example before adjustment: [5]\n"
     ]
    },
    {
     "name": "stderr",
     "output_type": "stream",
     "text": [
      "Map: 100%|██████████| 21598/21598 [00:00<00:00, 49180.08 examples/s]\n",
      "Map: 100%|██████████| 2400/2400 [00:00<00:00, 45274.08 examples/s]"
     ]
    },
    {
     "name": "stdout",
     "output_type": "stream",
     "text": [
      "label of first training example after adjustment: [4]\n"
     ]
    },
    {
     "name": "stderr",
     "output_type": "stream",
     "text": [
      "\n"
     ]
    },
    {
     "data": {
      "text/plain": [
       "{'labels': Value(dtype='int64', id=None),\n",
       " 'input_ids': Sequence(feature=Value(dtype='int32', id=None), length=-1, id=None),\n",
       " 'attention_mask': Sequence(feature=Value(dtype='int8', id=None), length=-1, id=None)}"
      ]
     },
     "execution_count": 618,
     "metadata": {},
     "output_type": "execute_result"
    }
   ],
   "source": [
    "train_set_tokens = train_set.map(tokenise_data, batched=True, remove_columns=(['text','__index_level_0__']))\n",
    "val_set_tokens = val_set.map(tokenise_data, batched=True,  remove_columns=(['text','__index_level_0__']))\n",
    "\n",
    "print(f\"label of first training example before adjustment: {train_set_tokens[:1]['labels']}\")\n",
    "\n",
    "#labels adjusted to work with pytorch input format \n",
    "train_set_tokens = train_set_tokens.map(lambda x: {'labels': x['labels'] - 1}) \n",
    "val_set_tokens = val_set_tokens.map(lambda x: {'labels': x['labels'] - 1})\n",
    "\n",
    "print(f\"label of first training example after adjustment: {train_set_tokens[:1]['labels']}\")\n",
    "train_set_tokens.features"
   ]
  },
  {
   "cell_type": "code",
   "execution_count": 619,
   "id": "01d14d5f",
   "metadata": {},
   "outputs": [
    {
     "data": {
      "text/plain": [
       "Dataset({\n",
       "    features: ['labels', 'input_ids', 'attention_mask'],\n",
       "    num_rows: 21598\n",
       "})"
      ]
     },
     "execution_count": 619,
     "metadata": {},
     "output_type": "execute_result"
    }
   ],
   "source": [
    "train_set_tokens.set_format(type='torch', columns=['input_ids', 'attention_mask', 'labels'])\n",
    "val_set_tokens.set_format(type='torch', columns=['input_ids', 'attention_mask', 'labels'])\n",
    "\n",
    "train_set_tokens"
   ]
  },
  {
   "cell_type": "code",
   "execution_count": 620,
   "id": "e8d88c74",
   "metadata": {},
   "outputs": [],
   "source": [
    "def metrics(eva):\n",
    "    preds, labels = eva\n",
    "    preds = np.argmax(preds, axis=1)\n",
    "\n",
    "    f1_weighted = f1_score(labels, preds, average='weighted')\n",
    "    f1_macro = f1_score(labels, preds, average=\"macro\")\n",
    "\n",
    "    return {\"weighted f1\": f1_weighted, \"macro f1\": f1_macro}"
   ]
  },
  {
   "cell_type": "code",
   "execution_count": null,
   "id": "cee82c83",
   "metadata": {},
   "outputs": [
    {
     "data": {
      "text/html": [
       "\n",
       "    <div>\n",
       "      \n",
       "      <progress value='2025' max='2025' style='width:300px; height:20px; vertical-align: middle;'></progress>\n",
       "      [2025/2025 07:38, Epoch 3/3]\n",
       "    </div>\n",
       "    <table border=\"1\" class=\"dataframe\">\n",
       "  <thead>\n",
       " <tr style=\"text-align: left;\">\n",
       "      <th>Epoch</th>\n",
       "      <th>Training Loss</th>\n",
       "      <th>Validation Loss</th>\n",
       "      <th>Weighted f1</th>\n",
       "      <th>Macro f1</th>\n",
       "    </tr>\n",
       "  </thead>\n",
       "  <tbody>\n",
       "    <tr>\n",
       "      <td>1</td>\n",
       "      <td>0.954100</td>\n",
       "      <td>0.766641</td>\n",
       "      <td>0.652075</td>\n",
       "      <td>0.612156</td>\n",
       "    </tr>\n",
       "    <tr>\n",
       "      <td>2</td>\n",
       "      <td>0.734700</td>\n",
       "      <td>0.744126</td>\n",
       "      <td>0.674001</td>\n",
       "      <td>0.621807</td>\n",
       "    </tr>\n",
       "    <tr>\n",
       "      <td>3</td>\n",
       "      <td>0.526400</td>\n",
       "      <td>0.764394</td>\n",
       "      <td>0.683911</td>\n",
       "      <td>0.641738</td>\n",
       "    </tr>\n",
       "  </tbody>\n",
       "</table><p>"
      ],
      "text/plain": [
       "<IPython.core.display.HTML object>"
      ]
     },
     "metadata": {},
     "output_type": "display_data"
    }
   ],
   "source": [
    "''' \n",
    "Hyper Paramerters were set in accordance to the RoBERTa paper. It is recommend to train the model for 1-3 epochs\n",
    "as it likely would overfit given further epochs. This was tested and confirmed in previous draft versions (namely 9).\n",
    "While warmup was 1000 steps in the paper, we use 600 steps here to account for compute without forgoing much compute.\n",
    "\n",
    "Similarly a batch size of 32 was chosen in the best interest of compute. A learning rate of 5e-5 with weight decay of 1e-3\n",
    "is considered standard practice and surprisingly led to the best results out of all the combinations tested.\n",
    "'''\n",
    "args = TrainingArguments(\n",
    "    output_dir='./bert_robert',\n",
    "    num_train_epochs=3,\n",
    "    per_device_train_batch_size=32,\n",
    "    per_device_eval_batch_size=32,\n",
    "    learning_rate = 5e-5,\n",
    "    lr_scheduler_type= \"cosine\",\n",
    "    weight_decay=1e-3,\n",
    "    warmup_steps= 600,\n",
    "    eval_strategy='epoch',\n",
    "    metric_for_best_model=\"weighted f1\",\n",
    "    load_best_model_at_end=True,\n",
    "    save_strategy='epoch',\n",
    "    save_total_limit=2,\n",
    ")\n",
    "\n",
    "#Hugging Face Trainer: https://www.youtube.com/watch?v=nvBXf7s7vTI&ab_channel=HuggingFace\n",
    "trainer = Trainer(\n",
    "    model = model, \n",
    "    args = args,\n",
    "    train_dataset= train_set_tokens,\n",
    "    eval_dataset = val_set_tokens,\n",
    "    processing_class=tokeniser,\n",
    "    data_collator=DataCollatorWithPadding(tokeniser),\n",
    "    compute_metrics=metrics,\n",
    ")\n",
    "\n",
    "trainer.train()\n",
    "trainer.save_model(\"./best_model\")"
   ]
  },
  {
   "cell_type": "markdown",
   "id": "fd801e0d",
   "metadata": {},
   "source": [
    "We can see here that RoBERTa significantly outperforms Logistic Regression and the other classical ML models. With a weighted F1 score of 0.68, it stands as a significant jump in performance compared to previous iterations. This follows expectations though it was expected to perform slightly better. Below in the classification report we can see exactly where the model improved. We can see that compared to logistic regression, RoBERTa performed much better at classifying class 2 reviews, with a weighted F1-score of 0.44 compared to 0.33 achieved by Logistic Regression. However, we still see some of the same issues present here that plagued the Logistic Regression model. We can see that the best performing classes are 1 and 5, while all the intermediate classes still aren't classified too accurately. "
   ]
  },
  {
   "cell_type": "code",
   "execution_count": 622,
   "id": "031fb9a5",
   "metadata": {},
   "outputs": [
    {
     "data": {
      "text/html": [],
      "text/plain": [
       "<IPython.core.display.HTML object>"
      ]
     },
     "metadata": {},
     "output_type": "display_data"
    },
    {
     "name": "stdout",
     "output_type": "stream",
     "text": [
      "              precision    recall  f1-score   support\n",
      "\n",
      "           0       0.72      0.75      0.74       162\n",
      "           1       0.46      0.43      0.44       147\n",
      "           2       0.66      0.59      0.62       358\n",
      "           3       0.62      0.61      0.62       774\n",
      "           4       0.77      0.81      0.79       959\n",
      "\n",
      "    accuracy                           0.69      2400\n",
      "   macro avg       0.65      0.64      0.64      2400\n",
      "weighted avg       0.68      0.69      0.68      2400\n",
      "\n"
     ]
    }
   ],
   "source": [
    "predictions = trainer.predict(val_set_tokens)\n",
    "preds = np.argmax(predictions.predictions, axis=1)\n",
    "\n",
    "print(classification_report(\n",
    "    val_set_tokens['labels'].numpy(),\n",
    "    preds\n",
    "))"
   ]
  },
  {
   "cell_type": "markdown",
   "id": "067cebcf",
   "metadata": {},
   "source": [
    "### 4. Experiment with VADER sentiment lexicon"
   ]
  },
  {
   "cell_type": "markdown",
   "id": "6195dee6",
   "metadata": {},
   "source": [
    "Following the applciation of some supervised learning techniques on the data, we can test VADER, an unsupervised sentiment lexicon on our text data to see how it performs."
   ]
  },
  {
   "cell_type": "code",
   "execution_count": 623,
   "id": "8e874105",
   "metadata": {},
   "outputs": [
    {
     "data": {
      "text/html": [
       "<div>\n",
       "<style scoped>\n",
       "    .dataframe tbody tr th:only-of-type {\n",
       "        vertical-align: middle;\n",
       "    }\n",
       "\n",
       "    .dataframe tbody tr th {\n",
       "        vertical-align: top;\n",
       "    }\n",
       "\n",
       "    .dataframe thead th {\n",
       "        text-align: right;\n",
       "    }\n",
       "</style>\n",
       "<table border=\"1\" class=\"dataframe\">\n",
       "  <thead>\n",
       "    <tr style=\"text-align: right;\">\n",
       "      <th></th>\n",
       "      <th>overall</th>\n",
       "      <th>combined</th>\n",
       "      <th>vader_score</th>\n",
       "    </tr>\n",
       "  </thead>\n",
       "  <tbody>\n",
       "    <tr>\n",
       "      <th>0</th>\n",
       "      <td>1</td>\n",
       "      <td>horrible experience first of all we get there ...</td>\n",
       "      <td>0.8192</td>\n",
       "    </tr>\n",
       "    <tr>\n",
       "      <th>1</th>\n",
       "      <td>1</td>\n",
       "      <td>stay away find racist graffiti in the room req...</td>\n",
       "      <td>-0.8225</td>\n",
       "    </tr>\n",
       "    <tr>\n",
       "      <th>2</th>\n",
       "      <td>4</td>\n",
       "      <td>great location and service close to union squa...</td>\n",
       "      <td>0.8479</td>\n",
       "    </tr>\n",
       "    <tr>\n",
       "      <th>3</th>\n",
       "      <td>2</td>\n",
       "      <td>I will never go back here again i have a bad v...</td>\n",
       "      <td>0.9418</td>\n",
       "    </tr>\n",
       "    <tr>\n",
       "      <th>4</th>\n",
       "      <td>1</td>\n",
       "      <td>rip off our visa card after departure after we...</td>\n",
       "      <td>0.4215</td>\n",
       "    </tr>\n",
       "    <tr>\n",
       "      <th>...</th>\n",
       "      <td>...</td>\n",
       "      <td>...</td>\n",
       "      <td>...</td>\n",
       "    </tr>\n",
       "    <tr>\n",
       "      <th>23994</th>\n",
       "      <td>4</td>\n",
       "      <td>pleasant stay with good location we stay just ...</td>\n",
       "      <td>0.9681</td>\n",
       "    </tr>\n",
       "    <tr>\n",
       "      <th>23995</th>\n",
       "      <td>3</td>\n",
       "      <td>hit or miss some thing need attention spend tw...</td>\n",
       "      <td>-0.8971</td>\n",
       "    </tr>\n",
       "    <tr>\n",
       "      <th>23996</th>\n",
       "      <td>5</td>\n",
       "      <td>good breakfast the room be fairly large pretty...</td>\n",
       "      <td>0.8689</td>\n",
       "    </tr>\n",
       "    <tr>\n",
       "      <th>23997</th>\n",
       "      <td>4</td>\n",
       "      <td>deserve a high rating great start to our stay ...</td>\n",
       "      <td>0.9682</td>\n",
       "    </tr>\n",
       "    <tr>\n",
       "      <th>23998</th>\n",
       "      <td>5</td>\n",
       "      <td>clean comfortable great room comfortable bed f...</td>\n",
       "      <td>0.9485</td>\n",
       "    </tr>\n",
       "  </tbody>\n",
       "</table>\n",
       "<p>23998 rows × 3 columns</p>\n",
       "</div>"
      ],
      "text/plain": [
       "       overall                                           combined  vader_score\n",
       "0            1  horrible experience first of all we get there ...       0.8192\n",
       "1            1  stay away find racist graffiti in the room req...      -0.8225\n",
       "2            4  great location and service close to union squa...       0.8479\n",
       "3            2  I will never go back here again i have a bad v...       0.9418\n",
       "4            1  rip off our visa card after departure after we...       0.4215\n",
       "...        ...                                                ...          ...\n",
       "23994        4  pleasant stay with good location we stay just ...       0.9681\n",
       "23995        3  hit or miss some thing need attention spend tw...      -0.8971\n",
       "23996        5  good breakfast the room be fairly large pretty...       0.8689\n",
       "23997        4  deserve a high rating great start to our stay ...       0.9682\n",
       "23998        5  clean comfortable great room comfortable bed f...       0.9485\n",
       "\n",
       "[23998 rows x 3 columns]"
      ]
     },
     "execution_count": 623,
     "metadata": {},
     "output_type": "execute_result"
    }
   ],
   "source": [
    "from nltk.sentiment.vader import SentimentIntensityAnalyzer\n",
    "# nltk.download('vader_lexicon')\n",
    "\n",
    "sentiment = SentimentIntensityAnalyzer()\n",
    "\n",
    "def sentiment_scores(text):\n",
    "    score = sentiment.polarity_scores(text)\n",
    "    return score['compound']\n",
    "\n",
    "lem_train_data.loc[:, 'vader_score'] = lem_train_data['combined'].apply(sentiment_scores)\n",
    "lem_train_data\n"
   ]
  },
  {
   "cell_type": "code",
   "execution_count": null,
   "id": "23c816a9",
   "metadata": {},
   "outputs": [
    {
     "data": {
      "text/html": [
       "<div>\n",
       "<style scoped>\n",
       "    .dataframe tbody tr th:only-of-type {\n",
       "        vertical-align: middle;\n",
       "    }\n",
       "\n",
       "    .dataframe tbody tr th {\n",
       "        vertical-align: top;\n",
       "    }\n",
       "\n",
       "    .dataframe thead th {\n",
       "        text-align: right;\n",
       "    }\n",
       "</style>\n",
       "<table border=\"1\" class=\"dataframe\">\n",
       "  <thead>\n",
       "    <tr style=\"text-align: right;\">\n",
       "      <th></th>\n",
       "      <th>overall</th>\n",
       "      <th>combined</th>\n",
       "      <th>vader_score</th>\n",
       "      <th>vader_rating</th>\n",
       "      <th>rating_discrepancy</th>\n",
       "    </tr>\n",
       "  </thead>\n",
       "  <tbody>\n",
       "    <tr>\n",
       "      <th>0</th>\n",
       "      <td>1</td>\n",
       "      <td>horrible experience first of all we get there ...</td>\n",
       "      <td>0.8192</td>\n",
       "      <td>5</td>\n",
       "      <td>4</td>\n",
       "    </tr>\n",
       "    <tr>\n",
       "      <th>1</th>\n",
       "      <td>1</td>\n",
       "      <td>stay away find racist graffiti in the room req...</td>\n",
       "      <td>-0.8225</td>\n",
       "      <td>1</td>\n",
       "      <td>0</td>\n",
       "    </tr>\n",
       "    <tr>\n",
       "      <th>2</th>\n",
       "      <td>4</td>\n",
       "      <td>great location and service close to union squa...</td>\n",
       "      <td>0.8479</td>\n",
       "      <td>5</td>\n",
       "      <td>1</td>\n",
       "    </tr>\n",
       "    <tr>\n",
       "      <th>3</th>\n",
       "      <td>2</td>\n",
       "      <td>I will never go back here again i have a bad v...</td>\n",
       "      <td>0.9418</td>\n",
       "      <td>5</td>\n",
       "      <td>3</td>\n",
       "    </tr>\n",
       "    <tr>\n",
       "      <th>4</th>\n",
       "      <td>1</td>\n",
       "      <td>rip off our visa card after departure after we...</td>\n",
       "      <td>0.4215</td>\n",
       "      <td>4</td>\n",
       "      <td>3</td>\n",
       "    </tr>\n",
       "    <tr>\n",
       "      <th>...</th>\n",
       "      <td>...</td>\n",
       "      <td>...</td>\n",
       "      <td>...</td>\n",
       "      <td>...</td>\n",
       "      <td>...</td>\n",
       "    </tr>\n",
       "    <tr>\n",
       "      <th>23994</th>\n",
       "      <td>4</td>\n",
       "      <td>pleasant stay with good location we stay just ...</td>\n",
       "      <td>0.9681</td>\n",
       "      <td>5</td>\n",
       "      <td>1</td>\n",
       "    </tr>\n",
       "    <tr>\n",
       "      <th>23995</th>\n",
       "      <td>3</td>\n",
       "      <td>hit or miss some thing need attention spend tw...</td>\n",
       "      <td>-0.8971</td>\n",
       "      <td>1</td>\n",
       "      <td>2</td>\n",
       "    </tr>\n",
       "    <tr>\n",
       "      <th>23996</th>\n",
       "      <td>5</td>\n",
       "      <td>good breakfast the room be fairly large pretty...</td>\n",
       "      <td>0.8689</td>\n",
       "      <td>5</td>\n",
       "      <td>0</td>\n",
       "    </tr>\n",
       "    <tr>\n",
       "      <th>23997</th>\n",
       "      <td>4</td>\n",
       "      <td>deserve a high rating great start to our stay ...</td>\n",
       "      <td>0.9682</td>\n",
       "      <td>5</td>\n",
       "      <td>1</td>\n",
       "    </tr>\n",
       "    <tr>\n",
       "      <th>23998</th>\n",
       "      <td>5</td>\n",
       "      <td>clean comfortable great room comfortable bed f...</td>\n",
       "      <td>0.9485</td>\n",
       "      <td>5</td>\n",
       "      <td>0</td>\n",
       "    </tr>\n",
       "  </tbody>\n",
       "</table>\n",
       "<p>23998 rows × 5 columns</p>\n",
       "</div>"
      ],
      "text/plain": [
       "       overall                                           combined  \\\n",
       "0            1  horrible experience first of all we get there ...   \n",
       "1            1  stay away find racist graffiti in the room req...   \n",
       "2            4  great location and service close to union squa...   \n",
       "3            2  I will never go back here again i have a bad v...   \n",
       "4            1  rip off our visa card after departure after we...   \n",
       "...        ...                                                ...   \n",
       "23994        4  pleasant stay with good location we stay just ...   \n",
       "23995        3  hit or miss some thing need attention spend tw...   \n",
       "23996        5  good breakfast the room be fairly large pretty...   \n",
       "23997        4  deserve a high rating great start to our stay ...   \n",
       "23998        5  clean comfortable great room comfortable bed f...   \n",
       "\n",
       "       vader_score  vader_rating  rating_discrepancy  \n",
       "0           0.8192             5                   4  \n",
       "1          -0.8225             1                   0  \n",
       "2           0.8479             5                   1  \n",
       "3           0.9418             5                   3  \n",
       "4           0.4215             4                   3  \n",
       "...            ...           ...                 ...  \n",
       "23994       0.9681             5                   1  \n",
       "23995      -0.8971             1                   2  \n",
       "23996       0.8689             5                   0  \n",
       "23997       0.9682             5                   1  \n",
       "23998       0.9485             5                   0  \n",
       "\n",
       "[23998 rows x 5 columns]"
      ]
     },
     "execution_count": 624,
     "metadata": {},
     "output_type": "execute_result"
    }
   ],
   "source": [
    "#Creating a vader score to class converter\n",
    "def vader_classification(score):\n",
    "    if score >= 0.7:\n",
    "        return 5\n",
    "    elif score > 0.3:\n",
    "        return 4\n",
    "    elif score > -0.3:\n",
    "        return 3\n",
    "    elif score >= -0.7:\n",
    "        return 2\n",
    "    else:\n",
    "        return 1\n",
    "    \n",
    "lem_train_data.loc[:, 'vader_rating'] = lem_train_data['vader_score'].apply(vader_classification)\n",
    "lem_train_data['vader_rating']\n",
    "lem_train_data.loc[:, 'rating_discrepancy'] = abs(lem_train_data['overall'] - lem_train_data['vader_rating'])\n",
    "lem_train_data"
   ]
  },
  {
   "cell_type": "code",
   "execution_count": 625,
   "id": "aa73e920",
   "metadata": {},
   "outputs": [
    {
     "name": "stdout",
     "output_type": "stream",
     "text": [
      "The average discrepancy between vader sentiment rating based on text and ground truth rating given by customer is: 0.7870\n"
     ]
    }
   ],
   "source": [
    "mean_discrepancy = lem_train_data['rating_discrepancy'].mean()\n",
    "print(f\"The average discrepancy between vader sentiment rating based on text and ground truth rating given by customer is: {mean_discrepancy:.4f}\")"
   ]
  },
  {
   "cell_type": "markdown",
   "id": "571b2219",
   "metadata": {},
   "source": [
    "From these results we can see that VADER performs very poorly on our data especially when compared to the supervised learning methods already shown. We also notice that unlike the supervised learning models, VADER performs terribly on classifying reviews as rating 4. This is very odd given the large number of data points to support it. But by looking at the confusion matrix, it becomes quite evident why VADER performed so poorly. Likely due to heavy class imbalance, it heavily swayed most ratings to explicitly be very positive. This mean that the majority of ratings that should have been either a 3 or 4 were classed as heavily positive due to the presence of some positive sounding words in their body."
   ]
  },
  {
   "cell_type": "code",
   "execution_count": 626,
   "id": "6f9cbe76",
   "metadata": {},
   "outputs": [
    {
     "name": "stdout",
     "output_type": "stream",
     "text": [
      "accuracy: 0.4579\n",
      "precision: 0.3765\n",
      "recall: 0.4579\n",
      "f1_weighted: 0.3425\n",
      "              precision    recall  f1-score   support\n",
      "\n",
      "           1       0.56      0.43      0.49      1557\n",
      "           2       0.29      0.11      0.16      1611\n",
      "           3       0.31      0.07      0.12      3287\n",
      "           4       0.26      0.04      0.07      7720\n",
      "           5       0.47      0.98      0.64      9823\n",
      "\n",
      "    accuracy                           0.46     23998\n",
      "   macro avg       0.38      0.33      0.30     23998\n",
      "weighted avg       0.38      0.46      0.34     23998\n",
      "\n"
     ]
    },
    {
     "data": {
      "image/png": "[encoded data removed]",
      "text/plain": [
       "<Figure size 800x600 with 2 Axes>"
      ]
     },
     "metadata": {},
     "output_type": "display_data"
    }
   ],
   "source": [
    "y_true, y_pred = lem_train_data['overall'], lem_train_data['vader_rating']\n",
    "\n",
    "accuracy = accuracy_score(y_true, y_pred)\n",
    "precision_weighted = precision_score(y_true, y_pred, average='weighted')\n",
    "recall_weighted = recall_score(y_true, y_pred, average='weighted')\n",
    "f1_weighted = f1_score(y_true, y_pred, average='weighted')\n",
    "\n",
    "print(f'accuracy: {accuracy:.4f}')\n",
    "print(f'precision: {precision_weighted:.4f}')\n",
    "print(f'recall: {recall_weighted:.4f}')\n",
    "print(f'f1_weighted: {f1_weighted:.4f}')\n",
    "\n",
    "print(classification_report(y_true, y_pred))\n",
    "\n",
    "con_mat = confusion_matrix(y_true, y_pred)\n",
    "plt.figure(figsize=(8, 6))\n",
    "sns.heatmap(con_mat, annot=True, fmt='d', cmap='Blues', \n",
    "            xticklabels=range(1, 6),\n",
    "            yticklabels=range(1, 6))\n",
    "plt.xlabel('Predicted Rating')\n",
    "plt.ylabel('True Rating')\n",
    "plt.title('Confusion Matrix')\n",
    "plt.show()"
   ]
  },
  {
   "cell_type": "markdown",
   "id": "5f6427e8",
   "metadata": {},
   "source": [
    "Though VADER by itself doesnt perform too well, there could be ways to leverage VADER to improve our current best deep learning model. While there could have been a few ways to go about this, including potential RLHF with inaccurate vs accurate VADER scores, the easiest method was to consider the VADER scores of the review as an additonal feature alongside the text content. We can do this by finetuning RoBERTa to have an additional output layer that considers the VADER scores as part of its evaluation metric. While this sounds promising, the heavy inaccuracy of the VADER scores could potentially cause some issues in the evaluation. "
   ]
  },
  {
   "cell_type": "markdown",
   "id": "c484f348",
   "metadata": {},
   "source": [
    "Trying to combine both vader and RoBERTa"
   ]
  },
  {
   "cell_type": "code",
   "execution_count": null,
   "id": "a8a8ed1c",
   "metadata": {},
   "outputs": [
    {
     "data": {
      "text/html": [
       "<div>\n",
       "<style scoped>\n",
       "    .dataframe tbody tr th:only-of-type {\n",
       "        vertical-align: middle;\n",
       "    }\n",
       "\n",
       "    .dataframe tbody tr th {\n",
       "        vertical-align: top;\n",
       "    }\n",
       "\n",
       "    .dataframe thead th {\n",
       "        text-align: right;\n",
       "    }\n",
       "</style>\n",
       "<table border=\"1\" class=\"dataframe\">\n",
       "  <thead>\n",
       "    <tr style=\"text-align: right;\">\n",
       "      <th></th>\n",
       "      <th>text</th>\n",
       "      <th>labels</th>\n",
       "      <th>vader_features</th>\n",
       "    </tr>\n",
       "  </thead>\n",
       "  <tbody>\n",
       "    <tr>\n",
       "      <th>10673</th>\n",
       "      <td>not bad a great location outside of downtown o...</td>\n",
       "      <td>5</td>\n",
       "      <td>[0.103, 0.798, 0.099]</td>\n",
       "    </tr>\n",
       "    <tr>\n",
       "      <th>1034</th>\n",
       "      <td>nice hotel if you can get a good rate stay her...</td>\n",
       "      <td>4</td>\n",
       "      <td>[0.338, 0.662, 0.0]</td>\n",
       "    </tr>\n",
       "    <tr>\n",
       "      <th>10657</th>\n",
       "      <td>clean excellent location safe perfect location...</td>\n",
       "      <td>5</td>\n",
       "      <td>[0.208, 0.733, 0.059]</td>\n",
       "    </tr>\n",
       "    <tr>\n",
       "      <th>725</th>\n",
       "      <td>nice hotel but work hard to charge for little ...</td>\n",
       "      <td>3</td>\n",
       "      <td>[0.224, 0.68, 0.096]</td>\n",
       "    </tr>\n",
       "    <tr>\n",
       "      <th>23181</th>\n",
       "      <td>good hotel sketchy location we stay here for j...</td>\n",
       "      <td>4</td>\n",
       "      <td>[0.269, 0.651, 0.08]</td>\n",
       "    </tr>\n",
       "  </tbody>\n",
       "</table>\n",
       "</div>"
      ],
      "text/plain": [
       "                                                    text  labels  \\\n",
       "10673  not bad a great location outside of downtown o...       5   \n",
       "1034   nice hotel if you can get a good rate stay her...       4   \n",
       "10657  clean excellent location safe perfect location...       5   \n",
       "725    nice hotel but work hard to charge for little ...       3   \n",
       "23181  good hotel sketchy location we stay here for j...       4   \n",
       "\n",
       "              vader_features  \n",
       "10673  [0.103, 0.798, 0.099]  \n",
       "1034     [0.338, 0.662, 0.0]  \n",
       "10657  [0.208, 0.733, 0.059]  \n",
       "725     [0.224, 0.68, 0.096]  \n",
       "23181   [0.269, 0.651, 0.08]  "
      ]
     },
     "execution_count": 627,
     "metadata": {},
     "output_type": "execute_result"
    }
   ],
   "source": [
    "#Adjsut the vader return to account for all vader calculations as these will count as features now\n",
    "def sentiment_scores(text):\n",
    "    score = sentiment.polarity_scores(text)\n",
    "    return [score['pos'], score['neu'], score['neg']] #Compound score is excluded so that the raw sentiment scores are the only features\n",
    "\n",
    "train_df['vader_features'] = train_df['text'].apply(sentiment_scores)\n",
    "val_df['vader_features'] = val_df['text'].apply(sentiment_scores)\n",
    "\n",
    "train_df.head()"
   ]
  },
  {
   "cell_type": "code",
   "execution_count": 628,
   "id": "421ddf22",
   "metadata": {},
   "outputs": [
    {
     "data": {
      "text/plain": [
       "{'text': Value(dtype='string', id=None),\n",
       " 'labels': Value(dtype='int64', id=None),\n",
       " 'vader_features': Sequence(feature=Value(dtype='float64', id=None), length=-1, id=None),\n",
       " '__index_level_0__': Value(dtype='int64', id=None)}"
      ]
     },
     "execution_count": 628,
     "metadata": {},
     "output_type": "execute_result"
    }
   ],
   "source": [
    "train_set_vader = Dataset.from_pandas(train_df)\n",
    "val_set_vader = Dataset.from_pandas(val_df)\n",
    "\n",
    "train_set_vader.features"
   ]
  },
  {
   "cell_type": "code",
   "execution_count": null,
   "id": "72c9fbf5",
   "metadata": {},
   "outputs": [
    {
     "name": "stderr",
     "output_type": "stream",
     "text": [
      "Map: 100%|██████████| 21598/21598 [00:11<00:00, 1858.98 examples/s]\n",
      "Map: 100%|██████████| 2400/2400 [00:01<00:00, 1738.22 examples/s]\n"
     ]
    },
    {
     "name": "stdout",
     "output_type": "stream",
     "text": [
      "label of first training example before adjustment: [5]\n"
     ]
    },
    {
     "name": "stderr",
     "output_type": "stream",
     "text": [
      "Map: 100%|██████████| 21598/21598 [00:00<00:00, 40460.11 examples/s]\n",
      "Map: 100%|██████████| 2400/2400 [00:00<00:00, 34538.31 examples/s]"
     ]
    },
    {
     "name": "stdout",
     "output_type": "stream",
     "text": [
      "label of first training example after adjustment: [4]\n"
     ]
    },
    {
     "name": "stderr",
     "output_type": "stream",
     "text": [
      "\n"
     ]
    },
    {
     "data": {
      "text/plain": [
       "{'labels': Value(dtype='int64', id=None),\n",
       " 'vader_features': Sequence(feature=Value(dtype='float64', id=None), length=-1, id=None),\n",
       " 'input_ids': Sequence(feature=Value(dtype='int32', id=None), length=-1, id=None),\n",
       " 'attention_mask': Sequence(feature=Value(dtype='int8', id=None), length=-1, id=None)}"
      ]
     },
     "execution_count": 629,
     "metadata": {},
     "output_type": "execute_result"
    }
   ],
   "source": [
    "train_vader_tokens = train_set_vader.map(tokenise_data, batched=True, remove_columns=['text','__index_level_0__'])\n",
    "val_vader_tokens = val_set_vader.map(tokenise_data, batched=True, remove_columns=['text','__index_level_0__'])\n",
    "\n",
    "print(f\"label of first training example before adjustment: {train_vader_tokens[:1]['labels']}\")\n",
    "\n",
    "#labels adjusted to work with pytorch input format \n",
    "train_vader_tokens = train_vader_tokens.map(lambda x: {'labels': x['labels'] - 1})\n",
    "val_vader_tokens = val_vader_tokens.map(lambda x: {'labels': x['labels'] - 1})\n",
    "\n",
    "print(f\"label of first training example after adjustment: {train_vader_tokens[:1]['labels']}\")\n",
    "train_vader_tokens.features"
   ]
  },
  {
   "cell_type": "code",
   "execution_count": 630,
   "id": "e0317ebe",
   "metadata": {},
   "outputs": [
    {
     "data": {
      "text/plain": [
       "{'labels': Value(dtype='int64', id=None),\n",
       " 'vader_features': Sequence(feature=Value(dtype='float64', id=None), length=-1, id=None),\n",
       " 'input_ids': Sequence(feature=Value(dtype='int32', id=None), length=-1, id=None),\n",
       " 'attention_mask': Sequence(feature=Value(dtype='int8', id=None), length=-1, id=None)}"
      ]
     },
     "execution_count": 630,
     "metadata": {},
     "output_type": "execute_result"
    }
   ],
   "source": [
    "train_vader_tokens.set_format(type = 'torch')\n",
    "val_vader_tokens.set_format(type = 'torch')\n",
    "\n",
    "train_vader_tokens.features"
   ]
  },
  {
   "cell_type": "code",
   "execution_count": 631,
   "id": "dcd16e07",
   "metadata": {},
   "outputs": [],
   "source": [
    "from transformers import RobertaConfig \n",
    "from transformers.modeling_outputs import SequenceClassifierOutput\n",
    "#we re-init a new instance of the RoBERTa model and expand its implementation to include the additional new features\n",
    "\n",
    "class RobertaVader(RobertaForSequenceClassification):\n",
    "    def __init__(self, config: RobertaConfig):\n",
    "        super().__init__(config)\n",
    "\n",
    "        self.vader_linear = nn.Linear(3, 16)\n",
    "        self.dropout = nn.Dropout(0.5)\n",
    "\n",
    "        self.out = nn.Linear(config.hidden_size + 16, config.num_labels)\n",
    "    \n",
    "    def forward(self, input_ids=None, attention_mask=None, labels=None, vader_features=None, **kwargs):\n",
    "        \n",
    "        kwargs.pop('num_items_in_batch', None) #Bug fix found on https://github.com/huggingface/transformers/issues/35838\n",
    "        \n",
    "        outs = self.roberta(\n",
    "            input_ids = input_ids,\n",
    "            attention_mask = attention_mask,\n",
    "            **kwargs\n",
    "        )\n",
    "        \n",
    "        sequence_output = outs[0]\n",
    "        pooled_out = sequence_output[:, 0, :]\n",
    "\n",
    "        if vader_features is None:\n",
    "            vader_features = torch.zeros(input_ids.size(0), 4, device=input_ids.device)\n",
    "\n",
    "        vader_embd = self.vader_linear(vader_features.float())\n",
    "        vader_embd = self.dropout(vader_embd)\n",
    "\n",
    "        output = torch.cat((pooled_out, vader_embd), dim=1)\n",
    "        output = self.dropout(output)\n",
    "\n",
    "        logits = self.out(output)\n",
    "\n",
    "        loss = None\n",
    "        if labels is not None:\n",
    "            criterion = nn.CrossEntropyLoss()\n",
    "            loss = criterion(logits, labels)\n",
    "        \n",
    "        return SequenceClassifierOutput(\n",
    "            loss=loss,\n",
    "            logits=logits,\n",
    "            hidden_states=None,\n",
    "            attentions=None\n",
    "        )\n"
   ]
  },
  {
   "cell_type": "code",
   "execution_count": 632,
   "id": "e42aea94",
   "metadata": {},
   "outputs": [],
   "source": [
    "#Code template for this generated using Claude 3.7 Sonnet and adjusted to dataset\n",
    "class VaderDataCollator(DataCollatorWithPadding):\n",
    "    def __call__(self, features):\n",
    "        features_copy = [{k: v for k, v in f.items() if k != \"vader_features\"} for f in features]\n",
    "        \n",
    "        batch = super().__call__(features_copy)\n",
    "        \n",
    "        vader_features = []\n",
    "        for f in features:\n",
    "            vf = f[\"vader_features\"]\n",
    "            if isinstance(vf, torch.Tensor):\n",
    "                vader_features.append(vf.tolist())\n",
    "            elif isinstance(vf, np.ndarray):\n",
    "                vader_features.append(vf.tolist())\n",
    "            else:\n",
    "                vader_features.append(vf)\n",
    "                \n",
    "        batch[\"vader_features\"] = torch.tensor(vader_features, dtype=torch.float)\n",
    "        \n",
    "        return batch"
   ]
  },
  {
   "cell_type": "code",
   "execution_count": null,
   "id": "77425dbd",
   "metadata": {},
   "outputs": [
    {
     "name": "stderr",
     "output_type": "stream",
     "text": [
      "Some weights of RobertaVader were not initialized from the model checkpoint at roberta-base and are newly initialized: ['classifier.dense.bias', 'classifier.dense.weight', 'classifier.out_proj.bias', 'classifier.out_proj.weight', 'out.bias', 'out.weight', 'vader_linear.bias', 'vader_linear.weight']\n",
      "You should probably TRAIN this model on a down-stream task to be able to use it for predictions and inference.\n"
     ]
    },
    {
     "data": {
      "text/html": [
       "\n",
       "    <div>\n",
       "      \n",
       "      <progress value='2025' max='2025' style='width:300px; height:20px; vertical-align: middle;'></progress>\n",
       "      [2025/2025 07:37, Epoch 3/3]\n",
       "    </div>\n",
       "    <table border=\"1\" class=\"dataframe\">\n",
       "  <thead>\n",
       " <tr style=\"text-align: left;\">\n",
       "      <th>Epoch</th>\n",
       "      <th>Training Loss</th>\n",
       "      <th>Validation Loss</th>\n",
       "      <th>Weighted f1</th>\n",
       "      <th>Macro f1</th>\n",
       "    </tr>\n",
       "  </thead>\n",
       "  <tbody>\n",
       "    <tr>\n",
       "      <td>1</td>\n",
       "      <td>0.997000</td>\n",
       "      <td>0.778031</td>\n",
       "      <td>0.655796</td>\n",
       "      <td>0.611969</td>\n",
       "    </tr>\n",
       "    <tr>\n",
       "      <td>2</td>\n",
       "      <td>0.755500</td>\n",
       "      <td>0.727138</td>\n",
       "      <td>0.674209</td>\n",
       "      <td>0.629003</td>\n",
       "    </tr>\n",
       "    <tr>\n",
       "      <td>3</td>\n",
       "      <td>0.547100</td>\n",
       "      <td>0.767390</td>\n",
       "      <td>0.682680</td>\n",
       "      <td>0.639552</td>\n",
       "    </tr>\n",
       "  </tbody>\n",
       "</table><p>"
      ],
      "text/plain": [
       "<IPython.core.display.HTML object>"
      ]
     },
     "metadata": {},
     "output_type": "display_data"
    }
   ],
   "source": [
    "config = RobertaConfig.from_pretrained(\n",
    "    'roberta-base',\n",
    "    num_labels=5\n",
    ")\n",
    "\n",
    "model = RobertaVader.from_pretrained(\"roberta-base\", config=config)\n",
    "data_collator = VaderDataCollator(tokeniser)\n",
    "\n",
    "#We train with the same configuration as the initial RoBERTa model\n",
    "args = TrainingArguments(\n",
    "    output_dir='./bert_robert_vader',\n",
    "    num_train_epochs=3,\n",
    "    per_device_train_batch_size=32,\n",
    "    per_device_eval_batch_size=32,\n",
    "    learning_rate = 5e-5,\n",
    "    lr_scheduler_type= \"cosine\",\n",
    "    weight_decay=1e-3,\n",
    "    warmup_steps= 600,\n",
    "    eval_strategy='epoch',\n",
    "    metric_for_best_model=\"weighted f1\",\n",
    "    load_best_model_at_end=True,\n",
    "    save_strategy='epoch',\n",
    "    save_total_limit=2,\n",
    ")\n",
    "\n",
    "trainer = Trainer(\n",
    "    model = model, \n",
    "    args = args,\n",
    "    train_dataset= train_vader_tokens,\n",
    "    eval_dataset = val_vader_tokens,\n",
    "    processing_class=tokeniser,\n",
    "    data_collator=data_collator,\n",
    "    compute_metrics=metrics,\n",
    ")\n",
    "\n",
    "trainer.train()\n",
    "trainer.save_model(\"./best_model_vader\")"
   ]
  },
  {
   "cell_type": "code",
   "execution_count": 634,
   "id": "a6d1a793",
   "metadata": {},
   "outputs": [
    {
     "data": {
      "text/html": [],
      "text/plain": [
       "<IPython.core.display.HTML object>"
      ]
     },
     "metadata": {},
     "output_type": "display_data"
    },
    {
     "name": "stdout",
     "output_type": "stream",
     "text": [
      "              precision    recall  f1-score   support\n",
      "\n",
      "           0       0.73      0.77      0.75       162\n",
      "           1       0.44      0.44      0.44       147\n",
      "           2       0.66      0.56      0.61       358\n",
      "           3       0.63      0.60      0.61       774\n",
      "           4       0.76      0.82      0.79       959\n",
      "\n",
      "    accuracy                           0.69      2400\n",
      "   macro avg       0.64      0.64      0.64      2400\n",
      "weighted avg       0.68      0.69      0.68      2400\n",
      "\n"
     ]
    }
   ],
   "source": [
    "predictions = trainer.predict(val_vader_tokens)\n",
    "preds = np.argmax(predictions.predictions, axis=1)\n",
    "\n",
    "print(classification_report(\n",
    "    val_vader_tokens['labels'].numpy(),\n",
    "    preds\n",
    "))"
   ]
  },
  {
   "cell_type": "markdown",
   "id": "20589935",
   "metadata": {},
   "source": [
    "Surprisingly, the model with the additonal VADER features performs almost exactly the same as the original model. "
   ]
  },
  {
   "cell_type": "markdown",
   "id": "333ba5cb",
   "metadata": {},
   "source": [
    "### 5. Final testing on test set and discussion of results"
   ]
  },
  {
   "cell_type": "code",
   "execution_count": 635,
   "id": "58a6ebe4",
   "metadata": {},
   "outputs": [
    {
     "data": {
      "text/html": [
       "<div>\n",
       "<style scoped>\n",
       "    .dataframe tbody tr th:only-of-type {\n",
       "        vertical-align: middle;\n",
       "    }\n",
       "\n",
       "    .dataframe tbody tr th {\n",
       "        vertical-align: top;\n",
       "    }\n",
       "\n",
       "    .dataframe thead th {\n",
       "        text-align: right;\n",
       "    }\n",
       "</style>\n",
       "<table border=\"1\" class=\"dataframe\">\n",
       "  <thead>\n",
       "    <tr style=\"text-align: right;\">\n",
       "      <th></th>\n",
       "      <th>ratings</th>\n",
       "      <th>title</th>\n",
       "      <th>text</th>\n",
       "      <th>author</th>\n",
       "      <th>date_stayed</th>\n",
       "      <th>offering_id</th>\n",
       "      <th>num_helpful_votes</th>\n",
       "      <th>date</th>\n",
       "      <th>id</th>\n",
       "      <th>via_mobile</th>\n",
       "      <th>clean_title</th>\n",
       "      <th>clean_text</th>\n",
       "    </tr>\n",
       "  </thead>\n",
       "  <tbody>\n",
       "    <tr>\n",
       "      <th>0</th>\n",
       "      <td>{'service': 5.0, 'cleanliness': 5.0, 'overall'...</td>\n",
       "      <td>“I was SO surprised! I WILL return!”</td>\n",
       "      <td>My husband and I just celebrated our 25th wedd...</td>\n",
       "      <td>{'username': 'shooflyfarm', 'num_cities': 15, ...</td>\n",
       "      <td>November 2011</td>\n",
       "      <td>1783324</td>\n",
       "      <td>1</td>\n",
       "      <td>2011-11-26</td>\n",
       "      <td>121063682</td>\n",
       "      <td>False</td>\n",
       "      <td>I was SO surprised I WILL return</td>\n",
       "      <td>My husband and I just celebrated our 25th wedd...</td>\n",
       "    </tr>\n",
       "    <tr>\n",
       "      <th>1</th>\n",
       "      <td>{'cleanliness': 5.0, 'sleep_quality': 5.0, 'ov...</td>\n",
       "      <td>“A Mother/Daughter vacation”</td>\n",
       "      <td>I could not leave a bad comment on any part of...</td>\n",
       "      <td>{'username': 'bestmpm', 'num_reviews': 1, 'id'...</td>\n",
       "      <td>August 2011</td>\n",
       "      <td>88458</td>\n",
       "      <td>0</td>\n",
       "      <td>2011-08-10</td>\n",
       "      <td>116545869</td>\n",
       "      <td>False</td>\n",
       "      <td>A MotherDaughter vacation</td>\n",
       "      <td>I could not leave a bad comment on any part of...</td>\n",
       "    </tr>\n",
       "    <tr>\n",
       "      <th>2</th>\n",
       "      <td>{'service': 5.0, 'cleanliness': 5.0, 'overall'...</td>\n",
       "      <td>“Good Choice for Pre-cruise”</td>\n",
       "      <td>I spent one night at this hotel prior to a cru...</td>\n",
       "      <td>{'username': 'Conner2dood', 'num_cities': 20, ...</td>\n",
       "      <td>November 2010</td>\n",
       "      <td>82868</td>\n",
       "      <td>0</td>\n",
       "      <td>2010-12-06</td>\n",
       "      <td>89196759</td>\n",
       "      <td>False</td>\n",
       "      <td>Good Choice for Precruise</td>\n",
       "      <td>I spent one night at this hotel prior to a cru...</td>\n",
       "    </tr>\n",
       "    <tr>\n",
       "      <th>3</th>\n",
       "      <td>{'cleanliness': 5.0, 'sleep_quality': 5.0, 'ov...</td>\n",
       "      <td>“Unsung Hero”</td>\n",
       "      <td>For the past year and a half, my daughter has ...</td>\n",
       "      <td>{'username': 'LeviK', 'num_reviews': 2, 'num_c...</td>\n",
       "      <td>July 2011</td>\n",
       "      <td>98979</td>\n",
       "      <td>0</td>\n",
       "      <td>2011-07-28</td>\n",
       "      <td>115879719</td>\n",
       "      <td>False</td>\n",
       "      <td>Unsung Hero</td>\n",
       "      <td>For the past year and a half my daughter has b...</td>\n",
       "    </tr>\n",
       "    <tr>\n",
       "      <th>4</th>\n",
       "      <td>{'service': 5.0, 'cleanliness': 5.0, 'overall'...</td>\n",
       "      <td>“Great Value for a King, Queen, and Princesses.”</td>\n",
       "      <td>Great Value for a King, Queen, and Princesses....</td>\n",
       "      <td>{'username': 'thomrho', 'num_cities': 13, 'num...</td>\n",
       "      <td>March 2007</td>\n",
       "      <td>112273</td>\n",
       "      <td>8</td>\n",
       "      <td>2007-03-21</td>\n",
       "      <td>7198417</td>\n",
       "      <td>False</td>\n",
       "      <td>Great Value for a King Queen and Princesses</td>\n",
       "      <td>Great Value for a King Queen and Princesses We...</td>\n",
       "    </tr>\n",
       "    <tr>\n",
       "      <th>...</th>\n",
       "      <td>...</td>\n",
       "      <td>...</td>\n",
       "      <td>...</td>\n",
       "      <td>...</td>\n",
       "      <td>...</td>\n",
       "      <td>...</td>\n",
       "      <td>...</td>\n",
       "      <td>...</td>\n",
       "      <td>...</td>\n",
       "      <td>...</td>\n",
       "      <td>...</td>\n",
       "      <td>...</td>\n",
       "    </tr>\n",
       "    <tr>\n",
       "      <th>5995</th>\n",
       "      <td>{'service': 5.0, 'cleanliness': 5.0, 'overall'...</td>\n",
       "      <td>“Felt right at home here”</td>\n",
       "      <td>I've stayed at many downtown Chicago hotels. T...</td>\n",
       "      <td>{'username': 'eyemdphd', 'num_cities': 9, 'num...</td>\n",
       "      <td>April 2012</td>\n",
       "      <td>217498</td>\n",
       "      <td>3</td>\n",
       "      <td>2012-05-01</td>\n",
       "      <td>129203990</td>\n",
       "      <td>False</td>\n",
       "      <td>Felt right at home here</td>\n",
       "      <td>Ive stayed at many downtown Chicago hotels Thi...</td>\n",
       "    </tr>\n",
       "    <tr>\n",
       "      <th>5996</th>\n",
       "      <td>{'service': 5.0, 'cleanliness': 5.0, 'overall'...</td>\n",
       "      <td>“Days Inn Chicago 101212”</td>\n",
       "      <td>It is always a pleasant stay at your facility....</td>\n",
       "      <td>{'username': 'ROBERT S', 'num_reviews': 1, 'id...</td>\n",
       "      <td>October 2012</td>\n",
       "      <td>87571</td>\n",
       "      <td>0</td>\n",
       "      <td>2012-10-22</td>\n",
       "      <td>143435143</td>\n",
       "      <td>False</td>\n",
       "      <td>Days Inn Chicago 101212</td>\n",
       "      <td>It is always a pleasant stay at your facility ...</td>\n",
       "    </tr>\n",
       "    <tr>\n",
       "      <th>5997</th>\n",
       "      <td>{'service': 2.0, 'cleanliness': 3.0, 'overall'...</td>\n",
       "      <td>“Upgrades Needed”</td>\n",
       "      <td>We recently stayed here for a girls' weekend. ...</td>\n",
       "      <td>{'username': 'Daisy M', 'num_reviews': 1, 'id'...</td>\n",
       "      <td>January 2012</td>\n",
       "      <td>223022</td>\n",
       "      <td>0</td>\n",
       "      <td>2012-01-30</td>\n",
       "      <td>123834976</td>\n",
       "      <td>False</td>\n",
       "      <td>Upgrades Needed</td>\n",
       "      <td>We recently stayed here for a girls weekend Th...</td>\n",
       "    </tr>\n",
       "    <tr>\n",
       "      <th>5998</th>\n",
       "      <td>{'service': 4.0, 'cleanliness': 5.0, 'overall'...</td>\n",
       "      <td>“perfect bargain city hotel”</td>\n",
       "      <td>I made my reservation online at the Bijou beca...</td>\n",
       "      <td>{'username': 'doublemet', 'num_reviews': 1, 'i...</td>\n",
       "      <td>May 2010</td>\n",
       "      <td>80920</td>\n",
       "      <td>1</td>\n",
       "      <td>2010-05-30</td>\n",
       "      <td>65827506</td>\n",
       "      <td>False</td>\n",
       "      <td>perfect bargain city hotel</td>\n",
       "      <td>I made my reservation online at the Bijou beca...</td>\n",
       "    </tr>\n",
       "    <tr>\n",
       "      <th>5999</th>\n",
       "      <td>{'service': 4.0, 'cleanliness': 5.0, 'overall'...</td>\n",
       "      <td>“Wonderful hotel for my journey to the Pitchfo...</td>\n",
       "      <td>I stayed at the Palmer House Hilton to attend ...</td>\n",
       "      <td>{'username': 'triiiangle', 'num_cities': 20, '...</td>\n",
       "      <td>July 2009</td>\n",
       "      <td>111501</td>\n",
       "      <td>1</td>\n",
       "      <td>2009-07-24</td>\n",
       "      <td>35691983</td>\n",
       "      <td>False</td>\n",
       "      <td>Wonderful hotel for my journey to the Pitchfor...</td>\n",
       "      <td>I stayed at the Palmer House Hilton to attend ...</td>\n",
       "    </tr>\n",
       "  </tbody>\n",
       "</table>\n",
       "<p>6000 rows × 12 columns</p>\n",
       "</div>"
      ],
      "text/plain": [
       "                                                ratings  \\\n",
       "0     {'service': 5.0, 'cleanliness': 5.0, 'overall'...   \n",
       "1     {'cleanliness': 5.0, 'sleep_quality': 5.0, 'ov...   \n",
       "2     {'service': 5.0, 'cleanliness': 5.0, 'overall'...   \n",
       "3     {'cleanliness': 5.0, 'sleep_quality': 5.0, 'ov...   \n",
       "4     {'service': 5.0, 'cleanliness': 5.0, 'overall'...   \n",
       "...                                                 ...   \n",
       "5995  {'service': 5.0, 'cleanliness': 5.0, 'overall'...   \n",
       "5996  {'service': 5.0, 'cleanliness': 5.0, 'overall'...   \n",
       "5997  {'service': 2.0, 'cleanliness': 3.0, 'overall'...   \n",
       "5998  {'service': 4.0, 'cleanliness': 5.0, 'overall'...   \n",
       "5999  {'service': 4.0, 'cleanliness': 5.0, 'overall'...   \n",
       "\n",
       "                                                  title  \\\n",
       "0                  “I was SO surprised! I WILL return!”   \n",
       "1                          “A Mother/Daughter vacation”   \n",
       "2                          “Good Choice for Pre-cruise”   \n",
       "3                                         “Unsung Hero”   \n",
       "4      “Great Value for a King, Queen, and Princesses.”   \n",
       "...                                                 ...   \n",
       "5995                          “Felt right at home here”   \n",
       "5996                          “Days Inn Chicago 101212”   \n",
       "5997                                  “Upgrades Needed”   \n",
       "5998                       “perfect bargain city hotel”   \n",
       "5999  “Wonderful hotel for my journey to the Pitchfo...   \n",
       "\n",
       "                                                   text  \\\n",
       "0     My husband and I just celebrated our 25th wedd...   \n",
       "1     I could not leave a bad comment on any part of...   \n",
       "2     I spent one night at this hotel prior to a cru...   \n",
       "3     For the past year and a half, my daughter has ...   \n",
       "4     Great Value for a King, Queen, and Princesses....   \n",
       "...                                                 ...   \n",
       "5995  I've stayed at many downtown Chicago hotels. T...   \n",
       "5996  It is always a pleasant stay at your facility....   \n",
       "5997  We recently stayed here for a girls' weekend. ...   \n",
       "5998  I made my reservation online at the Bijou beca...   \n",
       "5999  I stayed at the Palmer House Hilton to attend ...   \n",
       "\n",
       "                                                 author    date_stayed  \\\n",
       "0     {'username': 'shooflyfarm', 'num_cities': 15, ...  November 2011   \n",
       "1     {'username': 'bestmpm', 'num_reviews': 1, 'id'...    August 2011   \n",
       "2     {'username': 'Conner2dood', 'num_cities': 20, ...  November 2010   \n",
       "3     {'username': 'LeviK', 'num_reviews': 2, 'num_c...      July 2011   \n",
       "4     {'username': 'thomrho', 'num_cities': 13, 'num...     March 2007   \n",
       "...                                                 ...            ...   \n",
       "5995  {'username': 'eyemdphd', 'num_cities': 9, 'num...     April 2012   \n",
       "5996  {'username': 'ROBERT S', 'num_reviews': 1, 'id...   October 2012   \n",
       "5997  {'username': 'Daisy M', 'num_reviews': 1, 'id'...   January 2012   \n",
       "5998  {'username': 'doublemet', 'num_reviews': 1, 'i...       May 2010   \n",
       "5999  {'username': 'triiiangle', 'num_cities': 20, '...      July 2009   \n",
       "\n",
       "      offering_id  num_helpful_votes       date         id  via_mobile  \\\n",
       "0         1783324                  1 2011-11-26  121063682       False   \n",
       "1           88458                  0 2011-08-10  116545869       False   \n",
       "2           82868                  0 2010-12-06   89196759       False   \n",
       "3           98979                  0 2011-07-28  115879719       False   \n",
       "4          112273                  8 2007-03-21    7198417       False   \n",
       "...           ...                ...        ...        ...         ...   \n",
       "5995       217498                  3 2012-05-01  129203990       False   \n",
       "5996        87571                  0 2012-10-22  143435143       False   \n",
       "5997       223022                  0 2012-01-30  123834976       False   \n",
       "5998        80920                  1 2010-05-30   65827506       False   \n",
       "5999       111501                  1 2009-07-24   35691983       False   \n",
       "\n",
       "                                            clean_title  \\\n",
       "0                      I was SO surprised I WILL return   \n",
       "1                             A MotherDaughter vacation   \n",
       "2                             Good Choice for Precruise   \n",
       "3                                           Unsung Hero   \n",
       "4           Great Value for a King Queen and Princesses   \n",
       "...                                                 ...   \n",
       "5995                            Felt right at home here   \n",
       "5996                            Days Inn Chicago 101212   \n",
       "5997                                    Upgrades Needed   \n",
       "5998                         perfect bargain city hotel   \n",
       "5999  Wonderful hotel for my journey to the Pitchfor...   \n",
       "\n",
       "                                             clean_text  \n",
       "0     My husband and I just celebrated our 25th wedd...  \n",
       "1     I could not leave a bad comment on any part of...  \n",
       "2     I spent one night at this hotel prior to a cru...  \n",
       "3     For the past year and a half my daughter has b...  \n",
       "4     Great Value for a King Queen and Princesses We...  \n",
       "...                                                 ...  \n",
       "5995  Ive stayed at many downtown Chicago hotels Thi...  \n",
       "5996  It is always a pleasant stay at your facility ...  \n",
       "5997  We recently stayed here for a girls weekend Th...  \n",
       "5998  I made my reservation online at the Bijou beca...  \n",
       "5999  I stayed at the Palmer House Hilton to attend ...  \n",
       "\n",
       "[6000 rows x 12 columns]"
      ]
     },
     "execution_count": 635,
     "metadata": {},
     "output_type": "execute_result"
    }
   ],
   "source": [
    "test_data"
   ]
  },
  {
   "cell_type": "code",
   "execution_count": 636,
   "id": "f48573c9",
   "metadata": {},
   "outputs": [
    {
     "data": {
      "text/plain": [
       "0       my husband and I just celebrate our 25th weddi...\n",
       "1       I could not leave a bad comment on any part of...\n",
       "2       I spend one night at this hotel prior to a cru...\n",
       "3       for the past year and a half my daughter have ...\n",
       "4       Great Value for a King Queen and Princesses we...\n",
       "                              ...                        \n",
       "5995    I ve stay at many downtown Chicago hotel this ...\n",
       "5996    it be always a pleasant stay at your facility ...\n",
       "5997    we recently stay here for a girl weekend the s...\n",
       "5998    I make my reservation online at the Bijou beca...\n",
       "5999    I stay at the Palmer House Hilton to attend th...\n",
       "Name: lemmatized_text, Length: 6000, dtype: object"
      ]
     },
     "execution_count": 636,
     "metadata": {},
     "output_type": "execute_result"
    }
   ],
   "source": [
    "test_data['lemmatized_text'] = lemmatize(test_data['clean_text'])\n",
    "test_data['lemmatized_text']"
   ]
  },
  {
   "cell_type": "code",
   "execution_count": 637,
   "id": "7a74d0d9",
   "metadata": {},
   "outputs": [
    {
     "data": {
      "text/html": [
       "<div>\n",
       "<style scoped>\n",
       "    .dataframe tbody tr th:only-of-type {\n",
       "        vertical-align: middle;\n",
       "    }\n",
       "\n",
       "    .dataframe tbody tr th {\n",
       "        vertical-align: top;\n",
       "    }\n",
       "\n",
       "    .dataframe thead th {\n",
       "        text-align: right;\n",
       "    }\n",
       "</style>\n",
       "<table border=\"1\" class=\"dataframe\">\n",
       "  <thead>\n",
       "    <tr style=\"text-align: right;\">\n",
       "      <th></th>\n",
       "      <th>ratings</th>\n",
       "      <th>title</th>\n",
       "      <th>text</th>\n",
       "      <th>author</th>\n",
       "      <th>date_stayed</th>\n",
       "      <th>offering_id</th>\n",
       "      <th>num_helpful_votes</th>\n",
       "      <th>date</th>\n",
       "      <th>id</th>\n",
       "      <th>via_mobile</th>\n",
       "      <th>clean_title</th>\n",
       "      <th>clean_text</th>\n",
       "      <th>lemmatized_text</th>\n",
       "    </tr>\n",
       "  </thead>\n",
       "  <tbody>\n",
       "    <tr>\n",
       "      <th>0</th>\n",
       "      <td>{'service': 5.0, 'cleanliness': 5.0, 'overall'...</td>\n",
       "      <td>“I was SO surprised! I WILL return!”</td>\n",
       "      <td>My husband and I just celebrated our 25th wedd...</td>\n",
       "      <td>{'username': 'shooflyfarm', 'num_cities': 15, ...</td>\n",
       "      <td>November 2011</td>\n",
       "      <td>1783324</td>\n",
       "      <td>1</td>\n",
       "      <td>2011-11-26</td>\n",
       "      <td>121063682</td>\n",
       "      <td>False</td>\n",
       "      <td>I was SO surprised I WILL return</td>\n",
       "      <td>My husband and I just celebrated our 25th wedd...</td>\n",
       "      <td>my husband and I just celebrate our 25th weddi...</td>\n",
       "    </tr>\n",
       "    <tr>\n",
       "      <th>1</th>\n",
       "      <td>{'cleanliness': 5.0, 'sleep_quality': 5.0, 'ov...</td>\n",
       "      <td>“A Mother/Daughter vacation”</td>\n",
       "      <td>I could not leave a bad comment on any part of...</td>\n",
       "      <td>{'username': 'bestmpm', 'num_reviews': 1, 'id'...</td>\n",
       "      <td>August 2011</td>\n",
       "      <td>88458</td>\n",
       "      <td>0</td>\n",
       "      <td>2011-08-10</td>\n",
       "      <td>116545869</td>\n",
       "      <td>False</td>\n",
       "      <td>A MotherDaughter vacation</td>\n",
       "      <td>I could not leave a bad comment on any part of...</td>\n",
       "      <td>I could not leave a bad comment on any part of...</td>\n",
       "    </tr>\n",
       "    <tr>\n",
       "      <th>2</th>\n",
       "      <td>{'service': 5.0, 'cleanliness': 5.0, 'overall'...</td>\n",
       "      <td>“Good Choice for Pre-cruise”</td>\n",
       "      <td>I spent one night at this hotel prior to a cru...</td>\n",
       "      <td>{'username': 'Conner2dood', 'num_cities': 20, ...</td>\n",
       "      <td>November 2010</td>\n",
       "      <td>82868</td>\n",
       "      <td>0</td>\n",
       "      <td>2010-12-06</td>\n",
       "      <td>89196759</td>\n",
       "      <td>False</td>\n",
       "      <td>Good Choice for Precruise</td>\n",
       "      <td>I spent one night at this hotel prior to a cru...</td>\n",
       "      <td>I spend one night at this hotel prior to a cru...</td>\n",
       "    </tr>\n",
       "    <tr>\n",
       "      <th>3</th>\n",
       "      <td>{'cleanliness': 5.0, 'sleep_quality': 5.0, 'ov...</td>\n",
       "      <td>“Unsung Hero”</td>\n",
       "      <td>For the past year and a half, my daughter has ...</td>\n",
       "      <td>{'username': 'LeviK', 'num_reviews': 2, 'num_c...</td>\n",
       "      <td>July 2011</td>\n",
       "      <td>98979</td>\n",
       "      <td>0</td>\n",
       "      <td>2011-07-28</td>\n",
       "      <td>115879719</td>\n",
       "      <td>False</td>\n",
       "      <td>Unsung Hero</td>\n",
       "      <td>For the past year and a half my daughter has b...</td>\n",
       "      <td>for the past year and a half my daughter have ...</td>\n",
       "    </tr>\n",
       "    <tr>\n",
       "      <th>4</th>\n",
       "      <td>{'service': 5.0, 'cleanliness': 5.0, 'overall'...</td>\n",
       "      <td>“Great Value for a King, Queen, and Princesses.”</td>\n",
       "      <td>Great Value for a King, Queen, and Princesses....</td>\n",
       "      <td>{'username': 'thomrho', 'num_cities': 13, 'num...</td>\n",
       "      <td>March 2007</td>\n",
       "      <td>112273</td>\n",
       "      <td>8</td>\n",
       "      <td>2007-03-21</td>\n",
       "      <td>7198417</td>\n",
       "      <td>False</td>\n",
       "      <td>Great Value for a King Queen and Princesses</td>\n",
       "      <td>Great Value for a King Queen and Princesses We...</td>\n",
       "      <td>Great Value for a King Queen and Princesses we...</td>\n",
       "    </tr>\n",
       "    <tr>\n",
       "      <th>...</th>\n",
       "      <td>...</td>\n",
       "      <td>...</td>\n",
       "      <td>...</td>\n",
       "      <td>...</td>\n",
       "      <td>...</td>\n",
       "      <td>...</td>\n",
       "      <td>...</td>\n",
       "      <td>...</td>\n",
       "      <td>...</td>\n",
       "      <td>...</td>\n",
       "      <td>...</td>\n",
       "      <td>...</td>\n",
       "      <td>...</td>\n",
       "    </tr>\n",
       "    <tr>\n",
       "      <th>5995</th>\n",
       "      <td>{'service': 5.0, 'cleanliness': 5.0, 'overall'...</td>\n",
       "      <td>“Felt right at home here”</td>\n",
       "      <td>I've stayed at many downtown Chicago hotels. T...</td>\n",
       "      <td>{'username': 'eyemdphd', 'num_cities': 9, 'num...</td>\n",
       "      <td>April 2012</td>\n",
       "      <td>217498</td>\n",
       "      <td>3</td>\n",
       "      <td>2012-05-01</td>\n",
       "      <td>129203990</td>\n",
       "      <td>False</td>\n",
       "      <td>Felt right at home here</td>\n",
       "      <td>Ive stayed at many downtown Chicago hotels Thi...</td>\n",
       "      <td>I ve stay at many downtown Chicago hotel this ...</td>\n",
       "    </tr>\n",
       "    <tr>\n",
       "      <th>5996</th>\n",
       "      <td>{'service': 5.0, 'cleanliness': 5.0, 'overall'...</td>\n",
       "      <td>“Days Inn Chicago 101212”</td>\n",
       "      <td>It is always a pleasant stay at your facility....</td>\n",
       "      <td>{'username': 'ROBERT S', 'num_reviews': 1, 'id...</td>\n",
       "      <td>October 2012</td>\n",
       "      <td>87571</td>\n",
       "      <td>0</td>\n",
       "      <td>2012-10-22</td>\n",
       "      <td>143435143</td>\n",
       "      <td>False</td>\n",
       "      <td>Days Inn Chicago 101212</td>\n",
       "      <td>It is always a pleasant stay at your facility ...</td>\n",
       "      <td>it be always a pleasant stay at your facility ...</td>\n",
       "    </tr>\n",
       "    <tr>\n",
       "      <th>5997</th>\n",
       "      <td>{'service': 2.0, 'cleanliness': 3.0, 'overall'...</td>\n",
       "      <td>“Upgrades Needed”</td>\n",
       "      <td>We recently stayed here for a girls' weekend. ...</td>\n",
       "      <td>{'username': 'Daisy M', 'num_reviews': 1, 'id'...</td>\n",
       "      <td>January 2012</td>\n",
       "      <td>223022</td>\n",
       "      <td>0</td>\n",
       "      <td>2012-01-30</td>\n",
       "      <td>123834976</td>\n",
       "      <td>False</td>\n",
       "      <td>Upgrades Needed</td>\n",
       "      <td>We recently stayed here for a girls weekend Th...</td>\n",
       "      <td>we recently stay here for a girl weekend the s...</td>\n",
       "    </tr>\n",
       "    <tr>\n",
       "      <th>5998</th>\n",
       "      <td>{'service': 4.0, 'cleanliness': 5.0, 'overall'...</td>\n",
       "      <td>“perfect bargain city hotel”</td>\n",
       "      <td>I made my reservation online at the Bijou beca...</td>\n",
       "      <td>{'username': 'doublemet', 'num_reviews': 1, 'i...</td>\n",
       "      <td>May 2010</td>\n",
       "      <td>80920</td>\n",
       "      <td>1</td>\n",
       "      <td>2010-05-30</td>\n",
       "      <td>65827506</td>\n",
       "      <td>False</td>\n",
       "      <td>perfect bargain city hotel</td>\n",
       "      <td>I made my reservation online at the Bijou beca...</td>\n",
       "      <td>I make my reservation online at the Bijou beca...</td>\n",
       "    </tr>\n",
       "    <tr>\n",
       "      <th>5999</th>\n",
       "      <td>{'service': 4.0, 'cleanliness': 5.0, 'overall'...</td>\n",
       "      <td>“Wonderful hotel for my journey to the Pitchfo...</td>\n",
       "      <td>I stayed at the Palmer House Hilton to attend ...</td>\n",
       "      <td>{'username': 'triiiangle', 'num_cities': 20, '...</td>\n",
       "      <td>July 2009</td>\n",
       "      <td>111501</td>\n",
       "      <td>1</td>\n",
       "      <td>2009-07-24</td>\n",
       "      <td>35691983</td>\n",
       "      <td>False</td>\n",
       "      <td>Wonderful hotel for my journey to the Pitchfor...</td>\n",
       "      <td>I stayed at the Palmer House Hilton to attend ...</td>\n",
       "      <td>I stay at the Palmer House Hilton to attend th...</td>\n",
       "    </tr>\n",
       "  </tbody>\n",
       "</table>\n",
       "<p>6000 rows × 13 columns</p>\n",
       "</div>"
      ],
      "text/plain": [
       "                                                ratings  \\\n",
       "0     {'service': 5.0, 'cleanliness': 5.0, 'overall'...   \n",
       "1     {'cleanliness': 5.0, 'sleep_quality': 5.0, 'ov...   \n",
       "2     {'service': 5.0, 'cleanliness': 5.0, 'overall'...   \n",
       "3     {'cleanliness': 5.0, 'sleep_quality': 5.0, 'ov...   \n",
       "4     {'service': 5.0, 'cleanliness': 5.0, 'overall'...   \n",
       "...                                                 ...   \n",
       "5995  {'service': 5.0, 'cleanliness': 5.0, 'overall'...   \n",
       "5996  {'service': 5.0, 'cleanliness': 5.0, 'overall'...   \n",
       "5997  {'service': 2.0, 'cleanliness': 3.0, 'overall'...   \n",
       "5998  {'service': 4.0, 'cleanliness': 5.0, 'overall'...   \n",
       "5999  {'service': 4.0, 'cleanliness': 5.0, 'overall'...   \n",
       "\n",
       "                                                  title  \\\n",
       "0                  “I was SO surprised! I WILL return!”   \n",
       "1                          “A Mother/Daughter vacation”   \n",
       "2                          “Good Choice for Pre-cruise”   \n",
       "3                                         “Unsung Hero”   \n",
       "4      “Great Value for a King, Queen, and Princesses.”   \n",
       "...                                                 ...   \n",
       "5995                          “Felt right at home here”   \n",
       "5996                          “Days Inn Chicago 101212”   \n",
       "5997                                  “Upgrades Needed”   \n",
       "5998                       “perfect bargain city hotel”   \n",
       "5999  “Wonderful hotel for my journey to the Pitchfo...   \n",
       "\n",
       "                                                   text  \\\n",
       "0     My husband and I just celebrated our 25th wedd...   \n",
       "1     I could not leave a bad comment on any part of...   \n",
       "2     I spent one night at this hotel prior to a cru...   \n",
       "3     For the past year and a half, my daughter has ...   \n",
       "4     Great Value for a King, Queen, and Princesses....   \n",
       "...                                                 ...   \n",
       "5995  I've stayed at many downtown Chicago hotels. T...   \n",
       "5996  It is always a pleasant stay at your facility....   \n",
       "5997  We recently stayed here for a girls' weekend. ...   \n",
       "5998  I made my reservation online at the Bijou beca...   \n",
       "5999  I stayed at the Palmer House Hilton to attend ...   \n",
       "\n",
       "                                                 author    date_stayed  \\\n",
       "0     {'username': 'shooflyfarm', 'num_cities': 15, ...  November 2011   \n",
       "1     {'username': 'bestmpm', 'num_reviews': 1, 'id'...    August 2011   \n",
       "2     {'username': 'Conner2dood', 'num_cities': 20, ...  November 2010   \n",
       "3     {'username': 'LeviK', 'num_reviews': 2, 'num_c...      July 2011   \n",
       "4     {'username': 'thomrho', 'num_cities': 13, 'num...     March 2007   \n",
       "...                                                 ...            ...   \n",
       "5995  {'username': 'eyemdphd', 'num_cities': 9, 'num...     April 2012   \n",
       "5996  {'username': 'ROBERT S', 'num_reviews': 1, 'id...   October 2012   \n",
       "5997  {'username': 'Daisy M', 'num_reviews': 1, 'id'...   January 2012   \n",
       "5998  {'username': 'doublemet', 'num_reviews': 1, 'i...       May 2010   \n",
       "5999  {'username': 'triiiangle', 'num_cities': 20, '...      July 2009   \n",
       "\n",
       "      offering_id  num_helpful_votes       date         id  via_mobile  \\\n",
       "0         1783324                  1 2011-11-26  121063682       False   \n",
       "1           88458                  0 2011-08-10  116545869       False   \n",
       "2           82868                  0 2010-12-06   89196759       False   \n",
       "3           98979                  0 2011-07-28  115879719       False   \n",
       "4          112273                  8 2007-03-21    7198417       False   \n",
       "...           ...                ...        ...        ...         ...   \n",
       "5995       217498                  3 2012-05-01  129203990       False   \n",
       "5996        87571                  0 2012-10-22  143435143       False   \n",
       "5997       223022                  0 2012-01-30  123834976       False   \n",
       "5998        80920                  1 2010-05-30   65827506       False   \n",
       "5999       111501                  1 2009-07-24   35691983       False   \n",
       "\n",
       "                                            clean_title  \\\n",
       "0                      I was SO surprised I WILL return   \n",
       "1                             A MotherDaughter vacation   \n",
       "2                             Good Choice for Precruise   \n",
       "3                                           Unsung Hero   \n",
       "4           Great Value for a King Queen and Princesses   \n",
       "...                                                 ...   \n",
       "5995                            Felt right at home here   \n",
       "5996                            Days Inn Chicago 101212   \n",
       "5997                                    Upgrades Needed   \n",
       "5998                         perfect bargain city hotel   \n",
       "5999  Wonderful hotel for my journey to the Pitchfor...   \n",
       "\n",
       "                                             clean_text  \\\n",
       "0     My husband and I just celebrated our 25th wedd...   \n",
       "1     I could not leave a bad comment on any part of...   \n",
       "2     I spent one night at this hotel prior to a cru...   \n",
       "3     For the past year and a half my daughter has b...   \n",
       "4     Great Value for a King Queen and Princesses We...   \n",
       "...                                                 ...   \n",
       "5995  Ive stayed at many downtown Chicago hotels Thi...   \n",
       "5996  It is always a pleasant stay at your facility ...   \n",
       "5997  We recently stayed here for a girls weekend Th...   \n",
       "5998  I made my reservation online at the Bijou beca...   \n",
       "5999  I stayed at the Palmer House Hilton to attend ...   \n",
       "\n",
       "                                        lemmatized_text  \n",
       "0     my husband and I just celebrate our 25th weddi...  \n",
       "1     I could not leave a bad comment on any part of...  \n",
       "2     I spend one night at this hotel prior to a cru...  \n",
       "3     for the past year and a half my daughter have ...  \n",
       "4     Great Value for a King Queen and Princesses we...  \n",
       "...                                                 ...  \n",
       "5995  I ve stay at many downtown Chicago hotel this ...  \n",
       "5996  it be always a pleasant stay at your facility ...  \n",
       "5997  we recently stay here for a girl weekend the s...  \n",
       "5998  I make my reservation online at the Bijou beca...  \n",
       "5999  I stay at the Palmer House Hilton to attend th...  \n",
       "\n",
       "[6000 rows x 13 columns]"
      ]
     },
     "execution_count": 637,
     "metadata": {},
     "output_type": "execute_result"
    }
   ],
   "source": [
    "test_data"
   ]
  },
  {
   "cell_type": "code",
   "execution_count": null,
   "id": "f0aa3462",
   "metadata": {},
   "outputs": [],
   "source": [
    "#applying same data cleaning and formatting on test set as train set\n",
    "test_data['lemmatized_text'] = test_data['lemmatized_text'].apply(lambda x: x.lower())\n",
    "test_data['clean_title'] = test_data['clean_title'].apply(lambda x: x.lower())"
   ]
  },
  {
   "cell_type": "code",
   "execution_count": 639,
   "id": "91dca26c",
   "metadata": {},
   "outputs": [
    {
     "data": {
      "text/html": [
       "<div>\n",
       "<style scoped>\n",
       "    .dataframe tbody tr th:only-of-type {\n",
       "        vertical-align: middle;\n",
       "    }\n",
       "\n",
       "    .dataframe tbody tr th {\n",
       "        vertical-align: top;\n",
       "    }\n",
       "\n",
       "    .dataframe thead th {\n",
       "        text-align: right;\n",
       "    }\n",
       "</style>\n",
       "<table border=\"1\" class=\"dataframe\">\n",
       "  <thead>\n",
       "    <tr style=\"text-align: right;\">\n",
       "      <th></th>\n",
       "      <th>ratings</th>\n",
       "      <th>title</th>\n",
       "      <th>text</th>\n",
       "      <th>author</th>\n",
       "      <th>date_stayed</th>\n",
       "      <th>offering_id</th>\n",
       "      <th>num_helpful_votes</th>\n",
       "      <th>date</th>\n",
       "      <th>id</th>\n",
       "      <th>via_mobile</th>\n",
       "      <th>clean_title</th>\n",
       "      <th>clean_text</th>\n",
       "      <th>lemmatized_text</th>\n",
       "      <th>overall</th>\n",
       "    </tr>\n",
       "  </thead>\n",
       "  <tbody>\n",
       "    <tr>\n",
       "      <th>0</th>\n",
       "      <td>{'service': 5.0, 'cleanliness': 5.0, 'overall'...</td>\n",
       "      <td>“I was SO surprised! I WILL return!”</td>\n",
       "      <td>My husband and I just celebrated our 25th wedd...</td>\n",
       "      <td>{'username': 'shooflyfarm', 'num_cities': 15, ...</td>\n",
       "      <td>November 2011</td>\n",
       "      <td>1783324</td>\n",
       "      <td>1</td>\n",
       "      <td>2011-11-26</td>\n",
       "      <td>121063682</td>\n",
       "      <td>False</td>\n",
       "      <td>I be so surprised I will return</td>\n",
       "      <td>My husband and I just celebrated our 25th wedd...</td>\n",
       "      <td>my husband and i just celebrate our 25th weddi...</td>\n",
       "      <td>5</td>\n",
       "    </tr>\n",
       "    <tr>\n",
       "      <th>1</th>\n",
       "      <td>{'cleanliness': 5.0, 'sleep_quality': 5.0, 'ov...</td>\n",
       "      <td>“A Mother/Daughter vacation”</td>\n",
       "      <td>I could not leave a bad comment on any part of...</td>\n",
       "      <td>{'username': 'bestmpm', 'num_reviews': 1, 'id'...</td>\n",
       "      <td>August 2011</td>\n",
       "      <td>88458</td>\n",
       "      <td>0</td>\n",
       "      <td>2011-08-10</td>\n",
       "      <td>116545869</td>\n",
       "      <td>False</td>\n",
       "      <td>a motherdaughter vacation</td>\n",
       "      <td>I could not leave a bad comment on any part of...</td>\n",
       "      <td>i could not leave a bad comment on any part of...</td>\n",
       "      <td>5</td>\n",
       "    </tr>\n",
       "    <tr>\n",
       "      <th>2</th>\n",
       "      <td>{'service': 5.0, 'cleanliness': 5.0, 'overall'...</td>\n",
       "      <td>“Good Choice for Pre-cruise”</td>\n",
       "      <td>I spent one night at this hotel prior to a cru...</td>\n",
       "      <td>{'username': 'Conner2dood', 'num_cities': 20, ...</td>\n",
       "      <td>November 2010</td>\n",
       "      <td>82868</td>\n",
       "      <td>0</td>\n",
       "      <td>2010-12-06</td>\n",
       "      <td>89196759</td>\n",
       "      <td>False</td>\n",
       "      <td>good choice for precruise</td>\n",
       "      <td>I spent one night at this hotel prior to a cru...</td>\n",
       "      <td>i spend one night at this hotel prior to a cru...</td>\n",
       "      <td>4</td>\n",
       "    </tr>\n",
       "    <tr>\n",
       "      <th>3</th>\n",
       "      <td>{'cleanliness': 5.0, 'sleep_quality': 5.0, 'ov...</td>\n",
       "      <td>“Unsung Hero”</td>\n",
       "      <td>For the past year and a half, my daughter has ...</td>\n",
       "      <td>{'username': 'LeviK', 'num_reviews': 2, 'num_c...</td>\n",
       "      <td>July 2011</td>\n",
       "      <td>98979</td>\n",
       "      <td>0</td>\n",
       "      <td>2011-07-28</td>\n",
       "      <td>115879719</td>\n",
       "      <td>False</td>\n",
       "      <td>unsung hero</td>\n",
       "      <td>For the past year and a half my daughter has b...</td>\n",
       "      <td>for the past year and a half my daughter have ...</td>\n",
       "      <td>5</td>\n",
       "    </tr>\n",
       "    <tr>\n",
       "      <th>4</th>\n",
       "      <td>{'service': 5.0, 'cleanliness': 5.0, 'overall'...</td>\n",
       "      <td>“Great Value for a King, Queen, and Princesses.”</td>\n",
       "      <td>Great Value for a King, Queen, and Princesses....</td>\n",
       "      <td>{'username': 'thomrho', 'num_cities': 13, 'num...</td>\n",
       "      <td>March 2007</td>\n",
       "      <td>112273</td>\n",
       "      <td>8</td>\n",
       "      <td>2007-03-21</td>\n",
       "      <td>7198417</td>\n",
       "      <td>False</td>\n",
       "      <td>great value for a king queen and princess</td>\n",
       "      <td>Great Value for a King Queen and Princesses We...</td>\n",
       "      <td>great value for a king queen and princesses we...</td>\n",
       "      <td>5</td>\n",
       "    </tr>\n",
       "    <tr>\n",
       "      <th>...</th>\n",
       "      <td>...</td>\n",
       "      <td>...</td>\n",
       "      <td>...</td>\n",
       "      <td>...</td>\n",
       "      <td>...</td>\n",
       "      <td>...</td>\n",
       "      <td>...</td>\n",
       "      <td>...</td>\n",
       "      <td>...</td>\n",
       "      <td>...</td>\n",
       "      <td>...</td>\n",
       "      <td>...</td>\n",
       "      <td>...</td>\n",
       "      <td>...</td>\n",
       "    </tr>\n",
       "    <tr>\n",
       "      <th>5995</th>\n",
       "      <td>{'service': 5.0, 'cleanliness': 5.0, 'overall'...</td>\n",
       "      <td>“Felt right at home here”</td>\n",
       "      <td>I've stayed at many downtown Chicago hotels. T...</td>\n",
       "      <td>{'username': 'eyemdphd', 'num_cities': 9, 'num...</td>\n",
       "      <td>April 2012</td>\n",
       "      <td>217498</td>\n",
       "      <td>3</td>\n",
       "      <td>2012-05-01</td>\n",
       "      <td>129203990</td>\n",
       "      <td>False</td>\n",
       "      <td>feel right at home here</td>\n",
       "      <td>Ive stayed at many downtown Chicago hotels Thi...</td>\n",
       "      <td>i ve stay at many downtown chicago hotel this ...</td>\n",
       "      <td>5</td>\n",
       "    </tr>\n",
       "    <tr>\n",
       "      <th>5996</th>\n",
       "      <td>{'service': 5.0, 'cleanliness': 5.0, 'overall'...</td>\n",
       "      <td>“Days Inn Chicago 101212”</td>\n",
       "      <td>It is always a pleasant stay at your facility....</td>\n",
       "      <td>{'username': 'ROBERT S', 'num_reviews': 1, 'id...</td>\n",
       "      <td>October 2012</td>\n",
       "      <td>87571</td>\n",
       "      <td>0</td>\n",
       "      <td>2012-10-22</td>\n",
       "      <td>143435143</td>\n",
       "      <td>False</td>\n",
       "      <td>day inn chicago 101212</td>\n",
       "      <td>It is always a pleasant stay at your facility ...</td>\n",
       "      <td>it be always a pleasant stay at your facility ...</td>\n",
       "      <td>5</td>\n",
       "    </tr>\n",
       "    <tr>\n",
       "      <th>5997</th>\n",
       "      <td>{'service': 2.0, 'cleanliness': 3.0, 'overall'...</td>\n",
       "      <td>“Upgrades Needed”</td>\n",
       "      <td>We recently stayed here for a girls' weekend. ...</td>\n",
       "      <td>{'username': 'Daisy M', 'num_reviews': 1, 'id'...</td>\n",
       "      <td>January 2012</td>\n",
       "      <td>223022</td>\n",
       "      <td>0</td>\n",
       "      <td>2012-01-30</td>\n",
       "      <td>123834976</td>\n",
       "      <td>False</td>\n",
       "      <td>upgrade need</td>\n",
       "      <td>We recently stayed here for a girls weekend Th...</td>\n",
       "      <td>we recently stay here for a girl weekend the s...</td>\n",
       "      <td>2</td>\n",
       "    </tr>\n",
       "    <tr>\n",
       "      <th>5998</th>\n",
       "      <td>{'service': 4.0, 'cleanliness': 5.0, 'overall'...</td>\n",
       "      <td>“perfect bargain city hotel”</td>\n",
       "      <td>I made my reservation online at the Bijou beca...</td>\n",
       "      <td>{'username': 'doublemet', 'num_reviews': 1, 'i...</td>\n",
       "      <td>May 2010</td>\n",
       "      <td>80920</td>\n",
       "      <td>1</td>\n",
       "      <td>2010-05-30</td>\n",
       "      <td>65827506</td>\n",
       "      <td>False</td>\n",
       "      <td>perfect bargain city hotel</td>\n",
       "      <td>I made my reservation online at the Bijou beca...</td>\n",
       "      <td>i make my reservation online at the bijou beca...</td>\n",
       "      <td>5</td>\n",
       "    </tr>\n",
       "    <tr>\n",
       "      <th>5999</th>\n",
       "      <td>{'service': 4.0, 'cleanliness': 5.0, 'overall'...</td>\n",
       "      <td>“Wonderful hotel for my journey to the Pitchfo...</td>\n",
       "      <td>I stayed at the Palmer House Hilton to attend ...</td>\n",
       "      <td>{'username': 'triiiangle', 'num_cities': 20, '...</td>\n",
       "      <td>July 2009</td>\n",
       "      <td>111501</td>\n",
       "      <td>1</td>\n",
       "      <td>2009-07-24</td>\n",
       "      <td>35691983</td>\n",
       "      <td>False</td>\n",
       "      <td>wonderful hotel for my journey to the pitchfor...</td>\n",
       "      <td>I stayed at the Palmer House Hilton to attend ...</td>\n",
       "      <td>i stay at the palmer house hilton to attend th...</td>\n",
       "      <td>4</td>\n",
       "    </tr>\n",
       "  </tbody>\n",
       "</table>\n",
       "<p>6000 rows × 14 columns</p>\n",
       "</div>"
      ],
      "text/plain": [
       "                                                ratings  \\\n",
       "0     {'service': 5.0, 'cleanliness': 5.0, 'overall'...   \n",
       "1     {'cleanliness': 5.0, 'sleep_quality': 5.0, 'ov...   \n",
       "2     {'service': 5.0, 'cleanliness': 5.0, 'overall'...   \n",
       "3     {'cleanliness': 5.0, 'sleep_quality': 5.0, 'ov...   \n",
       "4     {'service': 5.0, 'cleanliness': 5.0, 'overall'...   \n",
       "...                                                 ...   \n",
       "5995  {'service': 5.0, 'cleanliness': 5.0, 'overall'...   \n",
       "5996  {'service': 5.0, 'cleanliness': 5.0, 'overall'...   \n",
       "5997  {'service': 2.0, 'cleanliness': 3.0, 'overall'...   \n",
       "5998  {'service': 4.0, 'cleanliness': 5.0, 'overall'...   \n",
       "5999  {'service': 4.0, 'cleanliness': 5.0, 'overall'...   \n",
       "\n",
       "                                                  title  \\\n",
       "0                  “I was SO surprised! I WILL return!”   \n",
       "1                          “A Mother/Daughter vacation”   \n",
       "2                          “Good Choice for Pre-cruise”   \n",
       "3                                         “Unsung Hero”   \n",
       "4      “Great Value for a King, Queen, and Princesses.”   \n",
       "...                                                 ...   \n",
       "5995                          “Felt right at home here”   \n",
       "5996                          “Days Inn Chicago 101212”   \n",
       "5997                                  “Upgrades Needed”   \n",
       "5998                       “perfect bargain city hotel”   \n",
       "5999  “Wonderful hotel for my journey to the Pitchfo...   \n",
       "\n",
       "                                                   text  \\\n",
       "0     My husband and I just celebrated our 25th wedd...   \n",
       "1     I could not leave a bad comment on any part of...   \n",
       "2     I spent one night at this hotel prior to a cru...   \n",
       "3     For the past year and a half, my daughter has ...   \n",
       "4     Great Value for a King, Queen, and Princesses....   \n",
       "...                                                 ...   \n",
       "5995  I've stayed at many downtown Chicago hotels. T...   \n",
       "5996  It is always a pleasant stay at your facility....   \n",
       "5997  We recently stayed here for a girls' weekend. ...   \n",
       "5998  I made my reservation online at the Bijou beca...   \n",
       "5999  I stayed at the Palmer House Hilton to attend ...   \n",
       "\n",
       "                                                 author    date_stayed  \\\n",
       "0     {'username': 'shooflyfarm', 'num_cities': 15, ...  November 2011   \n",
       "1     {'username': 'bestmpm', 'num_reviews': 1, 'id'...    August 2011   \n",
       "2     {'username': 'Conner2dood', 'num_cities': 20, ...  November 2010   \n",
       "3     {'username': 'LeviK', 'num_reviews': 2, 'num_c...      July 2011   \n",
       "4     {'username': 'thomrho', 'num_cities': 13, 'num...     March 2007   \n",
       "...                                                 ...            ...   \n",
       "5995  {'username': 'eyemdphd', 'num_cities': 9, 'num...     April 2012   \n",
       "5996  {'username': 'ROBERT S', 'num_reviews': 1, 'id...   October 2012   \n",
       "5997  {'username': 'Daisy M', 'num_reviews': 1, 'id'...   January 2012   \n",
       "5998  {'username': 'doublemet', 'num_reviews': 1, 'i...       May 2010   \n",
       "5999  {'username': 'triiiangle', 'num_cities': 20, '...      July 2009   \n",
       "\n",
       "      offering_id  num_helpful_votes       date         id  via_mobile  \\\n",
       "0         1783324                  1 2011-11-26  121063682       False   \n",
       "1           88458                  0 2011-08-10  116545869       False   \n",
       "2           82868                  0 2010-12-06   89196759       False   \n",
       "3           98979                  0 2011-07-28  115879719       False   \n",
       "4          112273                  8 2007-03-21    7198417       False   \n",
       "...           ...                ...        ...        ...         ...   \n",
       "5995       217498                  3 2012-05-01  129203990       False   \n",
       "5996        87571                  0 2012-10-22  143435143       False   \n",
       "5997       223022                  0 2012-01-30  123834976       False   \n",
       "5998        80920                  1 2010-05-30   65827506       False   \n",
       "5999       111501                  1 2009-07-24   35691983       False   \n",
       "\n",
       "                                            clean_title  \\\n",
       "0                       I be so surprised I will return   \n",
       "1                             a motherdaughter vacation   \n",
       "2                             good choice for precruise   \n",
       "3                                           unsung hero   \n",
       "4             great value for a king queen and princess   \n",
       "...                                                 ...   \n",
       "5995                            feel right at home here   \n",
       "5996                             day inn chicago 101212   \n",
       "5997                                       upgrade need   \n",
       "5998                         perfect bargain city hotel   \n",
       "5999  wonderful hotel for my journey to the pitchfor...   \n",
       "\n",
       "                                             clean_text  \\\n",
       "0     My husband and I just celebrated our 25th wedd...   \n",
       "1     I could not leave a bad comment on any part of...   \n",
       "2     I spent one night at this hotel prior to a cru...   \n",
       "3     For the past year and a half my daughter has b...   \n",
       "4     Great Value for a King Queen and Princesses We...   \n",
       "...                                                 ...   \n",
       "5995  Ive stayed at many downtown Chicago hotels Thi...   \n",
       "5996  It is always a pleasant stay at your facility ...   \n",
       "5997  We recently stayed here for a girls weekend Th...   \n",
       "5998  I made my reservation online at the Bijou beca...   \n",
       "5999  I stayed at the Palmer House Hilton to attend ...   \n",
       "\n",
       "                                        lemmatized_text  overall  \n",
       "0     my husband and i just celebrate our 25th weddi...        5  \n",
       "1     i could not leave a bad comment on any part of...        5  \n",
       "2     i spend one night at this hotel prior to a cru...        4  \n",
       "3     for the past year and a half my daughter have ...        5  \n",
       "4     great value for a king queen and princesses we...        5  \n",
       "...                                                 ...      ...  \n",
       "5995  i ve stay at many downtown chicago hotel this ...        5  \n",
       "5996  it be always a pleasant stay at your facility ...        5  \n",
       "5997  we recently stay here for a girl weekend the s...        2  \n",
       "5998  i make my reservation online at the bijou beca...        5  \n",
       "5999  i stay at the palmer house hilton to attend th...        4  \n",
       "\n",
       "[6000 rows x 14 columns]"
      ]
     },
     "execution_count": 639,
     "metadata": {},
     "output_type": "execute_result"
    }
   ],
   "source": [
    "test_data['clean_title'] = lemmatize(test_data['clean_title'])\n",
    "test_data['overall'] = test_data['ratings'].apply(get_overall)\n",
    "test_data['overall']\n",
    "test_data"
   ]
  },
  {
   "cell_type": "code",
   "execution_count": 640,
   "id": "1c6f4c2c",
   "metadata": {},
   "outputs": [
    {
     "data": {
      "text/html": [
       "<div>\n",
       "<style scoped>\n",
       "    .dataframe tbody tr th:only-of-type {\n",
       "        vertical-align: middle;\n",
       "    }\n",
       "\n",
       "    .dataframe tbody tr th {\n",
       "        vertical-align: top;\n",
       "    }\n",
       "\n",
       "    .dataframe thead th {\n",
       "        text-align: right;\n",
       "    }\n",
       "</style>\n",
       "<table border=\"1\" class=\"dataframe\">\n",
       "  <thead>\n",
       "    <tr style=\"text-align: right;\">\n",
       "      <th></th>\n",
       "      <th>overall</th>\n",
       "      <th>clean_title</th>\n",
       "      <th>lemmatized_text</th>\n",
       "      <th>combined</th>\n",
       "    </tr>\n",
       "  </thead>\n",
       "  <tbody>\n",
       "    <tr>\n",
       "      <th>0</th>\n",
       "      <td>5</td>\n",
       "      <td>I be so surprised I will return</td>\n",
       "      <td>my husband and i just celebrate our 25th weddi...</td>\n",
       "      <td>I be so surprised I will return my husband and...</td>\n",
       "    </tr>\n",
       "    <tr>\n",
       "      <th>1</th>\n",
       "      <td>5</td>\n",
       "      <td>a motherdaughter vacation</td>\n",
       "      <td>i could not leave a bad comment on any part of...</td>\n",
       "      <td>a motherdaughter vacation i could not leave a ...</td>\n",
       "    </tr>\n",
       "    <tr>\n",
       "      <th>2</th>\n",
       "      <td>4</td>\n",
       "      <td>good choice for precruise</td>\n",
       "      <td>i spend one night at this hotel prior to a cru...</td>\n",
       "      <td>good choice for precruise i spend one night at...</td>\n",
       "    </tr>\n",
       "    <tr>\n",
       "      <th>3</th>\n",
       "      <td>5</td>\n",
       "      <td>unsung hero</td>\n",
       "      <td>for the past year and a half my daughter have ...</td>\n",
       "      <td>unsung hero for the past year and a half my da...</td>\n",
       "    </tr>\n",
       "    <tr>\n",
       "      <th>4</th>\n",
       "      <td>5</td>\n",
       "      <td>great value for a king queen and princess</td>\n",
       "      <td>great value for a king queen and princesses we...</td>\n",
       "      <td>great value for a king queen and princess grea...</td>\n",
       "    </tr>\n",
       "    <tr>\n",
       "      <th>...</th>\n",
       "      <td>...</td>\n",
       "      <td>...</td>\n",
       "      <td>...</td>\n",
       "      <td>...</td>\n",
       "    </tr>\n",
       "    <tr>\n",
       "      <th>5995</th>\n",
       "      <td>5</td>\n",
       "      <td>feel right at home here</td>\n",
       "      <td>i ve stay at many downtown chicago hotel this ...</td>\n",
       "      <td>feel right at home here i ve stay at many down...</td>\n",
       "    </tr>\n",
       "    <tr>\n",
       "      <th>5996</th>\n",
       "      <td>5</td>\n",
       "      <td>day inn chicago 101212</td>\n",
       "      <td>it be always a pleasant stay at your facility ...</td>\n",
       "      <td>day inn chicago 101212 it be always a pleasant...</td>\n",
       "    </tr>\n",
       "    <tr>\n",
       "      <th>5997</th>\n",
       "      <td>2</td>\n",
       "      <td>upgrade need</td>\n",
       "      <td>we recently stay here for a girl weekend the s...</td>\n",
       "      <td>upgrade need we recently stay here for a girl ...</td>\n",
       "    </tr>\n",
       "    <tr>\n",
       "      <th>5998</th>\n",
       "      <td>5</td>\n",
       "      <td>perfect bargain city hotel</td>\n",
       "      <td>i make my reservation online at the bijou beca...</td>\n",
       "      <td>perfect bargain city hotel i make my reservati...</td>\n",
       "    </tr>\n",
       "    <tr>\n",
       "      <th>5999</th>\n",
       "      <td>4</td>\n",
       "      <td>wonderful hotel for my journey to the pitchfor...</td>\n",
       "      <td>i stay at the palmer house hilton to attend th...</td>\n",
       "      <td>wonderful hotel for my journey to the pitchfor...</td>\n",
       "    </tr>\n",
       "  </tbody>\n",
       "</table>\n",
       "<p>6000 rows × 4 columns</p>\n",
       "</div>"
      ],
      "text/plain": [
       "      overall                                        clean_title  \\\n",
       "0           5                    I be so surprised I will return   \n",
       "1           5                          a motherdaughter vacation   \n",
       "2           4                          good choice for precruise   \n",
       "3           5                                        unsung hero   \n",
       "4           5          great value for a king queen and princess   \n",
       "...       ...                                                ...   \n",
       "5995        5                            feel right at home here   \n",
       "5996        5                             day inn chicago 101212   \n",
       "5997        2                                       upgrade need   \n",
       "5998        5                         perfect bargain city hotel   \n",
       "5999        4  wonderful hotel for my journey to the pitchfor...   \n",
       "\n",
       "                                        lemmatized_text  \\\n",
       "0     my husband and i just celebrate our 25th weddi...   \n",
       "1     i could not leave a bad comment on any part of...   \n",
       "2     i spend one night at this hotel prior to a cru...   \n",
       "3     for the past year and a half my daughter have ...   \n",
       "4     great value for a king queen and princesses we...   \n",
       "...                                                 ...   \n",
       "5995  i ve stay at many downtown chicago hotel this ...   \n",
       "5996  it be always a pleasant stay at your facility ...   \n",
       "5997  we recently stay here for a girl weekend the s...   \n",
       "5998  i make my reservation online at the bijou beca...   \n",
       "5999  i stay at the palmer house hilton to attend th...   \n",
       "\n",
       "                                               combined  \n",
       "0     I be so surprised I will return my husband and...  \n",
       "1     a motherdaughter vacation i could not leave a ...  \n",
       "2     good choice for precruise i spend one night at...  \n",
       "3     unsung hero for the past year and a half my da...  \n",
       "4     great value for a king queen and princess grea...  \n",
       "...                                                 ...  \n",
       "5995  feel right at home here i ve stay at many down...  \n",
       "5996  day inn chicago 101212 it be always a pleasant...  \n",
       "5997  upgrade need we recently stay here for a girl ...  \n",
       "5998  perfect bargain city hotel i make my reservati...  \n",
       "5999  wonderful hotel for my journey to the pitchfor...  \n",
       "\n",
       "[6000 rows x 4 columns]"
      ]
     },
     "execution_count": 640,
     "metadata": {},
     "output_type": "execute_result"
    }
   ],
   "source": [
    "test_data_ref = test_data[['overall', 'clean_title','lemmatized_text']]\n",
    "test_data_ref['combined'] = test_data_ref['clean_title'] + ' ' + test_data_ref['lemmatized_text']\n",
    "test_data_ref"
   ]
  },
  {
   "cell_type": "code",
   "execution_count": 641,
   "id": "487b53d3",
   "metadata": {},
   "outputs": [],
   "source": [
    "test_data_df = test_data_ref[['overall', 'combined']]"
   ]
  },
  {
   "cell_type": "markdown",
   "id": "62683816",
   "metadata": {},
   "source": [
    "During intital test run an error was found regarding the tokenisation process. Though this error presents itself as a cuda error, in reality it refers to label data not being in the expected 0-indexed pytorch form. As such, exploration was conducted to find the data points causing this error."
   ]
  },
  {
   "cell_type": "code",
   "execution_count": 642,
   "id": "2d69cbb4",
   "metadata": {},
   "outputs": [
    {
     "data": {
      "text/plain": [
       "True"
      ]
     },
     "execution_count": 642,
     "metadata": {},
     "output_type": "execute_result"
    }
   ],
   "source": [
    "negative = (test_data_df['overall'] <= 0).any()\n",
    "negative"
   ]
  },
  {
   "cell_type": "code",
   "execution_count": 643,
   "id": "78686378",
   "metadata": {},
   "outputs": [
    {
     "data": {
      "text/plain": [
       "1"
      ]
     },
     "execution_count": 643,
     "metadata": {},
     "output_type": "execute_result"
    }
   ],
   "source": [
    "counts_below = (test_data_df['overall'] <= 0).sum()\n",
    "counts_below"
   ]
  },
  {
   "cell_type": "code",
   "execution_count": 644,
   "id": "dda4b726",
   "metadata": {},
   "outputs": [
    {
     "name": "stdout",
     "output_type": "stream",
     "text": [
      "      overall                                           combined\n",
      "5960        0  perfect location large room stay for two week ...\n"
     ]
    }
   ],
   "source": [
    "if counts_below > 0:\n",
    "    neg = test_data_df[test_data_df['overall'] <= 0]\n",
    "\n",
    "print(neg)"
   ]
  },
  {
   "cell_type": "code",
   "execution_count": 645,
   "id": "9f7262e8",
   "metadata": {},
   "outputs": [],
   "source": [
    "test_data_df = test_data_df[test_data_df['overall'] > 0]"
   ]
  },
  {
   "cell_type": "code",
   "execution_count": 646,
   "id": "abd478e4",
   "metadata": {},
   "outputs": [
    {
     "data": {
      "text/plain": [
       "(Dataset({\n",
       "     features: ['text', 'labels', '__index_level_0__'],\n",
       "     num_rows: 21598\n",
       " }),\n",
       " Dataset({\n",
       "     features: ['overall', 'combined', '__index_level_0__'],\n",
       "     num_rows: 5999\n",
       " }))"
      ]
     },
     "execution_count": 646,
     "metadata": {},
     "output_type": "execute_result"
    }
   ],
   "source": [
    "# train_set = Dataset.from_pandas(lem_train_data)\n",
    "test_set = Dataset.from_pandas(test_data_df)\n",
    "\n",
    "train_set, test_set"
   ]
  },
  {
   "cell_type": "code",
   "execution_count": 647,
   "id": "93249343",
   "metadata": {},
   "outputs": [
    {
     "data": {
      "text/plain": [
       "Dataset({\n",
       "    features: ['labels', 'combined', '__index_level_0__'],\n",
       "    num_rows: 5999\n",
       "})"
      ]
     },
     "execution_count": 647,
     "metadata": {},
     "output_type": "execute_result"
    }
   ],
   "source": [
    "# train_set = train_set.rename_column('overall', 'labels')\n",
    "test_set = test_set.rename_column('overall', 'labels')\n",
    "test_set"
   ]
  },
  {
   "cell_type": "code",
   "execution_count": 648,
   "id": "b555675d",
   "metadata": {},
   "outputs": [
    {
     "name": "stderr",
     "output_type": "stream",
     "text": [
      "Map: 100%|██████████| 5999/5999 [00:03<00:00, 1775.41 examples/s]\n"
     ]
    },
    {
     "name": "stdout",
     "output_type": "stream",
     "text": [
      "label of first test example before adjustment: [5]\n"
     ]
    },
    {
     "name": "stderr",
     "output_type": "stream",
     "text": [
      "Map: 100%|██████████| 5999/5999 [00:00<00:00, 53833.18 examples/s]"
     ]
    },
    {
     "name": "stdout",
     "output_type": "stream",
     "text": [
      "label of first test example after adjustment: tensor([4])\n"
     ]
    },
    {
     "name": "stderr",
     "output_type": "stream",
     "text": [
      "\n"
     ]
    },
    {
     "data": {
      "text/plain": [
       "Dataset({\n",
       "    features: ['labels', 'input_ids', 'attention_mask'],\n",
       "    num_rows: 5999\n",
       "})"
      ]
     },
     "execution_count": 648,
     "metadata": {},
     "output_type": "execute_result"
    }
   ],
   "source": [
    "def tokenise_data(data):\n",
    "    return tokeniser(\n",
    "        data['combined'],\n",
    "        truncation=True,\n",
    "        max_length = 256, \n",
    "        padding='max_length',\n",
    "    )\n",
    "\n",
    "test_set_tokens = test_set.map(tokenise_data, batched=True,  remove_columns=(['combined', '__index_level_0__']))\n",
    "\n",
    "print(f\"label of first test example before adjustment: {test_set_tokens[:1]['labels']}\")\n",
    "\n",
    "test_set_tokens = test_set_tokens.map(lambda x: {'labels': x['labels'] - 1})\n",
    "\n",
    "print(f\"label of first test example after adjustment: {train_set_tokens[:1]['labels']}\")\n",
    "test_set_tokens"
   ]
  },
  {
   "cell_type": "code",
   "execution_count": 649,
   "id": "13843a2c",
   "metadata": {},
   "outputs": [
    {
     "data": {
      "text/plain": [
       "(tensor(0), tensor(4))"
      ]
     },
     "execution_count": 649,
     "metadata": {},
     "output_type": "execute_result"
    }
   ],
   "source": [
    "test_set_tokens.set_format(type='torch')\n",
    "test_set_tokens['labels'].min(), test_set_tokens['labels'].max()"
   ]
  },
  {
   "cell_type": "code",
   "execution_count": null,
   "id": "94b1107e",
   "metadata": {},
   "outputs": [
    {
     "data": {
      "text/html": [],
      "text/plain": [
       "<IPython.core.display.HTML object>"
      ]
     },
     "metadata": {},
     "output_type": "display_data"
    },
    {
     "name": "stdout",
     "output_type": "stream",
     "text": [
      "Test results: {'eval_loss': 0.7411855459213257, 'eval_model_preparation_time': 0.0014, 'eval_weighted f1': 0.6948633497879794, 'eval_macro f1': 0.652783332788253, 'eval_runtime': 13.19, 'eval_samples_per_second': 454.815, 'eval_steps_per_second': 28.431}\n"
     ]
    }
   ],
   "source": [
    "import os\n",
    "# os.environ['CUDA_LAUNCH_BLOCKING'] = '1'\n",
    "\n",
    "#loading in the best trained model (without VADER)\n",
    "model = RobertaForSequenceClassification.from_pretrained(\"./best_model\", num_labels=5)\n",
    "\n",
    "test_args = TrainingArguments(\n",
    "    per_device_eval_batch_size=16,\n",
    "    \n",
    ")\n",
    "\n",
    "test_trainer = Trainer(\n",
    "    model=model,\n",
    "    args=test_args,\n",
    "    processing_class = tokeniser,\n",
    "    compute_metrics=metrics,\n",
    ")\n",
    "\n",
    "# Now you can evaluate on your test set\n",
    "test_results = test_trainer.evaluate(test_set_tokens)\n",
    "print(f\"Test results: {test_results}\")\n"
   ]
  },
  {
   "cell_type": "code",
   "execution_count": 651,
   "id": "cf410ab4",
   "metadata": {},
   "outputs": [
    {
     "data": {
      "text/plain": [
       "{'eval_loss': 0.7411855459213257,\n",
       " 'eval_model_preparation_time': 0.0014,\n",
       " 'eval_weighted f1': 0.6948633497879794,\n",
       " 'eval_macro f1': 0.652783332788253,\n",
       " 'eval_runtime': 13.19,\n",
       " 'eval_samples_per_second': 454.815,\n",
       " 'eval_steps_per_second': 28.431}"
      ]
     },
     "execution_count": 651,
     "metadata": {},
     "output_type": "execute_result"
    }
   ],
   "source": [
    "test_results"
   ]
  },
  {
   "cell_type": "markdown",
   "id": "14af95e1",
   "metadata": {},
   "source": [
    "Following testing, we can see that the model actually performed better on the test set than on the validation set. These results indicate that the model generalises effectively to new data and provides consistently improved performance across the different classes on the test set. We can see here that class 5 actually had a weighted f1 score 0.8, a benchmark that was as of yet, not reached by any of the previous tests. The overall accuracy of the model as broke the 70% barrier though it was not the primary evaluation metric. However the weighted f1 score of 0.6948 almost did infact break the 70% barrier. We can take these as very solid results for the current experiment, though with more compute and research, these could have been even more optimised. Especially on the more neutral sentiment classes like 2 and 3. "
   ]
  },
  {
   "cell_type": "code",
   "execution_count": 652,
   "id": "acee345c",
   "metadata": {},
   "outputs": [
    {
     "name": "stdout",
     "output_type": "stream",
     "text": [
      "              precision    recall  f1-score   support\n",
      "\n",
      "           0       0.74      0.78      0.76       385\n",
      "           1       0.51      0.46      0.48       420\n",
      "           2       0.61      0.56      0.58       793\n",
      "           3       0.64      0.65      0.64      1933\n",
      "           4       0.79      0.81      0.80      2468\n",
      "\n",
      "    accuracy                           0.70      5999\n",
      "   macro avg       0.66      0.65      0.65      5999\n",
      "weighted avg       0.69      0.70      0.69      5999\n",
      "\n"
     ]
    }
   ],
   "source": [
    "predictions = test_trainer.predict(test_set_tokens)\n",
    "preds = np.argmax(predictions.predictions, axis=1)\n",
    "\n",
    "print(classification_report(\n",
    "    test_set_tokens['labels'].numpy(),\n",
    "    preds\n",
    "))"
   ]
  },
  {
   "cell_type": "markdown",
   "id": "23d3d17f",
   "metadata": {},
   "source": [
    "### 7. Reflection on the ***Product*** development."
   ]
  },
  {
   "cell_type": "markdown",
   "id": "318a4231",
   "metadata": {},
   "source": [
    "Applied Natural Language Processing Assignment 1: Reflection\n",
    "a1797378: Arpan Mukhopadhyay\n",
    "git repo: https://github.com/ArpanMukhopadhyay/NLP_applied/tree/main/assignment1 \n",
    "\n",
    "Data pre-processing and Exploratory Data Analysis\n",
    "\n",
    "Data pre-processing and Exploratory Data Analysis (EDA) were the tasks that comprised most of the initial drafts. In-built functions from the python standard library alongside pandas pd.read_json()were used to extract and convert the given dataset. Non-English reviews were removed using the provided language_filter.py file, which only removed one review. Notably, the function was adjusted to only check the language of the text content of the review and not the title. Both title and text were tested though applying the function on the title column surprisingly led to several false positives, leading to many English reviews being removed. As such, this check was applied only to the reviews. \n",
    "\n",
    "While further revisions took a more refined approach to the extraction and analysis of the primary evaluation terms (‘overall’, ‘title’, ‘text’), initial exploratory syntax was rather convoluted. This stemmed from my initial misunderstanding of the task, where I believed we were to consider all the ratings as part of the ‘overall’. This led to me accessing the entire ratings dictionary and developing visualisations regarding each of the rating types. While useful for a broader task, these proved useless for the current task and were removed in version 4. This also led to the discovery of the heavily imbalanced nature of the dataset. Though initial resampling methods were considered, the approach to this issue was taken on a ‘per-model basis’.\n",
    " \n",
    "As a baseline, all text was cleaned to remove non-alphanumeric characters and extra white space characters. Lowercasing was applied on a per-case basis for visualisation purposes before being permanently applied to the dataset prior model training. Regarding lemmatization and stemming (version 4), lemmatisation was chosen as words following lemmatization carry stronger contextual clues towards sentiment compared to stemming, which could better help discern the valence and/or arousal of sentiments. Though it was utilised for many versions, model performance was found to be negatively affected by stop-word removal. This was likely due to stop words occasionally altering the sentiment of a phrase (“not good” vs “good”).\n",
    "\n",
    "Machine Learning\n",
    "\n",
    "The machine learning portion of the assignment involved much experimentation. Initially, four different classical machine learning models were chosen. Multinomial Naïve Bayes, SVM, Logistic Regression and Decision Trees. Given the initial heavily imbalanced and high dimensional nature of the dataset, it was assumed that Random Forest with Decision trees or SVM would perform best. Random forest thanks to its ability to generalise well to imbalanced datasets and SVM thanks to its inherent ability to deal with high dimensional data. However, Random Forest performed quite poorly, I’m still not sure why. SVM on the other hand was a strange case as it performed differently based on which Sklearn library was used. While the standard SVC() library with kernel='linear' yielded results similar to the Logistic Regression model, it took an awfully long time to run (approximately 2-3 minutes). However, the LinearSVC() model, which ran an SVM model with an explicit Linear Kernel function ran much faster but performed slightly worse. This was an odd tradeoff to consider but given the computationally efficiency of LinearSVC, it was chosen as the SVM model of choice. And since it performed notably worse than the Logistic regression model, it was not chosen as the classical model of choice.\n",
    "\n",
    "Experimentation with SMOTE was also undertaken in regards to dealing with the imbalanced dataset though it only proved to be useful when applied to the Multinomial Naive Bayes model. However, even with SMOTE this MNB performed worse than Logistic Regression and both implementations of SVM. This experimentation can be seen throughout most revisions especially versions 6-9. Word embeddings were tested though my virtual environment had issues loading external models like GloVe. There were experiments with spacy's word vectors though the results were much, much worse than any of the TF-IDF implementations. However given other circumstances, I would attempt to utilise these other word embeddings models. \n",
    "\n",
    "In regards to the deep learning model, the data was first tested against a very simple mlp neural network. This was a simple experiment to see how even the most basic of deep learning models would compete against the more classic models. Initial overfitting was expected due to the high dimensionality of the data but this was adjusted using heavy dropout and batchnorm. The final simple neural network achieved accuracy scores of approximately 0.62 which outperformed quite a few of the classical ML models. Refer to revision 8 and 9 to see this. \n",
    "\n",
    "For the usage of RoBERTa, much of it was developed using Hugging Face tutorials as reference and the models supporting research paper. Much of this section involved trial and error to select the best hyper parameters. Under other circumstances this particular process could have been much more streamlined through additonal tools such as GridSearch for the learning rate though the use of tooling like MLFlow would prove ideal. \n",
    "\n",
    "Finally in terms of using VADER as a supplementary tool, my initial idea was to use VADER in a way similar to Reinforcement Learning with Human Feedback (RLHF), using the correct VADER classifications to correct incorrect model classifications. However the poor initial performance of VADER alongisde the potential complexity of the implementation of this method detracted me from this idea. As such, the much simpler choice of using VADER as an additional feature was chosen. This, though relatively simple comparatively, unveiled a sense of hidden complexity which required me to refer to claude 3.7 Sonnet to assist with some persistent bugs in the implementation. This was by far the most time consuming part of the assignment. Given more time, resources and personal intellect, i would experiment more with using VADER's additional features to improve classification. Though i do think the final result of a 0.7 accuracy and 0.69 weighted F1 on the test set is quite solid given the intial dataset. "
   ]
  },
  {
   "cell_type": "markdown",
   "id": "af38d9fc",
   "metadata": {},
   "source": [
    "### 9. References"
   ]
  },
  {
   "cell_type": "markdown",
   "id": "dcb3a062",
   "metadata": {},
   "source": [
    "Bi-Min Hsu. “Comparison of Supervised Classification Models on Textual Data.” Mathematics 8(5):851, 2020.\n",
    "\n",
    "Chawla, N.V., Bowyer, K.W., Hall, L.O. and Kegelmeyer, W.P. (2002) 'SMOTE: Synthetic Minority Over-sampling Technique', Journal of Artificial Intelligence Research, 16, pp. 321–357. doi: 10.1613/jair.953.\n",
    "\n",
    "Liu, Y., Ott, M., Goyal, N., Du, J., Joshi, M., Chen, D., Levy, O., Lewis, M., Zettlemoyer, L. and Stoyanov, V. (2019) 'RoBERTa: A Robustly Optimized BERT Pretraining Approach'"
   ]
  },
  {
   "cell_type": "markdown",
   "id": "c088010b-92f5-499b-a24e-4e3f874f4950",
   "metadata": {},
   "source": [
    "### Appendix"
   ]
  },
  {
   "cell_type": "code",
   "execution_count": null,
   "id": "4a7289b0-b12b-4be4-bc07-0b41a55266c2",
   "metadata": {},
   "outputs": [],
   "source": []
  }
 ],
 "metadata": {
  "kernelspec": {
   "display_name": "mynewenv",
   "language": "python",
   "name": "python3"
  },
  "language_info": {
   "codemirror_mode": {
    "name": "ipython",
    "version": 3
   },
   "file_extension": ".py",
   "mimetype": "text/x-python",
   "name": "python",
   "nbconvert_exporter": "python",
   "pygments_lexer": "ipython3",
   "version": "3.10.13"
  }
 },
 "nbformat": 4,
 "nbformat_minor": 5
}
