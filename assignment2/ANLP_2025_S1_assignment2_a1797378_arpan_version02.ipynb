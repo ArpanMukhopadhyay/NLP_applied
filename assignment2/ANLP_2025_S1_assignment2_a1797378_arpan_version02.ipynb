{
 "cells": [
  {
   "cell_type": "code",
   "execution_count": 130,
   "id": "30e92cce",
   "metadata": {},
   "outputs": [],
   "source": [
    "import numpy as np\n",
    "import pandas as pd\n",
    "import matplotlib.pyplot as plt\n",
    "%matplotlib inline\n",
    "import torch \n",
    "import torch.nn as nn\n",
    "import torch.nn.functional as F\n",
    "import nltk\n",
    "from nltk import word_tokenize\n",
    "from nltk.probability import FreqDist\n",
    "from langdetect import detect\n",
    "import json\n",
    "import re\n",
    "from collections import Counter, defaultdict\n",
    "import string\n",
    "from scipy import stats"
   ]
  },
  {
   "cell_type": "code",
   "execution_count": 131,
   "id": "c0177f37",
   "metadata": {},
   "outputs": [],
   "source": [
    "#Cleaning out the original test and train datasets \n",
    "def langFilter(file,type:str):\n",
    "    num = 0\n",
    "    with open(f\"hotel_review_en_{type}.JSON\", \"w\") as out_file:\n",
    "        with open(file,\"r\") as in_file:\n",
    "            lines = in_file.readlines()\n",
    "            for line in lines:\n",
    "                num += 1\n",
    "                # if num%100==0: print(num)\n",
    "                json_line = json.loads(line)\n",
    "                try:\n",
    "                    lang = detect(json_line[\"text\"])\n",
    "                    if lang == \"en\":\n",
    "                        out_file.write(line)\n",
    "                except:\n",
    "                    print(\"exception\")\n",
    "                    pass\n",
    "\n",
    "#uncomment to generate JSON train and test sets of only english texts\n",
    "# langFilter(\"hotel_reviews_train.JSON\",\"train\")\n",
    "# langFilter(\"hotel_reviews_test.JSON\",\"test\")"
   ]
  },
  {
   "cell_type": "code",
   "execution_count": 132,
   "id": "9e675e47",
   "metadata": {},
   "outputs": [
    {
     "data": {
      "text/html": [
       "<div>\n",
       "<style scoped>\n",
       "    .dataframe tbody tr th:only-of-type {\n",
       "        vertical-align: middle;\n",
       "    }\n",
       "\n",
       "    .dataframe tbody tr th {\n",
       "        vertical-align: top;\n",
       "    }\n",
       "\n",
       "    .dataframe thead th {\n",
       "        text-align: right;\n",
       "    }\n",
       "</style>\n",
       "<table border=\"1\" class=\"dataframe\">\n",
       "  <thead>\n",
       "    <tr style=\"text-align: right;\">\n",
       "      <th></th>\n",
       "      <th>ratings</th>\n",
       "      <th>title</th>\n",
       "      <th>text</th>\n",
       "      <th>author</th>\n",
       "      <th>date_stayed</th>\n",
       "      <th>offering_id</th>\n",
       "      <th>num_helpful_votes</th>\n",
       "      <th>date</th>\n",
       "      <th>id</th>\n",
       "      <th>via_mobile</th>\n",
       "    </tr>\n",
       "  </thead>\n",
       "  <tbody>\n",
       "    <tr>\n",
       "      <th>0</th>\n",
       "      <td>{'service': 1.0, 'cleanliness': 2.0, 'overall'...</td>\n",
       "      <td>“Horrible experience”</td>\n",
       "      <td>First of all we got there and they didn't have...</td>\n",
       "      <td>{'username': 'Kh3RD', 'num_reviews': 1, 'id': ...</td>\n",
       "      <td>September 2012</td>\n",
       "      <td>80138</td>\n",
       "      <td>0</td>\n",
       "      <td>2012-09-19</td>\n",
       "      <td>140716137</td>\n",
       "      <td>False</td>\n",
       "    </tr>\n",
       "    <tr>\n",
       "      <th>1</th>\n",
       "      <td>{'cleanliness': 1.0, 'sleep_quality': 1.0, 'ov...</td>\n",
       "      <td>“Stay Away”</td>\n",
       "      <td>Found Racist graffiti in the room. Request to ...</td>\n",
       "      <td>{'username': 'TheUglyPhotographer', 'num_citie...</td>\n",
       "      <td>June 2011</td>\n",
       "      <td>240151</td>\n",
       "      <td>1</td>\n",
       "      <td>2011-06-27</td>\n",
       "      <td>114807323</td>\n",
       "      <td>False</td>\n",
       "    </tr>\n",
       "    <tr>\n",
       "      <th>2</th>\n",
       "      <td>{'service': 4.0, 'cleanliness': 5.0, 'overall'...</td>\n",
       "      <td>“Great location and service”</td>\n",
       "      <td>Close to Union Square - hotel is a bit of a ma...</td>\n",
       "      <td>{'username': 'Moonstonemoclips', 'num_cities':...</td>\n",
       "      <td>October 2010</td>\n",
       "      <td>80793</td>\n",
       "      <td>0</td>\n",
       "      <td>2010-10-25</td>\n",
       "      <td>84805430</td>\n",
       "      <td>False</td>\n",
       "    </tr>\n",
       "    <tr>\n",
       "      <th>3</th>\n",
       "      <td>{'service': 3.0, 'cleanliness': 2.0, 'overall'...</td>\n",
       "      <td>“I will never go back here again!”</td>\n",
       "      <td>I had a bad vibe about this place from the mom...</td>\n",
       "      <td>{'username': 'JoanellenJ', 'num_cities': 10, '...</td>\n",
       "      <td>June 2012</td>\n",
       "      <td>111418</td>\n",
       "      <td>1</td>\n",
       "      <td>2012-06-28</td>\n",
       "      <td>132971117</td>\n",
       "      <td>False</td>\n",
       "    </tr>\n",
       "    <tr>\n",
       "      <th>4</th>\n",
       "      <td>{'overall': 1.0}</td>\n",
       "      <td>“Ripped off our VISA card after departure”</td>\n",
       "      <td>After we received our \"final\" bill and left th...</td>\n",
       "      <td>{'username': 'Lynnworks', 'num_cities': 3, 'nu...</td>\n",
       "      <td>January 2012</td>\n",
       "      <td>671150</td>\n",
       "      <td>3</td>\n",
       "      <td>2012-02-04</td>\n",
       "      <td>124104157</td>\n",
       "      <td>False</td>\n",
       "    </tr>\n",
       "  </tbody>\n",
       "</table>\n",
       "</div>"
      ],
      "text/plain": [
       "                                             ratings  \\\n",
       "0  {'service': 1.0, 'cleanliness': 2.0, 'overall'...   \n",
       "1  {'cleanliness': 1.0, 'sleep_quality': 1.0, 'ov...   \n",
       "2  {'service': 4.0, 'cleanliness': 5.0, 'overall'...   \n",
       "3  {'service': 3.0, 'cleanliness': 2.0, 'overall'...   \n",
       "4                                   {'overall': 1.0}   \n",
       "\n",
       "                                        title  \\\n",
       "0                       “Horrible experience”   \n",
       "1                                 “Stay Away”   \n",
       "2                “Great location and service”   \n",
       "3          “I will never go back here again!”   \n",
       "4  “Ripped off our VISA card after departure”   \n",
       "\n",
       "                                                text  \\\n",
       "0  First of all we got there and they didn't have...   \n",
       "1  Found Racist graffiti in the room. Request to ...   \n",
       "2  Close to Union Square - hotel is a bit of a ma...   \n",
       "3  I had a bad vibe about this place from the mom...   \n",
       "4  After we received our \"final\" bill and left th...   \n",
       "\n",
       "                                              author     date_stayed  \\\n",
       "0  {'username': 'Kh3RD', 'num_reviews': 1, 'id': ...  September 2012   \n",
       "1  {'username': 'TheUglyPhotographer', 'num_citie...       June 2011   \n",
       "2  {'username': 'Moonstonemoclips', 'num_cities':...    October 2010   \n",
       "3  {'username': 'JoanellenJ', 'num_cities': 10, '...       June 2012   \n",
       "4  {'username': 'Lynnworks', 'num_cities': 3, 'nu...    January 2012   \n",
       "\n",
       "   offering_id  num_helpful_votes       date         id  via_mobile  \n",
       "0        80138                  0 2012-09-19  140716137       False  \n",
       "1       240151                  1 2011-06-27  114807323       False  \n",
       "2        80793                  0 2010-10-25   84805430       False  \n",
       "3       111418                  1 2012-06-28  132971117       False  \n",
       "4       671150                  3 2012-02-04  124104157       False  "
      ]
     },
     "execution_count": 132,
     "metadata": {},
     "output_type": "execute_result"
    }
   ],
   "source": [
    "train_data = pd.read_json('hotel_review_en_train.JSON', lines=True)\n",
    "test_data = pd.read_json('hotel_review_en_test.JSON', lines=True)\n",
    "train_data.head()"
   ]
  },
  {
   "cell_type": "code",
   "execution_count": 133,
   "id": "bde57909",
   "metadata": {},
   "outputs": [
    {
     "data": {
      "text/html": [
       "<div>\n",
       "<style scoped>\n",
       "    .dataframe tbody tr th:only-of-type {\n",
       "        vertical-align: middle;\n",
       "    }\n",
       "\n",
       "    .dataframe tbody tr th {\n",
       "        vertical-align: top;\n",
       "    }\n",
       "\n",
       "    .dataframe thead th {\n",
       "        text-align: right;\n",
       "    }\n",
       "</style>\n",
       "<table border=\"1\" class=\"dataframe\">\n",
       "  <thead>\n",
       "    <tr style=\"text-align: right;\">\n",
       "      <th></th>\n",
       "      <th>ratings</th>\n",
       "      <th>title</th>\n",
       "      <th>text</th>\n",
       "      <th>author</th>\n",
       "      <th>date_stayed</th>\n",
       "      <th>offering_id</th>\n",
       "      <th>num_helpful_votes</th>\n",
       "      <th>date</th>\n",
       "      <th>id</th>\n",
       "      <th>via_mobile</th>\n",
       "    </tr>\n",
       "  </thead>\n",
       "  <tbody>\n",
       "    <tr>\n",
       "      <th>0</th>\n",
       "      <td>{'service': 5.0, 'cleanliness': 5.0, 'overall'...</td>\n",
       "      <td>“I was SO surprised! I WILL return!”</td>\n",
       "      <td>My husband and I just celebrated our 25th wedd...</td>\n",
       "      <td>{'username': 'shooflyfarm', 'num_cities': 15, ...</td>\n",
       "      <td>November 2011</td>\n",
       "      <td>1783324</td>\n",
       "      <td>1</td>\n",
       "      <td>2011-11-26</td>\n",
       "      <td>121063682</td>\n",
       "      <td>False</td>\n",
       "    </tr>\n",
       "    <tr>\n",
       "      <th>1</th>\n",
       "      <td>{'cleanliness': 5.0, 'sleep_quality': 5.0, 'ov...</td>\n",
       "      <td>“A Mother/Daughter vacation”</td>\n",
       "      <td>I could not leave a bad comment on any part of...</td>\n",
       "      <td>{'username': 'bestmpm', 'num_reviews': 1, 'id'...</td>\n",
       "      <td>August 2011</td>\n",
       "      <td>88458</td>\n",
       "      <td>0</td>\n",
       "      <td>2011-08-10</td>\n",
       "      <td>116545869</td>\n",
       "      <td>False</td>\n",
       "    </tr>\n",
       "    <tr>\n",
       "      <th>2</th>\n",
       "      <td>{'service': 5.0, 'cleanliness': 5.0, 'overall'...</td>\n",
       "      <td>“Good Choice for Pre-cruise”</td>\n",
       "      <td>I spent one night at this hotel prior to a cru...</td>\n",
       "      <td>{'username': 'Conner2dood', 'num_cities': 20, ...</td>\n",
       "      <td>November 2010</td>\n",
       "      <td>82868</td>\n",
       "      <td>0</td>\n",
       "      <td>2010-12-06</td>\n",
       "      <td>89196759</td>\n",
       "      <td>False</td>\n",
       "    </tr>\n",
       "    <tr>\n",
       "      <th>3</th>\n",
       "      <td>{'cleanliness': 5.0, 'sleep_quality': 5.0, 'ov...</td>\n",
       "      <td>“Unsung Hero”</td>\n",
       "      <td>For the past year and a half, my daughter has ...</td>\n",
       "      <td>{'username': 'LeviK', 'num_reviews': 2, 'num_c...</td>\n",
       "      <td>July 2011</td>\n",
       "      <td>98979</td>\n",
       "      <td>0</td>\n",
       "      <td>2011-07-28</td>\n",
       "      <td>115879719</td>\n",
       "      <td>False</td>\n",
       "    </tr>\n",
       "    <tr>\n",
       "      <th>4</th>\n",
       "      <td>{'service': 5.0, 'cleanliness': 5.0, 'overall'...</td>\n",
       "      <td>“Great Value for a King, Queen, and Princesses.”</td>\n",
       "      <td>Great Value for a King, Queen, and Princesses....</td>\n",
       "      <td>{'username': 'thomrho', 'num_cities': 13, 'num...</td>\n",
       "      <td>March 2007</td>\n",
       "      <td>112273</td>\n",
       "      <td>8</td>\n",
       "      <td>2007-03-21</td>\n",
       "      <td>7198417</td>\n",
       "      <td>False</td>\n",
       "    </tr>\n",
       "  </tbody>\n",
       "</table>\n",
       "</div>"
      ],
      "text/plain": [
       "                                             ratings  \\\n",
       "0  {'service': 5.0, 'cleanliness': 5.0, 'overall'...   \n",
       "1  {'cleanliness': 5.0, 'sleep_quality': 5.0, 'ov...   \n",
       "2  {'service': 5.0, 'cleanliness': 5.0, 'overall'...   \n",
       "3  {'cleanliness': 5.0, 'sleep_quality': 5.0, 'ov...   \n",
       "4  {'service': 5.0, 'cleanliness': 5.0, 'overall'...   \n",
       "\n",
       "                                              title  \\\n",
       "0              “I was SO surprised! I WILL return!”   \n",
       "1                      “A Mother/Daughter vacation”   \n",
       "2                      “Good Choice for Pre-cruise”   \n",
       "3                                     “Unsung Hero”   \n",
       "4  “Great Value for a King, Queen, and Princesses.”   \n",
       "\n",
       "                                                text  \\\n",
       "0  My husband and I just celebrated our 25th wedd...   \n",
       "1  I could not leave a bad comment on any part of...   \n",
       "2  I spent one night at this hotel prior to a cru...   \n",
       "3  For the past year and a half, my daughter has ...   \n",
       "4  Great Value for a King, Queen, and Princesses....   \n",
       "\n",
       "                                              author    date_stayed  \\\n",
       "0  {'username': 'shooflyfarm', 'num_cities': 15, ...  November 2011   \n",
       "1  {'username': 'bestmpm', 'num_reviews': 1, 'id'...    August 2011   \n",
       "2  {'username': 'Conner2dood', 'num_cities': 20, ...  November 2010   \n",
       "3  {'username': 'LeviK', 'num_reviews': 2, 'num_c...      July 2011   \n",
       "4  {'username': 'thomrho', 'num_cities': 13, 'num...     March 2007   \n",
       "\n",
       "   offering_id  num_helpful_votes       date         id  via_mobile  \n",
       "0      1783324                  1 2011-11-26  121063682       False  \n",
       "1        88458                  0 2011-08-10  116545869       False  \n",
       "2        82868                  0 2010-12-06   89196759       False  \n",
       "3        98979                  0 2011-07-28  115879719       False  \n",
       "4       112273                  8 2007-03-21    7198417       False  "
      ]
     },
     "execution_count": 133,
     "metadata": {},
     "output_type": "execute_result"
    }
   ],
   "source": [
    "test_data.head()"
   ]
  },
  {
   "cell_type": "code",
   "execution_count": 134,
   "id": "19c5207e",
   "metadata": {},
   "outputs": [
    {
     "data": {
      "text/plain": [
       "Index(['ratings', 'title', 'text', 'author', 'date_stayed', 'offering_id',\n",
       "       'num_helpful_votes', 'date', 'id', 'via_mobile'],\n",
       "      dtype='object')"
      ]
     },
     "execution_count": 134,
     "metadata": {},
     "output_type": "execute_result"
    }
   ],
   "source": [
    "train_data.columns"
   ]
  },
  {
   "cell_type": "code",
   "execution_count": 135,
   "id": "368f1c37",
   "metadata": {},
   "outputs": [
    {
     "name": "stdout",
     "output_type": "stream",
     "text": [
      "<class 'pandas.core.frame.DataFrame'>\n",
      "RangeIndex: 23999 entries, 0 to 23998\n",
      "Data columns (total 10 columns):\n",
      " #   Column             Non-Null Count  Dtype         \n",
      "---  ------             --------------  -----         \n",
      " 0   ratings            23999 non-null  object        \n",
      " 1   title              23999 non-null  object        \n",
      " 2   text               23999 non-null  object        \n",
      " 3   author             23999 non-null  object        \n",
      " 4   date_stayed        23049 non-null  object        \n",
      " 5   offering_id        23999 non-null  int64         \n",
      " 6   num_helpful_votes  23999 non-null  int64         \n",
      " 7   date               23999 non-null  datetime64[ns]\n",
      " 8   id                 23999 non-null  int64         \n",
      " 9   via_mobile         23999 non-null  bool          \n",
      "dtypes: bool(1), datetime64[ns](1), int64(3), object(5)\n",
      "memory usage: 1.7+ MB\n"
     ]
    }
   ],
   "source": [
    "train_data.info()"
   ]
  },
  {
   "cell_type": "code",
   "execution_count": 136,
   "id": "cb4d541f",
   "metadata": {},
   "outputs": [
    {
     "data": {
      "text/plain": [
       "ratings                0\n",
       "title                  0\n",
       "text                   0\n",
       "author                 0\n",
       "date_stayed          950\n",
       "offering_id            0\n",
       "num_helpful_votes      0\n",
       "date                   0\n",
       "id                     0\n",
       "via_mobile             0\n",
       "dtype: int64"
      ]
     },
     "execution_count": 136,
     "metadata": {},
     "output_type": "execute_result"
    }
   ],
   "source": [
    "train_data.isna().sum()"
   ]
  },
  {
   "cell_type": "code",
   "execution_count": 137,
   "id": "3f0bd2b6",
   "metadata": {},
   "outputs": [
    {
     "data": {
      "text/plain": [
       "0"
      ]
     },
     "execution_count": 137,
     "metadata": {},
     "output_type": "execute_result"
    }
   ],
   "source": [
    "train_data['id'].duplicated().sum()"
   ]
  },
  {
   "cell_type": "code",
   "execution_count": 138,
   "id": "aaf4a91f",
   "metadata": {},
   "outputs": [
    {
     "data": {
      "text/plain": [
       "{'service': 1.0,\n",
       " 'cleanliness': 2.0,\n",
       " 'overall': 1.0,\n",
       " 'value': 1.0,\n",
       " 'location': 3.0,\n",
       " 'sleep_quality': 2.0,\n",
       " 'rooms': 1.0}"
      ]
     },
     "execution_count": 138,
     "metadata": {},
     "output_type": "execute_result"
    }
   ],
   "source": [
    "train_data['ratings'][0]"
   ]
  },
  {
   "cell_type": "code",
   "execution_count": 139,
   "id": "671c598c",
   "metadata": {},
   "outputs": [
    {
     "data": {
      "text/plain": [
       "defaultdict(int,\n",
       "            {'service': 21549,\n",
       "             'cleanliness': 21544,\n",
       "             'overall': 23999,\n",
       "             'value': 21546,\n",
       "             'location': 18982,\n",
       "             'sleep_quality': 14184,\n",
       "             'rooms': 19999,\n",
       "             'check_in_front_desk': 2909,\n",
       "             'business_service_(e_g_internet_access)': 1959})"
      ]
     },
     "execution_count": 139,
     "metadata": {},
     "output_type": "execute_result"
    }
   ],
   "source": [
    "unique_cols = defaultdict(int)\n",
    "\n",
    "for i in range(len(train_data)):\n",
    "    for n in train_data['ratings'][i].keys():\n",
    "        unique_cols[n] += 1\n",
    "\n",
    "unique_cols"
   ]
  },
  {
   "cell_type": "code",
   "execution_count": 140,
   "id": "52b32959",
   "metadata": {},
   "outputs": [
    {
     "name": "stdout",
     "output_type": "stream",
     "text": [
      "service: 4.102\n",
      "cleanliness: 4.23\n",
      "overall: 3.943\n",
      "value: 3.918\n",
      "location: 4.413\n",
      "sleep_quality: 4.146\n",
      "rooms: 3.943\n",
      "check_in_front_desk: 3.945\n",
      "business_service_(e_g_internet_access): 3.662\n"
     ]
    }
   ],
   "source": [
    "def average_ratings(data):\n",
    "    ratings = defaultdict(list)\n",
    "    for i in range(len(data)):\n",
    "        rat = train_data['ratings'][i]\n",
    "        for n in rat:\n",
    "            ratings[n].append(rat[n])\n",
    "    \n",
    "    avg_metrics = defaultdict(int)\n",
    "    for n in ratings:\n",
    "        avg_metrics[n] = np.round(np.array(ratings[n]).mean(),3)\n",
    "    \n",
    "    return avg_metrics\n",
    "\n",
    "averaged_ratings_of_reviews = average_ratings(train_data)\n",
    "\n",
    "for quality, rating in averaged_ratings_of_reviews.items():\n",
    "    print(f'{quality}: {rating}')\n"
   ]
  },
  {
   "cell_type": "code",
   "execution_count": 141,
   "id": "faf0d32f",
   "metadata": {},
   "outputs": [
    {
     "name": "stdout",
     "output_type": "stream",
     "text": [
      "0        {'service': 1.0, 'cleanliness': 2.0, 'overall'...\n",
      "1        {'cleanliness': 1.0, 'sleep_quality': 1.0, 'ov...\n",
      "2        {'service': 4.0, 'cleanliness': 5.0, 'overall'...\n",
      "3        {'service': 3.0, 'cleanliness': 2.0, 'overall'...\n",
      "4                                         {'overall': 1.0}\n",
      "                               ...                        \n",
      "23994    {'service': 3.0, 'cleanliness': 4.0, 'overall'...\n",
      "23995    {'service': 3.0, 'cleanliness': 3.0, 'overall'...\n",
      "23996    {'service': 4.0, 'cleanliness': 4.0, 'overall'...\n",
      "23997    {'cleanliness': 5.0, 'sleep_quality': 4.0, 'ov...\n",
      "23998    {'service': 5.0, 'cleanliness': 5.0, 'overall'...\n",
      "Name: ratings, Length: 23999, dtype: object\n"
     ]
    }
   ],
   "source": [
    "print(train_data['ratings'])"
   ]
  },
  {
   "cell_type": "code",
   "execution_count": 142,
   "id": "78cd62f5",
   "metadata": {},
   "outputs": [
    {
     "name": "stdout",
     "output_type": "stream",
     "text": [
      "{'service': 1.0, 'cleanliness': 2.0, 'overall': 1.0, 'value': 1.0, 'location': 3.0, 'sleep_quality': 2.0, 'rooms': 1.0}\n"
     ]
    }
   ],
   "source": [
    "print(train_data['ratings'][0])\n"
   ]
  },
  {
   "cell_type": "code",
   "execution_count": 143,
   "id": "3b6da5ca",
   "metadata": {},
   "outputs": [],
   "source": [
    "json_cols = ['ratings']\n",
    "\n",
    "normalized_cols = pd.json_normalize(train_data['ratings'])\n",
    "train_data_new = train_data.join(normalized_cols)\n",
    "train_data_new = train_data_new.drop(json_cols, axis=1)"
   ]
  },
  {
   "cell_type": "code",
   "execution_count": 144,
   "id": "254befd0",
   "metadata": {},
   "outputs": [
    {
     "data": {
      "text/plain": [
       "defaultdict(int,\n",
       "            {'service': 21549,\n",
       "             'cleanliness': 21544,\n",
       "             'overall': 23999,\n",
       "             'value': 21546,\n",
       "             'location': 18982,\n",
       "             'sleep_quality': 14184,\n",
       "             'rooms': 19999,\n",
       "             'check_in_front_desk': 2909,\n",
       "             'business_service_(e_g_internet_access)': 1959})"
      ]
     },
     "execution_count": 144,
     "metadata": {},
     "output_type": "execute_result"
    }
   ],
   "source": [
    "unique_cols"
   ]
  },
  {
   "cell_type": "code",
   "execution_count": 145,
   "id": "7773f083",
   "metadata": {},
   "outputs": [
    {
     "data": {
      "text/html": [
       "<div>\n",
       "<style scoped>\n",
       "    .dataframe tbody tr th:only-of-type {\n",
       "        vertical-align: middle;\n",
       "    }\n",
       "\n",
       "    .dataframe tbody tr th {\n",
       "        vertical-align: top;\n",
       "    }\n",
       "\n",
       "    .dataframe thead th {\n",
       "        text-align: right;\n",
       "    }\n",
       "</style>\n",
       "<table border=\"1\" class=\"dataframe\">\n",
       "  <thead>\n",
       "    <tr style=\"text-align: right;\">\n",
       "      <th></th>\n",
       "      <th>title</th>\n",
       "      <th>text</th>\n",
       "      <th>author</th>\n",
       "      <th>date_stayed</th>\n",
       "      <th>offering_id</th>\n",
       "      <th>num_helpful_votes</th>\n",
       "      <th>date</th>\n",
       "      <th>id</th>\n",
       "      <th>via_mobile</th>\n",
       "      <th>service</th>\n",
       "      <th>cleanliness</th>\n",
       "      <th>overall</th>\n",
       "      <th>value</th>\n",
       "      <th>location</th>\n",
       "      <th>sleep_quality</th>\n",
       "      <th>rooms</th>\n",
       "      <th>check_in_front_desk</th>\n",
       "      <th>business_service_(e_g_internet_access)</th>\n",
       "    </tr>\n",
       "  </thead>\n",
       "  <tbody>\n",
       "    <tr>\n",
       "      <th>0</th>\n",
       "      <td>“Horrible experience”</td>\n",
       "      <td>First of all we got there and they didn't have...</td>\n",
       "      <td>{'username': 'Kh3RD', 'num_reviews': 1, 'id': ...</td>\n",
       "      <td>September 2012</td>\n",
       "      <td>80138</td>\n",
       "      <td>0</td>\n",
       "      <td>2012-09-19</td>\n",
       "      <td>140716137</td>\n",
       "      <td>False</td>\n",
       "      <td>1.0</td>\n",
       "      <td>2.0</td>\n",
       "      <td>1.0</td>\n",
       "      <td>1.0</td>\n",
       "      <td>3.0</td>\n",
       "      <td>2.0</td>\n",
       "      <td>1.0</td>\n",
       "      <td>NaN</td>\n",
       "      <td>NaN</td>\n",
       "    </tr>\n",
       "    <tr>\n",
       "      <th>1</th>\n",
       "      <td>“Stay Away”</td>\n",
       "      <td>Found Racist graffiti in the room. Request to ...</td>\n",
       "      <td>{'username': 'TheUglyPhotographer', 'num_citie...</td>\n",
       "      <td>June 2011</td>\n",
       "      <td>240151</td>\n",
       "      <td>1</td>\n",
       "      <td>2011-06-27</td>\n",
       "      <td>114807323</td>\n",
       "      <td>False</td>\n",
       "      <td>1.0</td>\n",
       "      <td>1.0</td>\n",
       "      <td>1.0</td>\n",
       "      <td>2.0</td>\n",
       "      <td>NaN</td>\n",
       "      <td>1.0</td>\n",
       "      <td>NaN</td>\n",
       "      <td>NaN</td>\n",
       "      <td>NaN</td>\n",
       "    </tr>\n",
       "    <tr>\n",
       "      <th>2</th>\n",
       "      <td>“Great location and service”</td>\n",
       "      <td>Close to Union Square - hotel is a bit of a ma...</td>\n",
       "      <td>{'username': 'Moonstonemoclips', 'num_cities':...</td>\n",
       "      <td>October 2010</td>\n",
       "      <td>80793</td>\n",
       "      <td>0</td>\n",
       "      <td>2010-10-25</td>\n",
       "      <td>84805430</td>\n",
       "      <td>False</td>\n",
       "      <td>4.0</td>\n",
       "      <td>5.0</td>\n",
       "      <td>4.0</td>\n",
       "      <td>3.0</td>\n",
       "      <td>5.0</td>\n",
       "      <td>4.0</td>\n",
       "      <td>4.0</td>\n",
       "      <td>NaN</td>\n",
       "      <td>NaN</td>\n",
       "    </tr>\n",
       "    <tr>\n",
       "      <th>3</th>\n",
       "      <td>“I will never go back here again!”</td>\n",
       "      <td>I had a bad vibe about this place from the mom...</td>\n",
       "      <td>{'username': 'JoanellenJ', 'num_cities': 10, '...</td>\n",
       "      <td>June 2012</td>\n",
       "      <td>111418</td>\n",
       "      <td>1</td>\n",
       "      <td>2012-06-28</td>\n",
       "      <td>132971117</td>\n",
       "      <td>False</td>\n",
       "      <td>3.0</td>\n",
       "      <td>2.0</td>\n",
       "      <td>2.0</td>\n",
       "      <td>1.0</td>\n",
       "      <td>4.0</td>\n",
       "      <td>1.0</td>\n",
       "      <td>1.0</td>\n",
       "      <td>NaN</td>\n",
       "      <td>NaN</td>\n",
       "    </tr>\n",
       "    <tr>\n",
       "      <th>4</th>\n",
       "      <td>“Ripped off our VISA card after departure”</td>\n",
       "      <td>After we received our \"final\" bill and left th...</td>\n",
       "      <td>{'username': 'Lynnworks', 'num_cities': 3, 'nu...</td>\n",
       "      <td>January 2012</td>\n",
       "      <td>671150</td>\n",
       "      <td>3</td>\n",
       "      <td>2012-02-04</td>\n",
       "      <td>124104157</td>\n",
       "      <td>False</td>\n",
       "      <td>NaN</td>\n",
       "      <td>NaN</td>\n",
       "      <td>1.0</td>\n",
       "      <td>NaN</td>\n",
       "      <td>NaN</td>\n",
       "      <td>NaN</td>\n",
       "      <td>NaN</td>\n",
       "      <td>NaN</td>\n",
       "      <td>NaN</td>\n",
       "    </tr>\n",
       "  </tbody>\n",
       "</table>\n",
       "</div>"
      ],
      "text/plain": [
       "                                        title  \\\n",
       "0                       “Horrible experience”   \n",
       "1                                 “Stay Away”   \n",
       "2                “Great location and service”   \n",
       "3          “I will never go back here again!”   \n",
       "4  “Ripped off our VISA card after departure”   \n",
       "\n",
       "                                                text  \\\n",
       "0  First of all we got there and they didn't have...   \n",
       "1  Found Racist graffiti in the room. Request to ...   \n",
       "2  Close to Union Square - hotel is a bit of a ma...   \n",
       "3  I had a bad vibe about this place from the mom...   \n",
       "4  After we received our \"final\" bill and left th...   \n",
       "\n",
       "                                              author     date_stayed  \\\n",
       "0  {'username': 'Kh3RD', 'num_reviews': 1, 'id': ...  September 2012   \n",
       "1  {'username': 'TheUglyPhotographer', 'num_citie...       June 2011   \n",
       "2  {'username': 'Moonstonemoclips', 'num_cities':...    October 2010   \n",
       "3  {'username': 'JoanellenJ', 'num_cities': 10, '...       June 2012   \n",
       "4  {'username': 'Lynnworks', 'num_cities': 3, 'nu...    January 2012   \n",
       "\n",
       "   offering_id  num_helpful_votes       date         id  via_mobile  service  \\\n",
       "0        80138                  0 2012-09-19  140716137       False      1.0   \n",
       "1       240151                  1 2011-06-27  114807323       False      1.0   \n",
       "2        80793                  0 2010-10-25   84805430       False      4.0   \n",
       "3       111418                  1 2012-06-28  132971117       False      3.0   \n",
       "4       671150                  3 2012-02-04  124104157       False      NaN   \n",
       "\n",
       "   cleanliness  overall  value  location  sleep_quality  rooms  \\\n",
       "0          2.0      1.0    1.0       3.0            2.0    1.0   \n",
       "1          1.0      1.0    2.0       NaN            1.0    NaN   \n",
       "2          5.0      4.0    3.0       5.0            4.0    4.0   \n",
       "3          2.0      2.0    1.0       4.0            1.0    1.0   \n",
       "4          NaN      1.0    NaN       NaN            NaN    NaN   \n",
       "\n",
       "   check_in_front_desk  business_service_(e_g_internet_access)  \n",
       "0                  NaN                                     NaN  \n",
       "1                  NaN                                     NaN  \n",
       "2                  NaN                                     NaN  \n",
       "3                  NaN                                     NaN  \n",
       "4                  NaN                                     NaN  "
      ]
     },
     "execution_count": 145,
     "metadata": {},
     "output_type": "execute_result"
    }
   ],
   "source": [
    "train_data_new.head()"
   ]
  },
  {
   "cell_type": "code",
   "execution_count": 146,
   "id": "30cf2c70",
   "metadata": {},
   "outputs": [
    {
     "data": {
      "text/plain": [
       "title                                         0\n",
       "text                                          0\n",
       "author                                        0\n",
       "date_stayed                                 950\n",
       "offering_id                                   0\n",
       "num_helpful_votes                             0\n",
       "date                                          0\n",
       "id                                            0\n",
       "via_mobile                                    0\n",
       "service                                    2450\n",
       "cleanliness                                2455\n",
       "overall                                       0\n",
       "value                                      2453\n",
       "location                                   5017\n",
       "sleep_quality                              9815\n",
       "rooms                                      4000\n",
       "check_in_front_desk                       21090\n",
       "business_service_(e_g_internet_access)    22040\n",
       "dtype: int64"
      ]
     },
     "execution_count": 146,
     "metadata": {},
     "output_type": "execute_result"
    }
   ],
   "source": [
    "train_data_new.isna().sum()"
   ]
  },
  {
   "cell_type": "code",
   "execution_count": 147,
   "id": "d89fb836",
   "metadata": {},
   "outputs": [
    {
     "data": {
      "text/plain": [
       "title                   0\n",
       "text                    0\n",
       "author                  0\n",
       "date_stayed           950\n",
       "offering_id             0\n",
       "num_helpful_votes       0\n",
       "date                    0\n",
       "id                      0\n",
       "via_mobile              0\n",
       "service              2450\n",
       "cleanliness          2455\n",
       "overall                 0\n",
       "value                2453\n",
       "location             5017\n",
       "sleep_quality        9815\n",
       "rooms                4000\n",
       "dtype: int64"
      ]
     },
     "execution_count": 147,
     "metadata": {},
     "output_type": "execute_result"
    }
   ],
   "source": [
    "train_data_new = train_data_new.drop(['business_service_(e_g_internet_access)', 'check_in_front_desk'], axis=1)\n",
    "train_data_new.isna().sum()"
   ]
  },
  {
   "cell_type": "code",
   "execution_count": 148,
   "id": "d7dab583",
   "metadata": {},
   "outputs": [
    {
     "data": {
      "text/plain": [
       "<Axes: >"
      ]
     },
     "execution_count": 148,
     "metadata": {},
     "output_type": "execute_result"
    },
    {
     "data": {
      "image/png": "[encoded data removed]",
      "text/plain": [
       "<Figure size 640x480 with 2 Axes>"
      ]
     },
     "metadata": {},
     "output_type": "display_data"
    }
   ],
   "source": [
    "import seaborn as sns\n",
    "cols = ['service','cleanliness','value','location','sleep_quality','rooms','overall']\n",
    "corr = train_data_new[cols].corr(method='spearman')\n",
    "sns.heatmap(corr, annot=True, fmt=\".2f\")"
   ]
  },
  {
   "cell_type": "code",
   "execution_count": 149,
   "id": "4fc6a51e",
   "metadata": {},
   "outputs": [
    {
     "name": "stdout",
     "output_type": "stream",
     "text": [
      "rooms            0.793961\n",
      "service          0.750456\n",
      "cleanliness      0.721267\n",
      "value            0.719540\n",
      "sleep_quality    0.700825\n",
      "location         0.498392\n",
      "Name: overall, dtype: float64\n"
     ]
    }
   ],
   "source": [
    "spearman_overall = (\n",
    "    train_data_new[cols].corr(method=\"spearman\")['overall']\n",
    "    .drop('overall')\n",
    "    .sort_values(ascending=False)\n",
    ")\n",
    "print(spearman_overall)"
   ]
  },
  {
   "cell_type": "code",
   "execution_count": 150,
   "id": "ddeb6387",
   "metadata": {},
   "outputs": [
    {
     "data": {
      "text/plain": [
       "0        0\n",
       "1        0\n",
       "2        0\n",
       "3        0\n",
       "4        1\n",
       "        ..\n",
       "23994    0\n",
       "23995    0\n",
       "23996    1\n",
       "23997    0\n",
       "23998    1\n",
       "Name: missing_sq, Length: 23999, dtype: int64"
      ]
     },
     "execution_count": 150,
     "metadata": {},
     "output_type": "execute_result"
    }
   ],
   "source": [
    "train_data_new['missing_sq'] = train_data_new['sleep_quality'].isna().astype(int)\n",
    "train_data_new['missing_sq']"
   ]
  },
  {
   "cell_type": "code",
   "execution_count": 151,
   "id": "47bac22c",
   "metadata": {},
   "outputs": [
    {
     "data": {
      "text/plain": [
       "<Axes: xlabel='missing_sq', ylabel='overall'>"
      ]
     },
     "execution_count": 151,
     "metadata": {},
     "output_type": "execute_result"
    },
    {
     "data": {
      "image/png": "[encoded data removed]",
      "text/plain": [
       "<Figure size 640x480 with 1 Axes>"
      ]
     },
     "metadata": {},
     "output_type": "display_data"
    }
   ],
   "source": [
    "sns.boxplot(x='missing_sq', y='overall', data=train_data_new)"
   ]
  },
  {
   "cell_type": "code",
   "execution_count": 152,
   "id": "969eb0e4",
   "metadata": {},
   "outputs": [
    {
     "data": {
      "text/html": [
       "<div>\n",
       "<style scoped>\n",
       "    .dataframe tbody tr th:only-of-type {\n",
       "        vertical-align: middle;\n",
       "    }\n",
       "\n",
       "    .dataframe tbody tr th {\n",
       "        vertical-align: top;\n",
       "    }\n",
       "\n",
       "    .dataframe thead th {\n",
       "        text-align: right;\n",
       "    }\n",
       "</style>\n",
       "<table border=\"1\" class=\"dataframe\">\n",
       "  <thead>\n",
       "    <tr style=\"text-align: right;\">\n",
       "      <th></th>\n",
       "      <th>title</th>\n",
       "      <th>text</th>\n",
       "      <th>author</th>\n",
       "      <th>date_stayed</th>\n",
       "      <th>offering_id</th>\n",
       "      <th>num_helpful_votes</th>\n",
       "      <th>date</th>\n",
       "      <th>id</th>\n",
       "      <th>via_mobile</th>\n",
       "      <th>service</th>\n",
       "      <th>cleanliness</th>\n",
       "      <th>overall</th>\n",
       "      <th>value</th>\n",
       "      <th>location</th>\n",
       "      <th>sleep_quality</th>\n",
       "      <th>rooms</th>\n",
       "      <th>missing_sq</th>\n",
       "    </tr>\n",
       "  </thead>\n",
       "  <tbody>\n",
       "    <tr>\n",
       "      <th>0</th>\n",
       "      <td>“Horrible experience”</td>\n",
       "      <td>First of all we got there and they didn't have...</td>\n",
       "      <td>{'username': 'Kh3RD', 'num_reviews': 1, 'id': ...</td>\n",
       "      <td>September 2012</td>\n",
       "      <td>80138</td>\n",
       "      <td>0</td>\n",
       "      <td>2012-09-19</td>\n",
       "      <td>140716137</td>\n",
       "      <td>False</td>\n",
       "      <td>1.0</td>\n",
       "      <td>2.0</td>\n",
       "      <td>1.0</td>\n",
       "      <td>1.0</td>\n",
       "      <td>3.0</td>\n",
       "      <td>2.0</td>\n",
       "      <td>1.0</td>\n",
       "      <td>0</td>\n",
       "    </tr>\n",
       "    <tr>\n",
       "      <th>1</th>\n",
       "      <td>“Stay Away”</td>\n",
       "      <td>Found Racist graffiti in the room. Request to ...</td>\n",
       "      <td>{'username': 'TheUglyPhotographer', 'num_citie...</td>\n",
       "      <td>June 2011</td>\n",
       "      <td>240151</td>\n",
       "      <td>1</td>\n",
       "      <td>2011-06-27</td>\n",
       "      <td>114807323</td>\n",
       "      <td>False</td>\n",
       "      <td>1.0</td>\n",
       "      <td>1.0</td>\n",
       "      <td>1.0</td>\n",
       "      <td>2.0</td>\n",
       "      <td>NaN</td>\n",
       "      <td>1.0</td>\n",
       "      <td>NaN</td>\n",
       "      <td>0</td>\n",
       "    </tr>\n",
       "    <tr>\n",
       "      <th>2</th>\n",
       "      <td>“Great location and service”</td>\n",
       "      <td>Close to Union Square - hotel is a bit of a ma...</td>\n",
       "      <td>{'username': 'Moonstonemoclips', 'num_cities':...</td>\n",
       "      <td>October 2010</td>\n",
       "      <td>80793</td>\n",
       "      <td>0</td>\n",
       "      <td>2010-10-25</td>\n",
       "      <td>84805430</td>\n",
       "      <td>False</td>\n",
       "      <td>4.0</td>\n",
       "      <td>5.0</td>\n",
       "      <td>4.0</td>\n",
       "      <td>3.0</td>\n",
       "      <td>5.0</td>\n",
       "      <td>4.0</td>\n",
       "      <td>4.0</td>\n",
       "      <td>0</td>\n",
       "    </tr>\n",
       "    <tr>\n",
       "      <th>3</th>\n",
       "      <td>“I will never go back here again!”</td>\n",
       "      <td>I had a bad vibe about this place from the mom...</td>\n",
       "      <td>{'username': 'JoanellenJ', 'num_cities': 10, '...</td>\n",
       "      <td>June 2012</td>\n",
       "      <td>111418</td>\n",
       "      <td>1</td>\n",
       "      <td>2012-06-28</td>\n",
       "      <td>132971117</td>\n",
       "      <td>False</td>\n",
       "      <td>3.0</td>\n",
       "      <td>2.0</td>\n",
       "      <td>2.0</td>\n",
       "      <td>1.0</td>\n",
       "      <td>4.0</td>\n",
       "      <td>1.0</td>\n",
       "      <td>1.0</td>\n",
       "      <td>0</td>\n",
       "    </tr>\n",
       "    <tr>\n",
       "      <th>4</th>\n",
       "      <td>“Ripped off our VISA card after departure”</td>\n",
       "      <td>After we received our \"final\" bill and left th...</td>\n",
       "      <td>{'username': 'Lynnworks', 'num_cities': 3, 'nu...</td>\n",
       "      <td>January 2012</td>\n",
       "      <td>671150</td>\n",
       "      <td>3</td>\n",
       "      <td>2012-02-04</td>\n",
       "      <td>124104157</td>\n",
       "      <td>False</td>\n",
       "      <td>NaN</td>\n",
       "      <td>NaN</td>\n",
       "      <td>1.0</td>\n",
       "      <td>NaN</td>\n",
       "      <td>NaN</td>\n",
       "      <td>NaN</td>\n",
       "      <td>NaN</td>\n",
       "      <td>1</td>\n",
       "    </tr>\n",
       "  </tbody>\n",
       "</table>\n",
       "</div>"
      ],
      "text/plain": [
       "                                        title  \\\n",
       "0                       “Horrible experience”   \n",
       "1                                 “Stay Away”   \n",
       "2                “Great location and service”   \n",
       "3          “I will never go back here again!”   \n",
       "4  “Ripped off our VISA card after departure”   \n",
       "\n",
       "                                                text  \\\n",
       "0  First of all we got there and they didn't have...   \n",
       "1  Found Racist graffiti in the room. Request to ...   \n",
       "2  Close to Union Square - hotel is a bit of a ma...   \n",
       "3  I had a bad vibe about this place from the mom...   \n",
       "4  After we received our \"final\" bill and left th...   \n",
       "\n",
       "                                              author     date_stayed  \\\n",
       "0  {'username': 'Kh3RD', 'num_reviews': 1, 'id': ...  September 2012   \n",
       "1  {'username': 'TheUglyPhotographer', 'num_citie...       June 2011   \n",
       "2  {'username': 'Moonstonemoclips', 'num_cities':...    October 2010   \n",
       "3  {'username': 'JoanellenJ', 'num_cities': 10, '...       June 2012   \n",
       "4  {'username': 'Lynnworks', 'num_cities': 3, 'nu...    January 2012   \n",
       "\n",
       "   offering_id  num_helpful_votes       date         id  via_mobile  service  \\\n",
       "0        80138                  0 2012-09-19  140716137       False      1.0   \n",
       "1       240151                  1 2011-06-27  114807323       False      1.0   \n",
       "2        80793                  0 2010-10-25   84805430       False      4.0   \n",
       "3       111418                  1 2012-06-28  132971117       False      3.0   \n",
       "4       671150                  3 2012-02-04  124104157       False      NaN   \n",
       "\n",
       "   cleanliness  overall  value  location  sleep_quality  rooms  missing_sq  \n",
       "0          2.0      1.0    1.0       3.0            2.0    1.0           0  \n",
       "1          1.0      1.0    2.0       NaN            1.0    NaN           0  \n",
       "2          5.0      4.0    3.0       5.0            4.0    4.0           0  \n",
       "3          2.0      2.0    1.0       4.0            1.0    1.0           0  \n",
       "4          NaN      1.0    NaN       NaN            NaN    NaN           1  "
      ]
     },
     "execution_count": 152,
     "metadata": {},
     "output_type": "execute_result"
    }
   ],
   "source": [
    "train_data_new.head()"
   ]
  },
  {
   "cell_type": "code",
   "execution_count": 153,
   "id": "423407b7",
   "metadata": {},
   "outputs": [
    {
     "data": {
      "text/plain": [
       "{'username': 'Moonstonemoclips',\n",
       " 'num_cities': 31,\n",
       " 'num_helpful_votes': 27,\n",
       " 'num_reviews': 48,\n",
       " 'num_type_reviews': 32,\n",
       " 'id': 'F3D0CF371B788300E73A1413B2DABB4B',\n",
       " 'location': 'Kirkland'}"
      ]
     },
     "execution_count": 153,
     "metadata": {},
     "output_type": "execute_result"
    }
   ],
   "source": [
    "train_data_new['author'][2]"
   ]
  },
  {
   "cell_type": "code",
   "execution_count": 154,
   "id": "c1ed406f",
   "metadata": {},
   "outputs": [
    {
     "data": {
      "text/plain": [
       "defaultdict(int,\n",
       "            {'username': 23999,\n",
       "             'num_reviews': 22918,\n",
       "             'id': 23999,\n",
       "             'location': 23999,\n",
       "             'num_cities': 17538,\n",
       "             'num_helpful_votes': 18864,\n",
       "             'num_type_reviews': 14629})"
      ]
     },
     "execution_count": 154,
     "metadata": {},
     "output_type": "execute_result"
    }
   ],
   "source": [
    "author_keys = defaultdict(int)\n",
    "\n",
    "for n in train_data_new['author']:\n",
    "    for j in n:\n",
    "        author_keys[j] += 1\n",
    "\n",
    "author_keys"
   ]
  },
  {
   "cell_type": "code",
   "execution_count": 155,
   "id": "102db64c",
   "metadata": {},
   "outputs": [
    {
     "data": {
      "text/plain": [
       "[('', 1077),\n",
       " ('David M', 5),\n",
       " ('John S', 4),\n",
       " ('David C', 4),\n",
       " ('David P', 3),\n",
       " ('Mike R', 3),\n",
       " ('DoesNotGetOutMuch', 3),\n",
       " ('Linda D', 3),\n",
       " ('brmusicman', 3),\n",
       " ('Christine H', 3)]"
      ]
     },
     "execution_count": 155,
     "metadata": {},
     "output_type": "execute_result"
    }
   ],
   "source": [
    "def most_common_author_features(column):\n",
    "    unique_username = Counter()\n",
    "    for n in train_data_new['author']:\n",
    "        if column not in n:\n",
    "            continue\n",
    "        name = n[column]\n",
    "        unique_username[name] += 1 if name in unique_username else 0\n",
    "\n",
    "    return unique_username.most_common(10)\n",
    "\n",
    "most_common_author_features('username')"
   ]
  },
  {
   "cell_type": "code",
   "execution_count": 156,
   "id": "b52e7fa2",
   "metadata": {},
   "outputs": [
    {
     "data": {
      "text/plain": [
       "[('', 2183),\n",
       " ('New York City, New York', 273),\n",
       " ('London, United Kingdom', 236),\n",
       " ('Chicago, Illinois', 219),\n",
       " ('London', 201),\n",
       " ('Houston, Texas', 186),\n",
       " ('Los Angeles, California', 185),\n",
       " ('Washington DC, District of Columbia', 180),\n",
       " ('Boston, Massachusetts', 148),\n",
       " ('Toronto, Canada', 146)]"
      ]
     },
     "execution_count": 156,
     "metadata": {},
     "output_type": "execute_result"
    }
   ],
   "source": [
    "most_common_author_features('location')"
   ]
  },
  {
   "cell_type": "code",
   "execution_count": 157,
   "id": "f3977973",
   "metadata": {},
   "outputs": [
    {
     "data": {
      "text/plain": [
       "['London, United Kingdom',\n",
       " 'New Bern, North Carolina',\n",
       " 'Quad Cities, IA',\n",
       " 'Amarillo',\n",
       " 'Ukiah, CA',\n",
       " 'Omaha, Nebraska']"
      ]
     },
     "execution_count": 157,
     "metadata": {},
     "output_type": "execute_result"
    }
   ],
   "source": [
    "david_cities = []\n",
    "for n in train_data_new['author']:\n",
    "    if n['username'] == 'David M':\n",
    "        david_cities.append(n['location'])\n",
    "\n",
    "david_cities"
   ]
  },
  {
   "cell_type": "code",
   "execution_count": 158,
   "id": "b8f5ec0f",
   "metadata": {},
   "outputs": [
    {
     "data": {
      "text/html": [
       "<div>\n",
       "<style scoped>\n",
       "    .dataframe tbody tr th:only-of-type {\n",
       "        vertical-align: middle;\n",
       "    }\n",
       "\n",
       "    .dataframe tbody tr th {\n",
       "        vertical-align: top;\n",
       "    }\n",
       "\n",
       "    .dataframe thead th {\n",
       "        text-align: right;\n",
       "    }\n",
       "</style>\n",
       "<table border=\"1\" class=\"dataframe\">\n",
       "  <thead>\n",
       "    <tr style=\"text-align: right;\">\n",
       "      <th></th>\n",
       "      <th>title</th>\n",
       "      <th>text</th>\n",
       "      <th>author</th>\n",
       "      <th>date_stayed</th>\n",
       "      <th>offering_id</th>\n",
       "      <th>num_helpful_votes</th>\n",
       "      <th>date</th>\n",
       "      <th>id</th>\n",
       "      <th>via_mobile</th>\n",
       "      <th>service</th>\n",
       "      <th>cleanliness</th>\n",
       "      <th>overall</th>\n",
       "      <th>value</th>\n",
       "      <th>location</th>\n",
       "      <th>sleep_quality</th>\n",
       "      <th>rooms</th>\n",
       "      <th>missing_sq</th>\n",
       "    </tr>\n",
       "  </thead>\n",
       "  <tbody>\n",
       "    <tr>\n",
       "      <th>0</th>\n",
       "      <td>“Horrible experience”</td>\n",
       "      <td>First of all we got there and they didn't have...</td>\n",
       "      <td>{'username': 'Kh3RD', 'num_reviews': 1, 'id': ...</td>\n",
       "      <td>September 2012</td>\n",
       "      <td>80138</td>\n",
       "      <td>0</td>\n",
       "      <td>2012-09-19</td>\n",
       "      <td>140716137</td>\n",
       "      <td>False</td>\n",
       "      <td>1.0</td>\n",
       "      <td>2.0</td>\n",
       "      <td>1.0</td>\n",
       "      <td>1.0</td>\n",
       "      <td>3.0</td>\n",
       "      <td>2.0</td>\n",
       "      <td>1.0</td>\n",
       "      <td>0</td>\n",
       "    </tr>\n",
       "    <tr>\n",
       "      <th>1</th>\n",
       "      <td>“Stay Away”</td>\n",
       "      <td>Found Racist graffiti in the room. Request to ...</td>\n",
       "      <td>{'username': 'TheUglyPhotographer', 'num_citie...</td>\n",
       "      <td>June 2011</td>\n",
       "      <td>240151</td>\n",
       "      <td>1</td>\n",
       "      <td>2011-06-27</td>\n",
       "      <td>114807323</td>\n",
       "      <td>False</td>\n",
       "      <td>1.0</td>\n",
       "      <td>1.0</td>\n",
       "      <td>1.0</td>\n",
       "      <td>2.0</td>\n",
       "      <td>NaN</td>\n",
       "      <td>1.0</td>\n",
       "      <td>NaN</td>\n",
       "      <td>0</td>\n",
       "    </tr>\n",
       "    <tr>\n",
       "      <th>2</th>\n",
       "      <td>“Great location and service”</td>\n",
       "      <td>Close to Union Square - hotel is a bit of a ma...</td>\n",
       "      <td>{'username': 'Moonstonemoclips', 'num_cities':...</td>\n",
       "      <td>October 2010</td>\n",
       "      <td>80793</td>\n",
       "      <td>0</td>\n",
       "      <td>2010-10-25</td>\n",
       "      <td>84805430</td>\n",
       "      <td>False</td>\n",
       "      <td>4.0</td>\n",
       "      <td>5.0</td>\n",
       "      <td>4.0</td>\n",
       "      <td>3.0</td>\n",
       "      <td>5.0</td>\n",
       "      <td>4.0</td>\n",
       "      <td>4.0</td>\n",
       "      <td>0</td>\n",
       "    </tr>\n",
       "    <tr>\n",
       "      <th>3</th>\n",
       "      <td>“I will never go back here again!”</td>\n",
       "      <td>I had a bad vibe about this place from the mom...</td>\n",
       "      <td>{'username': 'JoanellenJ', 'num_cities': 10, '...</td>\n",
       "      <td>June 2012</td>\n",
       "      <td>111418</td>\n",
       "      <td>1</td>\n",
       "      <td>2012-06-28</td>\n",
       "      <td>132971117</td>\n",
       "      <td>False</td>\n",
       "      <td>3.0</td>\n",
       "      <td>2.0</td>\n",
       "      <td>2.0</td>\n",
       "      <td>1.0</td>\n",
       "      <td>4.0</td>\n",
       "      <td>1.0</td>\n",
       "      <td>1.0</td>\n",
       "      <td>0</td>\n",
       "    </tr>\n",
       "    <tr>\n",
       "      <th>4</th>\n",
       "      <td>“Ripped off our VISA card after departure”</td>\n",
       "      <td>After we received our \"final\" bill and left th...</td>\n",
       "      <td>{'username': 'Lynnworks', 'num_cities': 3, 'nu...</td>\n",
       "      <td>January 2012</td>\n",
       "      <td>671150</td>\n",
       "      <td>3</td>\n",
       "      <td>2012-02-04</td>\n",
       "      <td>124104157</td>\n",
       "      <td>False</td>\n",
       "      <td>NaN</td>\n",
       "      <td>NaN</td>\n",
       "      <td>1.0</td>\n",
       "      <td>NaN</td>\n",
       "      <td>NaN</td>\n",
       "      <td>NaN</td>\n",
       "      <td>NaN</td>\n",
       "      <td>1</td>\n",
       "    </tr>\n",
       "  </tbody>\n",
       "</table>\n",
       "</div>"
      ],
      "text/plain": [
       "                                        title  \\\n",
       "0                       “Horrible experience”   \n",
       "1                                 “Stay Away”   \n",
       "2                “Great location and service”   \n",
       "3          “I will never go back here again!”   \n",
       "4  “Ripped off our VISA card after departure”   \n",
       "\n",
       "                                                text  \\\n",
       "0  First of all we got there and they didn't have...   \n",
       "1  Found Racist graffiti in the room. Request to ...   \n",
       "2  Close to Union Square - hotel is a bit of a ma...   \n",
       "3  I had a bad vibe about this place from the mom...   \n",
       "4  After we received our \"final\" bill and left th...   \n",
       "\n",
       "                                              author     date_stayed  \\\n",
       "0  {'username': 'Kh3RD', 'num_reviews': 1, 'id': ...  September 2012   \n",
       "1  {'username': 'TheUglyPhotographer', 'num_citie...       June 2011   \n",
       "2  {'username': 'Moonstonemoclips', 'num_cities':...    October 2010   \n",
       "3  {'username': 'JoanellenJ', 'num_cities': 10, '...       June 2012   \n",
       "4  {'username': 'Lynnworks', 'num_cities': 3, 'nu...    January 2012   \n",
       "\n",
       "   offering_id  num_helpful_votes       date         id  via_mobile  service  \\\n",
       "0        80138                  0 2012-09-19  140716137       False      1.0   \n",
       "1       240151                  1 2011-06-27  114807323       False      1.0   \n",
       "2        80793                  0 2010-10-25   84805430       False      4.0   \n",
       "3       111418                  1 2012-06-28  132971117       False      3.0   \n",
       "4       671150                  3 2012-02-04  124104157       False      NaN   \n",
       "\n",
       "   cleanliness  overall  value  location  sleep_quality  rooms  missing_sq  \n",
       "0          2.0      1.0    1.0       3.0            2.0    1.0           0  \n",
       "1          1.0      1.0    2.0       NaN            1.0    NaN           0  \n",
       "2          5.0      4.0    3.0       5.0            4.0    4.0           0  \n",
       "3          2.0      2.0    1.0       4.0            1.0    1.0           0  \n",
       "4          NaN      1.0    NaN       NaN            NaN    NaN           1  "
      ]
     },
     "execution_count": 158,
     "metadata": {},
     "output_type": "execute_result"
    }
   ],
   "source": [
    "train_data_new.head()"
   ]
  },
  {
   "cell_type": "code",
   "execution_count": 159,
   "id": "35249d7f",
   "metadata": {},
   "outputs": [
    {
     "data": {
      "text/html": [
       "<div>\n",
       "<style scoped>\n",
       "    .dataframe tbody tr th:only-of-type {\n",
       "        vertical-align: middle;\n",
       "    }\n",
       "\n",
       "    .dataframe tbody tr th {\n",
       "        vertical-align: top;\n",
       "    }\n",
       "\n",
       "    .dataframe thead th {\n",
       "        text-align: right;\n",
       "    }\n",
       "</style>\n",
       "<table border=\"1\" class=\"dataframe\">\n",
       "  <thead>\n",
       "    <tr style=\"text-align: right;\">\n",
       "      <th></th>\n",
       "      <th>title</th>\n",
       "      <th>text</th>\n",
       "      <th>author</th>\n",
       "      <th>date_stayed</th>\n",
       "      <th>offering_id</th>\n",
       "      <th>num_helpful_votes</th>\n",
       "      <th>date</th>\n",
       "      <th>id</th>\n",
       "      <th>via_mobile</th>\n",
       "      <th>service</th>\n",
       "      <th>cleanliness</th>\n",
       "      <th>overall</th>\n",
       "      <th>value</th>\n",
       "      <th>location</th>\n",
       "      <th>sleep_quality</th>\n",
       "      <th>rooms</th>\n",
       "      <th>missing_sq</th>\n",
       "    </tr>\n",
       "  </thead>\n",
       "  <tbody>\n",
       "    <tr>\n",
       "      <th>0</th>\n",
       "      <td>“Horrible experience”</td>\n",
       "      <td>First of all we got there and they didn't have...</td>\n",
       "      <td>{'username': 'Kh3RD', 'num_reviews': 1, 'id': ...</td>\n",
       "      <td>2012-09</td>\n",
       "      <td>80138</td>\n",
       "      <td>0</td>\n",
       "      <td>2012-09-19</td>\n",
       "      <td>140716137</td>\n",
       "      <td>False</td>\n",
       "      <td>1.0</td>\n",
       "      <td>2.0</td>\n",
       "      <td>1.0</td>\n",
       "      <td>1.0</td>\n",
       "      <td>3.0</td>\n",
       "      <td>2.0</td>\n",
       "      <td>1.0</td>\n",
       "      <td>0</td>\n",
       "    </tr>\n",
       "    <tr>\n",
       "      <th>1</th>\n",
       "      <td>“Stay Away”</td>\n",
       "      <td>Found Racist graffiti in the room. Request to ...</td>\n",
       "      <td>{'username': 'TheUglyPhotographer', 'num_citie...</td>\n",
       "      <td>2011-06</td>\n",
       "      <td>240151</td>\n",
       "      <td>1</td>\n",
       "      <td>2011-06-27</td>\n",
       "      <td>114807323</td>\n",
       "      <td>False</td>\n",
       "      <td>1.0</td>\n",
       "      <td>1.0</td>\n",
       "      <td>1.0</td>\n",
       "      <td>2.0</td>\n",
       "      <td>NaN</td>\n",
       "      <td>1.0</td>\n",
       "      <td>NaN</td>\n",
       "      <td>0</td>\n",
       "    </tr>\n",
       "    <tr>\n",
       "      <th>2</th>\n",
       "      <td>“Great location and service”</td>\n",
       "      <td>Close to Union Square - hotel is a bit of a ma...</td>\n",
       "      <td>{'username': 'Moonstonemoclips', 'num_cities':...</td>\n",
       "      <td>2010-10</td>\n",
       "      <td>80793</td>\n",
       "      <td>0</td>\n",
       "      <td>2010-10-25</td>\n",
       "      <td>84805430</td>\n",
       "      <td>False</td>\n",
       "      <td>4.0</td>\n",
       "      <td>5.0</td>\n",
       "      <td>4.0</td>\n",
       "      <td>3.0</td>\n",
       "      <td>5.0</td>\n",
       "      <td>4.0</td>\n",
       "      <td>4.0</td>\n",
       "      <td>0</td>\n",
       "    </tr>\n",
       "    <tr>\n",
       "      <th>3</th>\n",
       "      <td>“I will never go back here again!”</td>\n",
       "      <td>I had a bad vibe about this place from the mom...</td>\n",
       "      <td>{'username': 'JoanellenJ', 'num_cities': 10, '...</td>\n",
       "      <td>2012-06</td>\n",
       "      <td>111418</td>\n",
       "      <td>1</td>\n",
       "      <td>2012-06-28</td>\n",
       "      <td>132971117</td>\n",
       "      <td>False</td>\n",
       "      <td>3.0</td>\n",
       "      <td>2.0</td>\n",
       "      <td>2.0</td>\n",
       "      <td>1.0</td>\n",
       "      <td>4.0</td>\n",
       "      <td>1.0</td>\n",
       "      <td>1.0</td>\n",
       "      <td>0</td>\n",
       "    </tr>\n",
       "    <tr>\n",
       "      <th>4</th>\n",
       "      <td>“Ripped off our VISA card after departure”</td>\n",
       "      <td>After we received our \"final\" bill and left th...</td>\n",
       "      <td>{'username': 'Lynnworks', 'num_cities': 3, 'nu...</td>\n",
       "      <td>2012-01</td>\n",
       "      <td>671150</td>\n",
       "      <td>3</td>\n",
       "      <td>2012-02-04</td>\n",
       "      <td>124104157</td>\n",
       "      <td>False</td>\n",
       "      <td>NaN</td>\n",
       "      <td>NaN</td>\n",
       "      <td>1.0</td>\n",
       "      <td>NaN</td>\n",
       "      <td>NaN</td>\n",
       "      <td>NaN</td>\n",
       "      <td>NaN</td>\n",
       "      <td>1</td>\n",
       "    </tr>\n",
       "  </tbody>\n",
       "</table>\n",
       "</div>"
      ],
      "text/plain": [
       "                                        title  \\\n",
       "0                       “Horrible experience”   \n",
       "1                                 “Stay Away”   \n",
       "2                “Great location and service”   \n",
       "3          “I will never go back here again!”   \n",
       "4  “Ripped off our VISA card after departure”   \n",
       "\n",
       "                                                text  \\\n",
       "0  First of all we got there and they didn't have...   \n",
       "1  Found Racist graffiti in the room. Request to ...   \n",
       "2  Close to Union Square - hotel is a bit of a ma...   \n",
       "3  I had a bad vibe about this place from the mom...   \n",
       "4  After we received our \"final\" bill and left th...   \n",
       "\n",
       "                                              author date_stayed  offering_id  \\\n",
       "0  {'username': 'Kh3RD', 'num_reviews': 1, 'id': ...     2012-09        80138   \n",
       "1  {'username': 'TheUglyPhotographer', 'num_citie...     2011-06       240151   \n",
       "2  {'username': 'Moonstonemoclips', 'num_cities':...     2010-10        80793   \n",
       "3  {'username': 'JoanellenJ', 'num_cities': 10, '...     2012-06       111418   \n",
       "4  {'username': 'Lynnworks', 'num_cities': 3, 'nu...     2012-01       671150   \n",
       "\n",
       "   num_helpful_votes       date         id  via_mobile  service  cleanliness  \\\n",
       "0                  0 2012-09-19  140716137       False      1.0          2.0   \n",
       "1                  1 2011-06-27  114807323       False      1.0          1.0   \n",
       "2                  0 2010-10-25   84805430       False      4.0          5.0   \n",
       "3                  1 2012-06-28  132971117       False      3.0          2.0   \n",
       "4                  3 2012-02-04  124104157       False      NaN          NaN   \n",
       "\n",
       "   overall  value  location  sleep_quality  rooms  missing_sq  \n",
       "0      1.0    1.0       3.0            2.0    1.0           0  \n",
       "1      1.0    2.0       NaN            1.0    NaN           0  \n",
       "2      4.0    3.0       5.0            4.0    4.0           0  \n",
       "3      2.0    1.0       4.0            1.0    1.0           0  \n",
       "4      1.0    NaN       NaN            NaN    NaN           1  "
      ]
     },
     "execution_count": 159,
     "metadata": {},
     "output_type": "execute_result"
    }
   ],
   "source": [
    "train_data_new['date_stayed'] = pd.to_datetime(\n",
    "    train_data_new['date_stayed'].str.strip(),\n",
    "    format = \"%B %Y\",\n",
    "    errors = 'coerce'\n",
    ")\n",
    "\n",
    "train_data_new[\"date_stayed\"] = train_data_new[\"date_stayed\"].dt.strftime(\"%Y-%m\")\n",
    "train_data_new.head()"
   ]
  },
  {
   "cell_type": "code",
   "execution_count": 160,
   "id": "0a52468e",
   "metadata": {},
   "outputs": [
    {
     "data": {
      "text/plain": [
       "0.0564"
      ]
     },
     "execution_count": 160,
     "metadata": {},
     "output_type": "execute_result"
    }
   ],
   "source": [
    "mobile = train_data_new[train_data_new['via_mobile'] == True]\n",
    "not_mobile = train_data_new[train_data_new['via_mobile'] == False]\n",
    "\n",
    "percentage_from_phone = round(len(mobile)/len(train_data_new),4)\n",
    "percentage_from_phone"
   ]
  },
  {
   "cell_type": "code",
   "execution_count": 161,
   "id": "53082238",
   "metadata": {},
   "outputs": [
    {
     "data": {
      "text/plain": [
       "0.9436"
      ]
     },
     "execution_count": 161,
     "metadata": {},
     "output_type": "execute_result"
    }
   ],
   "source": [
    "percentage_no_phone = round(len(not_mobile)/len(train_data_new),4)\n",
    "percentage_no_phone"
   ]
  },
  {
   "cell_type": "code",
   "execution_count": 162,
   "id": "a030a9e1",
   "metadata": {},
   "outputs": [],
   "source": [
    "assert percentage_no_phone + percentage_from_phone == 1.00, 'issue with calcuation of percentages'"
   ]
  },
  {
   "cell_type": "code",
   "execution_count": 163,
   "id": "1e41ddb8",
   "metadata": {},
   "outputs": [
    {
     "data": {
      "text/plain": [
       "3.926090169992609"
      ]
     },
     "execution_count": 163,
     "metadata": {},
     "output_type": "execute_result"
    }
   ],
   "source": [
    "mobile['overall'].mean()"
   ]
  },
  {
   "cell_type": "code",
   "execution_count": 164,
   "id": "fe4302ec",
   "metadata": {},
   "outputs": [
    {
     "data": {
      "text/plain": [
       "3.9445376666961054"
      ]
     },
     "execution_count": 164,
     "metadata": {},
     "output_type": "execute_result"
    }
   ],
   "source": [
    "not_mobile['overall'].mean()"
   ]
  },
  {
   "cell_type": "code",
   "execution_count": 165,
   "id": "be25873d",
   "metadata": {},
   "outputs": [
    {
     "name": "stdout",
     "output_type": "stream",
     "text": [
      "mean review length for reviews posted using phone: 533.0281 characters\n",
      "mean review length for reviews posted not using phone: 847.9381 characters\n"
     ]
    }
   ],
   "source": [
    "phone_lengths = train_data_new[train_data_new['via_mobile'] == True]['text'].str.len()\n",
    "no_phone_lengths = train_data_new[train_data_new['via_mobile'] == False]['text'].str.len()\n",
    "\n",
    "print(f\"mean review length for reviews posted using phone: {round(phone_lengths.mean(),4)} characters\")\n",
    "print(f\"mean review length for reviews posted not using phone: {round(no_phone_lengths.mean(),4)} characters\")"
   ]
  },
  {
   "cell_type": "code",
   "execution_count": null,
   "id": "5f6c8f18",
   "metadata": {},
   "outputs": [],
   "source": []
  },
  {
   "cell_type": "code",
   "execution_count": null,
   "id": "199b3188",
   "metadata": {},
   "outputs": [],
   "source": []
  }
 ],
 "metadata": {
  "kernelspec": {
   "display_name": "a1nlp",
   "language": "python",
   "name": "python3"
  },
  "language_info": {
   "codemirror_mode": {
    "name": "ipython",
    "version": 3
   },
   "file_extension": ".py",
   "mimetype": "text/x-python",
   "name": "python",
   "nbconvert_exporter": "python",
   "pygments_lexer": "ipython3",
   "version": "3.11.8"
  }
 },
 "nbformat": 4,
 "nbformat_minor": 5
}
