{
 "cells": [
  {
   "cell_type": "code",
   "execution_count": 1,
   "id": "30e92cce",
   "metadata": {},
   "outputs": [],
   "source": [
    "import numpy as np\n",
    "import pandas as pd\n",
    "import matplotlib.pyplot as plt\n",
    "%matplotlib inline\n",
    "import torch \n",
    "import torch.nn as nn\n",
    "import torch.nn.functional as F\n",
    "import nltk\n",
    "from nltk import word_tokenize\n",
    "from nltk.probability import FreqDist\n",
    "from langdetect import detect\n",
    "import json\n",
    "import re\n",
    "from collections import Counter, defaultdict\n",
    "import string\n",
    "from scipy import stats"
   ]
  },
  {
   "cell_type": "code",
   "execution_count": 2,
   "id": "c0177f37",
   "metadata": {},
   "outputs": [],
   "source": [
    "#Cleaning out the original test and train datasets \n",
    "def langFilter(file,type:str):\n",
    "    num = 0\n",
    "    with open(f\"hotel_review_en_{type}.JSON\", \"w\") as out_file:\n",
    "        with open(file,\"r\") as in_file:\n",
    "            lines = in_file.readlines()\n",
    "            for line in lines:\n",
    "                num += 1\n",
    "                # if num%100==0: print(num)\n",
    "                json_line = json.loads(line)\n",
    "                try:\n",
    "                    lang = detect(json_line[\"text\"])\n",
    "                    if lang == \"en\":\n",
    "                        out_file.write(line)\n",
    "                except:\n",
    "                    print(\"exception\")\n",
    "                    pass\n",
    "\n",
    "#uncomment to generate JSON train and test sets of only english texts\n",
    "# langFilter(\"hotel_reviews_train.JSON\",\"train\")\n",
    "# langFilter(\"hotel_reviews_test.JSON\",\"test\")"
   ]
  },
  {
   "cell_type": "code",
   "execution_count": 3,
   "id": "9e675e47",
   "metadata": {},
   "outputs": [
    {
     "data": {
      "text/html": [
       "<div>\n",
       "<style scoped>\n",
       "    .dataframe tbody tr th:only-of-type {\n",
       "        vertical-align: middle;\n",
       "    }\n",
       "\n",
       "    .dataframe tbody tr th {\n",
       "        vertical-align: top;\n",
       "    }\n",
       "\n",
       "    .dataframe thead th {\n",
       "        text-align: right;\n",
       "    }\n",
       "</style>\n",
       "<table border=\"1\" class=\"dataframe\">\n",
       "  <thead>\n",
       "    <tr style=\"text-align: right;\">\n",
       "      <th></th>\n",
       "      <th>ratings</th>\n",
       "      <th>title</th>\n",
       "      <th>text</th>\n",
       "      <th>author</th>\n",
       "      <th>date_stayed</th>\n",
       "      <th>offering_id</th>\n",
       "      <th>num_helpful_votes</th>\n",
       "      <th>date</th>\n",
       "      <th>id</th>\n",
       "      <th>via_mobile</th>\n",
       "    </tr>\n",
       "  </thead>\n",
       "  <tbody>\n",
       "    <tr>\n",
       "      <th>0</th>\n",
       "      <td>{'service': 1.0, 'cleanliness': 2.0, 'overall'...</td>\n",
       "      <td>“Horrible experience”</td>\n",
       "      <td>First of all we got there and they didn't have...</td>\n",
       "      <td>{'username': 'Kh3RD', 'num_reviews': 1, 'id': ...</td>\n",
       "      <td>September 2012</td>\n",
       "      <td>80138</td>\n",
       "      <td>0</td>\n",
       "      <td>2012-09-19</td>\n",
       "      <td>140716137</td>\n",
       "      <td>False</td>\n",
       "    </tr>\n",
       "    <tr>\n",
       "      <th>1</th>\n",
       "      <td>{'cleanliness': 1.0, 'sleep_quality': 1.0, 'ov...</td>\n",
       "      <td>“Stay Away”</td>\n",
       "      <td>Found Racist graffiti in the room. Request to ...</td>\n",
       "      <td>{'username': 'TheUglyPhotographer', 'num_citie...</td>\n",
       "      <td>June 2011</td>\n",
       "      <td>240151</td>\n",
       "      <td>1</td>\n",
       "      <td>2011-06-27</td>\n",
       "      <td>114807323</td>\n",
       "      <td>False</td>\n",
       "    </tr>\n",
       "    <tr>\n",
       "      <th>2</th>\n",
       "      <td>{'service': 4.0, 'cleanliness': 5.0, 'overall'...</td>\n",
       "      <td>“Great location and service”</td>\n",
       "      <td>Close to Union Square - hotel is a bit of a ma...</td>\n",
       "      <td>{'username': 'Moonstonemoclips', 'num_cities':...</td>\n",
       "      <td>October 2010</td>\n",
       "      <td>80793</td>\n",
       "      <td>0</td>\n",
       "      <td>2010-10-25</td>\n",
       "      <td>84805430</td>\n",
       "      <td>False</td>\n",
       "    </tr>\n",
       "    <tr>\n",
       "      <th>3</th>\n",
       "      <td>{'service': 3.0, 'cleanliness': 2.0, 'overall'...</td>\n",
       "      <td>“I will never go back here again!”</td>\n",
       "      <td>I had a bad vibe about this place from the mom...</td>\n",
       "      <td>{'username': 'JoanellenJ', 'num_cities': 10, '...</td>\n",
       "      <td>June 2012</td>\n",
       "      <td>111418</td>\n",
       "      <td>1</td>\n",
       "      <td>2012-06-28</td>\n",
       "      <td>132971117</td>\n",
       "      <td>False</td>\n",
       "    </tr>\n",
       "    <tr>\n",
       "      <th>4</th>\n",
       "      <td>{'overall': 1.0}</td>\n",
       "      <td>“Ripped off our VISA card after departure”</td>\n",
       "      <td>After we received our \"final\" bill and left th...</td>\n",
       "      <td>{'username': 'Lynnworks', 'num_cities': 3, 'nu...</td>\n",
       "      <td>January 2012</td>\n",
       "      <td>671150</td>\n",
       "      <td>3</td>\n",
       "      <td>2012-02-04</td>\n",
       "      <td>124104157</td>\n",
       "      <td>False</td>\n",
       "    </tr>\n",
       "  </tbody>\n",
       "</table>\n",
       "</div>"
      ],
      "text/plain": [
       "                                             ratings  \\\n",
       "0  {'service': 1.0, 'cleanliness': 2.0, 'overall'...   \n",
       "1  {'cleanliness': 1.0, 'sleep_quality': 1.0, 'ov...   \n",
       "2  {'service': 4.0, 'cleanliness': 5.0, 'overall'...   \n",
       "3  {'service': 3.0, 'cleanliness': 2.0, 'overall'...   \n",
       "4                                   {'overall': 1.0}   \n",
       "\n",
       "                                        title  \\\n",
       "0                       “Horrible experience”   \n",
       "1                                 “Stay Away”   \n",
       "2                “Great location and service”   \n",
       "3          “I will never go back here again!”   \n",
       "4  “Ripped off our VISA card after departure”   \n",
       "\n",
       "                                                text  \\\n",
       "0  First of all we got there and they didn't have...   \n",
       "1  Found Racist graffiti in the room. Request to ...   \n",
       "2  Close to Union Square - hotel is a bit of a ma...   \n",
       "3  I had a bad vibe about this place from the mom...   \n",
       "4  After we received our \"final\" bill and left th...   \n",
       "\n",
       "                                              author     date_stayed  \\\n",
       "0  {'username': 'Kh3RD', 'num_reviews': 1, 'id': ...  September 2012   \n",
       "1  {'username': 'TheUglyPhotographer', 'num_citie...       June 2011   \n",
       "2  {'username': 'Moonstonemoclips', 'num_cities':...    October 2010   \n",
       "3  {'username': 'JoanellenJ', 'num_cities': 10, '...       June 2012   \n",
       "4  {'username': 'Lynnworks', 'num_cities': 3, 'nu...    January 2012   \n",
       "\n",
       "   offering_id  num_helpful_votes       date         id  via_mobile  \n",
       "0        80138                  0 2012-09-19  140716137       False  \n",
       "1       240151                  1 2011-06-27  114807323       False  \n",
       "2        80793                  0 2010-10-25   84805430       False  \n",
       "3       111418                  1 2012-06-28  132971117       False  \n",
       "4       671150                  3 2012-02-04  124104157       False  "
      ]
     },
     "execution_count": 3,
     "metadata": {},
     "output_type": "execute_result"
    }
   ],
   "source": [
    "train_data = pd.read_json('hotel_review_en_train.JSON', lines=True)\n",
    "test_data = pd.read_json('hotel_review_en_test.JSON', lines=True)\n",
    "train_data.head()"
   ]
  },
  {
   "cell_type": "code",
   "execution_count": 4,
   "id": "bde57909",
   "metadata": {},
   "outputs": [
    {
     "data": {
      "text/html": [
       "<div>\n",
       "<style scoped>\n",
       "    .dataframe tbody tr th:only-of-type {\n",
       "        vertical-align: middle;\n",
       "    }\n",
       "\n",
       "    .dataframe tbody tr th {\n",
       "        vertical-align: top;\n",
       "    }\n",
       "\n",
       "    .dataframe thead th {\n",
       "        text-align: right;\n",
       "    }\n",
       "</style>\n",
       "<table border=\"1\" class=\"dataframe\">\n",
       "  <thead>\n",
       "    <tr style=\"text-align: right;\">\n",
       "      <th></th>\n",
       "      <th>ratings</th>\n",
       "      <th>title</th>\n",
       "      <th>text</th>\n",
       "      <th>author</th>\n",
       "      <th>date_stayed</th>\n",
       "      <th>offering_id</th>\n",
       "      <th>num_helpful_votes</th>\n",
       "      <th>date</th>\n",
       "      <th>id</th>\n",
       "      <th>via_mobile</th>\n",
       "    </tr>\n",
       "  </thead>\n",
       "  <tbody>\n",
       "    <tr>\n",
       "      <th>0</th>\n",
       "      <td>{'service': 5.0, 'cleanliness': 5.0, 'overall'...</td>\n",
       "      <td>“I was SO surprised! I WILL return!”</td>\n",
       "      <td>My husband and I just celebrated our 25th wedd...</td>\n",
       "      <td>{'username': 'shooflyfarm', 'num_cities': 15, ...</td>\n",
       "      <td>November 2011</td>\n",
       "      <td>1783324</td>\n",
       "      <td>1</td>\n",
       "      <td>2011-11-26</td>\n",
       "      <td>121063682</td>\n",
       "      <td>False</td>\n",
       "    </tr>\n",
       "    <tr>\n",
       "      <th>1</th>\n",
       "      <td>{'cleanliness': 5.0, 'sleep_quality': 5.0, 'ov...</td>\n",
       "      <td>“A Mother/Daughter vacation”</td>\n",
       "      <td>I could not leave a bad comment on any part of...</td>\n",
       "      <td>{'username': 'bestmpm', 'num_reviews': 1, 'id'...</td>\n",
       "      <td>August 2011</td>\n",
       "      <td>88458</td>\n",
       "      <td>0</td>\n",
       "      <td>2011-08-10</td>\n",
       "      <td>116545869</td>\n",
       "      <td>False</td>\n",
       "    </tr>\n",
       "    <tr>\n",
       "      <th>2</th>\n",
       "      <td>{'service': 5.0, 'cleanliness': 5.0, 'overall'...</td>\n",
       "      <td>“Good Choice for Pre-cruise”</td>\n",
       "      <td>I spent one night at this hotel prior to a cru...</td>\n",
       "      <td>{'username': 'Conner2dood', 'num_cities': 20, ...</td>\n",
       "      <td>November 2010</td>\n",
       "      <td>82868</td>\n",
       "      <td>0</td>\n",
       "      <td>2010-12-06</td>\n",
       "      <td>89196759</td>\n",
       "      <td>False</td>\n",
       "    </tr>\n",
       "    <tr>\n",
       "      <th>3</th>\n",
       "      <td>{'cleanliness': 5.0, 'sleep_quality': 5.0, 'ov...</td>\n",
       "      <td>“Unsung Hero”</td>\n",
       "      <td>For the past year and a half, my daughter has ...</td>\n",
       "      <td>{'username': 'LeviK', 'num_reviews': 2, 'num_c...</td>\n",
       "      <td>July 2011</td>\n",
       "      <td>98979</td>\n",
       "      <td>0</td>\n",
       "      <td>2011-07-28</td>\n",
       "      <td>115879719</td>\n",
       "      <td>False</td>\n",
       "    </tr>\n",
       "    <tr>\n",
       "      <th>4</th>\n",
       "      <td>{'service': 5.0, 'cleanliness': 5.0, 'overall'...</td>\n",
       "      <td>“Great Value for a King, Queen, and Princesses.”</td>\n",
       "      <td>Great Value for a King, Queen, and Princesses....</td>\n",
       "      <td>{'username': 'thomrho', 'num_cities': 13, 'num...</td>\n",
       "      <td>March 2007</td>\n",
       "      <td>112273</td>\n",
       "      <td>8</td>\n",
       "      <td>2007-03-21</td>\n",
       "      <td>7198417</td>\n",
       "      <td>False</td>\n",
       "    </tr>\n",
       "  </tbody>\n",
       "</table>\n",
       "</div>"
      ],
      "text/plain": [
       "                                             ratings  \\\n",
       "0  {'service': 5.0, 'cleanliness': 5.0, 'overall'...   \n",
       "1  {'cleanliness': 5.0, 'sleep_quality': 5.0, 'ov...   \n",
       "2  {'service': 5.0, 'cleanliness': 5.0, 'overall'...   \n",
       "3  {'cleanliness': 5.0, 'sleep_quality': 5.0, 'ov...   \n",
       "4  {'service': 5.0, 'cleanliness': 5.0, 'overall'...   \n",
       "\n",
       "                                              title  \\\n",
       "0              “I was SO surprised! I WILL return!”   \n",
       "1                      “A Mother/Daughter vacation”   \n",
       "2                      “Good Choice for Pre-cruise”   \n",
       "3                                     “Unsung Hero”   \n",
       "4  “Great Value for a King, Queen, and Princesses.”   \n",
       "\n",
       "                                                text  \\\n",
       "0  My husband and I just celebrated our 25th wedd...   \n",
       "1  I could not leave a bad comment on any part of...   \n",
       "2  I spent one night at this hotel prior to a cru...   \n",
       "3  For the past year and a half, my daughter has ...   \n",
       "4  Great Value for a King, Queen, and Princesses....   \n",
       "\n",
       "                                              author    date_stayed  \\\n",
       "0  {'username': 'shooflyfarm', 'num_cities': 15, ...  November 2011   \n",
       "1  {'username': 'bestmpm', 'num_reviews': 1, 'id'...    August 2011   \n",
       "2  {'username': 'Conner2dood', 'num_cities': 20, ...  November 2010   \n",
       "3  {'username': 'LeviK', 'num_reviews': 2, 'num_c...      July 2011   \n",
       "4  {'username': 'thomrho', 'num_cities': 13, 'num...     March 2007   \n",
       "\n",
       "   offering_id  num_helpful_votes       date         id  via_mobile  \n",
       "0      1783324                  1 2011-11-26  121063682       False  \n",
       "1        88458                  0 2011-08-10  116545869       False  \n",
       "2        82868                  0 2010-12-06   89196759       False  \n",
       "3        98979                  0 2011-07-28  115879719       False  \n",
       "4       112273                  8 2007-03-21    7198417       False  "
      ]
     },
     "execution_count": 4,
     "metadata": {},
     "output_type": "execute_result"
    }
   ],
   "source": [
    "test_data.head()"
   ]
  },
  {
   "cell_type": "code",
   "execution_count": 5,
   "id": "19c5207e",
   "metadata": {},
   "outputs": [
    {
     "data": {
      "text/plain": [
       "Index(['ratings', 'title', 'text', 'author', 'date_stayed', 'offering_id',\n",
       "       'num_helpful_votes', 'date', 'id', 'via_mobile'],\n",
       "      dtype='object')"
      ]
     },
     "execution_count": 5,
     "metadata": {},
     "output_type": "execute_result"
    }
   ],
   "source": [
    "train_data.columns"
   ]
  },
  {
   "cell_type": "code",
   "execution_count": 6,
   "id": "368f1c37",
   "metadata": {},
   "outputs": [
    {
     "name": "stdout",
     "output_type": "stream",
     "text": [
      "<class 'pandas.core.frame.DataFrame'>\n",
      "RangeIndex: 23999 entries, 0 to 23998\n",
      "Data columns (total 10 columns):\n",
      " #   Column             Non-Null Count  Dtype         \n",
      "---  ------             --------------  -----         \n",
      " 0   ratings            23999 non-null  object        \n",
      " 1   title              23999 non-null  object        \n",
      " 2   text               23999 non-null  object        \n",
      " 3   author             23999 non-null  object        \n",
      " 4   date_stayed        23049 non-null  object        \n",
      " 5   offering_id        23999 non-null  int64         \n",
      " 6   num_helpful_votes  23999 non-null  int64         \n",
      " 7   date               23999 non-null  datetime64[ns]\n",
      " 8   id                 23999 non-null  int64         \n",
      " 9   via_mobile         23999 non-null  bool          \n",
      "dtypes: bool(1), datetime64[ns](1), int64(3), object(5)\n",
      "memory usage: 1.7+ MB\n"
     ]
    }
   ],
   "source": [
    "train_data.info()"
   ]
  },
  {
   "cell_type": "code",
   "execution_count": 7,
   "id": "cb4d541f",
   "metadata": {},
   "outputs": [
    {
     "data": {
      "text/plain": [
       "ratings                0\n",
       "title                  0\n",
       "text                   0\n",
       "author                 0\n",
       "date_stayed          950\n",
       "offering_id            0\n",
       "num_helpful_votes      0\n",
       "date                   0\n",
       "id                     0\n",
       "via_mobile             0\n",
       "dtype: int64"
      ]
     },
     "execution_count": 7,
     "metadata": {},
     "output_type": "execute_result"
    }
   ],
   "source": [
    "train_data.isna().sum()"
   ]
  },
  {
   "cell_type": "code",
   "execution_count": 8,
   "id": "3f0bd2b6",
   "metadata": {},
   "outputs": [
    {
     "data": {
      "text/plain": [
       "0"
      ]
     },
     "execution_count": 8,
     "metadata": {},
     "output_type": "execute_result"
    }
   ],
   "source": [
    "train_data['id'].duplicated().sum()"
   ]
  },
  {
   "cell_type": "code",
   "execution_count": 9,
   "id": "aaf4a91f",
   "metadata": {},
   "outputs": [
    {
     "data": {
      "text/plain": [
       "{'service': 1.0,\n",
       " 'cleanliness': 2.0,\n",
       " 'overall': 1.0,\n",
       " 'value': 1.0,\n",
       " 'location': 3.0,\n",
       " 'sleep_quality': 2.0,\n",
       " 'rooms': 1.0}"
      ]
     },
     "execution_count": 9,
     "metadata": {},
     "output_type": "execute_result"
    }
   ],
   "source": [
    "train_data['ratings'][0]"
   ]
  },
  {
   "cell_type": "code",
   "execution_count": 10,
   "id": "671c598c",
   "metadata": {},
   "outputs": [
    {
     "data": {
      "text/plain": [
       "defaultdict(int,\n",
       "            {'service': 21549,\n",
       "             'cleanliness': 21544,\n",
       "             'overall': 23999,\n",
       "             'value': 21546,\n",
       "             'location': 18982,\n",
       "             'sleep_quality': 14184,\n",
       "             'rooms': 19999,\n",
       "             'check_in_front_desk': 2909,\n",
       "             'business_service_(e_g_internet_access)': 1959})"
      ]
     },
     "execution_count": 10,
     "metadata": {},
     "output_type": "execute_result"
    }
   ],
   "source": [
    "unique_cols = defaultdict(int)\n",
    "\n",
    "for i in range(len(train_data)):\n",
    "    for n in train_data['ratings'][i].keys():\n",
    "        unique_cols[n] += 1\n",
    "\n",
    "unique_cols"
   ]
  },
  {
   "cell_type": "code",
   "execution_count": 11,
   "id": "56ba73f5",
   "metadata": {},
   "outputs": [
    {
     "name": "stdout",
     "output_type": "stream",
     "text": [
      "Rating Counts broken into percentages:\n",
      "service: 89.79%\n",
      "cleanliness: 89.77%\n",
      "overall: 100.0%\n",
      "value: 89.78%\n",
      "location: 79.09%\n",
      "sleep_quality: 59.1%\n",
      "rooms: 83.33%\n",
      "check_in_front_desk: 12.12%\n",
      "business_service_(e_g_internet_access): 8.16%\n"
     ]
    }
   ],
   "source": [
    "print(\"Rating Counts broken into percentages:\")\n",
    "for k,v in unique_cols.items():\n",
    "    print(f'{k}: {round((v/len(train_data))*100,2)}%')"
   ]
  },
  {
   "cell_type": "code",
   "execution_count": 12,
   "id": "52b32959",
   "metadata": {},
   "outputs": [
    {
     "name": "stdout",
     "output_type": "stream",
     "text": [
      "service: 4.102\n",
      "cleanliness: 4.23\n",
      "overall: 3.943\n",
      "value: 3.918\n",
      "location: 4.413\n",
      "sleep_quality: 4.146\n",
      "rooms: 3.943\n",
      "check_in_front_desk: 3.945\n",
      "business_service_(e_g_internet_access): 3.662\n"
     ]
    }
   ],
   "source": [
    "def average_ratings(data):\n",
    "    ratings = defaultdict(list)\n",
    "    for i in range(len(data)):\n",
    "        rat = train_data['ratings'][i]\n",
    "        for n in rat:\n",
    "            ratings[n].append(rat[n])\n",
    "    \n",
    "    avg_metrics = defaultdict(int)\n",
    "    for n in ratings:\n",
    "        avg_metrics[n] = np.round(np.array(ratings[n]).mean(),3)\n",
    "    \n",
    "    return avg_metrics\n",
    "\n",
    "averaged_ratings_of_reviews = average_ratings(train_data)\n",
    "\n",
    "for quality, rating in averaged_ratings_of_reviews.items():\n",
    "    print(f'{quality}: {rating}')\n"
   ]
  },
  {
   "cell_type": "code",
   "execution_count": 13,
   "id": "faf0d32f",
   "metadata": {},
   "outputs": [
    {
     "name": "stdout",
     "output_type": "stream",
     "text": [
      "0        {'service': 1.0, 'cleanliness': 2.0, 'overall'...\n",
      "1        {'cleanliness': 1.0, 'sleep_quality': 1.0, 'ov...\n",
      "2        {'service': 4.0, 'cleanliness': 5.0, 'overall'...\n",
      "3        {'service': 3.0, 'cleanliness': 2.0, 'overall'...\n",
      "4                                         {'overall': 1.0}\n",
      "                               ...                        \n",
      "23994    {'service': 3.0, 'cleanliness': 4.0, 'overall'...\n",
      "23995    {'service': 3.0, 'cleanliness': 3.0, 'overall'...\n",
      "23996    {'service': 4.0, 'cleanliness': 4.0, 'overall'...\n",
      "23997    {'cleanliness': 5.0, 'sleep_quality': 4.0, 'ov...\n",
      "23998    {'service': 5.0, 'cleanliness': 5.0, 'overall'...\n",
      "Name: ratings, Length: 23999, dtype: object\n"
     ]
    }
   ],
   "source": [
    "print(train_data['ratings'])"
   ]
  },
  {
   "cell_type": "code",
   "execution_count": 14,
   "id": "78cd62f5",
   "metadata": {},
   "outputs": [
    {
     "name": "stdout",
     "output_type": "stream",
     "text": [
      "{'service': 1.0, 'cleanliness': 2.0, 'overall': 1.0, 'value': 1.0, 'location': 3.0, 'sleep_quality': 2.0, 'rooms': 1.0}\n"
     ]
    }
   ],
   "source": [
    "print(train_data['ratings'][0])\n"
   ]
  },
  {
   "cell_type": "code",
   "execution_count": 15,
   "id": "3b6da5ca",
   "metadata": {},
   "outputs": [],
   "source": [
    "json_cols = ['ratings']\n",
    "\n",
    "normalized_cols = pd.json_normalize(train_data['ratings'])\n",
    "train_data_new = train_data.join(normalized_cols)\n",
    "train_data_new = train_data_new.drop(json_cols, axis=1)"
   ]
  },
  {
   "cell_type": "code",
   "execution_count": 16,
   "id": "254befd0",
   "metadata": {},
   "outputs": [
    {
     "data": {
      "text/plain": [
       "defaultdict(int,\n",
       "            {'service': 21549,\n",
       "             'cleanliness': 21544,\n",
       "             'overall': 23999,\n",
       "             'value': 21546,\n",
       "             'location': 18982,\n",
       "             'sleep_quality': 14184,\n",
       "             'rooms': 19999,\n",
       "             'check_in_front_desk': 2909,\n",
       "             'business_service_(e_g_internet_access)': 1959})"
      ]
     },
     "execution_count": 16,
     "metadata": {},
     "output_type": "execute_result"
    }
   ],
   "source": [
    "unique_cols"
   ]
  },
  {
   "cell_type": "code",
   "execution_count": 17,
   "id": "7773f083",
   "metadata": {},
   "outputs": [
    {
     "data": {
      "text/html": [
       "<div>\n",
       "<style scoped>\n",
       "    .dataframe tbody tr th:only-of-type {\n",
       "        vertical-align: middle;\n",
       "    }\n",
       "\n",
       "    .dataframe tbody tr th {\n",
       "        vertical-align: top;\n",
       "    }\n",
       "\n",
       "    .dataframe thead th {\n",
       "        text-align: right;\n",
       "    }\n",
       "</style>\n",
       "<table border=\"1\" class=\"dataframe\">\n",
       "  <thead>\n",
       "    <tr style=\"text-align: right;\">\n",
       "      <th></th>\n",
       "      <th>title</th>\n",
       "      <th>text</th>\n",
       "      <th>author</th>\n",
       "      <th>date_stayed</th>\n",
       "      <th>offering_id</th>\n",
       "      <th>num_helpful_votes</th>\n",
       "      <th>date</th>\n",
       "      <th>id</th>\n",
       "      <th>via_mobile</th>\n",
       "      <th>service</th>\n",
       "      <th>cleanliness</th>\n",
       "      <th>overall</th>\n",
       "      <th>value</th>\n",
       "      <th>location</th>\n",
       "      <th>sleep_quality</th>\n",
       "      <th>rooms</th>\n",
       "      <th>check_in_front_desk</th>\n",
       "      <th>business_service_(e_g_internet_access)</th>\n",
       "    </tr>\n",
       "  </thead>\n",
       "  <tbody>\n",
       "    <tr>\n",
       "      <th>0</th>\n",
       "      <td>“Horrible experience”</td>\n",
       "      <td>First of all we got there and they didn't have...</td>\n",
       "      <td>{'username': 'Kh3RD', 'num_reviews': 1, 'id': ...</td>\n",
       "      <td>September 2012</td>\n",
       "      <td>80138</td>\n",
       "      <td>0</td>\n",
       "      <td>2012-09-19</td>\n",
       "      <td>140716137</td>\n",
       "      <td>False</td>\n",
       "      <td>1.0</td>\n",
       "      <td>2.0</td>\n",
       "      <td>1.0</td>\n",
       "      <td>1.0</td>\n",
       "      <td>3.0</td>\n",
       "      <td>2.0</td>\n",
       "      <td>1.0</td>\n",
       "      <td>NaN</td>\n",
       "      <td>NaN</td>\n",
       "    </tr>\n",
       "    <tr>\n",
       "      <th>1</th>\n",
       "      <td>“Stay Away”</td>\n",
       "      <td>Found Racist graffiti in the room. Request to ...</td>\n",
       "      <td>{'username': 'TheUglyPhotographer', 'num_citie...</td>\n",
       "      <td>June 2011</td>\n",
       "      <td>240151</td>\n",
       "      <td>1</td>\n",
       "      <td>2011-06-27</td>\n",
       "      <td>114807323</td>\n",
       "      <td>False</td>\n",
       "      <td>1.0</td>\n",
       "      <td>1.0</td>\n",
       "      <td>1.0</td>\n",
       "      <td>2.0</td>\n",
       "      <td>NaN</td>\n",
       "      <td>1.0</td>\n",
       "      <td>NaN</td>\n",
       "      <td>NaN</td>\n",
       "      <td>NaN</td>\n",
       "    </tr>\n",
       "    <tr>\n",
       "      <th>2</th>\n",
       "      <td>“Great location and service”</td>\n",
       "      <td>Close to Union Square - hotel is a bit of a ma...</td>\n",
       "      <td>{'username': 'Moonstonemoclips', 'num_cities':...</td>\n",
       "      <td>October 2010</td>\n",
       "      <td>80793</td>\n",
       "      <td>0</td>\n",
       "      <td>2010-10-25</td>\n",
       "      <td>84805430</td>\n",
       "      <td>False</td>\n",
       "      <td>4.0</td>\n",
       "      <td>5.0</td>\n",
       "      <td>4.0</td>\n",
       "      <td>3.0</td>\n",
       "      <td>5.0</td>\n",
       "      <td>4.0</td>\n",
       "      <td>4.0</td>\n",
       "      <td>NaN</td>\n",
       "      <td>NaN</td>\n",
       "    </tr>\n",
       "    <tr>\n",
       "      <th>3</th>\n",
       "      <td>“I will never go back here again!”</td>\n",
       "      <td>I had a bad vibe about this place from the mom...</td>\n",
       "      <td>{'username': 'JoanellenJ', 'num_cities': 10, '...</td>\n",
       "      <td>June 2012</td>\n",
       "      <td>111418</td>\n",
       "      <td>1</td>\n",
       "      <td>2012-06-28</td>\n",
       "      <td>132971117</td>\n",
       "      <td>False</td>\n",
       "      <td>3.0</td>\n",
       "      <td>2.0</td>\n",
       "      <td>2.0</td>\n",
       "      <td>1.0</td>\n",
       "      <td>4.0</td>\n",
       "      <td>1.0</td>\n",
       "      <td>1.0</td>\n",
       "      <td>NaN</td>\n",
       "      <td>NaN</td>\n",
       "    </tr>\n",
       "    <tr>\n",
       "      <th>4</th>\n",
       "      <td>“Ripped off our VISA card after departure”</td>\n",
       "      <td>After we received our \"final\" bill and left th...</td>\n",
       "      <td>{'username': 'Lynnworks', 'num_cities': 3, 'nu...</td>\n",
       "      <td>January 2012</td>\n",
       "      <td>671150</td>\n",
       "      <td>3</td>\n",
       "      <td>2012-02-04</td>\n",
       "      <td>124104157</td>\n",
       "      <td>False</td>\n",
       "      <td>NaN</td>\n",
       "      <td>NaN</td>\n",
       "      <td>1.0</td>\n",
       "      <td>NaN</td>\n",
       "      <td>NaN</td>\n",
       "      <td>NaN</td>\n",
       "      <td>NaN</td>\n",
       "      <td>NaN</td>\n",
       "      <td>NaN</td>\n",
       "    </tr>\n",
       "  </tbody>\n",
       "</table>\n",
       "</div>"
      ],
      "text/plain": [
       "                                        title  \\\n",
       "0                       “Horrible experience”   \n",
       "1                                 “Stay Away”   \n",
       "2                “Great location and service”   \n",
       "3          “I will never go back here again!”   \n",
       "4  “Ripped off our VISA card after departure”   \n",
       "\n",
       "                                                text  \\\n",
       "0  First of all we got there and they didn't have...   \n",
       "1  Found Racist graffiti in the room. Request to ...   \n",
       "2  Close to Union Square - hotel is a bit of a ma...   \n",
       "3  I had a bad vibe about this place from the mom...   \n",
       "4  After we received our \"final\" bill and left th...   \n",
       "\n",
       "                                              author     date_stayed  \\\n",
       "0  {'username': 'Kh3RD', 'num_reviews': 1, 'id': ...  September 2012   \n",
       "1  {'username': 'TheUglyPhotographer', 'num_citie...       June 2011   \n",
       "2  {'username': 'Moonstonemoclips', 'num_cities':...    October 2010   \n",
       "3  {'username': 'JoanellenJ', 'num_cities': 10, '...       June 2012   \n",
       "4  {'username': 'Lynnworks', 'num_cities': 3, 'nu...    January 2012   \n",
       "\n",
       "   offering_id  num_helpful_votes       date         id  via_mobile  service  \\\n",
       "0        80138                  0 2012-09-19  140716137       False      1.0   \n",
       "1       240151                  1 2011-06-27  114807323       False      1.0   \n",
       "2        80793                  0 2010-10-25   84805430       False      4.0   \n",
       "3       111418                  1 2012-06-28  132971117       False      3.0   \n",
       "4       671150                  3 2012-02-04  124104157       False      NaN   \n",
       "\n",
       "   cleanliness  overall  value  location  sleep_quality  rooms  \\\n",
       "0          2.0      1.0    1.0       3.0            2.0    1.0   \n",
       "1          1.0      1.0    2.0       NaN            1.0    NaN   \n",
       "2          5.0      4.0    3.0       5.0            4.0    4.0   \n",
       "3          2.0      2.0    1.0       4.0            1.0    1.0   \n",
       "4          NaN      1.0    NaN       NaN            NaN    NaN   \n",
       "\n",
       "   check_in_front_desk  business_service_(e_g_internet_access)  \n",
       "0                  NaN                                     NaN  \n",
       "1                  NaN                                     NaN  \n",
       "2                  NaN                                     NaN  \n",
       "3                  NaN                                     NaN  \n",
       "4                  NaN                                     NaN  "
      ]
     },
     "execution_count": 17,
     "metadata": {},
     "output_type": "execute_result"
    }
   ],
   "source": [
    "train_data_new.head()"
   ]
  },
  {
   "cell_type": "code",
   "execution_count": 18,
   "id": "30cf2c70",
   "metadata": {},
   "outputs": [
    {
     "data": {
      "text/plain": [
       "title                                         0\n",
       "text                                          0\n",
       "author                                        0\n",
       "date_stayed                                 950\n",
       "offering_id                                   0\n",
       "num_helpful_votes                             0\n",
       "date                                          0\n",
       "id                                            0\n",
       "via_mobile                                    0\n",
       "service                                    2450\n",
       "cleanliness                                2455\n",
       "overall                                       0\n",
       "value                                      2453\n",
       "location                                   5017\n",
       "sleep_quality                              9815\n",
       "rooms                                      4000\n",
       "check_in_front_desk                       21090\n",
       "business_service_(e_g_internet_access)    22040\n",
       "dtype: int64"
      ]
     },
     "execution_count": 18,
     "metadata": {},
     "output_type": "execute_result"
    }
   ],
   "source": [
    "train_data_new.isna().sum()"
   ]
  },
  {
   "cell_type": "code",
   "execution_count": 19,
   "id": "d89fb836",
   "metadata": {},
   "outputs": [
    {
     "data": {
      "text/plain": [
       "title                   0\n",
       "text                    0\n",
       "author                  0\n",
       "date_stayed           950\n",
       "offering_id             0\n",
       "num_helpful_votes       0\n",
       "date                    0\n",
       "id                      0\n",
       "via_mobile              0\n",
       "service              2450\n",
       "cleanliness          2455\n",
       "overall                 0\n",
       "value                2453\n",
       "location             5017\n",
       "sleep_quality        9815\n",
       "rooms                4000\n",
       "dtype: int64"
      ]
     },
     "execution_count": 19,
     "metadata": {},
     "output_type": "execute_result"
    }
   ],
   "source": [
    "train_data_new = train_data_new.drop(['business_service_(e_g_internet_access)', 'check_in_front_desk'], axis=1)\n",
    "train_data_new.isna().sum()"
   ]
  },
  {
   "cell_type": "code",
   "execution_count": 20,
   "id": "d7dab583",
   "metadata": {},
   "outputs": [
    {
     "data": {
      "text/plain": [
       "<Axes: >"
      ]
     },
     "execution_count": 20,
     "metadata": {},
     "output_type": "execute_result"
    },
    {
     "data": {
      "image/png": "[encoded data removed]",
      "text/plain": [
       "<Figure size 640x480 with 2 Axes>"
      ]
     },
     "metadata": {},
     "output_type": "display_data"
    }
   ],
   "source": [
    "import seaborn as sns\n",
    "cols = ['service','cleanliness','value','location','sleep_quality','rooms','overall']\n",
    "corr = train_data_new[cols].corr(method='spearman')\n",
    "sns.heatmap(corr, annot=True, fmt=\".2f\")"
   ]
  },
  {
   "cell_type": "code",
   "execution_count": 21,
   "id": "4fc6a51e",
   "metadata": {},
   "outputs": [
    {
     "name": "stdout",
     "output_type": "stream",
     "text": [
      "rooms            0.793961\n",
      "service          0.750456\n",
      "cleanliness      0.721267\n",
      "value            0.719540\n",
      "sleep_quality    0.700825\n",
      "location         0.498392\n",
      "Name: overall, dtype: float64\n"
     ]
    }
   ],
   "source": [
    "spearman_overall = (\n",
    "    train_data_new[cols].corr(method=\"spearman\")['overall']\n",
    "    .drop('overall')\n",
    "    .sort_values(ascending=False)\n",
    ")\n",
    "print(spearman_overall)"
   ]
  },
  {
   "cell_type": "code",
   "execution_count": 22,
   "id": "ddeb6387",
   "metadata": {},
   "outputs": [
    {
     "data": {
      "text/plain": [
       "0        0\n",
       "1        0\n",
       "2        0\n",
       "3        0\n",
       "4        1\n",
       "        ..\n",
       "23994    0\n",
       "23995    0\n",
       "23996    1\n",
       "23997    0\n",
       "23998    1\n",
       "Name: missing_sq, Length: 23999, dtype: int64"
      ]
     },
     "execution_count": 22,
     "metadata": {},
     "output_type": "execute_result"
    }
   ],
   "source": [
    "train_data_new['missing_sq'] = train_data_new['sleep_quality'].isna().astype(int)\n",
    "train_data_new['missing_sq']"
   ]
  },
  {
   "cell_type": "code",
   "execution_count": 23,
   "id": "47bac22c",
   "metadata": {},
   "outputs": [
    {
     "data": {
      "text/plain": [
       "<Axes: xlabel='missing_sq', ylabel='overall'>"
      ]
     },
     "execution_count": 23,
     "metadata": {},
     "output_type": "execute_result"
    },
    {
     "data": {
      "image/png": "[encoded data removed]",
      "text/plain": [
       "<Figure size 640x480 with 1 Axes>"
      ]
     },
     "metadata": {},
     "output_type": "display_data"
    }
   ],
   "source": [
    "sns.boxplot(x='missing_sq', y='overall', data=train_data_new)"
   ]
  },
  {
   "cell_type": "code",
   "execution_count": 24,
   "id": "969eb0e4",
   "metadata": {},
   "outputs": [
    {
     "data": {
      "text/html": [
       "<div>\n",
       "<style scoped>\n",
       "    .dataframe tbody tr th:only-of-type {\n",
       "        vertical-align: middle;\n",
       "    }\n",
       "\n",
       "    .dataframe tbody tr th {\n",
       "        vertical-align: top;\n",
       "    }\n",
       "\n",
       "    .dataframe thead th {\n",
       "        text-align: right;\n",
       "    }\n",
       "</style>\n",
       "<table border=\"1\" class=\"dataframe\">\n",
       "  <thead>\n",
       "    <tr style=\"text-align: right;\">\n",
       "      <th></th>\n",
       "      <th>title</th>\n",
       "      <th>text</th>\n",
       "      <th>author</th>\n",
       "      <th>date_stayed</th>\n",
       "      <th>offering_id</th>\n",
       "      <th>num_helpful_votes</th>\n",
       "      <th>date</th>\n",
       "      <th>id</th>\n",
       "      <th>via_mobile</th>\n",
       "      <th>service</th>\n",
       "      <th>cleanliness</th>\n",
       "      <th>overall</th>\n",
       "      <th>value</th>\n",
       "      <th>location</th>\n",
       "      <th>sleep_quality</th>\n",
       "      <th>rooms</th>\n",
       "      <th>missing_sq</th>\n",
       "    </tr>\n",
       "  </thead>\n",
       "  <tbody>\n",
       "    <tr>\n",
       "      <th>0</th>\n",
       "      <td>“Horrible experience”</td>\n",
       "      <td>First of all we got there and they didn't have...</td>\n",
       "      <td>{'username': 'Kh3RD', 'num_reviews': 1, 'id': ...</td>\n",
       "      <td>September 2012</td>\n",
       "      <td>80138</td>\n",
       "      <td>0</td>\n",
       "      <td>2012-09-19</td>\n",
       "      <td>140716137</td>\n",
       "      <td>False</td>\n",
       "      <td>1.0</td>\n",
       "      <td>2.0</td>\n",
       "      <td>1.0</td>\n",
       "      <td>1.0</td>\n",
       "      <td>3.0</td>\n",
       "      <td>2.0</td>\n",
       "      <td>1.0</td>\n",
       "      <td>0</td>\n",
       "    </tr>\n",
       "    <tr>\n",
       "      <th>1</th>\n",
       "      <td>“Stay Away”</td>\n",
       "      <td>Found Racist graffiti in the room. Request to ...</td>\n",
       "      <td>{'username': 'TheUglyPhotographer', 'num_citie...</td>\n",
       "      <td>June 2011</td>\n",
       "      <td>240151</td>\n",
       "      <td>1</td>\n",
       "      <td>2011-06-27</td>\n",
       "      <td>114807323</td>\n",
       "      <td>False</td>\n",
       "      <td>1.0</td>\n",
       "      <td>1.0</td>\n",
       "      <td>1.0</td>\n",
       "      <td>2.0</td>\n",
       "      <td>NaN</td>\n",
       "      <td>1.0</td>\n",
       "      <td>NaN</td>\n",
       "      <td>0</td>\n",
       "    </tr>\n",
       "    <tr>\n",
       "      <th>2</th>\n",
       "      <td>“Great location and service”</td>\n",
       "      <td>Close to Union Square - hotel is a bit of a ma...</td>\n",
       "      <td>{'username': 'Moonstonemoclips', 'num_cities':...</td>\n",
       "      <td>October 2010</td>\n",
       "      <td>80793</td>\n",
       "      <td>0</td>\n",
       "      <td>2010-10-25</td>\n",
       "      <td>84805430</td>\n",
       "      <td>False</td>\n",
       "      <td>4.0</td>\n",
       "      <td>5.0</td>\n",
       "      <td>4.0</td>\n",
       "      <td>3.0</td>\n",
       "      <td>5.0</td>\n",
       "      <td>4.0</td>\n",
       "      <td>4.0</td>\n",
       "      <td>0</td>\n",
       "    </tr>\n",
       "    <tr>\n",
       "      <th>3</th>\n",
       "      <td>“I will never go back here again!”</td>\n",
       "      <td>I had a bad vibe about this place from the mom...</td>\n",
       "      <td>{'username': 'JoanellenJ', 'num_cities': 10, '...</td>\n",
       "      <td>June 2012</td>\n",
       "      <td>111418</td>\n",
       "      <td>1</td>\n",
       "      <td>2012-06-28</td>\n",
       "      <td>132971117</td>\n",
       "      <td>False</td>\n",
       "      <td>3.0</td>\n",
       "      <td>2.0</td>\n",
       "      <td>2.0</td>\n",
       "      <td>1.0</td>\n",
       "      <td>4.0</td>\n",
       "      <td>1.0</td>\n",
       "      <td>1.0</td>\n",
       "      <td>0</td>\n",
       "    </tr>\n",
       "    <tr>\n",
       "      <th>4</th>\n",
       "      <td>“Ripped off our VISA card after departure”</td>\n",
       "      <td>After we received our \"final\" bill and left th...</td>\n",
       "      <td>{'username': 'Lynnworks', 'num_cities': 3, 'nu...</td>\n",
       "      <td>January 2012</td>\n",
       "      <td>671150</td>\n",
       "      <td>3</td>\n",
       "      <td>2012-02-04</td>\n",
       "      <td>124104157</td>\n",
       "      <td>False</td>\n",
       "      <td>NaN</td>\n",
       "      <td>NaN</td>\n",
       "      <td>1.0</td>\n",
       "      <td>NaN</td>\n",
       "      <td>NaN</td>\n",
       "      <td>NaN</td>\n",
       "      <td>NaN</td>\n",
       "      <td>1</td>\n",
       "    </tr>\n",
       "  </tbody>\n",
       "</table>\n",
       "</div>"
      ],
      "text/plain": [
       "                                        title  \\\n",
       "0                       “Horrible experience”   \n",
       "1                                 “Stay Away”   \n",
       "2                “Great location and service”   \n",
       "3          “I will never go back here again!”   \n",
       "4  “Ripped off our VISA card after departure”   \n",
       "\n",
       "                                                text  \\\n",
       "0  First of all we got there and they didn't have...   \n",
       "1  Found Racist graffiti in the room. Request to ...   \n",
       "2  Close to Union Square - hotel is a bit of a ma...   \n",
       "3  I had a bad vibe about this place from the mom...   \n",
       "4  After we received our \"final\" bill and left th...   \n",
       "\n",
       "                                              author     date_stayed  \\\n",
       "0  {'username': 'Kh3RD', 'num_reviews': 1, 'id': ...  September 2012   \n",
       "1  {'username': 'TheUglyPhotographer', 'num_citie...       June 2011   \n",
       "2  {'username': 'Moonstonemoclips', 'num_cities':...    October 2010   \n",
       "3  {'username': 'JoanellenJ', 'num_cities': 10, '...       June 2012   \n",
       "4  {'username': 'Lynnworks', 'num_cities': 3, 'nu...    January 2012   \n",
       "\n",
       "   offering_id  num_helpful_votes       date         id  via_mobile  service  \\\n",
       "0        80138                  0 2012-09-19  140716137       False      1.0   \n",
       "1       240151                  1 2011-06-27  114807323       False      1.0   \n",
       "2        80793                  0 2010-10-25   84805430       False      4.0   \n",
       "3       111418                  1 2012-06-28  132971117       False      3.0   \n",
       "4       671150                  3 2012-02-04  124104157       False      NaN   \n",
       "\n",
       "   cleanliness  overall  value  location  sleep_quality  rooms  missing_sq  \n",
       "0          2.0      1.0    1.0       3.0            2.0    1.0           0  \n",
       "1          1.0      1.0    2.0       NaN            1.0    NaN           0  \n",
       "2          5.0      4.0    3.0       5.0            4.0    4.0           0  \n",
       "3          2.0      2.0    1.0       4.0            1.0    1.0           0  \n",
       "4          NaN      1.0    NaN       NaN            NaN    NaN           1  "
      ]
     },
     "execution_count": 24,
     "metadata": {},
     "output_type": "execute_result"
    }
   ],
   "source": [
    "train_data_new.head()"
   ]
  },
  {
   "cell_type": "code",
   "execution_count": 25,
   "id": "423407b7",
   "metadata": {},
   "outputs": [
    {
     "data": {
      "text/plain": [
       "{'username': 'Moonstonemoclips',\n",
       " 'num_cities': 31,\n",
       " 'num_helpful_votes': 27,\n",
       " 'num_reviews': 48,\n",
       " 'num_type_reviews': 32,\n",
       " 'id': 'F3D0CF371B788300E73A1413B2DABB4B',\n",
       " 'location': 'Kirkland'}"
      ]
     },
     "execution_count": 25,
     "metadata": {},
     "output_type": "execute_result"
    }
   ],
   "source": [
    "train_data_new['author'][2]"
   ]
  },
  {
   "cell_type": "code",
   "execution_count": 26,
   "id": "c1ed406f",
   "metadata": {},
   "outputs": [
    {
     "data": {
      "text/plain": [
       "defaultdict(int,\n",
       "            {'username': 23999,\n",
       "             'num_reviews': 22918,\n",
       "             'id': 23999,\n",
       "             'location': 23999,\n",
       "             'num_cities': 17538,\n",
       "             'num_helpful_votes': 18864,\n",
       "             'num_type_reviews': 14629})"
      ]
     },
     "execution_count": 26,
     "metadata": {},
     "output_type": "execute_result"
    }
   ],
   "source": [
    "author_keys = defaultdict(int)\n",
    "\n",
    "for n in train_data_new['author']:\n",
    "    for j in n:\n",
    "        author_keys[j] += 1\n",
    "\n",
    "author_keys"
   ]
  },
  {
   "cell_type": "code",
   "execution_count": 27,
   "id": "102db64c",
   "metadata": {},
   "outputs": [
    {
     "data": {
      "text/plain": [
       "[('', 1077),\n",
       " ('David M', 5),\n",
       " ('John S', 4),\n",
       " ('David C', 4),\n",
       " ('David P', 3),\n",
       " ('Mike R', 3),\n",
       " ('DoesNotGetOutMuch', 3),\n",
       " ('Linda D', 3),\n",
       " ('brmusicman', 3),\n",
       " ('Christine H', 3)]"
      ]
     },
     "execution_count": 27,
     "metadata": {},
     "output_type": "execute_result"
    }
   ],
   "source": [
    "def most_common_author_features(column):\n",
    "    unique_username = Counter()\n",
    "    for n in train_data_new['author']:\n",
    "        if column not in n:\n",
    "            continue\n",
    "        name = n[column]\n",
    "        unique_username[name] += 1 if name in unique_username else 0\n",
    "\n",
    "    return unique_username.most_common(10)\n",
    "\n",
    "most_common_author_features('username')"
   ]
  },
  {
   "cell_type": "code",
   "execution_count": 28,
   "id": "b52e7fa2",
   "metadata": {},
   "outputs": [
    {
     "data": {
      "text/plain": [
       "[('', 2183),\n",
       " ('New York City, New York', 273),\n",
       " ('London, United Kingdom', 236),\n",
       " ('Chicago, Illinois', 219),\n",
       " ('London', 201),\n",
       " ('Houston, Texas', 186),\n",
       " ('Los Angeles, California', 185),\n",
       " ('Washington DC, District of Columbia', 180),\n",
       " ('Boston, Massachusetts', 148),\n",
       " ('Toronto, Canada', 146)]"
      ]
     },
     "execution_count": 28,
     "metadata": {},
     "output_type": "execute_result"
    }
   ],
   "source": [
    "most_common_author_features('location')"
   ]
  },
  {
   "cell_type": "code",
   "execution_count": 29,
   "id": "f3977973",
   "metadata": {},
   "outputs": [
    {
     "data": {
      "text/plain": [
       "['London, United Kingdom',\n",
       " 'New Bern, North Carolina',\n",
       " 'Quad Cities, IA',\n",
       " 'Amarillo',\n",
       " 'Ukiah, CA',\n",
       " 'Omaha, Nebraska']"
      ]
     },
     "execution_count": 29,
     "metadata": {},
     "output_type": "execute_result"
    }
   ],
   "source": [
    "david_cities = []\n",
    "for n in train_data_new['author']:\n",
    "    if n['username'] == 'David M':\n",
    "        david_cities.append(n['location'])\n",
    "\n",
    "david_cities"
   ]
  },
  {
   "cell_type": "code",
   "execution_count": 30,
   "id": "b8f5ec0f",
   "metadata": {},
   "outputs": [
    {
     "data": {
      "text/html": [
       "<div>\n",
       "<style scoped>\n",
       "    .dataframe tbody tr th:only-of-type {\n",
       "        vertical-align: middle;\n",
       "    }\n",
       "\n",
       "    .dataframe tbody tr th {\n",
       "        vertical-align: top;\n",
       "    }\n",
       "\n",
       "    .dataframe thead th {\n",
       "        text-align: right;\n",
       "    }\n",
       "</style>\n",
       "<table border=\"1\" class=\"dataframe\">\n",
       "  <thead>\n",
       "    <tr style=\"text-align: right;\">\n",
       "      <th></th>\n",
       "      <th>title</th>\n",
       "      <th>text</th>\n",
       "      <th>author</th>\n",
       "      <th>date_stayed</th>\n",
       "      <th>offering_id</th>\n",
       "      <th>num_helpful_votes</th>\n",
       "      <th>date</th>\n",
       "      <th>id</th>\n",
       "      <th>via_mobile</th>\n",
       "      <th>service</th>\n",
       "      <th>cleanliness</th>\n",
       "      <th>overall</th>\n",
       "      <th>value</th>\n",
       "      <th>location</th>\n",
       "      <th>sleep_quality</th>\n",
       "      <th>rooms</th>\n",
       "      <th>missing_sq</th>\n",
       "    </tr>\n",
       "  </thead>\n",
       "  <tbody>\n",
       "    <tr>\n",
       "      <th>0</th>\n",
       "      <td>“Horrible experience”</td>\n",
       "      <td>First of all we got there and they didn't have...</td>\n",
       "      <td>{'username': 'Kh3RD', 'num_reviews': 1, 'id': ...</td>\n",
       "      <td>September 2012</td>\n",
       "      <td>80138</td>\n",
       "      <td>0</td>\n",
       "      <td>2012-09-19</td>\n",
       "      <td>140716137</td>\n",
       "      <td>False</td>\n",
       "      <td>1.0</td>\n",
       "      <td>2.0</td>\n",
       "      <td>1.0</td>\n",
       "      <td>1.0</td>\n",
       "      <td>3.0</td>\n",
       "      <td>2.0</td>\n",
       "      <td>1.0</td>\n",
       "      <td>0</td>\n",
       "    </tr>\n",
       "    <tr>\n",
       "      <th>1</th>\n",
       "      <td>“Stay Away”</td>\n",
       "      <td>Found Racist graffiti in the room. Request to ...</td>\n",
       "      <td>{'username': 'TheUglyPhotographer', 'num_citie...</td>\n",
       "      <td>June 2011</td>\n",
       "      <td>240151</td>\n",
       "      <td>1</td>\n",
       "      <td>2011-06-27</td>\n",
       "      <td>114807323</td>\n",
       "      <td>False</td>\n",
       "      <td>1.0</td>\n",
       "      <td>1.0</td>\n",
       "      <td>1.0</td>\n",
       "      <td>2.0</td>\n",
       "      <td>NaN</td>\n",
       "      <td>1.0</td>\n",
       "      <td>NaN</td>\n",
       "      <td>0</td>\n",
       "    </tr>\n",
       "    <tr>\n",
       "      <th>2</th>\n",
       "      <td>“Great location and service”</td>\n",
       "      <td>Close to Union Square - hotel is a bit of a ma...</td>\n",
       "      <td>{'username': 'Moonstonemoclips', 'num_cities':...</td>\n",
       "      <td>October 2010</td>\n",
       "      <td>80793</td>\n",
       "      <td>0</td>\n",
       "      <td>2010-10-25</td>\n",
       "      <td>84805430</td>\n",
       "      <td>False</td>\n",
       "      <td>4.0</td>\n",
       "      <td>5.0</td>\n",
       "      <td>4.0</td>\n",
       "      <td>3.0</td>\n",
       "      <td>5.0</td>\n",
       "      <td>4.0</td>\n",
       "      <td>4.0</td>\n",
       "      <td>0</td>\n",
       "    </tr>\n",
       "    <tr>\n",
       "      <th>3</th>\n",
       "      <td>“I will never go back here again!”</td>\n",
       "      <td>I had a bad vibe about this place from the mom...</td>\n",
       "      <td>{'username': 'JoanellenJ', 'num_cities': 10, '...</td>\n",
       "      <td>June 2012</td>\n",
       "      <td>111418</td>\n",
       "      <td>1</td>\n",
       "      <td>2012-06-28</td>\n",
       "      <td>132971117</td>\n",
       "      <td>False</td>\n",
       "      <td>3.0</td>\n",
       "      <td>2.0</td>\n",
       "      <td>2.0</td>\n",
       "      <td>1.0</td>\n",
       "      <td>4.0</td>\n",
       "      <td>1.0</td>\n",
       "      <td>1.0</td>\n",
       "      <td>0</td>\n",
       "    </tr>\n",
       "    <tr>\n",
       "      <th>4</th>\n",
       "      <td>“Ripped off our VISA card after departure”</td>\n",
       "      <td>After we received our \"final\" bill and left th...</td>\n",
       "      <td>{'username': 'Lynnworks', 'num_cities': 3, 'nu...</td>\n",
       "      <td>January 2012</td>\n",
       "      <td>671150</td>\n",
       "      <td>3</td>\n",
       "      <td>2012-02-04</td>\n",
       "      <td>124104157</td>\n",
       "      <td>False</td>\n",
       "      <td>NaN</td>\n",
       "      <td>NaN</td>\n",
       "      <td>1.0</td>\n",
       "      <td>NaN</td>\n",
       "      <td>NaN</td>\n",
       "      <td>NaN</td>\n",
       "      <td>NaN</td>\n",
       "      <td>1</td>\n",
       "    </tr>\n",
       "  </tbody>\n",
       "</table>\n",
       "</div>"
      ],
      "text/plain": [
       "                                        title  \\\n",
       "0                       “Horrible experience”   \n",
       "1                                 “Stay Away”   \n",
       "2                “Great location and service”   \n",
       "3          “I will never go back here again!”   \n",
       "4  “Ripped off our VISA card after departure”   \n",
       "\n",
       "                                                text  \\\n",
       "0  First of all we got there and they didn't have...   \n",
       "1  Found Racist graffiti in the room. Request to ...   \n",
       "2  Close to Union Square - hotel is a bit of a ma...   \n",
       "3  I had a bad vibe about this place from the mom...   \n",
       "4  After we received our \"final\" bill and left th...   \n",
       "\n",
       "                                              author     date_stayed  \\\n",
       "0  {'username': 'Kh3RD', 'num_reviews': 1, 'id': ...  September 2012   \n",
       "1  {'username': 'TheUglyPhotographer', 'num_citie...       June 2011   \n",
       "2  {'username': 'Moonstonemoclips', 'num_cities':...    October 2010   \n",
       "3  {'username': 'JoanellenJ', 'num_cities': 10, '...       June 2012   \n",
       "4  {'username': 'Lynnworks', 'num_cities': 3, 'nu...    January 2012   \n",
       "\n",
       "   offering_id  num_helpful_votes       date         id  via_mobile  service  \\\n",
       "0        80138                  0 2012-09-19  140716137       False      1.0   \n",
       "1       240151                  1 2011-06-27  114807323       False      1.0   \n",
       "2        80793                  0 2010-10-25   84805430       False      4.0   \n",
       "3       111418                  1 2012-06-28  132971117       False      3.0   \n",
       "4       671150                  3 2012-02-04  124104157       False      NaN   \n",
       "\n",
       "   cleanliness  overall  value  location  sleep_quality  rooms  missing_sq  \n",
       "0          2.0      1.0    1.0       3.0            2.0    1.0           0  \n",
       "1          1.0      1.0    2.0       NaN            1.0    NaN           0  \n",
       "2          5.0      4.0    3.0       5.0            4.0    4.0           0  \n",
       "3          2.0      2.0    1.0       4.0            1.0    1.0           0  \n",
       "4          NaN      1.0    NaN       NaN            NaN    NaN           1  "
      ]
     },
     "execution_count": 30,
     "metadata": {},
     "output_type": "execute_result"
    }
   ],
   "source": [
    "train_data_new.head()"
   ]
  },
  {
   "cell_type": "code",
   "execution_count": 31,
   "id": "35249d7f",
   "metadata": {},
   "outputs": [
    {
     "data": {
      "text/html": [
       "<div>\n",
       "<style scoped>\n",
       "    .dataframe tbody tr th:only-of-type {\n",
       "        vertical-align: middle;\n",
       "    }\n",
       "\n",
       "    .dataframe tbody tr th {\n",
       "        vertical-align: top;\n",
       "    }\n",
       "\n",
       "    .dataframe thead th {\n",
       "        text-align: right;\n",
       "    }\n",
       "</style>\n",
       "<table border=\"1\" class=\"dataframe\">\n",
       "  <thead>\n",
       "    <tr style=\"text-align: right;\">\n",
       "      <th></th>\n",
       "      <th>title</th>\n",
       "      <th>text</th>\n",
       "      <th>author</th>\n",
       "      <th>date_stayed</th>\n",
       "      <th>offering_id</th>\n",
       "      <th>num_helpful_votes</th>\n",
       "      <th>date</th>\n",
       "      <th>id</th>\n",
       "      <th>via_mobile</th>\n",
       "      <th>service</th>\n",
       "      <th>cleanliness</th>\n",
       "      <th>overall</th>\n",
       "      <th>value</th>\n",
       "      <th>location</th>\n",
       "      <th>sleep_quality</th>\n",
       "      <th>rooms</th>\n",
       "      <th>missing_sq</th>\n",
       "    </tr>\n",
       "  </thead>\n",
       "  <tbody>\n",
       "    <tr>\n",
       "      <th>0</th>\n",
       "      <td>“Horrible experience”</td>\n",
       "      <td>First of all we got there and they didn't have...</td>\n",
       "      <td>{'username': 'Kh3RD', 'num_reviews': 1, 'id': ...</td>\n",
       "      <td>2012-09</td>\n",
       "      <td>80138</td>\n",
       "      <td>0</td>\n",
       "      <td>2012-09-19</td>\n",
       "      <td>140716137</td>\n",
       "      <td>False</td>\n",
       "      <td>1.0</td>\n",
       "      <td>2.0</td>\n",
       "      <td>1.0</td>\n",
       "      <td>1.0</td>\n",
       "      <td>3.0</td>\n",
       "      <td>2.0</td>\n",
       "      <td>1.0</td>\n",
       "      <td>0</td>\n",
       "    </tr>\n",
       "    <tr>\n",
       "      <th>1</th>\n",
       "      <td>“Stay Away”</td>\n",
       "      <td>Found Racist graffiti in the room. Request to ...</td>\n",
       "      <td>{'username': 'TheUglyPhotographer', 'num_citie...</td>\n",
       "      <td>2011-06</td>\n",
       "      <td>240151</td>\n",
       "      <td>1</td>\n",
       "      <td>2011-06-27</td>\n",
       "      <td>114807323</td>\n",
       "      <td>False</td>\n",
       "      <td>1.0</td>\n",
       "      <td>1.0</td>\n",
       "      <td>1.0</td>\n",
       "      <td>2.0</td>\n",
       "      <td>NaN</td>\n",
       "      <td>1.0</td>\n",
       "      <td>NaN</td>\n",
       "      <td>0</td>\n",
       "    </tr>\n",
       "    <tr>\n",
       "      <th>2</th>\n",
       "      <td>“Great location and service”</td>\n",
       "      <td>Close to Union Square - hotel is a bit of a ma...</td>\n",
       "      <td>{'username': 'Moonstonemoclips', 'num_cities':...</td>\n",
       "      <td>2010-10</td>\n",
       "      <td>80793</td>\n",
       "      <td>0</td>\n",
       "      <td>2010-10-25</td>\n",
       "      <td>84805430</td>\n",
       "      <td>False</td>\n",
       "      <td>4.0</td>\n",
       "      <td>5.0</td>\n",
       "      <td>4.0</td>\n",
       "      <td>3.0</td>\n",
       "      <td>5.0</td>\n",
       "      <td>4.0</td>\n",
       "      <td>4.0</td>\n",
       "      <td>0</td>\n",
       "    </tr>\n",
       "    <tr>\n",
       "      <th>3</th>\n",
       "      <td>“I will never go back here again!”</td>\n",
       "      <td>I had a bad vibe about this place from the mom...</td>\n",
       "      <td>{'username': 'JoanellenJ', 'num_cities': 10, '...</td>\n",
       "      <td>2012-06</td>\n",
       "      <td>111418</td>\n",
       "      <td>1</td>\n",
       "      <td>2012-06-28</td>\n",
       "      <td>132971117</td>\n",
       "      <td>False</td>\n",
       "      <td>3.0</td>\n",
       "      <td>2.0</td>\n",
       "      <td>2.0</td>\n",
       "      <td>1.0</td>\n",
       "      <td>4.0</td>\n",
       "      <td>1.0</td>\n",
       "      <td>1.0</td>\n",
       "      <td>0</td>\n",
       "    </tr>\n",
       "    <tr>\n",
       "      <th>4</th>\n",
       "      <td>“Ripped off our VISA card after departure”</td>\n",
       "      <td>After we received our \"final\" bill and left th...</td>\n",
       "      <td>{'username': 'Lynnworks', 'num_cities': 3, 'nu...</td>\n",
       "      <td>2012-01</td>\n",
       "      <td>671150</td>\n",
       "      <td>3</td>\n",
       "      <td>2012-02-04</td>\n",
       "      <td>124104157</td>\n",
       "      <td>False</td>\n",
       "      <td>NaN</td>\n",
       "      <td>NaN</td>\n",
       "      <td>1.0</td>\n",
       "      <td>NaN</td>\n",
       "      <td>NaN</td>\n",
       "      <td>NaN</td>\n",
       "      <td>NaN</td>\n",
       "      <td>1</td>\n",
       "    </tr>\n",
       "  </tbody>\n",
       "</table>\n",
       "</div>"
      ],
      "text/plain": [
       "                                        title  \\\n",
       "0                       “Horrible experience”   \n",
       "1                                 “Stay Away”   \n",
       "2                “Great location and service”   \n",
       "3          “I will never go back here again!”   \n",
       "4  “Ripped off our VISA card after departure”   \n",
       "\n",
       "                                                text  \\\n",
       "0  First of all we got there and they didn't have...   \n",
       "1  Found Racist graffiti in the room. Request to ...   \n",
       "2  Close to Union Square - hotel is a bit of a ma...   \n",
       "3  I had a bad vibe about this place from the mom...   \n",
       "4  After we received our \"final\" bill and left th...   \n",
       "\n",
       "                                              author date_stayed  offering_id  \\\n",
       "0  {'username': 'Kh3RD', 'num_reviews': 1, 'id': ...     2012-09        80138   \n",
       "1  {'username': 'TheUglyPhotographer', 'num_citie...     2011-06       240151   \n",
       "2  {'username': 'Moonstonemoclips', 'num_cities':...     2010-10        80793   \n",
       "3  {'username': 'JoanellenJ', 'num_cities': 10, '...     2012-06       111418   \n",
       "4  {'username': 'Lynnworks', 'num_cities': 3, 'nu...     2012-01       671150   \n",
       "\n",
       "   num_helpful_votes       date         id  via_mobile  service  cleanliness  \\\n",
       "0                  0 2012-09-19  140716137       False      1.0          2.0   \n",
       "1                  1 2011-06-27  114807323       False      1.0          1.0   \n",
       "2                  0 2010-10-25   84805430       False      4.0          5.0   \n",
       "3                  1 2012-06-28  132971117       False      3.0          2.0   \n",
       "4                  3 2012-02-04  124104157       False      NaN          NaN   \n",
       "\n",
       "   overall  value  location  sleep_quality  rooms  missing_sq  \n",
       "0      1.0    1.0       3.0            2.0    1.0           0  \n",
       "1      1.0    2.0       NaN            1.0    NaN           0  \n",
       "2      4.0    3.0       5.0            4.0    4.0           0  \n",
       "3      2.0    1.0       4.0            1.0    1.0           0  \n",
       "4      1.0    NaN       NaN            NaN    NaN           1  "
      ]
     },
     "execution_count": 31,
     "metadata": {},
     "output_type": "execute_result"
    }
   ],
   "source": [
    "train_data_new['date_stayed'] = pd.to_datetime(\n",
    "    train_data_new['date_stayed'].str.strip(),\n",
    "    format = \"%B %Y\",\n",
    "    errors = 'coerce'\n",
    ")\n",
    "\n",
    "train_data_new[\"date_stayed\"] = train_data_new[\"date_stayed\"].dt.strftime(\"%Y-%m\")\n",
    "train_data_new.head()"
   ]
  },
  {
   "cell_type": "code",
   "execution_count": 32,
   "id": "95dabb08",
   "metadata": {},
   "outputs": [],
   "source": [
    "train_data_new[\"date_stayed_dt\"] = pd.to_datetime(\n",
    "        train_data_new[\"date_stayed\"].astype(str) + \"-01\",\n",
    "        format=\"%Y-%m-%d\", errors=\"coerce\"\n",
    ")"
   ]
  },
  {
   "cell_type": "code",
   "execution_count": 33,
   "id": "f5313bcf",
   "metadata": {},
   "outputs": [
    {
     "data": {
      "text/plain": [
       "<Axes: title={'center': 'Mean overall rating against month'}, xlabel='Month stayed', ylabel='Mean overall rating'>"
      ]
     },
     "execution_count": 33,
     "metadata": {},
     "output_type": "execute_result"
    },
    {
     "data": {
      "image/png": "[encoded data removed]",
      "text/plain": [
       "<Figure size 640x480 with 1 Axes>"
      ]
     },
     "metadata": {},
     "output_type": "display_data"
    }
   ],
   "source": [
    "(train_data_new\n",
    "   .groupby(train_data_new[\"date_stayed_dt\"].dt.month)[\"overall\"]\n",
    "   .mean()\n",
    "   .plot(kind=\"line\", title=\"Mean overall rating against month\", ylabel=\"Mean overall rating\", xlabel=\"Month stayed\"))"
   ]
  },
  {
   "cell_type": "code",
   "execution_count": 34,
   "id": "b9bd5d1e",
   "metadata": {},
   "outputs": [
    {
     "data": {
      "text/html": [
       "<div>\n",
       "<style scoped>\n",
       "    .dataframe tbody tr th:only-of-type {\n",
       "        vertical-align: middle;\n",
       "    }\n",
       "\n",
       "    .dataframe tbody tr th {\n",
       "        vertical-align: top;\n",
       "    }\n",
       "\n",
       "    .dataframe thead th {\n",
       "        text-align: right;\n",
       "    }\n",
       "</style>\n",
       "<table border=\"1\" class=\"dataframe\">\n",
       "  <thead>\n",
       "    <tr style=\"text-align: right;\">\n",
       "      <th></th>\n",
       "      <th>title</th>\n",
       "      <th>text</th>\n",
       "      <th>author</th>\n",
       "      <th>date_stayed</th>\n",
       "      <th>offering_id</th>\n",
       "      <th>num_helpful_votes</th>\n",
       "      <th>date</th>\n",
       "      <th>id</th>\n",
       "      <th>via_mobile</th>\n",
       "      <th>service</th>\n",
       "      <th>cleanliness</th>\n",
       "      <th>overall</th>\n",
       "      <th>value</th>\n",
       "      <th>location</th>\n",
       "      <th>sleep_quality</th>\n",
       "      <th>rooms</th>\n",
       "      <th>missing_sq</th>\n",
       "      <th>date_stayed_dt</th>\n",
       "    </tr>\n",
       "  </thead>\n",
       "  <tbody>\n",
       "    <tr>\n",
       "      <th>0</th>\n",
       "      <td>“Horrible experience”</td>\n",
       "      <td>First of all we got there and they didn't have...</td>\n",
       "      <td>{'username': 'Kh3RD', 'num_reviews': 1, 'id': ...</td>\n",
       "      <td>2012-09</td>\n",
       "      <td>80138</td>\n",
       "      <td>0</td>\n",
       "      <td>2012-09-19</td>\n",
       "      <td>140716137</td>\n",
       "      <td>False</td>\n",
       "      <td>1.0</td>\n",
       "      <td>2.0</td>\n",
       "      <td>1.0</td>\n",
       "      <td>1.0</td>\n",
       "      <td>3.0</td>\n",
       "      <td>2.0</td>\n",
       "      <td>1.0</td>\n",
       "      <td>0</td>\n",
       "      <td>2012-09-01</td>\n",
       "    </tr>\n",
       "    <tr>\n",
       "      <th>1</th>\n",
       "      <td>“Stay Away”</td>\n",
       "      <td>Found Racist graffiti in the room. Request to ...</td>\n",
       "      <td>{'username': 'TheUglyPhotographer', 'num_citie...</td>\n",
       "      <td>2011-06</td>\n",
       "      <td>240151</td>\n",
       "      <td>1</td>\n",
       "      <td>2011-06-27</td>\n",
       "      <td>114807323</td>\n",
       "      <td>False</td>\n",
       "      <td>1.0</td>\n",
       "      <td>1.0</td>\n",
       "      <td>1.0</td>\n",
       "      <td>2.0</td>\n",
       "      <td>NaN</td>\n",
       "      <td>1.0</td>\n",
       "      <td>NaN</td>\n",
       "      <td>0</td>\n",
       "      <td>2011-06-01</td>\n",
       "    </tr>\n",
       "    <tr>\n",
       "      <th>2</th>\n",
       "      <td>“Great location and service”</td>\n",
       "      <td>Close to Union Square - hotel is a bit of a ma...</td>\n",
       "      <td>{'username': 'Moonstonemoclips', 'num_cities':...</td>\n",
       "      <td>2010-10</td>\n",
       "      <td>80793</td>\n",
       "      <td>0</td>\n",
       "      <td>2010-10-25</td>\n",
       "      <td>84805430</td>\n",
       "      <td>False</td>\n",
       "      <td>4.0</td>\n",
       "      <td>5.0</td>\n",
       "      <td>4.0</td>\n",
       "      <td>3.0</td>\n",
       "      <td>5.0</td>\n",
       "      <td>4.0</td>\n",
       "      <td>4.0</td>\n",
       "      <td>0</td>\n",
       "      <td>2010-10-01</td>\n",
       "    </tr>\n",
       "    <tr>\n",
       "      <th>3</th>\n",
       "      <td>“I will never go back here again!”</td>\n",
       "      <td>I had a bad vibe about this place from the mom...</td>\n",
       "      <td>{'username': 'JoanellenJ', 'num_cities': 10, '...</td>\n",
       "      <td>2012-06</td>\n",
       "      <td>111418</td>\n",
       "      <td>1</td>\n",
       "      <td>2012-06-28</td>\n",
       "      <td>132971117</td>\n",
       "      <td>False</td>\n",
       "      <td>3.0</td>\n",
       "      <td>2.0</td>\n",
       "      <td>2.0</td>\n",
       "      <td>1.0</td>\n",
       "      <td>4.0</td>\n",
       "      <td>1.0</td>\n",
       "      <td>1.0</td>\n",
       "      <td>0</td>\n",
       "      <td>2012-06-01</td>\n",
       "    </tr>\n",
       "    <tr>\n",
       "      <th>4</th>\n",
       "      <td>“Ripped off our VISA card after departure”</td>\n",
       "      <td>After we received our \"final\" bill and left th...</td>\n",
       "      <td>{'username': 'Lynnworks', 'num_cities': 3, 'nu...</td>\n",
       "      <td>2012-01</td>\n",
       "      <td>671150</td>\n",
       "      <td>3</td>\n",
       "      <td>2012-02-04</td>\n",
       "      <td>124104157</td>\n",
       "      <td>False</td>\n",
       "      <td>NaN</td>\n",
       "      <td>NaN</td>\n",
       "      <td>1.0</td>\n",
       "      <td>NaN</td>\n",
       "      <td>NaN</td>\n",
       "      <td>NaN</td>\n",
       "      <td>NaN</td>\n",
       "      <td>1</td>\n",
       "      <td>2012-01-01</td>\n",
       "    </tr>\n",
       "  </tbody>\n",
       "</table>\n",
       "</div>"
      ],
      "text/plain": [
       "                                        title  \\\n",
       "0                       “Horrible experience”   \n",
       "1                                 “Stay Away”   \n",
       "2                “Great location and service”   \n",
       "3          “I will never go back here again!”   \n",
       "4  “Ripped off our VISA card after departure”   \n",
       "\n",
       "                                                text  \\\n",
       "0  First of all we got there and they didn't have...   \n",
       "1  Found Racist graffiti in the room. Request to ...   \n",
       "2  Close to Union Square - hotel is a bit of a ma...   \n",
       "3  I had a bad vibe about this place from the mom...   \n",
       "4  After we received our \"final\" bill and left th...   \n",
       "\n",
       "                                              author date_stayed  offering_id  \\\n",
       "0  {'username': 'Kh3RD', 'num_reviews': 1, 'id': ...     2012-09        80138   \n",
       "1  {'username': 'TheUglyPhotographer', 'num_citie...     2011-06       240151   \n",
       "2  {'username': 'Moonstonemoclips', 'num_cities':...     2010-10        80793   \n",
       "3  {'username': 'JoanellenJ', 'num_cities': 10, '...     2012-06       111418   \n",
       "4  {'username': 'Lynnworks', 'num_cities': 3, 'nu...     2012-01       671150   \n",
       "\n",
       "   num_helpful_votes       date         id  via_mobile  service  cleanliness  \\\n",
       "0                  0 2012-09-19  140716137       False      1.0          2.0   \n",
       "1                  1 2011-06-27  114807323       False      1.0          1.0   \n",
       "2                  0 2010-10-25   84805430       False      4.0          5.0   \n",
       "3                  1 2012-06-28  132971117       False      3.0          2.0   \n",
       "4                  3 2012-02-04  124104157       False      NaN          NaN   \n",
       "\n",
       "   overall  value  location  sleep_quality  rooms  missing_sq date_stayed_dt  \n",
       "0      1.0    1.0       3.0            2.0    1.0           0     2012-09-01  \n",
       "1      1.0    2.0       NaN            1.0    NaN           0     2011-06-01  \n",
       "2      4.0    3.0       5.0            4.0    4.0           0     2010-10-01  \n",
       "3      2.0    1.0       4.0            1.0    1.0           0     2012-06-01  \n",
       "4      1.0    NaN       NaN            NaN    NaN           1     2012-01-01  "
      ]
     },
     "execution_count": 34,
     "metadata": {},
     "output_type": "execute_result"
    }
   ],
   "source": [
    "train_data_new.head()"
   ]
  },
  {
   "cell_type": "code",
   "execution_count": 35,
   "id": "0a52468e",
   "metadata": {},
   "outputs": [
    {
     "data": {
      "text/plain": [
       "0.0564"
      ]
     },
     "execution_count": 35,
     "metadata": {},
     "output_type": "execute_result"
    }
   ],
   "source": [
    "mobile = train_data_new[train_data_new['via_mobile'] == True]\n",
    "not_mobile = train_data_new[train_data_new['via_mobile'] == False]\n",
    "\n",
    "percentage_from_phone = round(len(mobile)/len(train_data_new),4)\n",
    "percentage_from_phone"
   ]
  },
  {
   "cell_type": "code",
   "execution_count": 36,
   "id": "b876ac8b",
   "metadata": {},
   "outputs": [
    {
     "data": {
      "text/plain": [
       "0        0\n",
       "1        0\n",
       "2        0\n",
       "3        0\n",
       "4        0\n",
       "        ..\n",
       "23994    0\n",
       "23995    0\n",
       "23996    1\n",
       "23997    0\n",
       "23998    1\n",
       "Name: via_mobile, Length: 23999, dtype: int64"
      ]
     },
     "execution_count": 36,
     "metadata": {},
     "output_type": "execute_result"
    }
   ],
   "source": [
    "train_data_new['via_mobile'] = train_data_new['via_mobile'].astype(int)\n",
    "train_data_new['via_mobile']"
   ]
  },
  {
   "cell_type": "code",
   "execution_count": 37,
   "id": "53082238",
   "metadata": {},
   "outputs": [
    {
     "data": {
      "text/plain": [
       "0.9436"
      ]
     },
     "execution_count": 37,
     "metadata": {},
     "output_type": "execute_result"
    }
   ],
   "source": [
    "percentage_no_phone = round(len(not_mobile)/len(train_data_new),4)\n",
    "percentage_no_phone"
   ]
  },
  {
   "cell_type": "code",
   "execution_count": 38,
   "id": "a030a9e1",
   "metadata": {},
   "outputs": [],
   "source": [
    "assert percentage_no_phone + percentage_from_phone == 1.00, 'issue with calcuation of percentages'"
   ]
  },
  {
   "cell_type": "code",
   "execution_count": 39,
   "id": "1e41ddb8",
   "metadata": {},
   "outputs": [
    {
     "data": {
      "text/plain": [
       "3.926090169992609"
      ]
     },
     "execution_count": 39,
     "metadata": {},
     "output_type": "execute_result"
    }
   ],
   "source": [
    "mobile['overall'].mean()"
   ]
  },
  {
   "cell_type": "code",
   "execution_count": 40,
   "id": "fe4302ec",
   "metadata": {},
   "outputs": [
    {
     "data": {
      "text/plain": [
       "3.9445376666961054"
      ]
     },
     "execution_count": 40,
     "metadata": {},
     "output_type": "execute_result"
    }
   ],
   "source": [
    "not_mobile['overall'].mean()"
   ]
  },
  {
   "cell_type": "code",
   "execution_count": 41,
   "id": "be25873d",
   "metadata": {},
   "outputs": [
    {
     "name": "stdout",
     "output_type": "stream",
     "text": [
      "mean review length for reviews posted using phone: 98.1604 characters\n",
      "mean review length for reviews posted not using phone: 156.4316 characters\n"
     ]
    }
   ],
   "source": [
    "phone_lengths = train_data_new[train_data_new['via_mobile'] == True]['text'].str.split().str.len()\n",
    "no_phone_lengths = train_data_new[train_data_new['via_mobile'] == False]['text'].str.split().str.len()\n",
    "\n",
    "print(f\"mean review length for reviews posted using phone: {round(phone_lengths.mean(),4)} characters\")\n",
    "print(f\"mean review length for reviews posted not using phone: {round(no_phone_lengths.mean(),4)} characters\")"
   ]
  },
  {
   "cell_type": "code",
   "execution_count": 42,
   "id": "5f6c8f18",
   "metadata": {},
   "outputs": [
    {
     "name": "stdout",
     "output_type": "stream",
     "text": [
      "Average length review for service: {1: 218, 2: 196, 3: 171, 4: 150, 5: 140}\n",
      "Average length review for cleanliness: {1: 189, 2: 198, 3: 173, 4: 155, 5: 144}\n",
      "Average length review for value: {1: 203, 2: 198, 3: 169, 4: 146, 5: 139}\n",
      "Average length review for location: {1: 186, 2: 183, 3: 167, 4: 158, 5: 146}\n",
      "Average length review for sleep_quality: {1: 188, 2: 191, 3: 162, 4: 147, 5: 138}\n",
      "Average length review for rooms: {1: 186, 2: 188, 3: 171, 4: 154, 5: 139}\n",
      "Average length review for overall: {1: 193, 2: 201, 3: 175, 4: 148, 5: 135}\n"
     ]
    }
   ],
   "source": [
    "def average_text_length_by_rating(column):\n",
    "    avg_len_by_rating = {}\n",
    "    for i in range(1,6):\n",
    "        text_lens = train_data_new[train_data_new[column] == i]['text'].str.split().str.len()\n",
    "        avg_len_by_rating[i] = int(text_lens.mean())\n",
    "    \n",
    "    return avg_len_by_rating\n",
    "\n",
    "avg_array = []\n",
    "avg_len_per_rating = {i+1:0 for i in range(5)}\n",
    "\n",
    "for n in cols:\n",
    "    avg_len = average_text_length_by_rating(n)\n",
    "    avg_array.append((n,avg_len))\n",
    "    for v in avg_len:\n",
    "        avg_len_per_rating[v] += avg_len[v]\n",
    "    print(f\"Average length review for {n}: {avg_len}\")\n"
   ]
  },
  {
   "cell_type": "code",
   "execution_count": 43,
   "id": "bad25b99",
   "metadata": {},
   "outputs": [
    {
     "data": {
      "text/plain": [
       "{1: 272, 2: 271, 3: 237, 4: 211, 5: 196}"
      ]
     },
     "execution_count": 43,
     "metadata": {},
     "output_type": "execute_result"
    }
   ],
   "source": [
    "for v in avg_len_per_rating:\n",
    "    avg_len_per_rating[v] = avg_len_per_rating[v]//5\n",
    "\n",
    "avg_len_per_rating"
   ]
  },
  {
   "cell_type": "code",
   "execution_count": 44,
   "id": "fa8e4361",
   "metadata": {},
   "outputs": [
    {
     "data": {
      "image/png": "[encoded data removed]",
      "text/plain": [
       "<Figure size 600x400 with 1 Axes>"
      ]
     },
     "metadata": {},
     "output_type": "display_data"
    },
    {
     "data": {
      "image/png": "[encoded data removed]",
      "text/plain": [
       "<Figure size 600x400 with 1 Axes>"
      ]
     },
     "metadata": {},
     "output_type": "display_data"
    },
    {
     "data": {
      "image/png": "[encoded data removed]",
      "text/plain": [
       "<Figure size 600x400 with 1 Axes>"
      ]
     },
     "metadata": {},
     "output_type": "display_data"
    },
    {
     "data": {
      "image/png": "[encoded data removed]",
      "text/plain": [
       "<Figure size 600x400 with 1 Axes>"
      ]
     },
     "metadata": {},
     "output_type": "display_data"
    },
    {
     "data": {
      "image/png": "[encoded data removed]",
      "text/plain": [
       "<Figure size 600x400 with 1 Axes>"
      ]
     },
     "metadata": {},
     "output_type": "display_data"
    },
    {
     "data": {
      "image/png": "[encoded data removed]",
      "text/plain": [
       "<Figure size 600x400 with 1 Axes>"
      ]
     },
     "metadata": {},
     "output_type": "display_data"
    },
    {
     "data": {
      "image/png": "[encoded data removed]",
      "text/plain": [
       "<Figure size 600x400 with 1 Axes>"
      ]
     },
     "metadata": {},
     "output_type": "display_data"
    }
   ],
   "source": [
    "def plot_avg_ratings(index):\n",
    "    name, ratings = avg_array[index]\n",
    "    plt.figure(figsize=(6,4))\n",
    "    plt.bar(ratings.keys(), ratings.values())\n",
    "    plt.title(f'Average review length for each rating for {name}')\n",
    "    plt.xlabel(f'{name} rating')\n",
    "    plt.ylabel('words')\n",
    "    plt.show()\n",
    "\n",
    "for i in range(len(avg_array)):\n",
    "    plot_avg_ratings(i)"
   ]
  },
  {
   "cell_type": "code",
   "execution_count": 45,
   "id": "c0209749",
   "metadata": {},
   "outputs": [
    {
     "data": {
      "image/png": "[encoded data removed]",
      "text/plain": [
       "<Figure size 600x400 with 1 Axes>"
      ]
     },
     "metadata": {},
     "output_type": "display_data"
    }
   ],
   "source": [
    "plt.figure(figsize=(6,4))\n",
    "plt.bar(avg_len_per_rating.keys(), avg_len_per_rating.values())\n",
    "plt.title(f'Average word length of reviews over all ratings')\n",
    "plt.xlabel('rating')\n",
    "plt.ylabel('word count')\n",
    "plt.show()"
   ]
  },
  {
   "cell_type": "code",
   "execution_count": 46,
   "id": "452d9740",
   "metadata": {},
   "outputs": [
    {
     "data": {
      "text/html": [
       "<div>\n",
       "<style scoped>\n",
       "    .dataframe tbody tr th:only-of-type {\n",
       "        vertical-align: middle;\n",
       "    }\n",
       "\n",
       "    .dataframe tbody tr th {\n",
       "        vertical-align: top;\n",
       "    }\n",
       "\n",
       "    .dataframe thead th {\n",
       "        text-align: right;\n",
       "    }\n",
       "</style>\n",
       "<table border=\"1\" class=\"dataframe\">\n",
       "  <thead>\n",
       "    <tr style=\"text-align: right;\">\n",
       "      <th></th>\n",
       "      <th>title</th>\n",
       "      <th>text</th>\n",
       "      <th>author</th>\n",
       "      <th>date_stayed</th>\n",
       "      <th>offering_id</th>\n",
       "      <th>num_helpful_votes</th>\n",
       "      <th>date</th>\n",
       "      <th>id</th>\n",
       "      <th>via_mobile</th>\n",
       "      <th>service</th>\n",
       "      <th>cleanliness</th>\n",
       "      <th>overall</th>\n",
       "      <th>value</th>\n",
       "      <th>location</th>\n",
       "      <th>sleep_quality</th>\n",
       "      <th>rooms</th>\n",
       "      <th>missing_sq</th>\n",
       "      <th>date_stayed_dt</th>\n",
       "    </tr>\n",
       "  </thead>\n",
       "  <tbody>\n",
       "    <tr>\n",
       "      <th>0</th>\n",
       "      <td>“Horrible experience”</td>\n",
       "      <td>First of all we got there and they didn't have...</td>\n",
       "      <td>{'username': 'Kh3RD', 'num_reviews': 1, 'id': ...</td>\n",
       "      <td>2012-09</td>\n",
       "      <td>80138</td>\n",
       "      <td>0</td>\n",
       "      <td>2012-09-19</td>\n",
       "      <td>140716137</td>\n",
       "      <td>0</td>\n",
       "      <td>1.0</td>\n",
       "      <td>2.0</td>\n",
       "      <td>1.0</td>\n",
       "      <td>1.0</td>\n",
       "      <td>3.0</td>\n",
       "      <td>2.0</td>\n",
       "      <td>1.0</td>\n",
       "      <td>0</td>\n",
       "      <td>2012-09-01</td>\n",
       "    </tr>\n",
       "    <tr>\n",
       "      <th>1</th>\n",
       "      <td>“Stay Away”</td>\n",
       "      <td>Found Racist graffiti in the room. Request to ...</td>\n",
       "      <td>{'username': 'TheUglyPhotographer', 'num_citie...</td>\n",
       "      <td>2011-06</td>\n",
       "      <td>240151</td>\n",
       "      <td>1</td>\n",
       "      <td>2011-06-27</td>\n",
       "      <td>114807323</td>\n",
       "      <td>0</td>\n",
       "      <td>1.0</td>\n",
       "      <td>1.0</td>\n",
       "      <td>1.0</td>\n",
       "      <td>2.0</td>\n",
       "      <td>NaN</td>\n",
       "      <td>1.0</td>\n",
       "      <td>NaN</td>\n",
       "      <td>0</td>\n",
       "      <td>2011-06-01</td>\n",
       "    </tr>\n",
       "    <tr>\n",
       "      <th>2</th>\n",
       "      <td>“Great location and service”</td>\n",
       "      <td>Close to Union Square - hotel is a bit of a ma...</td>\n",
       "      <td>{'username': 'Moonstonemoclips', 'num_cities':...</td>\n",
       "      <td>2010-10</td>\n",
       "      <td>80793</td>\n",
       "      <td>0</td>\n",
       "      <td>2010-10-25</td>\n",
       "      <td>84805430</td>\n",
       "      <td>0</td>\n",
       "      <td>4.0</td>\n",
       "      <td>5.0</td>\n",
       "      <td>4.0</td>\n",
       "      <td>3.0</td>\n",
       "      <td>5.0</td>\n",
       "      <td>4.0</td>\n",
       "      <td>4.0</td>\n",
       "      <td>0</td>\n",
       "      <td>2010-10-01</td>\n",
       "    </tr>\n",
       "    <tr>\n",
       "      <th>3</th>\n",
       "      <td>“I will never go back here again!”</td>\n",
       "      <td>I had a bad vibe about this place from the mom...</td>\n",
       "      <td>{'username': 'JoanellenJ', 'num_cities': 10, '...</td>\n",
       "      <td>2012-06</td>\n",
       "      <td>111418</td>\n",
       "      <td>1</td>\n",
       "      <td>2012-06-28</td>\n",
       "      <td>132971117</td>\n",
       "      <td>0</td>\n",
       "      <td>3.0</td>\n",
       "      <td>2.0</td>\n",
       "      <td>2.0</td>\n",
       "      <td>1.0</td>\n",
       "      <td>4.0</td>\n",
       "      <td>1.0</td>\n",
       "      <td>1.0</td>\n",
       "      <td>0</td>\n",
       "      <td>2012-06-01</td>\n",
       "    </tr>\n",
       "    <tr>\n",
       "      <th>4</th>\n",
       "      <td>“Ripped off our VISA card after departure”</td>\n",
       "      <td>After we received our \"final\" bill and left th...</td>\n",
       "      <td>{'username': 'Lynnworks', 'num_cities': 3, 'nu...</td>\n",
       "      <td>2012-01</td>\n",
       "      <td>671150</td>\n",
       "      <td>3</td>\n",
       "      <td>2012-02-04</td>\n",
       "      <td>124104157</td>\n",
       "      <td>0</td>\n",
       "      <td>NaN</td>\n",
       "      <td>NaN</td>\n",
       "      <td>1.0</td>\n",
       "      <td>NaN</td>\n",
       "      <td>NaN</td>\n",
       "      <td>NaN</td>\n",
       "      <td>NaN</td>\n",
       "      <td>1</td>\n",
       "      <td>2012-01-01</td>\n",
       "    </tr>\n",
       "  </tbody>\n",
       "</table>\n",
       "</div>"
      ],
      "text/plain": [
       "                                        title  \\\n",
       "0                       “Horrible experience”   \n",
       "1                                 “Stay Away”   \n",
       "2                “Great location and service”   \n",
       "3          “I will never go back here again!”   \n",
       "4  “Ripped off our VISA card after departure”   \n",
       "\n",
       "                                                text  \\\n",
       "0  First of all we got there and they didn't have...   \n",
       "1  Found Racist graffiti in the room. Request to ...   \n",
       "2  Close to Union Square - hotel is a bit of a ma...   \n",
       "3  I had a bad vibe about this place from the mom...   \n",
       "4  After we received our \"final\" bill and left th...   \n",
       "\n",
       "                                              author date_stayed  offering_id  \\\n",
       "0  {'username': 'Kh3RD', 'num_reviews': 1, 'id': ...     2012-09        80138   \n",
       "1  {'username': 'TheUglyPhotographer', 'num_citie...     2011-06       240151   \n",
       "2  {'username': 'Moonstonemoclips', 'num_cities':...     2010-10        80793   \n",
       "3  {'username': 'JoanellenJ', 'num_cities': 10, '...     2012-06       111418   \n",
       "4  {'username': 'Lynnworks', 'num_cities': 3, 'nu...     2012-01       671150   \n",
       "\n",
       "   num_helpful_votes       date         id  via_mobile  service  cleanliness  \\\n",
       "0                  0 2012-09-19  140716137           0      1.0          2.0   \n",
       "1                  1 2011-06-27  114807323           0      1.0          1.0   \n",
       "2                  0 2010-10-25   84805430           0      4.0          5.0   \n",
       "3                  1 2012-06-28  132971117           0      3.0          2.0   \n",
       "4                  3 2012-02-04  124104157           0      NaN          NaN   \n",
       "\n",
       "   overall  value  location  sleep_quality  rooms  missing_sq date_stayed_dt  \n",
       "0      1.0    1.0       3.0            2.0    1.0           0     2012-09-01  \n",
       "1      1.0    2.0       NaN            1.0    NaN           0     2011-06-01  \n",
       "2      4.0    3.0       5.0            4.0    4.0           0     2010-10-01  \n",
       "3      2.0    1.0       4.0            1.0    1.0           0     2012-06-01  \n",
       "4      1.0    NaN       NaN            NaN    NaN           1     2012-01-01  "
      ]
     },
     "execution_count": 46,
     "metadata": {},
     "output_type": "execute_result"
    }
   ],
   "source": [
    "train_data_new.head()"
   ]
  },
  {
   "cell_type": "code",
   "execution_count": 47,
   "id": "90feb4e0",
   "metadata": {},
   "outputs": [
    {
     "data": {
      "text/plain": [
       "num_helpful_votes\n",
       "0    12636\n",
       "1     5574\n",
       "2     2445\n",
       "3     1127\n",
       "4      643\n",
       "Name: count, dtype: int64"
      ]
     },
     "execution_count": 47,
     "metadata": {},
     "output_type": "execute_result"
    }
   ],
   "source": [
    "train_data_new['num_helpful_votes'].value_counts()[:5]"
   ]
  },
  {
   "cell_type": "code",
   "execution_count": 48,
   "id": "dc99209d",
   "metadata": {},
   "outputs": [
    {
     "data": {
      "text/plain": [
       "array([  0,   1,   3,   4,   2,   7,  11,   9,   5,  12,   6,   8,  13,\n",
       "        15,  10,  16,  25,  24,  18,  17,  21,  14,  20,  22,  26,  23,\n",
       "        19,  45,  36,  38,  56,  54,  57,  30,  32,  98,  63,  28,  44,\n",
       "        46,  50,  39,  27,  29,  40,  41, 401])"
      ]
     },
     "execution_count": 48,
     "metadata": {},
     "output_type": "execute_result"
    }
   ],
   "source": [
    "train_data_new['num_helpful_votes'].unique()"
   ]
  },
  {
   "cell_type": "code",
   "execution_count": 49,
   "id": "3ca0eba6",
   "metadata": {},
   "outputs": [
    {
     "data": {
      "text/html": [
       "<div>\n",
       "<style scoped>\n",
       "    .dataframe tbody tr th:only-of-type {\n",
       "        vertical-align: middle;\n",
       "    }\n",
       "\n",
       "    .dataframe tbody tr th {\n",
       "        vertical-align: top;\n",
       "    }\n",
       "\n",
       "    .dataframe thead th {\n",
       "        text-align: right;\n",
       "    }\n",
       "</style>\n",
       "<table border=\"1\" class=\"dataframe\">\n",
       "  <thead>\n",
       "    <tr style=\"text-align: right;\">\n",
       "      <th></th>\n",
       "      <th>title</th>\n",
       "      <th>text</th>\n",
       "      <th>author</th>\n",
       "      <th>date_stayed</th>\n",
       "      <th>offering_id</th>\n",
       "      <th>num_helpful_votes</th>\n",
       "      <th>date</th>\n",
       "      <th>id</th>\n",
       "      <th>via_mobile</th>\n",
       "      <th>service</th>\n",
       "      <th>cleanliness</th>\n",
       "      <th>overall</th>\n",
       "      <th>value</th>\n",
       "      <th>location</th>\n",
       "      <th>sleep_quality</th>\n",
       "      <th>rooms</th>\n",
       "      <th>missing_sq</th>\n",
       "      <th>date_stayed_dt</th>\n",
       "    </tr>\n",
       "  </thead>\n",
       "  <tbody>\n",
       "    <tr>\n",
       "      <th>23937</th>\n",
       "      <td>“stay in old fashion style”</td>\n",
       "      <td>Stayed in a lovely suite on 31st floor. Saw th...</td>\n",
       "      <td>{'username': 'karin stockholm', 'num_cities': ...</td>\n",
       "      <td>2006-05</td>\n",
       "      <td>114591</td>\n",
       "      <td>401</td>\n",
       "      <td>2006-06-03</td>\n",
       "      <td>5294881</td>\n",
       "      <td>0</td>\n",
       "      <td>NaN</td>\n",
       "      <td>NaN</td>\n",
       "      <td>4.0</td>\n",
       "      <td>NaN</td>\n",
       "      <td>NaN</td>\n",
       "      <td>NaN</td>\n",
       "      <td>NaN</td>\n",
       "      <td>1</td>\n",
       "      <td>2006-05-01</td>\n",
       "    </tr>\n",
       "  </tbody>\n",
       "</table>\n",
       "</div>"
      ],
      "text/plain": [
       "                             title  \\\n",
       "23937  “stay in old fashion style”   \n",
       "\n",
       "                                                    text  \\\n",
       "23937  Stayed in a lovely suite on 31st floor. Saw th...   \n",
       "\n",
       "                                                  author date_stayed  \\\n",
       "23937  {'username': 'karin stockholm', 'num_cities': ...     2006-05   \n",
       "\n",
       "       offering_id  num_helpful_votes       date       id  via_mobile  \\\n",
       "23937       114591                401 2006-06-03  5294881           0   \n",
       "\n",
       "       service  cleanliness  overall  value  location  sleep_quality  rooms  \\\n",
       "23937      NaN          NaN      4.0    NaN       NaN            NaN    NaN   \n",
       "\n",
       "       missing_sq date_stayed_dt  \n",
       "23937           1     2006-05-01  "
      ]
     },
     "execution_count": 49,
     "metadata": {},
     "output_type": "execute_result"
    }
   ],
   "source": [
    "train_data_new.loc[(train_data_new['num_helpful_votes'] == 401)]"
   ]
  },
  {
   "cell_type": "code",
   "execution_count": 50,
   "id": "3fdd1ca2",
   "metadata": {},
   "outputs": [
    {
     "data": {
      "text/html": [
       "<div>\n",
       "<style scoped>\n",
       "    .dataframe tbody tr th:only-of-type {\n",
       "        vertical-align: middle;\n",
       "    }\n",
       "\n",
       "    .dataframe tbody tr th {\n",
       "        vertical-align: top;\n",
       "    }\n",
       "\n",
       "    .dataframe thead th {\n",
       "        text-align: right;\n",
       "    }\n",
       "</style>\n",
       "<table border=\"1\" class=\"dataframe\">\n",
       "  <thead>\n",
       "    <tr style=\"text-align: right;\">\n",
       "      <th></th>\n",
       "      <th>title</th>\n",
       "      <th>text</th>\n",
       "      <th>author</th>\n",
       "      <th>date_stayed</th>\n",
       "      <th>offering_id</th>\n",
       "      <th>num_helpful_votes</th>\n",
       "      <th>date</th>\n",
       "      <th>id</th>\n",
       "      <th>via_mobile</th>\n",
       "      <th>service</th>\n",
       "      <th>cleanliness</th>\n",
       "      <th>overall</th>\n",
       "      <th>value</th>\n",
       "      <th>location</th>\n",
       "      <th>sleep_quality</th>\n",
       "      <th>rooms</th>\n",
       "      <th>missing_sq</th>\n",
       "      <th>date_stayed_dt</th>\n",
       "    </tr>\n",
       "  </thead>\n",
       "  <tbody>\n",
       "    <tr>\n",
       "      <th>21883</th>\n",
       "      <td>“Great Place to Stay in NYC”</td>\n",
       "      <td>We stayed at this small hotel in December 2004...</td>\n",
       "      <td>{'username': '', 'id': '', 'location': ''}</td>\n",
       "      <td>2004-12</td>\n",
       "      <td>217630</td>\n",
       "      <td>41</td>\n",
       "      <td>2005-06-29</td>\n",
       "      <td>3621014</td>\n",
       "      <td>0</td>\n",
       "      <td>4.0</td>\n",
       "      <td>4.0</td>\n",
       "      <td>5.0</td>\n",
       "      <td>4.0</td>\n",
       "      <td>NaN</td>\n",
       "      <td>NaN</td>\n",
       "      <td>4.0</td>\n",
       "      <td>1</td>\n",
       "      <td>2004-12-01</td>\n",
       "    </tr>\n",
       "  </tbody>\n",
       "</table>\n",
       "</div>"
      ],
      "text/plain": [
       "                              title  \\\n",
       "21883  “Great Place to Stay in NYC”   \n",
       "\n",
       "                                                    text  \\\n",
       "21883  We stayed at this small hotel in December 2004...   \n",
       "\n",
       "                                           author date_stayed  offering_id  \\\n",
       "21883  {'username': '', 'id': '', 'location': ''}     2004-12       217630   \n",
       "\n",
       "       num_helpful_votes       date       id  via_mobile  service  \\\n",
       "21883                 41 2005-06-29  3621014           0      4.0   \n",
       "\n",
       "       cleanliness  overall  value  location  sleep_quality  rooms  \\\n",
       "21883          4.0      5.0    4.0       NaN            NaN    4.0   \n",
       "\n",
       "       missing_sq date_stayed_dt  \n",
       "21883           1     2004-12-01  "
      ]
     },
     "execution_count": 50,
     "metadata": {},
     "output_type": "execute_result"
    }
   ],
   "source": [
    "train_data_new.loc[(train_data_new['num_helpful_votes'] == 41)]"
   ]
  },
  {
   "cell_type": "code",
   "execution_count": 51,
   "id": "3d0560d2",
   "metadata": {},
   "outputs": [],
   "source": [
    "def build_prompt(dfrow):\n",
    "    FILL = '<MISSING>'\n",
    "\n",
    "    def format_prompt(col, val):\n",
    "        return f\"{col}: {FILL if pd.isna(val) else int(val)}\"\n",
    "    \n",
    "    def rating_to_len(rating):\n",
    "        if rating == 1 or rating == 2:\n",
    "            return \"LONG\"\n",
    "        elif rating == 3:\n",
    "            return \"MED\"\n",
    "        elif rating == 4 or rating == 5:\n",
    "            return \"SHORT\"\n",
    "\n",
    "    form = [\n",
    "        format_prompt('service', dfrow['service']),\n",
    "        format_prompt('cleanliness',dfrow['cleanliness']),\n",
    "        format_prompt('value', dfrow['value']),\n",
    "        format_prompt('rooms', dfrow['rooms']),\n",
    "        format_prompt('location', dfrow['location']),\n",
    "        format_prompt('sleep_quality', dfrow['sleep_quality']),\n",
    "        format_prompt('overall', dfrow['overall']),\n",
    "        f\"date_stayed: {dfrow['date_stayed'] if not pd.isna(dfrow['date_stayed']) else FILL}\",\n",
    "        f\"device: {'PHONE' if bool(dfrow['via_mobile']) else 'COMPUTER'}\",\n",
    "        f\"len: {rating_to_len(dfrow['overall'])}\"\n",
    "\n",
    "    ]\n",
    "\n",
    "    instruction = (\n",
    "        \"You are a travel review generator for hotel. You will be given a number features including numerical ratings for a number of properties alongisde some others\" \n",
    "        \"Ratings use a 1-5 scale (1 = terrible, 5 = excellent).\"\n",
    "        \"You will also be given the date stayed, the expected length of the review and also if it was written on a phone or not.\"\n",
    "        \"Write a review that aligns with the features given but doesn't necessarily quote them directly.\"\n",
    "    )\n",
    "\n",
    "    prompt = (\n",
    "    f\"<INST>\\n{instruction}\\n</INST>\\n\"\n",
    "    \"<FEAT>\\n\"\n",
    "    + \"\\n\".join(form) +\n",
    "    \"\\n</FEAT>\\n\"\n",
    "    \"<REVIEW>\\n\"\n",
    "    )\n",
    "\n",
    "    return prompt"
   ]
  },
  {
   "cell_type": "code",
   "execution_count": 52,
   "id": "9a93c635",
   "metadata": {},
   "outputs": [
    {
     "data": {
      "text/plain": [
       "\"<INST>\\nYou are a travel review generator for hotel. You will be given a number features including numerical ratings for a number of properties alongisde some othersRatings use a 1-5 scale (1 = terrible, 5 = excellent).You will also be given the date stayed, the expected length of the review and also if it was written on a phone or not.Write a review that aligns with the features given but doesn't necessarily quote them directly.\\n</INST>\\n<FEAT>\\nservice: 1\\ncleanliness: 2\\nvalue: 1\\nrooms: 1\\nlocation: 3\\nsleep_quality: 2\\noverall: 1\\ndate_stayed: 2012-09\\ndevice: COMPUTER\\nlen: LONG\\n</FEAT>\\n<REVIEW>\\n\""
      ]
     },
     "execution_count": 52,
     "metadata": {},
     "output_type": "execute_result"
    }
   ],
   "source": [
    "train_data_new['prompts'] = train_data_new.apply(build_prompt, axis=1)\n",
    "train_data_new['prompts'][0]"
   ]
  },
  {
   "cell_type": "code",
   "execution_count": 53,
   "id": "282eb179",
   "metadata": {},
   "outputs": [
    {
     "data": {
      "text/html": [
       "<div>\n",
       "<style scoped>\n",
       "    .dataframe tbody tr th:only-of-type {\n",
       "        vertical-align: middle;\n",
       "    }\n",
       "\n",
       "    .dataframe tbody tr th {\n",
       "        vertical-align: top;\n",
       "    }\n",
       "\n",
       "    .dataframe thead th {\n",
       "        text-align: right;\n",
       "    }\n",
       "</style>\n",
       "<table border=\"1\" class=\"dataframe\">\n",
       "  <thead>\n",
       "    <tr style=\"text-align: right;\">\n",
       "      <th></th>\n",
       "      <th>title</th>\n",
       "      <th>text</th>\n",
       "      <th>author</th>\n",
       "      <th>date_stayed</th>\n",
       "      <th>offering_id</th>\n",
       "      <th>num_helpful_votes</th>\n",
       "      <th>date</th>\n",
       "      <th>id</th>\n",
       "      <th>via_mobile</th>\n",
       "      <th>service</th>\n",
       "      <th>cleanliness</th>\n",
       "      <th>overall</th>\n",
       "      <th>value</th>\n",
       "      <th>location</th>\n",
       "      <th>sleep_quality</th>\n",
       "      <th>rooms</th>\n",
       "      <th>missing_sq</th>\n",
       "      <th>date_stayed_dt</th>\n",
       "      <th>prompts</th>\n",
       "    </tr>\n",
       "  </thead>\n",
       "  <tbody>\n",
       "    <tr>\n",
       "      <th>0</th>\n",
       "      <td>“Horrible experience”</td>\n",
       "      <td>First of all we got there and they didn't have...</td>\n",
       "      <td>{'username': 'Kh3RD', 'num_reviews': 1, 'id': ...</td>\n",
       "      <td>2012-09</td>\n",
       "      <td>80138</td>\n",
       "      <td>0</td>\n",
       "      <td>2012-09-19</td>\n",
       "      <td>140716137</td>\n",
       "      <td>0</td>\n",
       "      <td>1.0</td>\n",
       "      <td>2.0</td>\n",
       "      <td>1.0</td>\n",
       "      <td>1.0</td>\n",
       "      <td>3.0</td>\n",
       "      <td>2.0</td>\n",
       "      <td>1.0</td>\n",
       "      <td>0</td>\n",
       "      <td>2012-09-01</td>\n",
       "      <td>&lt;INST&gt;\\nYou are a travel review generator for ...</td>\n",
       "    </tr>\n",
       "    <tr>\n",
       "      <th>1</th>\n",
       "      <td>“Stay Away”</td>\n",
       "      <td>Found Racist graffiti in the room. Request to ...</td>\n",
       "      <td>{'username': 'TheUglyPhotographer', 'num_citie...</td>\n",
       "      <td>2011-06</td>\n",
       "      <td>240151</td>\n",
       "      <td>1</td>\n",
       "      <td>2011-06-27</td>\n",
       "      <td>114807323</td>\n",
       "      <td>0</td>\n",
       "      <td>1.0</td>\n",
       "      <td>1.0</td>\n",
       "      <td>1.0</td>\n",
       "      <td>2.0</td>\n",
       "      <td>NaN</td>\n",
       "      <td>1.0</td>\n",
       "      <td>NaN</td>\n",
       "      <td>0</td>\n",
       "      <td>2011-06-01</td>\n",
       "      <td>&lt;INST&gt;\\nYou are a travel review generator for ...</td>\n",
       "    </tr>\n",
       "    <tr>\n",
       "      <th>2</th>\n",
       "      <td>“Great location and service”</td>\n",
       "      <td>Close to Union Square - hotel is a bit of a ma...</td>\n",
       "      <td>{'username': 'Moonstonemoclips', 'num_cities':...</td>\n",
       "      <td>2010-10</td>\n",
       "      <td>80793</td>\n",
       "      <td>0</td>\n",
       "      <td>2010-10-25</td>\n",
       "      <td>84805430</td>\n",
       "      <td>0</td>\n",
       "      <td>4.0</td>\n",
       "      <td>5.0</td>\n",
       "      <td>4.0</td>\n",
       "      <td>3.0</td>\n",
       "      <td>5.0</td>\n",
       "      <td>4.0</td>\n",
       "      <td>4.0</td>\n",
       "      <td>0</td>\n",
       "      <td>2010-10-01</td>\n",
       "      <td>&lt;INST&gt;\\nYou are a travel review generator for ...</td>\n",
       "    </tr>\n",
       "    <tr>\n",
       "      <th>3</th>\n",
       "      <td>“I will never go back here again!”</td>\n",
       "      <td>I had a bad vibe about this place from the mom...</td>\n",
       "      <td>{'username': 'JoanellenJ', 'num_cities': 10, '...</td>\n",
       "      <td>2012-06</td>\n",
       "      <td>111418</td>\n",
       "      <td>1</td>\n",
       "      <td>2012-06-28</td>\n",
       "      <td>132971117</td>\n",
       "      <td>0</td>\n",
       "      <td>3.0</td>\n",
       "      <td>2.0</td>\n",
       "      <td>2.0</td>\n",
       "      <td>1.0</td>\n",
       "      <td>4.0</td>\n",
       "      <td>1.0</td>\n",
       "      <td>1.0</td>\n",
       "      <td>0</td>\n",
       "      <td>2012-06-01</td>\n",
       "      <td>&lt;INST&gt;\\nYou are a travel review generator for ...</td>\n",
       "    </tr>\n",
       "    <tr>\n",
       "      <th>4</th>\n",
       "      <td>“Ripped off our VISA card after departure”</td>\n",
       "      <td>After we received our \"final\" bill and left th...</td>\n",
       "      <td>{'username': 'Lynnworks', 'num_cities': 3, 'nu...</td>\n",
       "      <td>2012-01</td>\n",
       "      <td>671150</td>\n",
       "      <td>3</td>\n",
       "      <td>2012-02-04</td>\n",
       "      <td>124104157</td>\n",
       "      <td>0</td>\n",
       "      <td>NaN</td>\n",
       "      <td>NaN</td>\n",
       "      <td>1.0</td>\n",
       "      <td>NaN</td>\n",
       "      <td>NaN</td>\n",
       "      <td>NaN</td>\n",
       "      <td>NaN</td>\n",
       "      <td>1</td>\n",
       "      <td>2012-01-01</td>\n",
       "      <td>&lt;INST&gt;\\nYou are a travel review generator for ...</td>\n",
       "    </tr>\n",
       "  </tbody>\n",
       "</table>\n",
       "</div>"
      ],
      "text/plain": [
       "                                        title  \\\n",
       "0                       “Horrible experience”   \n",
       "1                                 “Stay Away”   \n",
       "2                “Great location and service”   \n",
       "3          “I will never go back here again!”   \n",
       "4  “Ripped off our VISA card after departure”   \n",
       "\n",
       "                                                text  \\\n",
       "0  First of all we got there and they didn't have...   \n",
       "1  Found Racist graffiti in the room. Request to ...   \n",
       "2  Close to Union Square - hotel is a bit of a ma...   \n",
       "3  I had a bad vibe about this place from the mom...   \n",
       "4  After we received our \"final\" bill and left th...   \n",
       "\n",
       "                                              author date_stayed  offering_id  \\\n",
       "0  {'username': 'Kh3RD', 'num_reviews': 1, 'id': ...     2012-09        80138   \n",
       "1  {'username': 'TheUglyPhotographer', 'num_citie...     2011-06       240151   \n",
       "2  {'username': 'Moonstonemoclips', 'num_cities':...     2010-10        80793   \n",
       "3  {'username': 'JoanellenJ', 'num_cities': 10, '...     2012-06       111418   \n",
       "4  {'username': 'Lynnworks', 'num_cities': 3, 'nu...     2012-01       671150   \n",
       "\n",
       "   num_helpful_votes       date         id  via_mobile  service  cleanliness  \\\n",
       "0                  0 2012-09-19  140716137           0      1.0          2.0   \n",
       "1                  1 2011-06-27  114807323           0      1.0          1.0   \n",
       "2                  0 2010-10-25   84805430           0      4.0          5.0   \n",
       "3                  1 2012-06-28  132971117           0      3.0          2.0   \n",
       "4                  3 2012-02-04  124104157           0      NaN          NaN   \n",
       "\n",
       "   overall  value  location  sleep_quality  rooms  missing_sq date_stayed_dt  \\\n",
       "0      1.0    1.0       3.0            2.0    1.0           0     2012-09-01   \n",
       "1      1.0    2.0       NaN            1.0    NaN           0     2011-06-01   \n",
       "2      4.0    3.0       5.0            4.0    4.0           0     2010-10-01   \n",
       "3      2.0    1.0       4.0            1.0    1.0           0     2012-06-01   \n",
       "4      1.0    NaN       NaN            NaN    NaN           1     2012-01-01   \n",
       "\n",
       "                                             prompts  \n",
       "0  <INST>\\nYou are a travel review generator for ...  \n",
       "1  <INST>\\nYou are a travel review generator for ...  \n",
       "2  <INST>\\nYou are a travel review generator for ...  \n",
       "3  <INST>\\nYou are a travel review generator for ...  \n",
       "4  <INST>\\nYou are a travel review generator for ...  "
      ]
     },
     "execution_count": 53,
     "metadata": {},
     "output_type": "execute_result"
    }
   ],
   "source": [
    "train_data_new.head()"
   ]
  },
  {
   "cell_type": "code",
   "execution_count": 54,
   "id": "c6bfac8a",
   "metadata": {},
   "outputs": [
    {
     "data": {
      "text/html": [
       "<div>\n",
       "<style scoped>\n",
       "    .dataframe tbody tr th:only-of-type {\n",
       "        vertical-align: middle;\n",
       "    }\n",
       "\n",
       "    .dataframe tbody tr th {\n",
       "        vertical-align: top;\n",
       "    }\n",
       "\n",
       "    .dataframe thead th {\n",
       "        text-align: right;\n",
       "    }\n",
       "</style>\n",
       "<table border=\"1\" class=\"dataframe\">\n",
       "  <thead>\n",
       "    <tr style=\"text-align: right;\">\n",
       "      <th></th>\n",
       "      <th>text</th>\n",
       "      <th>id</th>\n",
       "      <th>prompts</th>\n",
       "    </tr>\n",
       "  </thead>\n",
       "  <tbody>\n",
       "    <tr>\n",
       "      <th>0</th>\n",
       "      <td>First of all we got there and they didn't have...</td>\n",
       "      <td>140716137</td>\n",
       "      <td>&lt;INST&gt;\\nYou are a travel review generator for ...</td>\n",
       "    </tr>\n",
       "    <tr>\n",
       "      <th>1</th>\n",
       "      <td>Found Racist graffiti in the room. Request to ...</td>\n",
       "      <td>114807323</td>\n",
       "      <td>&lt;INST&gt;\\nYou are a travel review generator for ...</td>\n",
       "    </tr>\n",
       "    <tr>\n",
       "      <th>2</th>\n",
       "      <td>Close to Union Square - hotel is a bit of a ma...</td>\n",
       "      <td>84805430</td>\n",
       "      <td>&lt;INST&gt;\\nYou are a travel review generator for ...</td>\n",
       "    </tr>\n",
       "    <tr>\n",
       "      <th>3</th>\n",
       "      <td>I had a bad vibe about this place from the mom...</td>\n",
       "      <td>132971117</td>\n",
       "      <td>&lt;INST&gt;\\nYou are a travel review generator for ...</td>\n",
       "    </tr>\n",
       "    <tr>\n",
       "      <th>4</th>\n",
       "      <td>After we received our \"final\" bill and left th...</td>\n",
       "      <td>124104157</td>\n",
       "      <td>&lt;INST&gt;\\nYou are a travel review generator for ...</td>\n",
       "    </tr>\n",
       "  </tbody>\n",
       "</table>\n",
       "</div>"
      ],
      "text/plain": [
       "                                                text         id  \\\n",
       "0  First of all we got there and they didn't have...  140716137   \n",
       "1  Found Racist graffiti in the room. Request to ...  114807323   \n",
       "2  Close to Union Square - hotel is a bit of a ma...   84805430   \n",
       "3  I had a bad vibe about this place from the mom...  132971117   \n",
       "4  After we received our \"final\" bill and left th...  124104157   \n",
       "\n",
       "                                             prompts  \n",
       "0  <INST>\\nYou are a travel review generator for ...  \n",
       "1  <INST>\\nYou are a travel review generator for ...  \n",
       "2  <INST>\\nYou are a travel review generator for ...  \n",
       "3  <INST>\\nYou are a travel review generator for ...  \n",
       "4  <INST>\\nYou are a travel review generator for ...  "
      ]
     },
     "execution_count": 54,
     "metadata": {},
     "output_type": "execute_result"
    }
   ],
   "source": [
    "id_prompts = train_data_new[['text','id','prompts']]\n",
    "id_prompts.head()"
   ]
  },
  {
   "cell_type": "code",
   "execution_count": 55,
   "id": "441abb17",
   "metadata": {},
   "outputs": [
    {
     "data": {
      "text/html": [
       "<div>\n",
       "<style scoped>\n",
       "    .dataframe tbody tr th:only-of-type {\n",
       "        vertical-align: middle;\n",
       "    }\n",
       "\n",
       "    .dataframe tbody tr th {\n",
       "        vertical-align: top;\n",
       "    }\n",
       "\n",
       "    .dataframe thead th {\n",
       "        text-align: right;\n",
       "    }\n",
       "</style>\n",
       "<table border=\"1\" class=\"dataframe\">\n",
       "  <thead>\n",
       "    <tr style=\"text-align: right;\">\n",
       "      <th></th>\n",
       "      <th>prompts</th>\n",
       "      <th>text</th>\n",
       "    </tr>\n",
       "  </thead>\n",
       "  <tbody>\n",
       "    <tr>\n",
       "      <th>0</th>\n",
       "      <td>&lt;INST&gt;\\nYou are a travel review generator for ...</td>\n",
       "      <td>First of all we got there and they didn't have...</td>\n",
       "    </tr>\n",
       "    <tr>\n",
       "      <th>1</th>\n",
       "      <td>&lt;INST&gt;\\nYou are a travel review generator for ...</td>\n",
       "      <td>Found Racist graffiti in the room. Request to ...</td>\n",
       "    </tr>\n",
       "    <tr>\n",
       "      <th>2</th>\n",
       "      <td>&lt;INST&gt;\\nYou are a travel review generator for ...</td>\n",
       "      <td>Close to Union Square - hotel is a bit of a ma...</td>\n",
       "    </tr>\n",
       "    <tr>\n",
       "      <th>3</th>\n",
       "      <td>&lt;INST&gt;\\nYou are a travel review generator for ...</td>\n",
       "      <td>I had a bad vibe about this place from the mom...</td>\n",
       "    </tr>\n",
       "    <tr>\n",
       "      <th>4</th>\n",
       "      <td>&lt;INST&gt;\\nYou are a travel review generator for ...</td>\n",
       "      <td>After we received our \"final\" bill and left th...</td>\n",
       "    </tr>\n",
       "  </tbody>\n",
       "</table>\n",
       "</div>"
      ],
      "text/plain": [
       "                                             prompts  \\\n",
       "0  <INST>\\nYou are a travel review generator for ...   \n",
       "1  <INST>\\nYou are a travel review generator for ...   \n",
       "2  <INST>\\nYou are a travel review generator for ...   \n",
       "3  <INST>\\nYou are a travel review generator for ...   \n",
       "4  <INST>\\nYou are a travel review generator for ...   \n",
       "\n",
       "                                                text  \n",
       "0  First of all we got there and they didn't have...  \n",
       "1  Found Racist graffiti in the room. Request to ...  \n",
       "2  Close to Union Square - hotel is a bit of a ma...  \n",
       "3  I had a bad vibe about this place from the mom...  \n",
       "4  After we received our \"final\" bill and left th...  "
      ]
     },
     "execution_count": 55,
     "metadata": {},
     "output_type": "execute_result"
    }
   ],
   "source": [
    "model_df = id_prompts[['prompts','text']]\n",
    "model_df.head()"
   ]
  },
  {
   "cell_type": "code",
   "execution_count": 56,
   "id": "417e53b9",
   "metadata": {},
   "outputs": [
    {
     "name": "stderr",
     "output_type": "stream",
     "text": [
      "/home/arpydarpy/miniconda3/envs/a1nlp/lib/python3.11/site-packages/tqdm/auto.py:21: TqdmWarning: IProgress not found. Please update jupyter and ipywidgets. See https://ipywidgets.readthedocs.io/en/stable/user_install.html\n",
      "  from .autonotebook import tqdm as notebook_tqdm\n"
     ]
    },
    {
     "data": {
      "text/plain": [
       "DatasetDict({\n",
       "    train: Dataset({\n",
       "        features: ['prompts', 'text'],\n",
       "        num_rows: 21599\n",
       "    })\n",
       "    test: Dataset({\n",
       "        features: ['prompts', 'text'],\n",
       "        num_rows: 2400\n",
       "    })\n",
       "})"
      ]
     },
     "execution_count": 56,
     "metadata": {},
     "output_type": "execute_result"
    }
   ],
   "source": [
    "import transformers\n",
    "import accelerate\n",
    "import trl\n",
    "from datasets import Dataset\n",
    "from transformers import (AutoTokenizer, AutoModelForSeq2SeqLM,\n",
    "                          DataCollatorForSeq2Seq, Seq2SeqTrainingArguments, Seq2SeqTrainer, Trainer)\n",
    "\n",
    "model_ds = Dataset.from_pandas(model_df)\n",
    "split = model_ds.train_test_split(test_size=0.1, shuffle=True)\n",
    "split\n"
   ]
  },
  {
   "cell_type": "code",
   "execution_count": 57,
   "id": "b81a3852",
   "metadata": {},
   "outputs": [
    {
     "data": {
      "text/plain": [
       "Dataset({\n",
       "    features: ['prompts', 'text'],\n",
       "    num_rows: 21599\n",
       "})"
      ]
     },
     "execution_count": 57,
     "metadata": {},
     "output_type": "execute_result"
    }
   ],
   "source": [
    "train_set, val_set = split[\"train\"], split['test']\n",
    "train_set"
   ]
  },
  {
   "cell_type": "code",
   "execution_count": 58,
   "id": "ae21275c",
   "metadata": {},
   "outputs": [
    {
     "data": {
      "text/plain": [
       "Dataset({\n",
       "    features: ['prompts', 'text'],\n",
       "    num_rows: 2400\n",
       "})"
      ]
     },
     "execution_count": 58,
     "metadata": {},
     "output_type": "execute_result"
    }
   ],
   "source": [
    "val_set"
   ]
  },
  {
   "cell_type": "code",
   "execution_count": 155,
   "id": "134df434",
   "metadata": {},
   "outputs": [],
   "source": [
    "MODEL_NAME = 'google/flan-t5-base'\n",
    "tokeniser = AutoTokenizer.from_pretrained(MODEL_NAME)"
   ]
  },
  {
   "cell_type": "code",
   "execution_count": 196,
   "id": "aaeb6578",
   "metadata": {},
   "outputs": [
    {
     "name": "stdout",
     "output_type": "stream",
     "text": [
      "This prompt is 151 tokens long.\n"
     ]
    }
   ],
   "source": [
    "encoded = tokeniser(train_data_new['prompts'][2], return_tensors=\"pt\", add_special_tokens=True)\n",
    "num_tokens = encoded[\"input_ids\"].shape[1]\n",
    "\n",
    "print(f\"This prompt is {num_tokens} tokens long.\")"
   ]
  },
  {
   "cell_type": "code",
   "execution_count": 157,
   "id": "5df32ba9",
   "metadata": {},
   "outputs": [
    {
     "data": {
      "text/plain": [
       "6"
      ]
     },
     "execution_count": 157,
     "metadata": {},
     "output_type": "execute_result"
    }
   ],
   "source": [
    "SPECIAL = [\"<INST>\", \"</INST>\", \"<FEAT>\", \"</FEAT>\",\n",
    "           \"<REVIEW>\", \"</REVIEW>\" \"<MISSING>\"]\n",
    "\n",
    "tokeniser.add_special_tokens({\"additional_special_tokens\": SPECIAL})"
   ]
  },
  {
   "cell_type": "code",
   "execution_count": 158,
   "id": "c3541f47",
   "metadata": {},
   "outputs": [
    {
     "name": "stderr",
     "output_type": "stream",
     "text": [
      "Map: 100%|██████████| 21599/21599 [00:03<00:00, 7136.22 examples/s]\n",
      "Map: 100%|██████████| 2400/2400 [00:00<00:00, 7765.25 examples/s]\n"
     ]
    },
    {
     "data": {
      "text/plain": [
       "Dataset({\n",
       "    features: ['input_ids', 'attention_mask', 'labels'],\n",
       "    num_rows: 21599\n",
       "})"
      ]
     },
     "execution_count": 158,
     "metadata": {},
     "output_type": "execute_result"
    }
   ],
   "source": [
    "def encode_data(data):\n",
    "    inp = tokeniser(data[\"prompts\"],\n",
    "                    max_length=256,\n",
    "                    truncation=True,\n",
    "                    padding=\"max_length\")\n",
    "    \n",
    "    out = tokeniser(data[\"text\"],\n",
    "                    max_length=256,\n",
    "                    truncation=True,\n",
    "                    padding=\"max_length\")\n",
    "    \n",
    "    inp[\"labels\"] = out[\"input_ids\"]\n",
    "    return inp\n",
    "\n",
    "train_tokens = train_set.map(encode_data,\n",
    "                             batched=True,\n",
    "                             remove_columns=train_set.column_names)\n",
    "val_tokens = val_set.map(encode_data,\n",
    "                         batched=True,\n",
    "                         remove_columns=val_set.column_names)\n",
    "\n",
    "train_tokens"
   ]
  },
  {
   "cell_type": "code",
   "execution_count": 159,
   "id": "c866e81a",
   "metadata": {},
   "outputs": [
    {
     "name": "stdout",
     "output_type": "stream",
     "text": [
      "Torch version: 2.8.0.dev20250419+cu118\n",
      "cuda\n"
     ]
    }
   ],
   "source": [
    "print(\"Torch version:\", torch.__version__)\n",
    "device = torch.device(\"cuda\" if torch.cuda.is_available() else \"cpu\")\n",
    "print(device)"
   ]
  },
  {
   "cell_type": "code",
   "execution_count": 160,
   "id": "e6d546ff",
   "metadata": {},
   "outputs": [],
   "source": [
    "model = AutoModelForSeq2SeqLM.from_pretrained(MODEL_NAME, torch_dtype=torch.bfloat16, device_map='auto')\n",
    "model.resize_token_embeddings(len(tokeniser))\n",
    "model.gradient_checkpointing_enable()\n",
    "model.tie_weights()"
   ]
  },
  {
   "cell_type": "code",
   "execution_count": 161,
   "id": "83056fa6",
   "metadata": {},
   "outputs": [
    {
     "data": {
      "text/plain": [
       "<bound method Module.parameters of T5ForConditionalGeneration(\n",
       "  (shared): Embedding(32106, 768)\n",
       "  (encoder): T5Stack(\n",
       "    (embed_tokens): Embedding(32106, 768)\n",
       "    (block): ModuleList(\n",
       "      (0): T5Block(\n",
       "        (layer): ModuleList(\n",
       "          (0): T5LayerSelfAttention(\n",
       "            (SelfAttention): T5Attention(\n",
       "              (q): Linear(in_features=768, out_features=768, bias=False)\n",
       "              (k): Linear(in_features=768, out_features=768, bias=False)\n",
       "              (v): Linear(in_features=768, out_features=768, bias=False)\n",
       "              (o): Linear(in_features=768, out_features=768, bias=False)\n",
       "              (relative_attention_bias): Embedding(32, 12)\n",
       "            )\n",
       "            (layer_norm): T5LayerNorm()\n",
       "            (dropout): Dropout(p=0.1, inplace=False)\n",
       "          )\n",
       "          (1): T5LayerFF(\n",
       "            (DenseReluDense): T5DenseGatedActDense(\n",
       "              (wi_0): Linear(in_features=768, out_features=2048, bias=False)\n",
       "              (wi_1): Linear(in_features=768, out_features=2048, bias=False)\n",
       "              (wo): Linear(in_features=2048, out_features=768, bias=False)\n",
       "              (dropout): Dropout(p=0.1, inplace=False)\n",
       "              (act): NewGELUActivation()\n",
       "            )\n",
       "            (layer_norm): T5LayerNorm()\n",
       "            (dropout): Dropout(p=0.1, inplace=False)\n",
       "          )\n",
       "        )\n",
       "      )\n",
       "      (1-11): 11 x T5Block(\n",
       "        (layer): ModuleList(\n",
       "          (0): T5LayerSelfAttention(\n",
       "            (SelfAttention): T5Attention(\n",
       "              (q): Linear(in_features=768, out_features=768, bias=False)\n",
       "              (k): Linear(in_features=768, out_features=768, bias=False)\n",
       "              (v): Linear(in_features=768, out_features=768, bias=False)\n",
       "              (o): Linear(in_features=768, out_features=768, bias=False)\n",
       "            )\n",
       "            (layer_norm): T5LayerNorm()\n",
       "            (dropout): Dropout(p=0.1, inplace=False)\n",
       "          )\n",
       "          (1): T5LayerFF(\n",
       "            (DenseReluDense): T5DenseGatedActDense(\n",
       "              (wi_0): Linear(in_features=768, out_features=2048, bias=False)\n",
       "              (wi_1): Linear(in_features=768, out_features=2048, bias=False)\n",
       "              (wo): Linear(in_features=2048, out_features=768, bias=False)\n",
       "              (dropout): Dropout(p=0.1, inplace=False)\n",
       "              (act): NewGELUActivation()\n",
       "            )\n",
       "            (layer_norm): T5LayerNorm()\n",
       "            (dropout): Dropout(p=0.1, inplace=False)\n",
       "          )\n",
       "        )\n",
       "      )\n",
       "    )\n",
       "    (final_layer_norm): T5LayerNorm()\n",
       "    (dropout): Dropout(p=0.1, inplace=False)\n",
       "  )\n",
       "  (decoder): T5Stack(\n",
       "    (embed_tokens): Embedding(32106, 768)\n",
       "    (block): ModuleList(\n",
       "      (0): T5Block(\n",
       "        (layer): ModuleList(\n",
       "          (0): T5LayerSelfAttention(\n",
       "            (SelfAttention): T5Attention(\n",
       "              (q): Linear(in_features=768, out_features=768, bias=False)\n",
       "              (k): Linear(in_features=768, out_features=768, bias=False)\n",
       "              (v): Linear(in_features=768, out_features=768, bias=False)\n",
       "              (o): Linear(in_features=768, out_features=768, bias=False)\n",
       "              (relative_attention_bias): Embedding(32, 12)\n",
       "            )\n",
       "            (layer_norm): T5LayerNorm()\n",
       "            (dropout): Dropout(p=0.1, inplace=False)\n",
       "          )\n",
       "          (1): T5LayerCrossAttention(\n",
       "            (EncDecAttention): T5Attention(\n",
       "              (q): Linear(in_features=768, out_features=768, bias=False)\n",
       "              (k): Linear(in_features=768, out_features=768, bias=False)\n",
       "              (v): Linear(in_features=768, out_features=768, bias=False)\n",
       "              (o): Linear(in_features=768, out_features=768, bias=False)\n",
       "            )\n",
       "            (layer_norm): T5LayerNorm()\n",
       "            (dropout): Dropout(p=0.1, inplace=False)\n",
       "          )\n",
       "          (2): T5LayerFF(\n",
       "            (DenseReluDense): T5DenseGatedActDense(\n",
       "              (wi_0): Linear(in_features=768, out_features=2048, bias=False)\n",
       "              (wi_1): Linear(in_features=768, out_features=2048, bias=False)\n",
       "              (wo): Linear(in_features=2048, out_features=768, bias=False)\n",
       "              (dropout): Dropout(p=0.1, inplace=False)\n",
       "              (act): NewGELUActivation()\n",
       "            )\n",
       "            (layer_norm): T5LayerNorm()\n",
       "            (dropout): Dropout(p=0.1, inplace=False)\n",
       "          )\n",
       "        )\n",
       "      )\n",
       "      (1-11): 11 x T5Block(\n",
       "        (layer): ModuleList(\n",
       "          (0): T5LayerSelfAttention(\n",
       "            (SelfAttention): T5Attention(\n",
       "              (q): Linear(in_features=768, out_features=768, bias=False)\n",
       "              (k): Linear(in_features=768, out_features=768, bias=False)\n",
       "              (v): Linear(in_features=768, out_features=768, bias=False)\n",
       "              (o): Linear(in_features=768, out_features=768, bias=False)\n",
       "            )\n",
       "            (layer_norm): T5LayerNorm()\n",
       "            (dropout): Dropout(p=0.1, inplace=False)\n",
       "          )\n",
       "          (1): T5LayerCrossAttention(\n",
       "            (EncDecAttention): T5Attention(\n",
       "              (q): Linear(in_features=768, out_features=768, bias=False)\n",
       "              (k): Linear(in_features=768, out_features=768, bias=False)\n",
       "              (v): Linear(in_features=768, out_features=768, bias=False)\n",
       "              (o): Linear(in_features=768, out_features=768, bias=False)\n",
       "            )\n",
       "            (layer_norm): T5LayerNorm()\n",
       "            (dropout): Dropout(p=0.1, inplace=False)\n",
       "          )\n",
       "          (2): T5LayerFF(\n",
       "            (DenseReluDense): T5DenseGatedActDense(\n",
       "              (wi_0): Linear(in_features=768, out_features=2048, bias=False)\n",
       "              (wi_1): Linear(in_features=768, out_features=2048, bias=False)\n",
       "              (wo): Linear(in_features=2048, out_features=768, bias=False)\n",
       "              (dropout): Dropout(p=0.1, inplace=False)\n",
       "              (act): NewGELUActivation()\n",
       "            )\n",
       "            (layer_norm): T5LayerNorm()\n",
       "            (dropout): Dropout(p=0.1, inplace=False)\n",
       "          )\n",
       "        )\n",
       "      )\n",
       "    )\n",
       "    (final_layer_norm): T5LayerNorm()\n",
       "    (dropout): Dropout(p=0.1, inplace=False)\n",
       "  )\n",
       "  (lm_head): Linear(in_features=768, out_features=32106, bias=False)\n",
       ")>"
      ]
     },
     "execution_count": 161,
     "metadata": {},
     "output_type": "execute_result"
    }
   ],
   "source": [
    "model.parameters"
   ]
  },
  {
   "cell_type": "code",
   "execution_count": 162,
   "id": "8dbad671",
   "metadata": {},
   "outputs": [],
   "source": [
    "collator = DataCollatorForSeq2Seq(tokenizer=tokeniser, model = model)"
   ]
  },
  {
   "cell_type": "code",
   "execution_count": 163,
   "id": "10713945",
   "metadata": {},
   "outputs": [],
   "source": [
    "import evaluate\n",
    "\n",
    "rouge = evaluate.load(\"rouge\", rouge_types=[\"rouge1\", \"rouge2\", \"rougeL\"])\n",
    "\n",
    "pad_id = tokeniser.pad_token_id or tokeniser.eos_token_id\n",
    "\n",
    "def post(txts):         \n",
    "    return [t.strip() for t in txts]\n",
    "\n",
    "def compute_metrics(eval_pred):\n",
    "    pred_ids, label_ids = eval_pred          \n",
    "    \n",
    "    pred_ids  = np.asarray(pred_ids,  dtype=\"int64\")\n",
    "    label_ids = np.asarray(label_ids, dtype=\"int64\")\n",
    "\n",
    "    label_ids[label_ids == -100] = pad_id\n",
    "    pred_ids[pred_ids == -100] = pad_id\n",
    "\n",
    "    pred_ids  = pred_ids.tolist()\n",
    "    label_ids = label_ids.tolist()\n",
    "\n",
    "    decoded_preds  = post(tokeniser.batch_decode(pred_ids,\n",
    "                                                 skip_special_tokens=True))\n",
    "    decoded_labels = post(tokeniser.batch_decode(label_ids,\n",
    "                                                 skip_special_tokens=True))\n",
    "\n",
    "    rouge_out = rouge.compute(predictions=decoded_preds,\n",
    "                              references=decoded_labels,\n",
    "                              use_stemmer=True)\n",
    "\n",
    "    return {f\"{k}\": round(v * 100, 4)  for k, v in rouge_out.items()}"
   ]
  },
  {
   "cell_type": "code",
   "execution_count": 164,
   "id": "cf2e7d64",
   "metadata": {},
   "outputs": [
    {
     "data": {
      "text/html": [
       "\n",
       "    <div>\n",
       "      \n",
       "      <progress value='1014' max='1014' style='width:300px; height:20px; vertical-align: middle;'></progress>\n",
       "      [1014/1014 30:11, Epoch 3/3]\n",
       "    </div>\n",
       "    <table border=\"1\" class=\"dataframe\">\n",
       "  <thead>\n",
       " <tr style=\"text-align: left;\">\n",
       "      <th>Step</th>\n",
       "      <th>Training Loss</th>\n",
       "      <th>Validation Loss</th>\n",
       "      <th>Rouge1</th>\n",
       "      <th>Rouge2</th>\n",
       "      <th>Rougel</th>\n",
       "      <th>Rougelsum</th>\n",
       "    </tr>\n",
       "  </thead>\n",
       "  <tbody>\n",
       "    <tr>\n",
       "      <td>250</td>\n",
       "      <td>11.463500</td>\n",
       "      <td>3.348728</td>\n",
       "      <td>10.660400</td>\n",
       "      <td>1.428100</td>\n",
       "      <td>10.036700</td>\n",
       "      <td>10.044000</td>\n",
       "    </tr>\n",
       "    <tr>\n",
       "      <td>500</td>\n",
       "      <td>2.240000</td>\n",
       "      <td>1.975498</td>\n",
       "      <td>15.786900</td>\n",
       "      <td>2.669100</td>\n",
       "      <td>11.598300</td>\n",
       "      <td>11.603600</td>\n",
       "    </tr>\n",
       "    <tr>\n",
       "      <td>750</td>\n",
       "      <td>2.115600</td>\n",
       "      <td>1.945577</td>\n",
       "      <td>25.714600</td>\n",
       "      <td>5.689600</td>\n",
       "      <td>17.029200</td>\n",
       "      <td>17.027800</td>\n",
       "    </tr>\n",
       "    <tr>\n",
       "      <td>1000</td>\n",
       "      <td>2.085400</td>\n",
       "      <td>1.943642</td>\n",
       "      <td>25.781600</td>\n",
       "      <td>5.696600</td>\n",
       "      <td>17.045000</td>\n",
       "      <td>17.040100</td>\n",
       "    </tr>\n",
       "  </tbody>\n",
       "</table><p>"
      ],
      "text/plain": [
       "<IPython.core.display.HTML object>"
      ]
     },
     "metadata": {},
     "output_type": "display_data"
    },
    {
     "name": "stderr",
     "output_type": "stream",
     "text": [
      "There were missing keys in the checkpoint model loaded: ['encoder.embed_tokens.weight', 'decoder.embed_tokens.weight'].\n"
     ]
    },
    {
     "data": {
      "text/plain": [
       "TrainOutput(global_step=1014, training_loss=4.90044719839002, metrics={'train_runtime': 1812.7493, 'train_samples_per_second': 35.745, 'train_steps_per_second': 0.559, 'total_flos': 2.2183429454954496e+16, 'train_loss': 4.90044719839002, 'epoch': 3.0})"
      ]
     },
     "execution_count": 164,
     "metadata": {},
     "output_type": "execute_result"
    }
   ],
   "source": [
    "model.config.use_cache = False\n",
    "args = Seq2SeqTrainingArguments(\n",
    "    output_dir = \"checkpoints_new_a\",\n",
    "    per_device_train_batch_size = 64,\n",
    "    per_device_eval_batch_size  = 64,\n",
    "    gradient_accumulation_steps = 1,\n",
    "    num_train_epochs = 3,\n",
    "    learning_rate = 4e-5,\n",
    "    weight_decay= 0.01,\n",
    "    warmup_steps= 305,\n",
    "    eval_accumulation_steps= 1,\n",
    "    predict_with_generate= True,   \n",
    "    generation_max_length=256,      \n",
    "    generation_num_beams = 1,\n",
    "    save_strategy = \"steps\",\n",
    "    eval_strategy  = \"steps\",\n",
    "    eval_steps= 250,\n",
    "    save_steps = 250,\n",
    "    load_best_model_at_end = True,\n",
    "    metric_for_best_model= \"eval_rougeL\",\n",
    "    greater_is_better = True,\n",
    "    lr_scheduler_type=\"cosine\",\n",
    "    bf16=True,\n",
    "    seed = 42,\n",
    "    logging_steps=100,\n",
    "    save_total_limit=2,\n",
    "    torch_compile=True,\n",
    "    report_to = \"none\",\n",
    "    tf32=True,\n",
    "    dataloader_pin_memory=True,\n",
    "    optim=\"adamw_torch_fused\",\n",
    ")\n",
    "\n",
    "trainer = Seq2SeqTrainer(\n",
    "    model=model,\n",
    "    args=args,\n",
    "    train_dataset = train_tokens,\n",
    "    eval_dataset=val_tokens,\n",
    "    data_collator=collator,\n",
    "    compute_metrics=compute_metrics\n",
    ")\n",
    "\n",
    "trainer.train()"
   ]
  },
  {
   "cell_type": "code",
   "execution_count": 165,
   "id": "f3a1fa5f",
   "metadata": {},
   "outputs": [
    {
     "name": "stdout",
     "output_type": "stream",
     "text": [
      "best metric: 17.045\n"
     ]
    },
    {
     "data": {
      "text/html": [
       "\n",
       "    <div>\n",
       "      \n",
       "      <progress value='38' max='38' style='width:300px; height:20px; vertical-align: middle;'></progress>\n",
       "      [38/38 04:47]\n",
       "    </div>\n",
       "    "
      ],
      "text/plain": [
       "<IPython.core.display.HTML object>"
      ]
     },
     "metadata": {},
     "output_type": "display_data"
    },
    {
     "name": "stdout",
     "output_type": "stream",
     "text": [
      "current model loss on val: 1.943642497062683\n",
      "requires-grad encoder layers: 111\n"
     ]
    }
   ],
   "source": [
    "from math import exp\n",
    "print(\"best metric:\", trainer.state.best_metric)\n",
    "print(\"current model loss on val:\",\n",
    "      trainer.evaluate(max_length=512, num_beams=1)[\"eval_loss\"])\n",
    "print(\"requires-grad encoder layers:\",\n",
    "      sum(p.requires_grad for p in model.encoder.parameters()))"
   ]
  },
  {
   "cell_type": "code",
   "execution_count": 166,
   "id": "9287150f",
   "metadata": {},
   "outputs": [],
   "source": [
    "# eval_results = trainer.evaluate(max_length=256, num_beams=2)\n",
    "# perplexity   = np.exp(eval_results[\"eval_loss\"])\n",
    "# print(f\"Validation PPL: {perplexity:.2f}\")"
   ]
  },
  {
   "cell_type": "code",
   "execution_count": 167,
   "id": "806b6774",
   "metadata": {},
   "outputs": [
    {
     "name": "stdout",
     "output_type": "stream",
     "text": [
      "Best checkpoint copied to  best-review-generator-model_new_rev_a/\n"
     ]
    }
   ],
   "source": [
    "import os\n",
    "BEST_DIR_M1 = \"best-review-generator-model_new_rev_a\"\n",
    "os.makedirs(BEST_DIR_M1, exist_ok=True)\n",
    "\n",
    "trainer.save_model(BEST_DIR_M1)             \n",
    "tokeniser.save_pretrained(BEST_DIR_M1)            \n",
    "\n",
    "print(f\"Best checkpoint copied to  {BEST_DIR_M1}/\")"
   ]
  },
  {
   "cell_type": "code",
   "execution_count": 184,
   "id": "cdd3f3d9",
   "metadata": {},
   "outputs": [],
   "source": [
    "from transformers import GenerationConfig\n",
    "\n",
    "gen_cfg = GenerationConfig.from_pretrained(BEST_DIR_M1)\n",
    "gen_cfg.update(\n",
    "    max_new_tokens     = 512,\n",
    "    do_sample          = True,  \n",
    "    top_p              = 0.9,\n",
    "    temperature        = 0.7,\n",
    "    repetition_penalty = 1.15,\n",
    "    no_repeat_ngram_size = 3, \n",
    "    num_beams          = 1 \n",
    ")\n",
    "\n",
    "sample_rows = val_set.shuffle().select(range(5))\n",
    "\n",
    "records = []\n",
    "for row in sample_rows:\n",
    "    prompt_txt = row[\"prompts\"]\n",
    "\n",
    "    batch = tokeniser(prompt_txt, return_tensors=\"pt\").to(device)\n",
    "\n",
    "    with torch.no_grad():\n",
    "        out_ids = model.generate(**batch, generation_config=gen_cfg)\n",
    "\n",
    "    generated = tokeniser.decode(out_ids[0], skip_special_tokens=True)\n",
    "\n",
    "    records.append(\n",
    "        {\"prompt (truncated)\": prompt_txt,\n",
    "         \"reference\": row[\"text\"],\n",
    "         \"generated\": generated}\n",
    "    )\n",
    "\n",
    "reviews = pd.DataFrame(records)"
   ]
  },
  {
   "cell_type": "code",
   "execution_count": 185,
   "id": "474c6ca5",
   "metadata": {},
   "outputs": [
    {
     "data": {
      "text/html": [
       "<div>\n",
       "<style scoped>\n",
       "    .dataframe tbody tr th:only-of-type {\n",
       "        vertical-align: middle;\n",
       "    }\n",
       "\n",
       "    .dataframe tbody tr th {\n",
       "        vertical-align: top;\n",
       "    }\n",
       "\n",
       "    .dataframe thead th {\n",
       "        text-align: right;\n",
       "    }\n",
       "</style>\n",
       "<table border=\"1\" class=\"dataframe\">\n",
       "  <thead>\n",
       "    <tr style=\"text-align: right;\">\n",
       "      <th></th>\n",
       "      <th>prompt (truncated)</th>\n",
       "      <th>reference</th>\n",
       "      <th>generated</th>\n",
       "    </tr>\n",
       "  </thead>\n",
       "  <tbody>\n",
       "    <tr>\n",
       "      <th>0</th>\n",
       "      <td>&lt;INST&gt;\\nYou are a travel review generator for ...</td>\n",
       "      <td>We have stayed at the Orchard Garden hotel twi...</td>\n",
       "      <td>This is the best hotel in the city. Staff are ...</td>\n",
       "    </tr>\n",
       "    <tr>\n",
       "      <th>1</th>\n",
       "      <td>&lt;INST&gt;\\nYou are a travel review generator for ...</td>\n",
       "      <td>This place was great! Staff was wonderful and ...</td>\n",
       "      <td>My family and I stayed at the Hotel for the fi...</td>\n",
       "    </tr>\n",
       "    <tr>\n",
       "      <th>2</th>\n",
       "      <td>&lt;INST&gt;\\nYou are a travel review generator for ...</td>\n",
       "      <td>Overall, I was happy with my stay at this hote...</td>\n",
       "      <td>My husband and I stayed at this hotel for two ...</td>\n",
       "    </tr>\n",
       "    <tr>\n",
       "      <th>3</th>\n",
       "      <td>&lt;INST&gt;\\nYou are a travel review generator for ...</td>\n",
       "      <td>We stayed here when UFC was in Boston and paid...</td>\n",
       "      <td>I booked a room at the Holiday Inn in Seattle....</td>\n",
       "    </tr>\n",
       "    <tr>\n",
       "      <th>4</th>\n",
       "      <td>&lt;INST&gt;\\nYou are a travel review generator for ...</td>\n",
       "      <td>having stayed in numerous hotels in chicago, t...</td>\n",
       "      <td>This hotel is a great value for money. The roo...</td>\n",
       "    </tr>\n",
       "  </tbody>\n",
       "</table>\n",
       "</div>"
      ],
      "text/plain": [
       "                                  prompt (truncated)  \\\n",
       "0  <INST>\\nYou are a travel review generator for ...   \n",
       "1  <INST>\\nYou are a travel review generator for ...   \n",
       "2  <INST>\\nYou are a travel review generator for ...   \n",
       "3  <INST>\\nYou are a travel review generator for ...   \n",
       "4  <INST>\\nYou are a travel review generator for ...   \n",
       "\n",
       "                                           reference  \\\n",
       "0  We have stayed at the Orchard Garden hotel twi...   \n",
       "1  This place was great! Staff was wonderful and ...   \n",
       "2  Overall, I was happy with my stay at this hote...   \n",
       "3  We stayed here when UFC was in Boston and paid...   \n",
       "4  having stayed in numerous hotels in chicago, t...   \n",
       "\n",
       "                                           generated  \n",
       "0  This is the best hotel in the city. Staff are ...  \n",
       "1  My family and I stayed at the Hotel for the fi...  \n",
       "2  My husband and I stayed at this hotel for two ...  \n",
       "3  I booked a room at the Holiday Inn in Seattle....  \n",
       "4  This hotel is a great value for money. The roo...  "
      ]
     },
     "execution_count": 185,
     "metadata": {},
     "output_type": "execute_result"
    }
   ],
   "source": [
    "reviews"
   ]
  },
  {
   "cell_type": "code",
   "execution_count": 186,
   "id": "4b736bfb",
   "metadata": {},
   "outputs": [
    {
     "data": {
      "text/plain": [
       "'This place was great! Staff was wonderful and always helpful. Ive never felt more welcomed than I did here and the amount I paid for the room was well worth it!'"
      ]
     },
     "execution_count": 186,
     "metadata": {},
     "output_type": "execute_result"
    }
   ],
   "source": [
    "reviews['reference'].iloc[1]"
   ]
  },
  {
   "cell_type": "code",
   "execution_count": 187,
   "id": "9cead2e2",
   "metadata": {},
   "outputs": [
    {
     "data": {
      "text/plain": [
       "'My family and I stayed at the Hotel for the first time in our last year in San Diego. The hotel was very clean and quiet. The lobby is very nice. We stayed in the front desk to get a room and we were very comfortable. The rooms were very nice, especially the large balcony. Our room was very spacious and very comfortable with a good view of the beach. Our rooms were comfortable. We were not very hospitable to our pets. The room was large and the bathroom was very small. The service was very friendly and helpful. I would definitely stay here again.'"
      ]
     },
     "execution_count": 187,
     "metadata": {},
     "output_type": "execute_result"
    }
   ],
   "source": [
    "reviews['generated'].iloc[1]"
   ]
  },
  {
   "cell_type": "code",
   "execution_count": 57,
   "id": "9f9d083a",
   "metadata": {},
   "outputs": [],
   "source": [
    "import bitsandbytes as bnb\n",
    "from transformers import BitsAndBytesConfig\n",
    "quantization_config = BitsAndBytesConfig(\n",
    "    load_in_4bit=True,\n",
    "    bnb_4bit_quant_type = \"nf4\",\n",
    "    bnb_4bit_compute_dtype=\"float16\",\n",
    "    bnb_4bit_use_double_quant=True,\n",
    "    attn_implementation = \"flash_attention_2\")"
   ]
  },
  {
   "cell_type": "code",
   "execution_count": 58,
   "id": "a3202493",
   "metadata": {},
   "outputs": [
    {
     "name": "stderr",
     "output_type": "stream",
     "text": [
      "Loading checkpoint shards: 100%|██████████| 2/2 [00:11<00:00,  5.74s/it]\n"
     ]
    }
   ],
   "source": [
    "from transformers import AutoModelForCausalLM\n",
    "from transformers import AutoTokenizer\n",
    "\n",
    "MODEL_NAME = \"NousResearch/LLama-2-7b-hf\"\n",
    "\n",
    "llama = AutoModelForCausalLM.from_pretrained(\n",
    "    MODEL_NAME,\n",
    "    quantization_config=quantization_config,\n",
    "    device_map=\"auto\"\n",
    ")\n",
    "\n",
    "llama.config.use_cache = True\n",
    "\n",
    "llama_tok = AutoTokenizer.from_pretrained(\n",
    "    MODEL_NAME,\n",
    "    trust_remote_code=True,\n",
    "    use_fast = True,\n",
    "    add_bos_token=True\n",
    ")\n",
    "\n",
    "llama_tok.pad_token = llama_tok.eos_token\n",
    "llama_tok.padding_side = \"right\"\n"
   ]
  },
  {
   "cell_type": "code",
   "execution_count": 59,
   "id": "0cf5b0e0",
   "metadata": {},
   "outputs": [
    {
     "data": {
      "text/plain": [
       "<bound method Module.parameters of LlamaForCausalLM(\n",
       "  (model): LlamaModel(\n",
       "    (embed_tokens): Embedding(32000, 4096, padding_idx=0)\n",
       "    (layers): ModuleList(\n",
       "      (0-31): 32 x LlamaDecoderLayer(\n",
       "        (self_attn): LlamaAttention(\n",
       "          (q_proj): Linear4bit(in_features=4096, out_features=4096, bias=False)\n",
       "          (k_proj): Linear4bit(in_features=4096, out_features=4096, bias=False)\n",
       "          (v_proj): Linear4bit(in_features=4096, out_features=4096, bias=False)\n",
       "          (o_proj): Linear4bit(in_features=4096, out_features=4096, bias=False)\n",
       "        )\n",
       "        (mlp): LlamaMLP(\n",
       "          (gate_proj): Linear4bit(in_features=4096, out_features=11008, bias=False)\n",
       "          (up_proj): Linear4bit(in_features=4096, out_features=11008, bias=False)\n",
       "          (down_proj): Linear4bit(in_features=11008, out_features=4096, bias=False)\n",
       "          (act_fn): SiLU()\n",
       "        )\n",
       "        (input_layernorm): LlamaRMSNorm((4096,), eps=1e-05)\n",
       "        (post_attention_layernorm): LlamaRMSNorm((4096,), eps=1e-05)\n",
       "      )\n",
       "    )\n",
       "    (norm): LlamaRMSNorm((4096,), eps=1e-05)\n",
       "    (rotary_emb): LlamaRotaryEmbedding()\n",
       "  )\n",
       "  (lm_head): Linear(in_features=4096, out_features=32000, bias=False)\n",
       ")>"
      ]
     },
     "execution_count": 59,
     "metadata": {},
     "output_type": "execute_result"
    }
   ],
   "source": [
    "llama.parameters"
   ]
  },
  {
   "cell_type": "code",
   "execution_count": 60,
   "id": "a48f6909",
   "metadata": {},
   "outputs": [],
   "source": [
    "def build_prompt_llama(dfrow):\n",
    "    FILL = '<MISSING>'\n",
    "\n",
    "    def format_prompt(col, val):\n",
    "        return f\"{col}: {FILL if pd.isna(val) else int(val)}\"\n",
    "    \n",
    "    def rating_to_len(rating):\n",
    "        if rating == 1 or rating == 2:\n",
    "            return \"LONG\"\n",
    "        elif rating == 3:\n",
    "            return \"MED\"\n",
    "        elif rating == 4 or rating == 5:\n",
    "            return \"SHORT\"\n",
    "\n",
    "    form = [\n",
    "        \"<s>\",\n",
    "        \"# System\",\n",
    "        \"Generate a hotel review based on the given ratings and features\",\n",
    "        \"\",\n",
    "        \"# Features\",\n",
    "        format_prompt('service', dfrow['service']),\n",
    "        format_prompt('cleanliness',dfrow['cleanliness']),\n",
    "        format_prompt('value', dfrow['value']),\n",
    "        format_prompt('rooms', dfrow['rooms']),\n",
    "        format_prompt('location', dfrow['location']),\n",
    "        format_prompt('sleep_quality', dfrow['sleep_quality']),\n",
    "        format_prompt('overall', dfrow['overall']),\n",
    "        f\"date_stayed: {dfrow['date_stayed'] if not pd.isna(dfrow['date_stayed']) else FILL}\",\n",
    "        f\"device: {'PHONE' if bool(dfrow['via_mobile']) else 'COMPUTER'}\",\n",
    "        f\"review length: {rating_to_len(dfrow['overall'])}\",\n",
    "        \"\",\n",
    "        \"# Review\",\n",
    "        dfrow[\"text\"],\n",
    "        \"</s>\"\n",
    "    ]\n",
    "    return \"\\n\".join(form)\n",
    "\n"
   ]
  },
  {
   "cell_type": "code",
   "execution_count": 61,
   "id": "1f29535a",
   "metadata": {},
   "outputs": [
    {
     "name": "stdout",
     "output_type": "stream",
     "text": [
      "<s>\n",
      "# System\n",
      "Generate a hotel review based on the given ratings and features\n",
      "\n",
      "# Features\n",
      "service: 1\n",
      "cleanliness: 2\n",
      "value: 1\n",
      "rooms: 1\n",
      "location: 3\n",
      "sleep_quality: 2\n",
      "overall: 1\n",
      "date_stayed: 2012-09\n",
      "device: COMPUTER\n",
      "review length: LONG\n",
      "\n",
      "# Review\n",
      "First of all we got there and they didn't have the room we booked; did not pay us the difference from the room we booked to the cheaper one they gave us. STAFF took forever to address our problem, not KID friendly, pool dirty- and parking wow good luck going somewhere at night time and come back to the hotel to try to find a parking space THAT THEY CHARGE AN ADDITIONAL FEE FOR! (NOT INCLUDED IN THEIR OVERPRICED HOTEL STAY)\n",
      "We thought by paying more we would get a good deal well this hotel is not the case!!\n",
      "$400 for a 2 night stay plus horrible customer service and a manager who never returned our call when we submitted the complain is not how you do business- They are giving SHERATON a horrible reputation- I guess they are managed by SHERATON but have their own \"policies\" and undesirable customer service.\n",
      "Great time in San Diego but a nightmare of a hotel.\n",
      "Don't ever write reviews but this one was called for, if you can avoid this hotel do it.\n",
      "(Being a military family and moving from state to state we know about hotels and excellent customer service) \n",
      "(Oh yeah no free breakfast either)\n",
      "</s>\n"
     ]
    }
   ],
   "source": [
    "train_data_new['combined'] = train_data_new.apply(build_prompt_llama, axis=1)\n",
    "\n",
    "print(train_data_new.loc[0]['combined'])"
   ]
  },
  {
   "cell_type": "code",
   "execution_count": 62,
   "id": "6acaf7ef",
   "metadata": {},
   "outputs": [
    {
     "data": {
      "text/html": [
       "<div>\n",
       "<style scoped>\n",
       "    .dataframe tbody tr th:only-of-type {\n",
       "        vertical-align: middle;\n",
       "    }\n",
       "\n",
       "    .dataframe tbody tr th {\n",
       "        vertical-align: top;\n",
       "    }\n",
       "\n",
       "    .dataframe thead th {\n",
       "        text-align: right;\n",
       "    }\n",
       "</style>\n",
       "<table border=\"1\" class=\"dataframe\">\n",
       "  <thead>\n",
       "    <tr style=\"text-align: right;\">\n",
       "      <th></th>\n",
       "      <th>text</th>\n",
       "      <th>combined</th>\n",
       "    </tr>\n",
       "  </thead>\n",
       "  <tbody>\n",
       "    <tr>\n",
       "      <th>0</th>\n",
       "      <td>First of all we got there and they didn't have...</td>\n",
       "      <td>&lt;s&gt;\\n# System\\nGenerate a hotel review based o...</td>\n",
       "    </tr>\n",
       "    <tr>\n",
       "      <th>1</th>\n",
       "      <td>Found Racist graffiti in the room. Request to ...</td>\n",
       "      <td>&lt;s&gt;\\n# System\\nGenerate a hotel review based o...</td>\n",
       "    </tr>\n",
       "    <tr>\n",
       "      <th>2</th>\n",
       "      <td>Close to Union Square - hotel is a bit of a ma...</td>\n",
       "      <td>&lt;s&gt;\\n# System\\nGenerate a hotel review based o...</td>\n",
       "    </tr>\n",
       "    <tr>\n",
       "      <th>3</th>\n",
       "      <td>I had a bad vibe about this place from the mom...</td>\n",
       "      <td>&lt;s&gt;\\n# System\\nGenerate a hotel review based o...</td>\n",
       "    </tr>\n",
       "    <tr>\n",
       "      <th>4</th>\n",
       "      <td>After we received our \"final\" bill and left th...</td>\n",
       "      <td>&lt;s&gt;\\n# System\\nGenerate a hotel review based o...</td>\n",
       "    </tr>\n",
       "  </tbody>\n",
       "</table>\n",
       "</div>"
      ],
      "text/plain": [
       "                                                text  \\\n",
       "0  First of all we got there and they didn't have...   \n",
       "1  Found Racist graffiti in the room. Request to ...   \n",
       "2  Close to Union Square - hotel is a bit of a ma...   \n",
       "3  I had a bad vibe about this place from the mom...   \n",
       "4  After we received our \"final\" bill and left th...   \n",
       "\n",
       "                                            combined  \n",
       "0  <s>\\n# System\\nGenerate a hotel review based o...  \n",
       "1  <s>\\n# System\\nGenerate a hotel review based o...  \n",
       "2  <s>\\n# System\\nGenerate a hotel review based o...  \n",
       "3  <s>\\n# System\\nGenerate a hotel review based o...  \n",
       "4  <s>\\n# System\\nGenerate a hotel review based o...  "
      ]
     },
     "execution_count": 62,
     "metadata": {},
     "output_type": "execute_result"
    }
   ],
   "source": [
    "llama_df = train_data_new[['text', 'combined']]\n",
    "llama_df.head()"
   ]
  },
  {
   "cell_type": "code",
   "execution_count": 63,
   "id": "ad95443b",
   "metadata": {},
   "outputs": [
    {
     "data": {
      "text/plain": [
       "Dataset({\n",
       "    features: ['text'],\n",
       "    num_rows: 23999\n",
       "})"
      ]
     },
     "execution_count": 63,
     "metadata": {},
     "output_type": "execute_result"
    }
   ],
   "source": [
    "hf_llama = Dataset.from_pandas(llama_df[['combined']].rename(\n",
    "    columns={'combined':'text'}\n",
    "))\n",
    "\n",
    "hf_llama"
   ]
  },
  {
   "cell_type": "code",
   "execution_count": 64,
   "id": "60d2d694",
   "metadata": {},
   "outputs": [
    {
     "data": {
      "text/plain": [
       "DatasetDict({\n",
       "    train: Dataset({\n",
       "        features: ['text'],\n",
       "        num_rows: 21599\n",
       "    })\n",
       "    test: Dataset({\n",
       "        features: ['text'],\n",
       "        num_rows: 2400\n",
       "    })\n",
       "})"
      ]
     },
     "execution_count": 64,
     "metadata": {},
     "output_type": "execute_result"
    }
   ],
   "source": [
    "llama_split = hf_llama.train_test_split(test_size=0.1, shuffle=True)\n",
    "llama_split"
   ]
  },
  {
   "cell_type": "code",
   "execution_count": 65,
   "id": "b50455b7",
   "metadata": {},
   "outputs": [
    {
     "data": {
      "text/plain": [
       "Dataset({\n",
       "    features: ['text'],\n",
       "    num_rows: 21599\n",
       "})"
      ]
     },
     "execution_count": 65,
     "metadata": {},
     "output_type": "execute_result"
    }
   ],
   "source": [
    "llama_train, llama_val = llama_split['train'], llama_split['test']\n",
    "llama_train"
   ]
  },
  {
   "cell_type": "code",
   "execution_count": 66,
   "id": "c7c5d384",
   "metadata": {},
   "outputs": [
    {
     "data": {
      "text/plain": [
       "Dataset({\n",
       "    features: ['text'],\n",
       "    num_rows: 2400\n",
       "})"
      ]
     },
     "execution_count": 66,
     "metadata": {},
     "output_type": "execute_result"
    }
   ],
   "source": [
    "llama_val"
   ]
  },
  {
   "cell_type": "code",
   "execution_count": 67,
   "id": "4528d1ee",
   "metadata": {},
   "outputs": [
    {
     "name": "stderr",
     "output_type": "stream",
     "text": [
      "tokenise (train): 100%|██████████| 21599/21599 [00:11<00:00, 1822.29 examples/s]\n",
      "tokenise (val): 100%|██████████| 2400/2400 [00:00<00:00, 3345.25 examples/s]\n"
     ]
    }
   ],
   "source": [
    "def add_labels_train(x):\n",
    "    full = x[\"text\"]\n",
    "    \n",
    "    full_enc = llama_tok(\n",
    "        full,\n",
    "        truncation=True,\n",
    "        max_length=1024,\n",
    "        padding=\"max_length\"\n",
    "    )\n",
    "    \n",
    "    return {\n",
    "        \"input_ids\": full_enc[\"input_ids\"],\n",
    "        \"attention_mask\": full_enc[\"attention_mask\"],\n",
    "    }\n",
    "\n",
    "def add_labels_eval(x):\n",
    "    full = x[\"text\"]\n",
    "    prompt, review = full.split(\"# Review\", 1)\n",
    "    \n",
    "    enc = llama_tok(\n",
    "        prompt + \"# Review\", \n",
    "        truncation=True, \n",
    "        max_length=512,\n",
    "        padding=\"max_length\",\n",
    "        return_tensors=\"pt\"\n",
    "    )\n",
    "    \n",
    "    return {\n",
    "        \"input_ids\": enc[\"input_ids\"].squeeze(),\n",
    "        \"attention_mask\": enc[\"attention_mask\"].squeeze(),\n",
    "        \"reference\": review.replace(\"</s>\", \"\").strip(), \n",
    "    }\n",
    "\n",
    "train_tok_llama = llama_train.map(\n",
    "    add_labels_train,\n",
    "    remove_columns=[\"text\"],\n",
    "    desc=\"tokenise (train)\"\n",
    ")\n",
    "\n",
    "val_tok_llama = llama_val.map(\n",
    "    add_labels_eval,\n",
    "    remove_columns=[\"text\"],\n",
    "    desc=\"tokenise (val)\"\n",
    ")"
   ]
  },
  {
   "cell_type": "code",
   "execution_count": 68,
   "id": "ed95ad62",
   "metadata": {},
   "outputs": [
    {
     "data": {
      "text/plain": [
       "Dataset({\n",
       "    features: ['input_ids', 'attention_mask'],\n",
       "    num_rows: 21599\n",
       "})"
      ]
     },
     "execution_count": 68,
     "metadata": {},
     "output_type": "execute_result"
    }
   ],
   "source": [
    "train_tok_llama"
   ]
  },
  {
   "cell_type": "code",
   "execution_count": 69,
   "id": "15b59727",
   "metadata": {},
   "outputs": [
    {
     "data": {
      "text/plain": [
       "Dataset({\n",
       "    features: ['input_ids', 'attention_mask', 'reference'],\n",
       "    num_rows: 2400\n",
       "})"
      ]
     },
     "execution_count": 69,
     "metadata": {},
     "output_type": "execute_result"
    }
   ],
   "source": [
    "val_tok_llama"
   ]
  },
  {
   "cell_type": "code",
   "execution_count": null,
   "id": "0eb52564",
   "metadata": {},
   "outputs": [],
   "source": [
    "from peft import(\n",
    "    LoraConfig,\n",
    "    get_peft_model,\n",
    "    prepare_model_for_kbit_training\n",
    ")\n",
    "\n",
    "peft_config = LoraConfig(\n",
    "    r=16,\n",
    "    lora_alpha=32,\n",
    "    target_modules=['q_proj', 'k_proj', 'down_proj', 'v_proj','gate_proj','o_proj','up_proj'],\n",
    "    lora_dropout=0.05,\n",
    "    task_type=\"CAUSAL_LM\"\n",
    ")\n",
    "\n",
    "llama = prepare_model_for_kbit_training(llama)\n",
    "llama = get_peft_model(llama, peft_config)\n",
    "llama = torch.compile(llama, mode=\"reduce-overhead\")\n",
    "\n",
    "generation_configuration = llama.generation_config\n",
    "generation_configuration.pad_token_id = llama_tok.eos_token_id\n",
    "generation_configuration.eos_token_id = llama_tok.eos_token_id\n",
    "generation_configuration.max_new_toekns = 256"
   ]
  },
  {
   "cell_type": "code",
   "execution_count": 71,
   "id": "95877a81",
   "metadata": {},
   "outputs": [
    {
     "name": "stdout",
     "output_type": "stream",
     "text": [
      "trainable params: 39,976,960 || all params: 6,778,392,576 || trainable%: 0.5898\n"
     ]
    }
   ],
   "source": [
    "llama.print_trainable_parameters()"
   ]
  },
  {
   "cell_type": "code",
   "execution_count": 72,
   "id": "914e8a29",
   "metadata": {},
   "outputs": [],
   "source": [
    "from transformers import (DataCollatorForLanguageModeling)\n",
    "\n",
    "datacollator_llama = DataCollatorForLanguageModeling(\n",
    "    tokenizer=llama_tok,\n",
    "    mlm = False,\n",
    "    return_tensors='pt'\n",
    ")"
   ]
  },
  {
   "cell_type": "code",
   "execution_count": 73,
   "id": "deb4d520",
   "metadata": {},
   "outputs": [],
   "source": [
    "from transformers.trainer_utils import EvalPrediction\n",
    "import evaluate\n",
    "\n",
    "rouge = evaluate.load(\"rouge\")\n",
    "\n",
    "ref_list = [ex[\"reference\"] for ex in val_tok_llama]\n",
    "\n",
    "def compute_metrics_llama(eval_pred: EvalPrediction):\n",
    "    predictions, labels = eval_pred\n",
    "    \n",
    "    decoded_preds = llama_tok.batch_decode(predictions, skip_special_tokens=True)\n",
    "    \n",
    "    references = ref_list\n",
    "    \n",
    "    decoded_preds = [pred.strip() for pred in decoded_preds]\n",
    "    \n",
    "    scores = rouge.compute(\n",
    "        predictions=decoded_preds,\n",
    "        references=references,\n",
    "        use_stemmer=True\n",
    "    )\n",
    "    \n",
    "    return {k: round(v, 4) for k, v in scores.items()}\n"
   ]
  },
  {
   "cell_type": "code",
   "execution_count": 74,
   "id": "4b2336e1",
   "metadata": {},
   "outputs": [],
   "source": [
    "val_tok_llama = val_tok_llama.remove_columns([\"reference\"])"
   ]
  },
  {
   "cell_type": "code",
   "execution_count": null,
   "id": "ef16dc9b",
   "metadata": {},
   "outputs": [
    {
     "name": "stderr",
     "output_type": "stream",
     "text": [
      "/tmp/ipykernel_302056/1856608690.py:31: FutureWarning: `tokenizer` is deprecated and will be removed in version 5.0.0 for `Seq2SeqTrainer.__init__`. Use `processing_class` instead.\n",
      "  trainer = Seq2SeqTrainer(\n"
     ]
    },
    {
     "ename": "ValueError",
     "evalue": "You cannot fine-tune quantized model with `torch.compile()` make sure to pass a non-compiled model when fine-tuning a quantized model with PEFT",
     "output_type": "error",
     "traceback": [
      "\u001b[31m---------------------------------------------------------------------------\u001b[39m",
      "\u001b[31mValueError\u001b[39m                                Traceback (most recent call last)",
      "\u001b[36mCell\u001b[39m\u001b[36m \u001b[39m\u001b[32mIn[76]\u001b[39m\u001b[32m, line 31\u001b[39m\n\u001b[32m      1\u001b[39m llama_args = Seq2SeqTrainingArguments(\n\u001b[32m      2\u001b[39m     output_dir = \u001b[33m\"\u001b[39m\u001b[33mllama2_qlora_reviews\u001b[39m\u001b[33m\"\u001b[39m,\n\u001b[32m      3\u001b[39m     per_device_train_batch_size = \u001b[32m12\u001b[39m,\n\u001b[32m   (...)\u001b[39m\u001b[32m     26\u001b[39m     remove_unused_columns=\u001b[38;5;28;01mFalse\u001b[39;00m\n\u001b[32m     27\u001b[39m )\n\u001b[32m     29\u001b[39m llama = torch.compile(llama, mode=\u001b[33m\"\u001b[39m\u001b[33mreduce-overhead\u001b[39m\u001b[33m\"\u001b[39m)\n\u001b[32m---> \u001b[39m\u001b[32m31\u001b[39m trainer = \u001b[43mSeq2SeqTrainer\u001b[49m\u001b[43m(\u001b[49m\n\u001b[32m     32\u001b[39m \u001b[43m    \u001b[49m\u001b[43mmodel\u001b[49m\u001b[43m \u001b[49m\u001b[43m=\u001b[49m\u001b[43m \u001b[49m\u001b[43mllama\u001b[49m\u001b[43m,\u001b[49m\n\u001b[32m     33\u001b[39m \u001b[43m    \u001b[49m\u001b[43margs\u001b[49m\u001b[43m \u001b[49m\u001b[43m=\u001b[49m\u001b[43m \u001b[49m\u001b[43mllama_args\u001b[49m\u001b[43m,\u001b[49m\n\u001b[32m     34\u001b[39m \u001b[43m    \u001b[49m\u001b[43mtrain_dataset\u001b[49m\u001b[43m \u001b[49m\u001b[43m=\u001b[49m\u001b[43m \u001b[49m\u001b[43mtrain_tok_llama\u001b[49m\u001b[43m,\u001b[49m\n\u001b[32m     35\u001b[39m \u001b[43m    \u001b[49m\u001b[43meval_dataset\u001b[49m\u001b[43m \u001b[49m\u001b[43m=\u001b[49m\u001b[43m \u001b[49m\u001b[43mval_tok_llama\u001b[49m\u001b[43m,\u001b[49m\n\u001b[32m     36\u001b[39m \u001b[43m    \u001b[49m\u001b[43mtokenizer\u001b[49m\u001b[43m \u001b[49m\u001b[43m=\u001b[49m\u001b[43m \u001b[49m\u001b[43mllama_tok\u001b[49m\u001b[43m,\u001b[49m\n\u001b[32m     37\u001b[39m \u001b[43m    \u001b[49m\u001b[43mdata_collator\u001b[49m\u001b[43m=\u001b[49m\u001b[43m \u001b[49m\u001b[43mdatacollator_llama\u001b[49m\u001b[43m,\u001b[49m\n\u001b[32m     38\u001b[39m \u001b[43m    \u001b[49m\u001b[43mcompute_metrics\u001b[49m\u001b[43m \u001b[49m\u001b[43m=\u001b[49m\u001b[43m \u001b[49m\u001b[43mcompute_metrics_llama\u001b[49m\u001b[43m,\u001b[49m\n\u001b[32m     39\u001b[39m \u001b[43m)\u001b[49m\n\u001b[32m     41\u001b[39m trainer.train() \n",
      "\u001b[36mFile \u001b[39m\u001b[32m~/miniconda3/envs/a1nlp/lib/python3.11/site-packages/transformers/utils/deprecation.py:172\u001b[39m, in \u001b[36mdeprecate_kwarg.<locals>.wrapper.<locals>.wrapped_func\u001b[39m\u001b[34m(*args, **kwargs)\u001b[39m\n\u001b[32m    168\u001b[39m \u001b[38;5;28;01melif\u001b[39;00m minimum_action \u001b[38;5;129;01min\u001b[39;00m (Action.NOTIFY, Action.NOTIFY_ALWAYS) \u001b[38;5;129;01mand\u001b[39;00m \u001b[38;5;129;01mnot\u001b[39;00m is_torchdynamo_compiling():\n\u001b[32m    169\u001b[39m     \u001b[38;5;66;03m# DeprecationWarning is ignored by default, so we use FutureWarning instead\u001b[39;00m\n\u001b[32m    170\u001b[39m     warnings.warn(message, \u001b[38;5;167;01mFutureWarning\u001b[39;00m, stacklevel=\u001b[32m2\u001b[39m)\n\u001b[32m--> \u001b[39m\u001b[32m172\u001b[39m \u001b[38;5;28;01mreturn\u001b[39;00m \u001b[43mfunc\u001b[49m\u001b[43m(\u001b[49m\u001b[43m*\u001b[49m\u001b[43margs\u001b[49m\u001b[43m,\u001b[49m\u001b[43m \u001b[49m\u001b[43m*\u001b[49m\u001b[43m*\u001b[49m\u001b[43mkwargs\u001b[49m\u001b[43m)\u001b[49m\n",
      "\u001b[36mFile \u001b[39m\u001b[32m~/miniconda3/envs/a1nlp/lib/python3.11/site-packages/transformers/trainer_seq2seq.py:73\u001b[39m, in \u001b[36mSeq2SeqTrainer.__init__\u001b[39m\u001b[34m(self, model, args, data_collator, train_dataset, eval_dataset, processing_class, model_init, compute_loss_func, compute_metrics, callbacks, optimizers, preprocess_logits_for_metrics)\u001b[39m\n\u001b[32m     55\u001b[39m \u001b[38;5;129m@deprecate_kwarg\u001b[39m(\u001b[33m\"\u001b[39m\u001b[33mtokenizer\u001b[39m\u001b[33m\"\u001b[39m, new_name=\u001b[33m\"\u001b[39m\u001b[33mprocessing_class\u001b[39m\u001b[33m\"\u001b[39m, version=\u001b[33m\"\u001b[39m\u001b[33m5.0.0\u001b[39m\u001b[33m\"\u001b[39m, raise_if_both_names=\u001b[38;5;28;01mTrue\u001b[39;00m)\n\u001b[32m     56\u001b[39m \u001b[38;5;28;01mdef\u001b[39;00m\u001b[38;5;250m \u001b[39m\u001b[34m__init__\u001b[39m(\n\u001b[32m     57\u001b[39m     \u001b[38;5;28mself\u001b[39m,\n\u001b[32m   (...)\u001b[39m\u001b[32m     71\u001b[39m     preprocess_logits_for_metrics: Optional[Callable[[torch.Tensor, torch.Tensor], torch.Tensor]] = \u001b[38;5;28;01mNone\u001b[39;00m,\n\u001b[32m     72\u001b[39m ):\n\u001b[32m---> \u001b[39m\u001b[32m73\u001b[39m     \u001b[38;5;28;43msuper\u001b[39;49m\u001b[43m(\u001b[49m\u001b[43m)\u001b[49m\u001b[43m.\u001b[49m\u001b[34;43m__init__\u001b[39;49m\u001b[43m(\u001b[49m\n\u001b[32m     74\u001b[39m \u001b[43m        \u001b[49m\u001b[43mmodel\u001b[49m\u001b[43m=\u001b[49m\u001b[43mmodel\u001b[49m\u001b[43m,\u001b[49m\n\u001b[32m     75\u001b[39m \u001b[43m        \u001b[49m\u001b[43margs\u001b[49m\u001b[43m=\u001b[49m\u001b[43margs\u001b[49m\u001b[43m,\u001b[49m\n\u001b[32m     76\u001b[39m \u001b[43m        \u001b[49m\u001b[43mdata_collator\u001b[49m\u001b[43m=\u001b[49m\u001b[43mdata_collator\u001b[49m\u001b[43m,\u001b[49m\n\u001b[32m     77\u001b[39m \u001b[43m        \u001b[49m\u001b[43mtrain_dataset\u001b[49m\u001b[43m=\u001b[49m\u001b[43mtrain_dataset\u001b[49m\u001b[43m,\u001b[49m\n\u001b[32m     78\u001b[39m \u001b[43m        \u001b[49m\u001b[43meval_dataset\u001b[49m\u001b[43m=\u001b[49m\u001b[43meval_dataset\u001b[49m\u001b[43m,\u001b[49m\n\u001b[32m     79\u001b[39m \u001b[43m        \u001b[49m\u001b[43mprocessing_class\u001b[49m\u001b[43m=\u001b[49m\u001b[43mprocessing_class\u001b[49m\u001b[43m,\u001b[49m\n\u001b[32m     80\u001b[39m \u001b[43m        \u001b[49m\u001b[43mmodel_init\u001b[49m\u001b[43m=\u001b[49m\u001b[43mmodel_init\u001b[49m\u001b[43m,\u001b[49m\n\u001b[32m     81\u001b[39m \u001b[43m        \u001b[49m\u001b[43mcompute_loss_func\u001b[49m\u001b[43m=\u001b[49m\u001b[43mcompute_loss_func\u001b[49m\u001b[43m,\u001b[49m\n\u001b[32m     82\u001b[39m \u001b[43m        \u001b[49m\u001b[43mcompute_metrics\u001b[49m\u001b[43m=\u001b[49m\u001b[43mcompute_metrics\u001b[49m\u001b[43m,\u001b[49m\n\u001b[32m     83\u001b[39m \u001b[43m        \u001b[49m\u001b[43mcallbacks\u001b[49m\u001b[43m=\u001b[49m\u001b[43mcallbacks\u001b[49m\u001b[43m,\u001b[49m\n\u001b[32m     84\u001b[39m \u001b[43m        \u001b[49m\u001b[43moptimizers\u001b[49m\u001b[43m=\u001b[49m\u001b[43moptimizers\u001b[49m\u001b[43m,\u001b[49m\n\u001b[32m     85\u001b[39m \u001b[43m        \u001b[49m\u001b[43mpreprocess_logits_for_metrics\u001b[49m\u001b[43m=\u001b[49m\u001b[43mpreprocess_logits_for_metrics\u001b[49m\u001b[43m,\u001b[49m\n\u001b[32m     86\u001b[39m \u001b[43m    \u001b[49m\u001b[43m)\u001b[49m\n\u001b[32m     88\u001b[39m     \u001b[38;5;66;03m# Override self.model.generation_config if a GenerationConfig is specified in args.\u001b[39;00m\n\u001b[32m     89\u001b[39m     \u001b[38;5;66;03m# Priority: args.generation_config > model.generation_config > default GenerationConfig.\u001b[39;00m\n\u001b[32m     90\u001b[39m     \u001b[38;5;28;01mif\u001b[39;00m \u001b[38;5;28mself\u001b[39m.args.generation_config \u001b[38;5;129;01mis\u001b[39;00m \u001b[38;5;129;01mnot\u001b[39;00m \u001b[38;5;28;01mNone\u001b[39;00m:\n",
      "\u001b[36mFile \u001b[39m\u001b[32m~/miniconda3/envs/a1nlp/lib/python3.11/site-packages/transformers/utils/deprecation.py:172\u001b[39m, in \u001b[36mdeprecate_kwarg.<locals>.wrapper.<locals>.wrapped_func\u001b[39m\u001b[34m(*args, **kwargs)\u001b[39m\n\u001b[32m    168\u001b[39m \u001b[38;5;28;01melif\u001b[39;00m minimum_action \u001b[38;5;129;01min\u001b[39;00m (Action.NOTIFY, Action.NOTIFY_ALWAYS) \u001b[38;5;129;01mand\u001b[39;00m \u001b[38;5;129;01mnot\u001b[39;00m is_torchdynamo_compiling():\n\u001b[32m    169\u001b[39m     \u001b[38;5;66;03m# DeprecationWarning is ignored by default, so we use FutureWarning instead\u001b[39;00m\n\u001b[32m    170\u001b[39m     warnings.warn(message, \u001b[38;5;167;01mFutureWarning\u001b[39;00m, stacklevel=\u001b[32m2\u001b[39m)\n\u001b[32m--> \u001b[39m\u001b[32m172\u001b[39m \u001b[38;5;28;01mreturn\u001b[39;00m \u001b[43mfunc\u001b[49m\u001b[43m(\u001b[49m\u001b[43m*\u001b[49m\u001b[43margs\u001b[49m\u001b[43m,\u001b[49m\u001b[43m \u001b[49m\u001b[43m*\u001b[49m\u001b[43m*\u001b[49m\u001b[43mkwargs\u001b[49m\u001b[43m)\u001b[49m\n",
      "\u001b[36mFile \u001b[39m\u001b[32m~/miniconda3/envs/a1nlp/lib/python3.11/site-packages/transformers/trainer.py:554\u001b[39m, in \u001b[36mTrainer.__init__\u001b[39m\u001b[34m(self, model, args, data_collator, train_dataset, eval_dataset, processing_class, model_init, compute_loss_func, compute_metrics, callbacks, optimizers, optimizer_cls_and_kwargs, preprocess_logits_for_metrics)\u001b[39m\n\u001b[32m    552\u001b[39m \u001b[38;5;66;03m# Filter out quantized + compiled models\u001b[39;00m\n\u001b[32m    553\u001b[39m \u001b[38;5;28;01mif\u001b[39;00m _is_quantized_and_base_model \u001b[38;5;129;01mand\u001b[39;00m \u001b[38;5;28mhasattr\u001b[39m(model, \u001b[33m\"\u001b[39m\u001b[33m_orig_mod\u001b[39m\u001b[33m\"\u001b[39m):\n\u001b[32m--> \u001b[39m\u001b[32m554\u001b[39m     \u001b[38;5;28;01mraise\u001b[39;00m \u001b[38;5;167;01mValueError\u001b[39;00m(\n\u001b[32m    555\u001b[39m         \u001b[33m\"\u001b[39m\u001b[33mYou cannot fine-tune quantized model with `torch.compile()` make sure to pass a non-compiled model when fine-tuning a quantized model with PEFT\u001b[39m\u001b[33m\"\u001b[39m\n\u001b[32m    556\u001b[39m     )\n\u001b[32m    558\u001b[39m \u001b[38;5;66;03m# At this stage the model is already loaded\u001b[39;00m\n\u001b[32m    559\u001b[39m \u001b[38;5;28;01mif\u001b[39;00m _is_quantized_and_base_model \u001b[38;5;129;01mand\u001b[39;00m \u001b[38;5;129;01mnot\u001b[39;00m _is_peft_model(model) \u001b[38;5;129;01mand\u001b[39;00m \u001b[38;5;129;01mnot\u001b[39;00m _is_model_quantized_and_qat_trainable:\n",
      "\u001b[31mValueError\u001b[39m: You cannot fine-tune quantized model with `torch.compile()` make sure to pass a non-compiled model when fine-tuning a quantized model with PEFT"
     ]
    }
   ],
   "source": [
    "llama_args = Seq2SeqTrainingArguments(\n",
    "    output_dir = \"llama2_qlora_reviews\",\n",
    "    per_device_train_batch_size = 12,\n",
    "    per_device_eval_batch_size = 16,\n",
    "    gradient_accumulation_steps = 2,    \n",
    "    num_train_epochs = 1,\n",
    "    max_steps =1000,\n",
    "    learning_rate = 3e-4,\n",
    "    warmup_steps =100,\n",
    "    logging_steps = 25,\n",
    "    eval_strategy= \"steps\",\n",
    "    eval_steps= 100,\n",
    "    predict_with_generate = True,   \n",
    "    generation_max_length = 512,    \n",
    "    generation_num_beams= 1,\n",
    "    group_by_length=True,\n",
    "    save_total_limit= 2,\n",
    "    seed = 42,\n",
    "    greater_is_better = True,\n",
    "    lr_scheduler_type=\"cosine\",\n",
    "    bf16=True,\n",
    "    report_to = \"none\",\n",
    "    tf32=True,\n",
    "    optim=\"adamw_torch_fused\",\n",
    "    dataloader_pin_memory=True,\n",
    "    remove_unused_columns=False\n",
    ")\n",
    "\n",
    "trainer = Seq2SeqTrainer(\n",
    "    model = llama,\n",
    "    args = llama_args,\n",
    "    train_dataset = train_tok_llama,\n",
    "    eval_dataset = val_tok_llama,\n",
    "    tokenizer = llama_tok,\n",
    "    data_collator= datacollator_llama,\n",
    "    compute_metrics = compute_metrics_llama,\n",
    ")\n",
    "\n",
    "trainer.train() "
   ]
  },
  {
   "cell_type": "code",
   "execution_count": null,
   "id": "1eb6b8c8",
   "metadata": {},
   "outputs": [],
   "source": []
  },
  {
   "cell_type": "code",
   "execution_count": null,
   "id": "9b840c08",
   "metadata": {},
   "outputs": [],
   "source": []
  }
 ],
 "metadata": {
  "kernelspec": {
   "display_name": "a1nlp",
   "language": "python",
   "name": "python3"
  },
  "language_info": {
   "codemirror_mode": {
    "name": "ipython",
    "version": 3
   },
   "file_extension": ".py",
   "mimetype": "text/x-python",
   "name": "python",
   "nbconvert_exporter": "python",
   "pygments_lexer": "ipython3",
   "version": "3.11.8"
  }
 },
 "nbformat": 4,
 "nbformat_minor": 5
}
